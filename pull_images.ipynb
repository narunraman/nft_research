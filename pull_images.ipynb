{
 "cells": [
  {
   "cell_type": "code",
   "execution_count": 1,
   "id": "dfcf56a6-6460-4d92-b9be-09f0d08fc436",
   "metadata": {},
   "outputs": [],
   "source": [
    "%load_ext autoreload\n",
    "%autoreload 2\n",
    "from psql_methods import execute_commands\n",
    "from Openseas_Methods import *\n",
    "import networkx as nx\n",
    "import matplotlib.pyplot as plt\n",
    "import pickle\n",
    "import pygraphviz\n",
    "import random\n",
    "from pymongo import MongoClient\n",
    "from tqdm import tqdm\n",
    "from datetime import datetime\n",
    "import requests\n",
    "from PIL import Image\n",
    "from io import BytesIO\n",
    "from IPython.display import display\n",
    "import os\n",
    "import pandas as pd\n",
    "skip_list=['ens','base-introduced','fundrop-pass','gemesis','apecoin','dai-stablecoin','uniswap','1inch-token']"
   ]
  },
  {
   "cell_type": "code",
   "execution_count": 2,
   "id": "f1f05844-4d12-4b67-861a-6482cc6c5e45",
   "metadata": {},
   "outputs": [],
   "source": [
    "command = ['select * from completedslugs']\n",
    "rows  = execute_commands(command)\n"
   ]
  },
  {
   "cell_type": "code",
   "execution_count": null,
   "id": "68cc5b52-7714-4891-a7f8-45713c5a2b33",
   "metadata": {},
   "outputs": [],
   "source": []
  },
  {
   "cell_type": "code",
   "execution_count": null,
   "id": "78cf49d2-8d84-42a9-80e5-c82ecb8d0e92",
   "metadata": {},
   "outputs": [
    {
     "name": "stdout",
     "output_type": "stream",
     "text": [
      "rhythm-and-the-machine-by-lars-wander\n",
      "atsnft\n",
      "opepen-edition\n",
      "lazy-lions\n",
      "parallelalpha\n",
      "qql-mint-pass\n",
      "vv-checks\n",
      "genkai\n",
      "rainbow-world-2\n",
      "machine-hallucinations-nyc-by-refik-anadol\n",
      "integer out of range\n",
      "\n",
      "valhalla\n",
      "y00ts\n",
      "crypto-phunks\n",
      "terraforms\n",
      "cryptokhat\n",
      "meridian-by-matt-deslauriers\n",
      "0n1-force\n",
      "impostors-genesis-aliens\n",
      "underwater-photography-by-daniel-sasse-1\n",
      "integer out of range\n",
      "\n",
      "heart-craft-by-snowfro-jordan-lyall\n",
      "cryptocubes\n",
      "renga\n",
      "fluf\n",
      "servantsofthemuse\n",
      "remilio-babies\n",
      "error\n",
      "<Response [429]>\n",
      "error\n",
      "<Response [429]>\n",
      "error\n",
      "<Response [429]>\n",
      "hv-mtl\n",
      "error\n",
      "<Response [429]>\n",
      "error\n",
      "<Response [429]>\n",
      "mocaverse\n",
      "error\n",
      "<Response [429]>\n",
      "vera-molnar-themes-and-variations\n",
      "wilderworld\n",
      "integer out of range\n",
      "\n",
      "the-second-aspect-of-the-nine\n",
      "kanpai-pandas\n",
      "thepotatoz\n",
      "error\n",
      "<Response [429]>\n",
      "azukielementals\n",
      "sapienz\n",
      "beanzofficial\n",
      "error\n",
      "<Response [429]>\n",
      "kartparty-ykz-1\n",
      "womenunite\n",
      "integer out of range\n",
      "\n",
      "hamburgnights\n",
      "mutant-ape-yacht-club\n",
      "degods\n"
     ]
    }
   ],
   "source": [
    "for slug in rows:\n",
    "    print(slug[0])\n",
    "    pull_nft_images(slug[0])"
   ]
  },
  {
   "cell_type": "code",
   "execution_count": null,
   "id": "53c03702-f82b-4d70-948b-28559154e0fd",
   "metadata": {},
   "outputs": [],
   "source": [
    "pull_nft_images('boredapeyachtclub')"
   ]
  },
  {
   "cell_type": "code",
   "execution_count": null,
   "id": "f900baeb-a8b4-4d93-91ee-8a8848f3fa6f",
   "metadata": {},
   "outputs": [],
   "source": [
    "command = ['select * from nfttoimage']\n",
    "rows  = execute_commands(command)"
   ]
  },
  {
   "cell_type": "code",
   "execution_count": 13,
   "id": "bdf3a1c0-1599-466c-ad3a-ae3c38a05438",
   "metadata": {},
   "outputs": [],
   "source": [
    "#TODO move to a file\n",
    "def pull_image_from_url(slug,token_id,image_url):  \n",
    "    # URL of the image you want to download \n",
    "\n",
    "\n",
    "    # Specify the directory path you want to create\n",
    "    directory_path = f\"images/{slug}/\"\n",
    "    \n",
    "    # Check if the directory exists, if not, create it\n",
    "    if not os.path.exists(directory_path):\n",
    "        os.makedirs(directory_path)\n",
    "        print(f\"Directory '{directory_path}' created successfully.\")\n",
    "    try:\n",
    "        # Send a GET request to the image URL\n",
    "        response = requests.get(image_url)\n",
    "    \n",
    "        # Check if the request was successful (status code 200)\n",
    "        if response.status_code == 200:\n",
    "            # Open the image using Pillow from the binary content of the response\n",
    "            image = Image.open(BytesIO(response.content))\n",
    "            if image.mode != 'RGB':\n",
    "                image = image.convert('RGB')\n",
    "            new_size = (300, 300)\n",
    "            resized_image = image.resize(new_size, Image.ANTIALIAS)\n",
    "            # display(image)\n",
    "            # Save the image as a JPEG file\n",
    "            file_path = f\"images/{slug}/{token_id}.jpg\"\n",
    "            resized_image.save(file_path, \"JPEG\")\n",
    "    \n",
    "        else:\n",
    "            print(\"Failed to download the image. Status code:\", response.status_code)\n",
    "    \n",
    "    except Exception as e:\n",
    "        print(\"An error occurred:\", e)"
   ]
  },
  {
   "cell_type": "code",
   "execution_count": 2,
   "id": "c3169171-284f-42af-be5d-e06d5139b651",
   "metadata": {},
   "outputs": [],
   "source": [
    "command = [\"\"\"WITH numbered_rows AS (\n",
    "  SELECT *,\n",
    "         ROW_NUMBER() OVER (PARTITION BY slug ORDER BY RANDOM()) AS row_num\n",
    "  FROM nfttoimage\n",
    ")\n",
    "SELECT *\n",
    "FROM numbered_rows\n",
    "WHERE row_num <= 300;\"\"\"]\n",
    "rows  = execute_commands(command)"
   ]
  },
  {
   "cell_type": "code",
   "execution_count": null,
   "id": "d0142edc-c61d-45d7-9225-1f775e9203ea",
   "metadata": {},
   "outputs": [
    {
     "name": "stdout",
     "output_type": "stream",
     "text": [
      "Failed to download the image. Status code: 503\n",
      "Failed to download the image. Status code: 504\n",
      "Directory 'images/kunoichigakuen/' created successfully.\n",
      "Directory 'images/kurenai-hoozuki-/' created successfully.\n"
     ]
    }
   ],
   "source": [
    "for row in rows[52000:]:\n",
    "    pull_image_from_url(row[0],row[1],row[2])"
   ]
  },
  {
   "cell_type": "code",
   "execution_count": 11,
   "id": "61e55727-1930-4e86-a170-ef38b2aa1964",
   "metadata": {},
   "outputs": [
    {
     "data": {
      "text/plain": [
       "('kitsu-mintu',\n",
       " 2225,\n",
       " 'https://i.seadn.io/s/raw/files/eaf513f87a5be23478cf35d0a0de2e6e.png?w=500&auto=format',\n",
       " 111)"
      ]
     },
     "execution_count": 11,
     "metadata": {},
     "output_type": "execute_result"
    }
   ],
   "source": [
    "rows[52000]"
   ]
  },
  {
   "cell_type": "code",
   "execution_count": 3,
   "id": "ab093c5d-083c-414c-b444-8abaf78b9f4c",
   "metadata": {},
   "outputs": [
    {
     "data": {
      "text/plain": [
       "'dourfits'"
      ]
     },
     "execution_count": 3,
     "metadata": {},
     "output_type": "execute_result"
    }
   ],
   "source": [
    "with open('combo_per.pkl','rb') as f:\n",
    "   combo_perc =  pickle.load(f)\n",
    "# Extract keys and values from the dictionary\n",
    "keys = list(combo_perc.keys())\n",
    "values = list(combo_perc.values())\n",
    "\n",
    "# Create a DataFrame\n",
    "df = pd.DataFrame(keys, columns=['NFT1', 'NFT2'])\n",
    "df['Values'] = values\n",
    "new_slugs = list(df['NFT1'].unique())\n",
    "finished_slugs = [x[0] for x in rows]\n",
    "new_slugs = [x for x in new_slugs if x not in finished_slugs]\n",
    "new_slugs = [x for x in new_slugs if x not in skip_list]\n",
    "\n",
    "new_slugs[31]"
   ]
  },
  {
   "cell_type": "code",
   "execution_count": 4,
   "id": "9fea5363-e304-40fa-bd98-b1aa407e1acc",
   "metadata": {},
   "outputs": [],
   "source": [
    "import logging\n",
    "logging.basicConfig(filename='logs/pull_images.log', level=logging.INFO, format='%(asctime)s - %(levelname)s - %(message)s')"
   ]
  },
  {
   "cell_type": "code",
   "execution_count": null,
   "id": "b969ae20-1570-4147-90bc-4985be6b6f5f",
   "metadata": {},
   "outputs": [
    {
     "name": "stderr",
     "output_type": "stream",
     "text": [
      "  0%|                                      | 15/5013 [07:13<33:43:26, 24.29s/it]"
     ]
    },
    {
     "name": "stdout",
     "output_type": "stream",
     "text": [
      "no results to fetch\n"
     ]
    },
    {
     "name": "stderr",
     "output_type": "stream",
     "text": [
      "  0%|▏                                     | 21/5013 [09:26<33:51:14, 24.41s/it]"
     ]
    },
    {
     "name": "stdout",
     "output_type": "stream",
     "text": [
      "integer out of range\n",
      "\n"
     ]
    },
    {
     "name": "stderr",
     "output_type": "stream",
     "text": [
      "  1%|▎                                     | 47/5013 [30:32<34:57:01, 25.34s/it]"
     ]
    },
    {
     "name": "stdout",
     "output_type": "stream",
     "text": [
      "integer out of range\n",
      "\n"
     ]
    },
    {
     "name": "stderr",
     "output_type": "stream",
     "text": [
      "  2%|▌                                     | 77/5013 [46:17<19:47:16, 14.43s/it]"
     ]
    },
    {
     "name": "stdout",
     "output_type": "stream",
     "text": [
      "integer out of range\n",
      "\n"
     ]
    },
    {
     "name": "stderr",
     "output_type": "stream",
     "text": [
      "  2%|▋                                     | 89/5013 [51:25<43:39:28, 31.92s/it]"
     ]
    }
   ],
   "source": [
    "for slug in tqdm(new_slugs[1252:]):\n",
    "    pull_nft_images(slug)\n",
    "    logging.info(f'Finished slug {slug}')"
   ]
  },
  {
   "cell_type": "code",
   "execution_count": 9,
   "id": "886cc9be-a111-4ae1-ac73-3f9521f8a394",
   "metadata": {},
   "outputs": [
    {
     "data": {
      "text/plain": [
       "'ao-artball'"
      ]
     },
     "execution_count": 9,
     "metadata": {},
     "output_type": "execute_result"
    }
   ],
   "source": [
    "index = new_slugs.index('play-squid-game')\n",
    "new_slugs[1252]"
   ]
  },
  {
   "cell_type": "code",
   "execution_count": null,
   "id": "6df88e1a-e653-478c-b5da-6e4403d99921",
   "metadata": {},
   "outputs": [],
   "source": []
  }
 ],
 "metadata": {
  "kernelspec": {
   "display_name": "Python 3 (ipykernel)",
   "language": "python",
   "name": "python3"
  },
  "language_info": {
   "codemirror_mode": {
    "name": "ipython",
    "version": 3
   },
   "file_extension": ".py",
   "mimetype": "text/x-python",
   "name": "python",
   "nbconvert_exporter": "python",
   "pygments_lexer": "ipython3",
   "version": "3.8.10"
  }
 },
 "nbformat": 4,
 "nbformat_minor": 5
}
