{
 "cells": [
  {
   "cell_type": "code",
   "execution_count": 1,
   "id": "29d302af",
   "metadata": {},
   "outputs": [],
   "source": [
    "import pandas as pd\n",
    "import requests \n",
    "from pymongo import MongoClient\n",
    "import pymongo"
   ]
  },
  {
   "cell_type": "code",
   "execution_count": 3,
   "id": "f31d488e",
   "metadata": {},
   "outputs": [
    {
     "name": "stderr",
     "output_type": "stream",
     "text": [
      "/var/folders/km/68mt9rpj51l1_17_mt8jfwg00000gn/T/ipykernel_93640/3404573704.py:1: DtypeWarning: Columns (0,1,2,4,6,8,9,10,14,15,20) have mixed types. Specify dtype option on import or set low_memory=False.\n",
      "  dataset= pd.read_csv('Data_api.csv')\n"
     ]
    }
   ],
   "source": [
    "dataset= pd.read_csv('Data_api.csv')"
   ]
  },
  {
   "cell_type": "code",
   "execution_count": 65,
   "id": "acaaa666",
   "metadata": {},
   "outputs": [
    {
     "data": {
      "text/plain": [
       "Index(['Smart_contract', 'ID_token', 'Transaction_hash', 'Seller_address',\n",
       "       'Seller_username', 'Buyer_address', 'Buyer_username', 'Image_url_1',\n",
       "       'Image_url_2', 'Image_url_3', 'Image_url_4', 'Price_Crypto', 'Crypto',\n",
       "       'Price_USD', 'Name', 'Description', 'Collection', 'Market',\n",
       "       'Datetime_updated', 'Datetime_updated_seconds', 'Permanent_link',\n",
       "       'Unique_id_collection', 'Collection_cleaned', 'Category'],\n",
       "      dtype='object')"
      ]
     },
     "execution_count": 65,
     "metadata": {},
     "output_type": "execute_result"
    }
   ],
   "source": [
    "dataset.columns"
   ]
  },
  {
   "cell_type": "code",
   "execution_count": 8,
   "id": "dc99bc0f",
   "metadata": {},
   "outputs": [],
   "source": [
    "client = MongoClient()\n",
    "db = client.LitNFTDB\n",
    "collection_data = db.rawCollection"
   ]
  },
  {
   "cell_type": "code",
   "execution_count": 9,
   "id": "0c9b26f8",
   "metadata": {},
   "outputs": [
    {
     "data": {
      "text/plain": [
       "<pymongo.results.InsertManyResult at 0x12e8362e0>"
      ]
     },
     "execution_count": 9,
     "metadata": {},
     "output_type": "execute_result"
    }
   ],
   "source": [
    "collection_data.insert_many(dataset.to_dict('records'))"
   ]
  },
  {
   "cell_type": "code",
   "execution_count": null,
   "id": "18e2cb40",
   "metadata": {},
   "outputs": [],
   "source": [
    "import re\n",
    "rex = re.compile('.*2021-05.*',re.IGNORECASE)\n",
    "\n",
    "high_vals = collection_data.find({\"Price_Crypto\": {\"$gt\": 2},\"Market\":'OpenSea','Crypto': 'ETH'})\n",
    "slugs  = set()\n",
    "for val in high_vals:\n",
    "    slugs.add(val['Collection'])\n",
    "slug_to_count = {}\n",
    "for el in slugs:\n",
    "    slug_to_count[el] = collection_data.count_documents({\"Collection\":el})\n",
    "print(slugs)"
   ]
  },
  {
   "cell_type": "code",
   "execution_count": null,
   "id": "8547afbe",
   "metadata": {},
   "outputs": [],
   "source": [
    "sort_slugs = dict(sorted(slug_to_count.items(), key=lambda item: item[1]))\n",
    "print(sort_slugs)"
   ]
  },
  {
   "cell_type": "code",
   "execution_count": 11,
   "id": "aefcc149",
   "metadata": {},
   "outputs": [
    {
     "data": {
      "text/plain": [
       "'buyer_address_1'"
      ]
     },
     "execution_count": 11,
     "metadata": {},
     "output_type": "execute_result"
    }
   ],
   "source": [
    "collection_data.create_index( [('buyer_address', pymongo.ASCENDING)] )"
   ]
  },
  {
   "cell_type": "code",
   "execution_count": null,
   "id": "2900e852",
   "metadata": {},
   "outputs": [],
   "source": [
    "db.collection.find({{\"Price_Crypto\": {\"$gt\": 1}}})"
   ]
  },
  {
   "cell_type": "code",
   "execution_count": 1,
   "id": "6ec9e55d",
   "metadata": {},
   "outputs": [
    {
     "name": "stdout",
     "output_type": "stream",
     "text": [
      "641\n",
      "3121367\n",
      "None\n"
     ]
    },
    {
     "ename": "OperationFailure",
     "evalue": "Executor error during distinct command :: caused by :: distinct too big, 16mb cap, full error: {'ok': 0.0, 'errmsg': 'Executor error during distinct command :: caused by :: distinct too big, 16mb cap', 'code': 17217, 'codeName': 'Location17217'}",
     "output_type": "error",
     "traceback": [
      "\u001b[0;31m---------------------------------------------------------------------------\u001b[0m",
      "\u001b[0;31mOperationFailure\u001b[0m                          Traceback (most recent call last)",
      "Cell \u001b[0;32mIn[1], line 11\u001b[0m\n\u001b[1;32m      9\u001b[0m \u001b[38;5;28mprint\u001b[39m(collection_data\u001b[38;5;241m.\u001b[39mcount_documents({}))\n\u001b[1;32m     10\u001b[0m \u001b[38;5;28mprint\u001b[39m(collection_data\u001b[38;5;241m.\u001b[39mfind_one({\u001b[38;5;124m\"\u001b[39m\u001b[38;5;124mtimestamp\u001b[39m\u001b[38;5;124m\"\u001b[39m : {\u001b[38;5;124m\"\u001b[39m\u001b[38;5;124m$regex\u001b[39m\u001b[38;5;124m\"\u001b[39m : \u001b[38;5;124m\"\u001b[39m\u001b[38;5;124m2020-02\u001b[39m\u001b[38;5;124m\"\u001b[39m}}))\n\u001b[0;32m---> 11\u001b[0m \u001b[38;5;28mprint\u001b[39m(\u001b[38;5;28mlen\u001b[39m(\u001b[38;5;28mset\u001b[39m(\u001b[43mcollection_data\u001b[49m\u001b[38;5;241;43m.\u001b[39;49m\u001b[43mdistinct\u001b[49m\u001b[43m(\u001b[49m\u001b[38;5;124;43m'\u001b[39;49m\u001b[38;5;124;43mbuyer_address\u001b[39;49m\u001b[38;5;124;43m'\u001b[39;49m\u001b[43m)\u001b[49m\u001b[38;5;241m+\u001b[39mcollection_data\u001b[38;5;241m.\u001b[39mdistinct(\u001b[38;5;124m'\u001b[39m\u001b[38;5;124mseller_address\u001b[39m\u001b[38;5;124m'\u001b[39m))))\n\u001b[1;32m     12\u001b[0m db\u001b[38;5;241m.\u001b[39mcommand(\u001b[38;5;124m\"\u001b[39m\u001b[38;5;124mdbstats\u001b[39m\u001b[38;5;124m\"\u001b[39m)\n",
      "File \u001b[0;32m~/.local/lib/python3.8/site-packages/pymongo/collection.py:3057\u001b[0m, in \u001b[0;36mCollection.distinct\u001b[0;34m(self, key, filter, session, comment, **kwargs)\u001b[0m\n\u001b[1;32m   3041\u001b[0m \u001b[38;5;28;01mdef\u001b[39;00m \u001b[38;5;21m_cmd\u001b[39m(\n\u001b[1;32m   3042\u001b[0m     session: Optional[ClientSession],\n\u001b[1;32m   3043\u001b[0m     server: Server,\n\u001b[1;32m   3044\u001b[0m     conn: Connection,\n\u001b[1;32m   3045\u001b[0m     read_preference: Optional[_ServerMode],\n\u001b[1;32m   3046\u001b[0m ) \u001b[38;5;241m-\u001b[39m\u001b[38;5;241m>\u001b[39m List:\n\u001b[1;32m   3047\u001b[0m     \u001b[38;5;28;01mreturn\u001b[39;00m \u001b[38;5;28mself\u001b[39m\u001b[38;5;241m.\u001b[39m_command(\n\u001b[1;32m   3048\u001b[0m         conn,\n\u001b[1;32m   3049\u001b[0m         cmd,\n\u001b[0;32m   (...)\u001b[0m\n\u001b[1;32m   3054\u001b[0m         user_fields\u001b[38;5;241m=\u001b[39m{\u001b[38;5;124m\"\u001b[39m\u001b[38;5;124mvalues\u001b[39m\u001b[38;5;124m\"\u001b[39m: \u001b[38;5;241m1\u001b[39m},\n\u001b[1;32m   3055\u001b[0m     )[\u001b[38;5;124m\"\u001b[39m\u001b[38;5;124mvalues\u001b[39m\u001b[38;5;124m\"\u001b[39m]\n\u001b[0;32m-> 3057\u001b[0m \u001b[38;5;28;01mreturn\u001b[39;00m \u001b[38;5;28;43mself\u001b[39;49m\u001b[38;5;241;43m.\u001b[39;49m\u001b[43m_retryable_non_cursor_read\u001b[49m\u001b[43m(\u001b[49m\u001b[43m_cmd\u001b[49m\u001b[43m,\u001b[49m\u001b[43m \u001b[49m\u001b[43msession\u001b[49m\u001b[43m)\u001b[49m\n",
      "File \u001b[0;32m~/.local/lib/python3.8/site-packages/pymongo/collection.py:1925\u001b[0m, in \u001b[0;36mCollection._retryable_non_cursor_read\u001b[0;34m(self, func, session)\u001b[0m\n\u001b[1;32m   1923\u001b[0m client \u001b[38;5;241m=\u001b[39m \u001b[38;5;28mself\u001b[39m\u001b[38;5;241m.\u001b[39m__database\u001b[38;5;241m.\u001b[39mclient\n\u001b[1;32m   1924\u001b[0m \u001b[38;5;28;01mwith\u001b[39;00m client\u001b[38;5;241m.\u001b[39m_tmp_session(session) \u001b[38;5;28;01mas\u001b[39;00m s:\n\u001b[0;32m-> 1925\u001b[0m     \u001b[38;5;28;01mreturn\u001b[39;00m \u001b[43mclient\u001b[49m\u001b[38;5;241;43m.\u001b[39;49m\u001b[43m_retryable_read\u001b[49m\u001b[43m(\u001b[49m\u001b[43mfunc\u001b[49m\u001b[43m,\u001b[49m\u001b[43m \u001b[49m\u001b[38;5;28;43mself\u001b[39;49m\u001b[38;5;241;43m.\u001b[39;49m\u001b[43m_read_preference_for\u001b[49m\u001b[43m(\u001b[49m\u001b[43ms\u001b[49m\u001b[43m)\u001b[49m\u001b[43m,\u001b[49m\u001b[43m \u001b[49m\u001b[43ms\u001b[49m\u001b[43m)\u001b[49m\n",
      "File \u001b[0;32m~/.local/lib/python3.8/site-packages/pymongo/_csot.py:108\u001b[0m, in \u001b[0;36mapply.<locals>.csot_wrapper\u001b[0;34m(self, *args, **kwargs)\u001b[0m\n\u001b[1;32m    106\u001b[0m         \u001b[38;5;28;01mwith\u001b[39;00m _TimeoutContext(timeout):\n\u001b[1;32m    107\u001b[0m             \u001b[38;5;28;01mreturn\u001b[39;00m func(\u001b[38;5;28mself\u001b[39m, \u001b[38;5;241m*\u001b[39margs, \u001b[38;5;241m*\u001b[39m\u001b[38;5;241m*\u001b[39mkwargs)\n\u001b[0;32m--> 108\u001b[0m \u001b[38;5;28;01mreturn\u001b[39;00m \u001b[43mfunc\u001b[49m\u001b[43m(\u001b[49m\u001b[38;5;28;43mself\u001b[39;49m\u001b[43m,\u001b[49m\u001b[43m \u001b[49m\u001b[38;5;241;43m*\u001b[39;49m\u001b[43margs\u001b[49m\u001b[43m,\u001b[49m\u001b[43m \u001b[49m\u001b[38;5;241;43m*\u001b[39;49m\u001b[38;5;241;43m*\u001b[39;49m\u001b[43mkwargs\u001b[49m\u001b[43m)\u001b[49m\n",
      "File \u001b[0;32m~/.local/lib/python3.8/site-packages/pymongo/mongo_client.py:1535\u001b[0m, in \u001b[0;36mMongoClient._retryable_read\u001b[0;34m(self, func, read_pref, session, address, retryable)\u001b[0m\n\u001b[1;32m   1533\u001b[0m             \u001b[38;5;28;01massert\u001b[39;00m last_error \u001b[38;5;129;01mis\u001b[39;00m \u001b[38;5;129;01mnot\u001b[39;00m \u001b[38;5;28;01mNone\u001b[39;00m\n\u001b[1;32m   1534\u001b[0m             \u001b[38;5;28;01mraise\u001b[39;00m last_error\n\u001b[0;32m-> 1535\u001b[0m         \u001b[38;5;28;01mreturn\u001b[39;00m \u001b[43mfunc\u001b[49m\u001b[43m(\u001b[49m\u001b[43msession\u001b[49m\u001b[43m,\u001b[49m\u001b[43m \u001b[49m\u001b[43mserver\u001b[49m\u001b[43m,\u001b[49m\u001b[43m \u001b[49m\u001b[43mconn\u001b[49m\u001b[43m,\u001b[49m\u001b[43m \u001b[49m\u001b[43mread_pref\u001b[49m\u001b[43m)\u001b[49m\n\u001b[1;32m   1536\u001b[0m \u001b[38;5;28;01mexcept\u001b[39;00m ServerSelectionTimeoutError:\n\u001b[1;32m   1537\u001b[0m     \u001b[38;5;28;01mif\u001b[39;00m retrying:\n\u001b[1;32m   1538\u001b[0m         \u001b[38;5;66;03m# The application may think the write was never attempted\u001b[39;00m\n\u001b[1;32m   1539\u001b[0m         \u001b[38;5;66;03m# if we raise ServerSelectionTimeoutError on the retry\u001b[39;00m\n\u001b[1;32m   1540\u001b[0m         \u001b[38;5;66;03m# attempt. Raise the original exception instead.\u001b[39;00m\n",
      "File \u001b[0;32m~/.local/lib/python3.8/site-packages/pymongo/collection.py:3047\u001b[0m, in \u001b[0;36mCollection.distinct.<locals>._cmd\u001b[0;34m(session, server, conn, read_preference)\u001b[0m\n\u001b[1;32m   3041\u001b[0m \u001b[38;5;28;01mdef\u001b[39;00m \u001b[38;5;21m_cmd\u001b[39m(\n\u001b[1;32m   3042\u001b[0m     session: Optional[ClientSession],\n\u001b[1;32m   3043\u001b[0m     server: Server,\n\u001b[1;32m   3044\u001b[0m     conn: Connection,\n\u001b[1;32m   3045\u001b[0m     read_preference: Optional[_ServerMode],\n\u001b[1;32m   3046\u001b[0m ) \u001b[38;5;241m-\u001b[39m\u001b[38;5;241m>\u001b[39m List:\n\u001b[0;32m-> 3047\u001b[0m     \u001b[38;5;28;01mreturn\u001b[39;00m \u001b[38;5;28;43mself\u001b[39;49m\u001b[38;5;241;43m.\u001b[39;49m\u001b[43m_command\u001b[49m\u001b[43m(\u001b[49m\n\u001b[1;32m   3048\u001b[0m \u001b[43m        \u001b[49m\u001b[43mconn\u001b[49m\u001b[43m,\u001b[49m\n\u001b[1;32m   3049\u001b[0m \u001b[43m        \u001b[49m\u001b[43mcmd\u001b[49m\u001b[43m,\u001b[49m\n\u001b[1;32m   3050\u001b[0m \u001b[43m        \u001b[49m\u001b[43mread_preference\u001b[49m\u001b[38;5;241;43m=\u001b[39;49m\u001b[43mread_preference\u001b[49m\u001b[43m,\u001b[49m\n\u001b[1;32m   3051\u001b[0m \u001b[43m        \u001b[49m\u001b[43mread_concern\u001b[49m\u001b[38;5;241;43m=\u001b[39;49m\u001b[38;5;28;43mself\u001b[39;49m\u001b[38;5;241;43m.\u001b[39;49m\u001b[43mread_concern\u001b[49m\u001b[43m,\u001b[49m\n\u001b[1;32m   3052\u001b[0m \u001b[43m        \u001b[49m\u001b[43mcollation\u001b[49m\u001b[38;5;241;43m=\u001b[39;49m\u001b[43mcollation\u001b[49m\u001b[43m,\u001b[49m\n\u001b[1;32m   3053\u001b[0m \u001b[43m        \u001b[49m\u001b[43msession\u001b[49m\u001b[38;5;241;43m=\u001b[39;49m\u001b[43msession\u001b[49m\u001b[43m,\u001b[49m\n\u001b[1;32m   3054\u001b[0m \u001b[43m        \u001b[49m\u001b[43muser_fields\u001b[49m\u001b[38;5;241;43m=\u001b[39;49m\u001b[43m{\u001b[49m\u001b[38;5;124;43m\"\u001b[39;49m\u001b[38;5;124;43mvalues\u001b[39;49m\u001b[38;5;124;43m\"\u001b[39;49m\u001b[43m:\u001b[49m\u001b[43m \u001b[49m\u001b[38;5;241;43m1\u001b[39;49m\u001b[43m}\u001b[49m\u001b[43m,\u001b[49m\n\u001b[1;32m   3055\u001b[0m \u001b[43m    \u001b[49m\u001b[43m)\u001b[49m[\u001b[38;5;124m\"\u001b[39m\u001b[38;5;124mvalues\u001b[39m\u001b[38;5;124m\"\u001b[39m]\n",
      "File \u001b[0;32m~/.local/lib/python3.8/site-packages/pymongo/collection.py:310\u001b[0m, in \u001b[0;36mCollection._command\u001b[0;34m(self, conn, command, read_preference, codec_options, check, allowable_errors, read_concern, write_concern, collation, session, retryable_write, user_fields)\u001b[0m\n\u001b[1;32m    282\u001b[0m \u001b[38;5;250m\u001b[39m\u001b[38;5;124;03m\"\"\"Internal command helper.\u001b[39;00m\n\u001b[1;32m    283\u001b[0m \n\u001b[1;32m    284\u001b[0m \u001b[38;5;124;03m:Parameters:\u001b[39;00m\n\u001b[0;32m   (...)\u001b[0m\n\u001b[1;32m    307\u001b[0m \u001b[38;5;124;03m  The result document.\u001b[39;00m\n\u001b[1;32m    308\u001b[0m \u001b[38;5;124;03m\"\"\"\u001b[39;00m\n\u001b[1;32m    309\u001b[0m \u001b[38;5;28;01mwith\u001b[39;00m \u001b[38;5;28mself\u001b[39m\u001b[38;5;241m.\u001b[39m__database\u001b[38;5;241m.\u001b[39mclient\u001b[38;5;241m.\u001b[39m_tmp_session(session) \u001b[38;5;28;01mas\u001b[39;00m s:\n\u001b[0;32m--> 310\u001b[0m     \u001b[38;5;28;01mreturn\u001b[39;00m \u001b[43mconn\u001b[49m\u001b[38;5;241;43m.\u001b[39;49m\u001b[43mcommand\u001b[49m\u001b[43m(\u001b[49m\n\u001b[1;32m    311\u001b[0m \u001b[43m        \u001b[49m\u001b[38;5;28;43mself\u001b[39;49m\u001b[38;5;241;43m.\u001b[39;49m\u001b[43m__database\u001b[49m\u001b[38;5;241;43m.\u001b[39;49m\u001b[43mname\u001b[49m\u001b[43m,\u001b[49m\n\u001b[1;32m    312\u001b[0m \u001b[43m        \u001b[49m\u001b[43mcommand\u001b[49m\u001b[43m,\u001b[49m\n\u001b[1;32m    313\u001b[0m \u001b[43m        \u001b[49m\u001b[43mread_preference\u001b[49m\u001b[43m \u001b[49m\u001b[38;5;129;43;01mor\u001b[39;49;00m\u001b[43m \u001b[49m\u001b[38;5;28;43mself\u001b[39;49m\u001b[38;5;241;43m.\u001b[39;49m\u001b[43m_read_preference_for\u001b[49m\u001b[43m(\u001b[49m\u001b[43msession\u001b[49m\u001b[43m)\u001b[49m\u001b[43m,\u001b[49m\n\u001b[1;32m    314\u001b[0m \u001b[43m        \u001b[49m\u001b[43mcodec_options\u001b[49m\u001b[43m \u001b[49m\u001b[38;5;129;43;01mor\u001b[39;49;00m\u001b[43m \u001b[49m\u001b[38;5;28;43mself\u001b[39;49m\u001b[38;5;241;43m.\u001b[39;49m\u001b[43mcodec_options\u001b[49m\u001b[43m,\u001b[49m\n\u001b[1;32m    315\u001b[0m \u001b[43m        \u001b[49m\u001b[43mcheck\u001b[49m\u001b[43m,\u001b[49m\n\u001b[1;32m    316\u001b[0m \u001b[43m        \u001b[49m\u001b[43mallowable_errors\u001b[49m\u001b[43m,\u001b[49m\n\u001b[1;32m    317\u001b[0m \u001b[43m        \u001b[49m\u001b[43mread_concern\u001b[49m\u001b[38;5;241;43m=\u001b[39;49m\u001b[43mread_concern\u001b[49m\u001b[43m,\u001b[49m\n\u001b[1;32m    318\u001b[0m \u001b[43m        \u001b[49m\u001b[43mwrite_concern\u001b[49m\u001b[38;5;241;43m=\u001b[39;49m\u001b[43mwrite_concern\u001b[49m\u001b[43m,\u001b[49m\n\u001b[1;32m    319\u001b[0m \u001b[43m        \u001b[49m\u001b[43mparse_write_concern_error\u001b[49m\u001b[38;5;241;43m=\u001b[39;49m\u001b[38;5;28;43;01mTrue\u001b[39;49;00m\u001b[43m,\u001b[49m\n\u001b[1;32m    320\u001b[0m \u001b[43m        \u001b[49m\u001b[43mcollation\u001b[49m\u001b[38;5;241;43m=\u001b[39;49m\u001b[43mcollation\u001b[49m\u001b[43m,\u001b[49m\n\u001b[1;32m    321\u001b[0m \u001b[43m        \u001b[49m\u001b[43msession\u001b[49m\u001b[38;5;241;43m=\u001b[39;49m\u001b[43ms\u001b[49m\u001b[43m,\u001b[49m\n\u001b[1;32m    322\u001b[0m \u001b[43m        \u001b[49m\u001b[43mclient\u001b[49m\u001b[38;5;241;43m=\u001b[39;49m\u001b[38;5;28;43mself\u001b[39;49m\u001b[38;5;241;43m.\u001b[39;49m\u001b[43m__database\u001b[49m\u001b[38;5;241;43m.\u001b[39;49m\u001b[43mclient\u001b[49m\u001b[43m,\u001b[49m\n\u001b[1;32m    323\u001b[0m \u001b[43m        \u001b[49m\u001b[43mretryable_write\u001b[49m\u001b[38;5;241;43m=\u001b[39;49m\u001b[43mretryable_write\u001b[49m\u001b[43m,\u001b[49m\n\u001b[1;32m    324\u001b[0m \u001b[43m        \u001b[49m\u001b[43muser_fields\u001b[49m\u001b[38;5;241;43m=\u001b[39;49m\u001b[43muser_fields\u001b[49m\u001b[43m,\u001b[49m\n\u001b[1;32m    325\u001b[0m \u001b[43m    \u001b[49m\u001b[43m)\u001b[49m\n",
      "File \u001b[0;32m~/.local/lib/python3.8/site-packages/pymongo/helpers.py:315\u001b[0m, in \u001b[0;36m_handle_reauth.<locals>.inner\u001b[0;34m(*args, **kwargs)\u001b[0m\n\u001b[1;32m    312\u001b[0m \u001b[38;5;28;01mfrom\u001b[39;00m \u001b[38;5;21;01mpymongo\u001b[39;00m\u001b[38;5;21;01m.\u001b[39;00m\u001b[38;5;21;01mpool\u001b[39;00m \u001b[38;5;28;01mimport\u001b[39;00m Connection\n\u001b[1;32m    314\u001b[0m \u001b[38;5;28;01mtry\u001b[39;00m:\n\u001b[0;32m--> 315\u001b[0m     \u001b[38;5;28;01mreturn\u001b[39;00m \u001b[43mfunc\u001b[49m\u001b[43m(\u001b[49m\u001b[38;5;241;43m*\u001b[39;49m\u001b[43margs\u001b[49m\u001b[43m,\u001b[49m\u001b[43m \u001b[49m\u001b[38;5;241;43m*\u001b[39;49m\u001b[38;5;241;43m*\u001b[39;49m\u001b[43mkwargs\u001b[49m\u001b[43m)\u001b[49m\n\u001b[1;32m    316\u001b[0m \u001b[38;5;28;01mexcept\u001b[39;00m OperationFailure \u001b[38;5;28;01mas\u001b[39;00m exc:\n\u001b[1;32m    317\u001b[0m     \u001b[38;5;28;01mif\u001b[39;00m no_reauth:\n",
      "File \u001b[0;32m~/.local/lib/python3.8/site-packages/pymongo/pool.py:932\u001b[0m, in \u001b[0;36mConnection.command\u001b[0;34m(self, dbname, spec, read_preference, codec_options, check, allowable_errors, read_concern, write_concern, parse_write_concern_error, collation, session, client, retryable_write, publish_events, user_fields, exhaust_allowed)\u001b[0m\n\u001b[1;32m    930\u001b[0m     \u001b[38;5;28mself\u001b[39m\u001b[38;5;241m.\u001b[39m_raise_if_not_writable(unacknowledged)\n\u001b[1;32m    931\u001b[0m \u001b[38;5;28;01mtry\u001b[39;00m:\n\u001b[0;32m--> 932\u001b[0m     \u001b[38;5;28;01mreturn\u001b[39;00m \u001b[43mcommand\u001b[49m\u001b[43m(\u001b[49m\n\u001b[1;32m    933\u001b[0m \u001b[43m        \u001b[49m\u001b[38;5;28;43mself\u001b[39;49m\u001b[43m,\u001b[49m\n\u001b[1;32m    934\u001b[0m \u001b[43m        \u001b[49m\u001b[43mdbname\u001b[49m\u001b[43m,\u001b[49m\n\u001b[1;32m    935\u001b[0m \u001b[43m        \u001b[49m\u001b[43mspec\u001b[49m\u001b[43m,\u001b[49m\n\u001b[1;32m    936\u001b[0m \u001b[43m        \u001b[49m\u001b[38;5;28;43mself\u001b[39;49m\u001b[38;5;241;43m.\u001b[39;49m\u001b[43mis_mongos\u001b[49m\u001b[43m,\u001b[49m\n\u001b[1;32m    937\u001b[0m \u001b[43m        \u001b[49m\u001b[43mread_preference\u001b[49m\u001b[43m,\u001b[49m\n\u001b[1;32m    938\u001b[0m \u001b[43m        \u001b[49m\u001b[43mcodec_options\u001b[49m\u001b[43m,\u001b[49m\n\u001b[1;32m    939\u001b[0m \u001b[43m        \u001b[49m\u001b[43msession\u001b[49m\u001b[43m,\u001b[49m\n\u001b[1;32m    940\u001b[0m \u001b[43m        \u001b[49m\u001b[43mclient\u001b[49m\u001b[43m,\u001b[49m\n\u001b[1;32m    941\u001b[0m \u001b[43m        \u001b[49m\u001b[43mcheck\u001b[49m\u001b[43m,\u001b[49m\n\u001b[1;32m    942\u001b[0m \u001b[43m        \u001b[49m\u001b[43mallowable_errors\u001b[49m\u001b[43m,\u001b[49m\n\u001b[1;32m    943\u001b[0m \u001b[43m        \u001b[49m\u001b[38;5;28;43mself\u001b[39;49m\u001b[38;5;241;43m.\u001b[39;49m\u001b[43maddress\u001b[49m\u001b[43m,\u001b[49m\n\u001b[1;32m    944\u001b[0m \u001b[43m        \u001b[49m\u001b[43mlisteners\u001b[49m\u001b[43m,\u001b[49m\n\u001b[1;32m    945\u001b[0m \u001b[43m        \u001b[49m\u001b[38;5;28;43mself\u001b[39;49m\u001b[38;5;241;43m.\u001b[39;49m\u001b[43mmax_bson_size\u001b[49m\u001b[43m,\u001b[49m\n\u001b[1;32m    946\u001b[0m \u001b[43m        \u001b[49m\u001b[43mread_concern\u001b[49m\u001b[43m,\u001b[49m\n\u001b[1;32m    947\u001b[0m \u001b[43m        \u001b[49m\u001b[43mparse_write_concern_error\u001b[49m\u001b[38;5;241;43m=\u001b[39;49m\u001b[43mparse_write_concern_error\u001b[49m\u001b[43m,\u001b[49m\n\u001b[1;32m    948\u001b[0m \u001b[43m        \u001b[49m\u001b[43mcollation\u001b[49m\u001b[38;5;241;43m=\u001b[39;49m\u001b[43mcollation\u001b[49m\u001b[43m,\u001b[49m\n\u001b[1;32m    949\u001b[0m \u001b[43m        \u001b[49m\u001b[43mcompression_ctx\u001b[49m\u001b[38;5;241;43m=\u001b[39;49m\u001b[38;5;28;43mself\u001b[39;49m\u001b[38;5;241;43m.\u001b[39;49m\u001b[43mcompression_context\u001b[49m\u001b[43m,\u001b[49m\n\u001b[1;32m    950\u001b[0m \u001b[43m        \u001b[49m\u001b[43muse_op_msg\u001b[49m\u001b[38;5;241;43m=\u001b[39;49m\u001b[38;5;28;43mself\u001b[39;49m\u001b[38;5;241;43m.\u001b[39;49m\u001b[43mop_msg_enabled\u001b[49m\u001b[43m,\u001b[49m\n\u001b[1;32m    951\u001b[0m \u001b[43m        \u001b[49m\u001b[43munacknowledged\u001b[49m\u001b[38;5;241;43m=\u001b[39;49m\u001b[43munacknowledged\u001b[49m\u001b[43m,\u001b[49m\n\u001b[1;32m    952\u001b[0m \u001b[43m        \u001b[49m\u001b[43muser_fields\u001b[49m\u001b[38;5;241;43m=\u001b[39;49m\u001b[43muser_fields\u001b[49m\u001b[43m,\u001b[49m\n\u001b[1;32m    953\u001b[0m \u001b[43m        \u001b[49m\u001b[43mexhaust_allowed\u001b[49m\u001b[38;5;241;43m=\u001b[39;49m\u001b[43mexhaust_allowed\u001b[49m\u001b[43m,\u001b[49m\n\u001b[1;32m    954\u001b[0m \u001b[43m        \u001b[49m\u001b[43mwrite_concern\u001b[49m\u001b[38;5;241;43m=\u001b[39;49m\u001b[43mwrite_concern\u001b[49m\u001b[43m,\u001b[49m\n\u001b[1;32m    955\u001b[0m \u001b[43m    \u001b[49m\u001b[43m)\u001b[49m\n\u001b[1;32m    956\u001b[0m \u001b[38;5;28;01mexcept\u001b[39;00m (OperationFailure, NotPrimaryError):\n\u001b[1;32m    957\u001b[0m     \u001b[38;5;28;01mraise\u001b[39;00m\n",
      "File \u001b[0;32m~/.local/lib/python3.8/site-packages/pymongo/network.py:191\u001b[0m, in \u001b[0;36mcommand\u001b[0;34m(conn, dbname, spec, is_mongos, read_preference, codec_options, session, client, check, allowable_errors, address, listeners, max_bson_size, read_concern, parse_write_concern_error, collation, compression_ctx, use_op_msg, unacknowledged, user_fields, exhaust_allowed, write_concern)\u001b[0m\n\u001b[1;32m    189\u001b[0m             client\u001b[38;5;241m.\u001b[39m_process_response(response_doc, session)\n\u001b[1;32m    190\u001b[0m         \u001b[38;5;28;01mif\u001b[39;00m check:\n\u001b[0;32m--> 191\u001b[0m             \u001b[43mhelpers\u001b[49m\u001b[38;5;241;43m.\u001b[39;49m\u001b[43m_check_command_response\u001b[49m\u001b[43m(\u001b[49m\n\u001b[1;32m    192\u001b[0m \u001b[43m                \u001b[49m\u001b[43mresponse_doc\u001b[49m\u001b[43m,\u001b[49m\n\u001b[1;32m    193\u001b[0m \u001b[43m                \u001b[49m\u001b[43mconn\u001b[49m\u001b[38;5;241;43m.\u001b[39;49m\u001b[43mmax_wire_version\u001b[49m\u001b[43m,\u001b[49m\n\u001b[1;32m    194\u001b[0m \u001b[43m                \u001b[49m\u001b[43mallowable_errors\u001b[49m\u001b[43m,\u001b[49m\n\u001b[1;32m    195\u001b[0m \u001b[43m                \u001b[49m\u001b[43mparse_write_concern_error\u001b[49m\u001b[38;5;241;43m=\u001b[39;49m\u001b[43mparse_write_concern_error\u001b[49m\u001b[43m,\u001b[49m\n\u001b[1;32m    196\u001b[0m \u001b[43m            \u001b[49m\u001b[43m)\u001b[49m\n\u001b[1;32m    197\u001b[0m \u001b[38;5;28;01mexcept\u001b[39;00m \u001b[38;5;167;01mException\u001b[39;00m \u001b[38;5;28;01mas\u001b[39;00m exc:\n\u001b[1;32m    198\u001b[0m     \u001b[38;5;28;01mif\u001b[39;00m publish:\n",
      "File \u001b[0;32m~/.local/lib/python3.8/site-packages/pymongo/helpers.py:223\u001b[0m, in \u001b[0;36m_check_command_response\u001b[0;34m(response, max_wire_version, allowable_errors, parse_write_concern_error)\u001b[0m\n\u001b[1;32m    220\u001b[0m \u001b[38;5;28;01melif\u001b[39;00m code \u001b[38;5;241m==\u001b[39m \u001b[38;5;241m43\u001b[39m:\n\u001b[1;32m    221\u001b[0m     \u001b[38;5;28;01mraise\u001b[39;00m CursorNotFound(errmsg, code, response, max_wire_version)\n\u001b[0;32m--> 223\u001b[0m \u001b[38;5;28;01mraise\u001b[39;00m OperationFailure(errmsg, code, response, max_wire_version)\n",
      "\u001b[0;31mOperationFailure\u001b[0m: Executor error during distinct command :: caused by :: distinct too big, 16mb cap, full error: {'ok': 0.0, 'errmsg': 'Executor error during distinct command :: caused by :: distinct too big, 16mb cap', 'code': 17217, 'codeName': 'Location17217'}"
     ]
    }
   ],
   "source": [
    "from pymongo import MongoClient\n",
    "client = MongoClient()\n",
    "db = client.NFTDB\n",
    "slug_data = db.completedSlugs\n",
    "collection_data = db.salesCollection\n",
    "# print(list(collection_data.find({'slug':'meowlady-maker'})))\n",
    "print(slug_data.count_documents({}))\n",
    "# print(list(slug_data.find({})))\n",
    "print(collection_data.count_documents({}))\n",
    "print(collection_data.find_one({\"timestamp\" : {\"$regex\" : \"2020-02\"}}))\n",
    "print(len(set(collection_data.distinct('buyer_address')+collection_data.distinct('seller_address'))))\n",
    "db.command(\"dbstats\")"
   ]
  },
  {
   "cell_type": "code",
   "execution_count": 84,
   "id": "21b41096",
   "metadata": {},
   "outputs": [
    {
     "name": "stdout",
     "output_type": "stream",
     "text": [
      "591437\n",
      "533652\n",
      "77\n",
      "77\n",
      "152959\n",
      "201122\n",
      "152638\n"
     ]
    }
   ],
   "source": [
    "from pymongo import MongoClient\n",
    "client = MongoClient()\n",
    "db =client.NFTDB\n",
    "slug_data = db.completedSlugs\n",
    "transfer_slug = db.completedSlugsTransfers\n",
    "sales = db.salesCollection\n",
    "transfers = db.transferCollection\n",
    "NFTs = db.addresstoNFT\n",
    "print(sales.count_documents({}))\n",
    "print(transfers.count_documents({'Sale':{ '$exists' : False }}))\n",
    "print(slug_data.count_documents({}))\n",
    "print(transfer_slug.count_documents({}))\n",
    "print(len(set(sales.distinct('buyer_address')+sales.distinct('seller_address'))))\n",
    "print(len(set(transfers.distinct('buyer_address')+transfers.distinct('seller_address'))))\n",
    "print(NFTs.count_documents({}))\n",
    "# docs = NFTs.find({})\n",
    "# for doc in docs:\n",
    "#     print(len(doc['NFTs']))\n",
    "\n",
    "# wallets = list(wallets)\n",
    "# print(len(wallets))\n",
    "# print(len(list(wallets2)))"
   ]
  },
  {
   "cell_type": "code",
   "execution_count": 114,
   "id": "9dd15f42",
   "metadata": {},
   "outputs": [
    {
     "name": "stderr",
     "output_type": "stream",
     "text": [
      "100%|██████████| 99/99 [00:01<00:00, 89.95it/s]"
     ]
    },
    {
     "name": "stdout",
     "output_type": "stream",
     "text": [
      "83\n",
      "[1, 1, 1, 5, 4, 2, 3, 5, 6, 9, 1, 2, 2, 3, 2, 1, 1, 1, 2, 3, 2, 3, 4, 1, 1, 1, 1, 1, 1, 1, 4, 3, 3, 2, 1, 1, 1, 3, 1, 1, 3, 1, 9, 2, 4, 1, 1, 3, 1, 4, 1, 4, 1, 5, 1, 2, 1, 1, 4, 1, 7, 1, 1, 2, 5, 3, 1, 1, 2, 6, 5, 1, 1, 3, 1, 1, 1, 5, 2, 3, 1, 1, 2, 1, 1, 3, 1, 6, 5, 1, 1, 1, 1, 2, 1, 1, 1, 1, 1]\n",
      "[0, 0, 0, 0, 0, 0, 2, 0, 0, 19, 1, 2, 0, 1, 0, 0, 0, 4, 0, 0, 0, 0, 0, 0, 0, 0, 0, 0, 0, 0, 1, 0, 0, 0, 1, 0, 1, 0, 0, 0, 0, 0, 0, 1, 0, 0, 0, 0, 0, 0, 1, 2, 0, 0, 0, 0, 0, 0, 0, 0, 13, 2, 0, 0, 0, 0, 0, 0, 0, 0, 0, 0, 0, 0, 0, 1, 0, 0, 0, 0, 18, 0, 0, 0, 0, 0, 0, 0, 0, 0, 0, 0, 0, 0, 0, 0, 0, 0, 0]\n",
      "[5, 3, 16, 12, 48, 119, 123, 40, 28, 435, 10, 68, 5, 50, 2, 1, 28, 27, 9, 3, 17, 43, 10, 2, 5, 15, 1, 115, 12, 3, 5, 44, 3, 39, 26, 21, 17, 7, 10, 49, 15, 4, 6, 107, 116, 11, 19, 30, 2, 152, 24, 28, 36, 7, 2, 3, 2, 2, 19, 4, 320, 74, 57, 3, 29, 340, 3, 3, 17, 16, 84, 8, 3, 345, 105, 13, 59, 2, 27, 26, 51, 2, 4, 6, 2, 13, 8, 5, 6, 21, 0, 4, 4, 17, 29, 11, 1, 19, 9]\n"
     ]
    },
    {
     "name": "stderr",
     "output_type": "stream",
     "text": [
      "\n"
     ]
    }
   ],
   "source": [
    "from tqdm import tqdm\n",
    "addresses = list(set(collection_data1.distinct('buyer_address')+collection_data1.distinct('seller_address')))\n",
    "trans_hist_orig = []\n",
    "trans_hist_new = []\n",
    "transfer_hist = []\n",
    "address_to_trans = {}\n",
    "zeros=0\n",
    "for wallet in tqdm(wallets):\n",
    "    address = wallet['_id']\n",
    "# for address in tqdm(addresses):\n",
    "    num_trans = collection_data1.count_documents({'seller_address':address})+collection_data1.count_documents({'buyer_address':address})\n",
    "    trans_hist_orig.append(num_trans)\n",
    "    num_trans = collection_data2.count_documents({'seller_address':address,'event_type':'successful'})+collection_data2.count_documents({'buyer_address':address,'event_type':'successful'})\n",
    "    if num_trans==0:\n",
    "        zeros+=1\n",
    "    trans_hist_new.append(num_trans)\n",
    "    num_trans = collection_data2.count_documents({'seller_address':address,'event_type':'transfer'})+collection_data2.count_documents({'buyer_address':address,'event_type':'transfer'})\n",
    "    transfer_hist.append(num_trans)\n",
    "# address_to_trans[address] = num_trans\n",
    "print(zeros)\n",
    "print(trans_hist_orig)\n",
    "print(trans_hist_new)\n",
    "print(transfer_hist)\n",
    "# trans_hist_new = [x+1 if x==0 else x for x in trans_hist_new]"
   ]
  },
  {
   "cell_type": "code",
   "execution_count": 115,
   "id": "ed90bd53",
   "metadata": {},
   "outputs": [
    {
     "name": "stderr",
     "output_type": "stream",
     "text": [
      "<ipython-input-115-45c4fef1c18f>:5: RuntimeWarning: divide by zero encountered in log10\n",
      "  g2 = sns.ecdfplot(data = np.log10(transfer_hist), label = \"Total Transactions\")\n"
     ]
    },
    {
     "data": {
      "text/plain": [
       "[Text(0.5, 0, 'Log Number of Transactions'),\n",
       " Text(0, 0.5, 'Density'),\n",
       " Text(0.5, 1.0, 'ECDFs for 100 randomly chosen wallets')]"
      ]
     },
     "execution_count": 115,
     "metadata": {},
     "output_type": "execute_result"
    },
    {
     "data": {
      "image/png": "[encoded data removed]",
      "text/plain": [
       "<Figure size 432x288 with 1 Axes>"
      ]
     },
     "metadata": {
      "needs_background": "light"
     },
     "output_type": "display_data"
    }
   ],
   "source": [
    "import numpy as np\n",
    "import matplotlib.pyplot as plt\n",
    "import seaborn as sns\n",
    "g = sns.ecdfplot(data = np.log10(trans_hist_orig), label = \"Transactions on 77 Collections\")\n",
    "g2 = sns.ecdfplot(data = np.log10(transfer_hist), label = \"Total Transactions\")\n",
    "# g = sns.kdeplot(data = np.log10(trans_hist), cumulative = True, label = \"X1\")\n",
    "# g.set_xticklabels(['0.1','1','10','100','1000','100000'])\n",
    "g.legend()\n",
    "g.set(xlabel='Log Number of Transactions', ylabel='Density',title=\"ECDFs for 100 randomly chosen wallets\")\n",
    "# g = sns.ecdfplot(data = np.log10(trans_hist), label = \"X1\")\n",
    "# g2.set_xticklabels(['0.1','1','10','100','1000','100000'])"
   ]
  },
  {
   "cell_type": "code",
   "execution_count": 22,
   "id": "1bbca2b1",
   "metadata": {},
   "outputs": [
    {
     "data": {
      "text/plain": [
       "'buyer_address_1'"
      ]
     },
     "execution_count": 22,
     "metadata": {},
     "output_type": "execute_result"
    }
   ],
   "source": [
    "from pymongo import MongoClient, DESCENDING\n",
    "collection_data.create_index(\"buyer_address\")"
   ]
  },
  {
   "cell_type": "code",
   "execution_count": 37,
   "id": "6a2da77d",
   "metadata": {},
   "outputs": [
    {
     "name": "stdout",
     "output_type": "stream",
     "text": [
      "Defaulting to user installation because normal site-packages is not writeable\n",
      "Requirement already satisfied: scipy in /home/taylor/.local/lib/python3.8/site-packages (1.10.1)\n",
      "Requirement already satisfied: numpy<1.27.0,>=1.19.5 in /home/taylor/.local/lib/python3.8/site-packages (from scipy) (1.24.4)\n",
      "\u001b[33mDEPRECATION: distro-info 0.23ubuntu1 has a non-standard version number. pip 23.3 will enforce this behaviour change. A possible replacement is to upgrade to a newer version of distro-info or contact the author to suggest that they release a version with a conforming version number. Discussion can be found at https://github.com/pypa/pip/issues/12063\u001b[0m\u001b[33m\n",
      "\u001b[0m\u001b[33mDEPRECATION: python-debian 0.1.36ubuntu1 has a non-standard version number. pip 23.3 will enforce this behaviour change. A possible replacement is to upgrade to a newer version of python-debian or contact the author to suggest that they release a version with a conforming version number. Discussion can be found at https://github.com/pypa/pip/issues/12063\u001b[0m\u001b[33m\n",
      "\u001b[0m"
     ]
    }
   ],
   "source": [
    "!pip install scipy"
   ]
  },
  {
   "cell_type": "code",
   "execution_count": 158,
   "id": "618fd59a",
   "metadata": {},
   "outputs": [
    {
     "name": "stdout",
     "output_type": "stream",
     "text": [
      "2417 0xf408bee3443d0397e2c1cde588fb060ac657006f\n",
      "2894 0xc58d63d59ad68930c9fdff6f1ac479c5c9941ef4\n",
      "1182 0x856750961732cbead1e289e04c57027bb368fcc0\n",
      "2340 0xe3d3d0ed702504e19825f44bc6542ff2ec45cb9a\n",
      "2802 0x385ce35599ae5e6f0eaf0f69841fffa9f41acdd5\n",
      "1418 0x196f239229aae65883802b5bb512e17084147ff6\n",
      "1383 0xb26b5d90c8961a779efc8d8ad881b128dd8385eb\n",
      "4491 0x020ca66c30bec2c4fe3861a94e4db4a498a35872\n",
      "1734 0x5f1ee29361206f1a129e808736f11598356c6031\n",
      "3937 0x63e0605491bda6e4c1c37cf818a45b836faf46ee\n",
      "2674 0xcbb0fe555f61d23427740984325b4583a4a34c82\n",
      "1616 0x1e9b0ce14b52a94e102ddf8a5bd9421b3502c10c\n",
      "2413 0x97c7d94d01bcbc41b80ef7cc8c5bebc3d11c6a20\n",
      "1157 0x13422774d8416a316390f5aa2e713c5742592aaf\n",
      "2155 0x49fabee6cadf2dd5bf738f9c0dfabbb2c8fd6a81\n",
      "2552 0xed2ab4948ba6a909a7751dec4f34f303eb8c7236\n",
      "1277 0xc5775840ce050f12a1e52533dae1b67b2dc6cc50\n",
      "2593 0xc4da1707a7a16cf4ac15d75d6a49a684b23ee1e4\n",
      "1468 0xa7b9c7cb5dfaf482ce2d3166b955e685e080cbbc\n",
      "26681 0x29469395eaf6f95920e59f858042f0e28d98a20b\n",
      "8138 0x77e3e957082ca648c1c5b0f3e6aec00ab1245186\n",
      "1391 0x61afb0589527fa9e50873284cc9edfbd412e5f23\n",
      "1999 0xa7078ddf23d29e9d6e54e34909cd2ac1b33a67c5\n",
      "1208 0x0097b9cfe64455eed479292671a1121f502bc954\n",
      "2076 0x7df70b612040c682d1cb2e32017446e230fcd747\n",
      "1564 0x50d36f27872f637ec9ecb4eedff300df44a608ab\n",
      "4416 0x5e1416e0ec35b47a6b7687c5e783e9b98a83dd45\n",
      "1177 0x4cec924686aa44056eb36064abe887d6af0d7cff\n",
      "1109 0x7ace5cffbf9e1b1a4e8f491a64013b0e6f774136\n",
      "1652 0xa3aab2756db7369e2bfb2b9d58559ed422b3c73c\n",
      "1280 0xb70c67d6da9db6ffe565c20339e18edb69140cb8\n"
     ]
    },
    {
     "data": {
      "text/plain": [
       "31"
      ]
     },
     "execution_count": 158,
     "metadata": {},
     "output_type": "execute_result"
    }
   ],
   "source": [
    "for key,value in address_to_trans.items():\n",
    "    if value>1000:\n",
    "        print(value,key)\n",
    "sum(i > 1000 for i in trans_hist)"
   ]
  },
  {
   "cell_type": "code",
   "execution_count": 146,
   "id": "a1dd701e",
   "metadata": {},
   "outputs": [],
   "source": [
    "user_names = []\n",
    "for address in addresses:\n",
    "    if address_to_trans[address]>=10 and address_to_trans[address]>2:\n",
    "        record = collection_data.find_one({'buyer_address':address})\n",
    "        if record is None:\n",
    "            record = collection_data.find_one({'seller_address':address})\n",
    "            if record is not None:\n",
    "                user_name = record['seller_username']\n",
    "        else:\n",
    "            user_name = record['buyer_username']\n",
    "        user_names.append(user_name)\n",
    "    "
   ]
  },
  {
   "cell_type": "code",
   "execution_count": 147,
   "id": "8bd3dc5d",
   "metadata": {},
   "outputs": [
    {
     "data": {
      "text/plain": [
       "0.38525535007267075"
      ]
     },
     "execution_count": 147,
     "metadata": {},
     "output_type": "execute_result"
    }
   ],
   "source": [
    "sum(i is None for i in user_names)/len(user_names)"
   ]
  },
  {
   "cell_type": "code",
   "execution_count": 52,
   "id": "f64430d7",
   "metadata": {},
   "outputs": [],
   "source": [
    "from tqdm import tqdm\n",
    "import pandas as pd\n",
    "db =client.NFTDB\n",
    "sales = db.salesCollection\n",
    "record = sales.find({})\n",
    "df = pd.DataFrame.from_records(record)\n",
    "\n",
    "# for address in tqdm(addresses):\n",
    "#     record = list(collection_data.find({'seller_address':address}))+list(collection_data.find({'buyer_address':address}))\n",
    "#     df = pd.DataFrame.from_records(record)\n",
    "#     df['timestamp'] = pd.to_datetime(df['timestamp'])\n",
    "#     df_group = df.groupby([df['timestamp'].dt.date,df['timestamp'].dt.second]).count()\n",
    "#     collisions = max(df_group['_id'])\n",
    "#     if collisions>10:\n",
    "#         print(collisions)"
   ]
  },
  {
   "cell_type": "code",
   "execution_count": 53,
   "id": "9eee9955",
   "metadata": {},
   "outputs": [],
   "source": [
    "df['timestamp'] = pd.to_datetime(df['timestamp'])\n",
    "df.sort_values(by='timestamp', inplace = True)"
   ]
  },
  {
   "cell_type": "code",
   "execution_count": 54,
   "id": "5eb87f8e",
   "metadata": {},
   "outputs": [],
   "source": [
    "df['seconds'] = df['timestamp'].astype(int)"
   ]
  },
  {
   "cell_type": "code",
   "execution_count": 55,
   "id": "4fe56b29",
   "metadata": {},
   "outputs": [],
   "source": [
    "df['time_gap'] = df['seconds'].diff()"
   ]
  },
  {
   "cell_type": "code",
   "execution_count": 56,
   "id": "1a4449d3",
   "metadata": {},
   "outputs": [],
   "source": [
    "df_sec_sort = df.sort_values(by='time_gap')"
   ]
  },
  {
   "cell_type": "code",
   "execution_count": 57,
   "id": "04447c16",
   "metadata": {},
   "outputs": [
    {
     "data": {
      "text/html": [
       "<div>\n",
       "<style scoped>\n",
       "    .dataframe tbody tr th:only-of-type {\n",
       "        vertical-align: middle;\n",
       "    }\n",
       "\n",
       "    .dataframe tbody tr th {\n",
       "        vertical-align: top;\n",
       "    }\n",
       "\n",
       "    .dataframe thead th {\n",
       "        text-align: right;\n",
       "    }\n",
       "</style>\n",
       "<table border=\"1\" class=\"dataframe\">\n",
       "  <thead>\n",
       "    <tr style=\"text-align: right;\">\n",
       "      <th></th>\n",
       "      <th>_id</th>\n",
       "      <th>auction_type</th>\n",
       "      <th>buyer_address</th>\n",
       "      <th>buyer_username</th>\n",
       "      <th>event_type</th>\n",
       "      <th>is_bundle</th>\n",
       "      <th>payment_token</th>\n",
       "      <th>seller_address</th>\n",
       "      <th>seller_username</th>\n",
       "      <th>slug</th>\n",
       "      <th>timestamp</th>\n",
       "      <th>token_id</th>\n",
       "      <th>total_price</th>\n",
       "      <th>usd_price</th>\n",
       "      <th>seconds</th>\n",
       "      <th>time_gap</th>\n",
       "    </tr>\n",
       "  </thead>\n",
       "  <tbody>\n",
       "    <tr>\n",
       "      <th>199545</th>\n",
       "      <td>0x439f8e8ae7b45ff020e1dbbf197efe0b77db7ebd6adf...</td>\n",
       "      <td>None</td>\n",
       "      <td>0x7deee0b8aa6d3fc99881e1df461fe51bf2c8108d</td>\n",
       "      <td>None</td>\n",
       "      <td>successful</td>\n",
       "      <td>False</td>\n",
       "      <td>WETH</td>\n",
       "      <td>0xd3efe22206cb34952da49f69630858a0ccd16209</td>\n",
       "      <td>None</td>\n",
       "      <td>renga</td>\n",
       "      <td>2023-01-01 12:05:23</td>\n",
       "      <td>9802</td>\n",
       "      <td>1.400000</td>\n",
       "      <td>1634.41</td>\n",
       "      <td>1672574723000000000</td>\n",
       "      <td>NaN</td>\n",
       "    </tr>\n",
       "    <tr>\n",
       "      <th>248746</th>\n",
       "      <td>0xcfddd9628bdfd8c1e39cffd74c244b9af99c5c834a47...</td>\n",
       "      <td>None</td>\n",
       "      <td>0x669a8cdce1eaddf94456be50348188b29c03b53c</td>\n",
       "      <td>fmtjetlag</td>\n",
       "      <td>successful</td>\n",
       "      <td>False</td>\n",
       "      <td>ETH</td>\n",
       "      <td>0x1e73e1b8cd1712db0641342cd8167346a21530be</td>\n",
       "      <td>None</td>\n",
       "      <td>thepotatoz</td>\n",
       "      <td>2023-01-01 12:07:35</td>\n",
       "      <td>6628</td>\n",
       "      <td>2.865000</td>\n",
       "      <td>1636.28</td>\n",
       "      <td>1672574855000000000</td>\n",
       "      <td>1.320000e+11</td>\n",
       "    </tr>\n",
       "    <tr>\n",
       "      <th>183492</th>\n",
       "      <td>0xf9d94d219257438962b63601d6e12566111046ef1c99...</td>\n",
       "      <td>None</td>\n",
       "      <td>0xba26877c2036e1f2baba63bdd5bfe996b050e13c</td>\n",
       "      <td>agujero_negro</td>\n",
       "      <td>successful</td>\n",
       "      <td>False</td>\n",
       "      <td>WETH</td>\n",
       "      <td>0x534d1a3374c966502e25d1d5d1e0ba9b5bd67c37</td>\n",
       "      <td>None</td>\n",
       "      <td>impostors-genesis-aliens</td>\n",
       "      <td>2023-01-01 12:16:11</td>\n",
       "      <td>4520</td>\n",
       "      <td>0.300000</td>\n",
       "      <td>1633.93</td>\n",
       "      <td>1672575371000000000</td>\n",
       "      <td>5.160000e+11</td>\n",
       "    </tr>\n",
       "    <tr>\n",
       "      <th>364443</th>\n",
       "      <td>0x0eb47bf92535dc62e2d993017d62d4538114542a1d5b...</td>\n",
       "      <td>None</td>\n",
       "      <td>0x2d19e2e80db164a08be52e8a0f1c57e3e7425ee8</td>\n",
       "      <td>None</td>\n",
       "      <td>successful</td>\n",
       "      <td>False</td>\n",
       "      <td>WETH</td>\n",
       "      <td>0xbfa2db07d132c130e2848a823d6d53a1657d61f9</td>\n",
       "      <td>None</td>\n",
       "      <td>azuki</td>\n",
       "      <td>2023-01-01 12:22:11</td>\n",
       "      <td>4055</td>\n",
       "      <td>12.950000</td>\n",
       "      <td>1634.78</td>\n",
       "      <td>1672575731000000000</td>\n",
       "      <td>3.600000e+11</td>\n",
       "    </tr>\n",
       "    <tr>\n",
       "      <th>364442</th>\n",
       "      <td>0x88c00de1553826ae0421057bbd2ee092d6efbeb66472...</td>\n",
       "      <td>None</td>\n",
       "      <td>0x22caaeee9f2e34cf68cb1ef54846d518d35c668c</td>\n",
       "      <td>None</td>\n",
       "      <td>successful</td>\n",
       "      <td>False</td>\n",
       "      <td>WETH</td>\n",
       "      <td>0xc6fc07eb943b86d1972a3bdeda119d04fe8c7c12</td>\n",
       "      <td>None</td>\n",
       "      <td>azuki</td>\n",
       "      <td>2023-01-01 12:22:59</td>\n",
       "      <td>8620</td>\n",
       "      <td>12.930000</td>\n",
       "      <td>1634.78</td>\n",
       "      <td>1672575779000000000</td>\n",
       "      <td>4.800000e+10</td>\n",
       "    </tr>\n",
       "    <tr>\n",
       "      <th>...</th>\n",
       "      <td>...</td>\n",
       "      <td>...</td>\n",
       "      <td>...</td>\n",
       "      <td>...</td>\n",
       "      <td>...</td>\n",
       "      <td>...</td>\n",
       "      <td>...</td>\n",
       "      <td>...</td>\n",
       "      <td>...</td>\n",
       "      <td>...</td>\n",
       "      <td>...</td>\n",
       "      <td>...</td>\n",
       "      <td>...</td>\n",
       "      <td>...</td>\n",
       "      <td>...</td>\n",
       "      <td>...</td>\n",
       "    </tr>\n",
       "    <tr>\n",
       "      <th>554539</th>\n",
       "      <td>0x192a966a5fa0774c655fbcd58ea2cd798d3ca9b0eed5...</td>\n",
       "      <td>None</td>\n",
       "      <td>0xfa463f7606315319098b11a9567102421c432001</td>\n",
       "      <td>Elpsylo</td>\n",
       "      <td>successful</td>\n",
       "      <td>False</td>\n",
       "      <td>ETH</td>\n",
       "      <td>0x622a5b6c4e544a4c085745c4b147d995bb235bbe</td>\n",
       "      <td>None</td>\n",
       "      <td>akidcalledbeast</td>\n",
       "      <td>2023-09-04 20:52:23</td>\n",
       "      <td>662</td>\n",
       "      <td>0.223491</td>\n",
       "      <td>1623.87</td>\n",
       "      <td>1693860743000000000</td>\n",
       "      <td>1.368000e+12</td>\n",
       "    </tr>\n",
       "    <tr>\n",
       "      <th>554538</th>\n",
       "      <td>0xe2822efcd2a90db2701c380b7c5091cbd80a6c7ec73a...</td>\n",
       "      <td>None</td>\n",
       "      <td>0x90b74ef7bc1975bcb1c67450c7b1575922b67e54</td>\n",
       "      <td>None</td>\n",
       "      <td>successful</td>\n",
       "      <td>False</td>\n",
       "      <td>WETH</td>\n",
       "      <td>0xeb745ce75c877ec975d4cad81d54270e46aec33b</td>\n",
       "      <td>skrptd</td>\n",
       "      <td>akidcalledbeast</td>\n",
       "      <td>2023-09-04 20:53:59</td>\n",
       "      <td>3060</td>\n",
       "      <td>0.200000</td>\n",
       "      <td>1627.78</td>\n",
       "      <td>1693860839000000000</td>\n",
       "      <td>9.600000e+10</td>\n",
       "    </tr>\n",
       "    <tr>\n",
       "      <th>585367</th>\n",
       "      <td>0x93dc35b04f993e9f47b73f244508553be8494cdd5a38...</td>\n",
       "      <td>None</td>\n",
       "      <td>0xe3d3d0ed702504e19825f44bc6542ff2ec45cb9a</td>\n",
       "      <td>None</td>\n",
       "      <td>successful</td>\n",
       "      <td>False</td>\n",
       "      <td>ETH</td>\n",
       "      <td>0x89177787e8b88b6b95cfcd0501e79bdd05d370ca</td>\n",
       "      <td>MickeyFantom_2969</td>\n",
       "      <td>sproto-gremlins</td>\n",
       "      <td>2023-09-04 21:05:59</td>\n",
       "      <td>1859</td>\n",
       "      <td>0.990000</td>\n",
       "      <td>1621.49</td>\n",
       "      <td>1693861559000000000</td>\n",
       "      <td>7.200000e+11</td>\n",
       "    </tr>\n",
       "    <tr>\n",
       "      <th>578863</th>\n",
       "      <td>0xeec42b6d640be04908c30506832bcd4aa84e13c58e3d...</td>\n",
       "      <td>None</td>\n",
       "      <td>0x1847077fdb5bae66a836334a7b0fa02b15b8ae66</td>\n",
       "      <td>Jud</td>\n",
       "      <td>successful</td>\n",
       "      <td>False</td>\n",
       "      <td>ETH</td>\n",
       "      <td>0x83e90475dbc318444620cc09491d37ec29746723</td>\n",
       "      <td>Muazbxr</td>\n",
       "      <td>veefriends-series-2</td>\n",
       "      <td>2023-09-04 21:07:47</td>\n",
       "      <td>54329</td>\n",
       "      <td>0.127000</td>\n",
       "      <td>1621.49</td>\n",
       "      <td>1693861667000000000</td>\n",
       "      <td>1.080000e+11</td>\n",
       "    </tr>\n",
       "    <tr>\n",
       "      <th>554537</th>\n",
       "      <td>0x843d72080a968ceb9cf3516af898a92a221b114ab54e...</td>\n",
       "      <td>None</td>\n",
       "      <td>0x4c145a2b36a174586ab6df50af71b17f826bcdff</td>\n",
       "      <td>wandafish_vault</td>\n",
       "      <td>successful</td>\n",
       "      <td>False</td>\n",
       "      <td>ETH</td>\n",
       "      <td>0x90b74ef7bc1975bcb1c67450c7b1575922b67e54</td>\n",
       "      <td>None</td>\n",
       "      <td>akidcalledbeast</td>\n",
       "      <td>2023-09-04 21:08:35</td>\n",
       "      <td>3060</td>\n",
       "      <td>0.212000</td>\n",
       "      <td>1623.87</td>\n",
       "      <td>1693861715000000000</td>\n",
       "      <td>4.800000e+10</td>\n",
       "    </tr>\n",
       "  </tbody>\n",
       "</table>\n",
       "<p>591437 rows × 16 columns</p>\n",
       "</div>"
      ],
      "text/plain": [
       "                                                      _id auction_type  \\\n",
       "199545  0x439f8e8ae7b45ff020e1dbbf197efe0b77db7ebd6adf...         None   \n",
       "248746  0xcfddd9628bdfd8c1e39cffd74c244b9af99c5c834a47...         None   \n",
       "183492  0xf9d94d219257438962b63601d6e12566111046ef1c99...         None   \n",
       "364443  0x0eb47bf92535dc62e2d993017d62d4538114542a1d5b...         None   \n",
       "364442  0x88c00de1553826ae0421057bbd2ee092d6efbeb66472...         None   \n",
       "...                                                   ...          ...   \n",
       "554539  0x192a966a5fa0774c655fbcd58ea2cd798d3ca9b0eed5...         None   \n",
       "554538  0xe2822efcd2a90db2701c380b7c5091cbd80a6c7ec73a...         None   \n",
       "585367  0x93dc35b04f993e9f47b73f244508553be8494cdd5a38...         None   \n",
       "578863  0xeec42b6d640be04908c30506832bcd4aa84e13c58e3d...         None   \n",
       "554537  0x843d72080a968ceb9cf3516af898a92a221b114ab54e...         None   \n",
       "\n",
       "                                     buyer_address   buyer_username  \\\n",
       "199545  0x7deee0b8aa6d3fc99881e1df461fe51bf2c8108d             None   \n",
       "248746  0x669a8cdce1eaddf94456be50348188b29c03b53c        fmtjetlag   \n",
       "183492  0xba26877c2036e1f2baba63bdd5bfe996b050e13c    agujero_negro   \n",
       "364443  0x2d19e2e80db164a08be52e8a0f1c57e3e7425ee8             None   \n",
       "364442  0x22caaeee9f2e34cf68cb1ef54846d518d35c668c             None   \n",
       "...                                            ...              ...   \n",
       "554539  0xfa463f7606315319098b11a9567102421c432001          Elpsylo   \n",
       "554538  0x90b74ef7bc1975bcb1c67450c7b1575922b67e54             None   \n",
       "585367  0xe3d3d0ed702504e19825f44bc6542ff2ec45cb9a             None   \n",
       "578863  0x1847077fdb5bae66a836334a7b0fa02b15b8ae66              Jud   \n",
       "554537  0x4c145a2b36a174586ab6df50af71b17f826bcdff  wandafish_vault   \n",
       "\n",
       "        event_type  is_bundle payment_token  \\\n",
       "199545  successful      False          WETH   \n",
       "248746  successful      False           ETH   \n",
       "183492  successful      False          WETH   \n",
       "364443  successful      False          WETH   \n",
       "364442  successful      False          WETH   \n",
       "...            ...        ...           ...   \n",
       "554539  successful      False           ETH   \n",
       "554538  successful      False          WETH   \n",
       "585367  successful      False           ETH   \n",
       "578863  successful      False           ETH   \n",
       "554537  successful      False           ETH   \n",
       "\n",
       "                                    seller_address    seller_username  \\\n",
       "199545  0xd3efe22206cb34952da49f69630858a0ccd16209               None   \n",
       "248746  0x1e73e1b8cd1712db0641342cd8167346a21530be               None   \n",
       "183492  0x534d1a3374c966502e25d1d5d1e0ba9b5bd67c37               None   \n",
       "364443  0xbfa2db07d132c130e2848a823d6d53a1657d61f9               None   \n",
       "364442  0xc6fc07eb943b86d1972a3bdeda119d04fe8c7c12               None   \n",
       "...                                            ...                ...   \n",
       "554539  0x622a5b6c4e544a4c085745c4b147d995bb235bbe               None   \n",
       "554538  0xeb745ce75c877ec975d4cad81d54270e46aec33b             skrptd   \n",
       "585367  0x89177787e8b88b6b95cfcd0501e79bdd05d370ca  MickeyFantom_2969   \n",
       "578863  0x83e90475dbc318444620cc09491d37ec29746723            Muazbxr   \n",
       "554537  0x90b74ef7bc1975bcb1c67450c7b1575922b67e54               None   \n",
       "\n",
       "                            slug           timestamp token_id  total_price  \\\n",
       "199545                     renga 2023-01-01 12:05:23     9802     1.400000   \n",
       "248746                thepotatoz 2023-01-01 12:07:35     6628     2.865000   \n",
       "183492  impostors-genesis-aliens 2023-01-01 12:16:11     4520     0.300000   \n",
       "364443                     azuki 2023-01-01 12:22:11     4055    12.950000   \n",
       "364442                     azuki 2023-01-01 12:22:59     8620    12.930000   \n",
       "...                          ...                 ...      ...          ...   \n",
       "554539           akidcalledbeast 2023-09-04 20:52:23      662     0.223491   \n",
       "554538           akidcalledbeast 2023-09-04 20:53:59     3060     0.200000   \n",
       "585367           sproto-gremlins 2023-09-04 21:05:59     1859     0.990000   \n",
       "578863       veefriends-series-2 2023-09-04 21:07:47    54329     0.127000   \n",
       "554537           akidcalledbeast 2023-09-04 21:08:35     3060     0.212000   \n",
       "\n",
       "        usd_price              seconds      time_gap  \n",
       "199545    1634.41  1672574723000000000           NaN  \n",
       "248746    1636.28  1672574855000000000  1.320000e+11  \n",
       "183492    1633.93  1672575371000000000  5.160000e+11  \n",
       "364443    1634.78  1672575731000000000  3.600000e+11  \n",
       "364442    1634.78  1672575779000000000  4.800000e+10  \n",
       "...           ...                  ...           ...  \n",
       "554539    1623.87  1693860743000000000  1.368000e+12  \n",
       "554538    1627.78  1693860839000000000  9.600000e+10  \n",
       "585367    1621.49  1693861559000000000  7.200000e+11  \n",
       "578863    1621.49  1693861667000000000  1.080000e+11  \n",
       "554537    1623.87  1693861715000000000  4.800000e+10  \n",
       "\n",
       "[591437 rows x 16 columns]"
      ]
     },
     "execution_count": 57,
     "metadata": {},
     "output_type": "execute_result"
    }
   ],
   "source": [
    "df"
   ]
  },
  {
   "cell_type": "code",
   "execution_count": 58,
   "id": "24ecd5ae",
   "metadata": {},
   "outputs": [],
   "source": [
    "df_buy = pd.DataFrame()\n",
    "df_sell = pd.DataFrame()\n",
    "df_buy['address'] = df['buyer_address']\n",
    "df_buy['timestamp'] = df['timestamp']\n",
    "df_sell['address'] = df['seller_address']\n",
    "df_sell['timestamp'] = df['timestamp']\n",
    "df_merged = pd.merge(df_buy,df_sell)\n",
    "addresses = df_merged['address'].unique()"
   ]
  },
  {
   "cell_type": "code",
   "execution_count": 63,
   "id": "05bbe567",
   "metadata": {},
   "outputs": [
    {
     "name": "stderr",
     "output_type": "stream",
     "text": [
      "100%|██████████| 310/310 [00:01<00:00, 298.05it/s]"
     ]
    },
    {
     "name": "stdout",
     "output_type": "stream",
     "text": [
      "131042\n",
      "292\n",
      "0.5034246575342466\n",
      "292\n"
     ]
    },
    {
     "name": "stderr",
     "output_type": "stream",
     "text": [
      "\n"
     ]
    }
   ],
   "source": [
    "count = []\n",
    "peeps = 0\n",
    "user_names = []\n",
    "bot_addy = []\n",
    "for address in tqdm(addresses):\n",
    "    trans = len(list(sales.find({'seller_address':address}))+list(sales.find({'buyer_address':address})))\n",
    "    if trans>10:\n",
    "        record = sales.find_one({'buyer_address':address})\n",
    "        if record is None:\n",
    "            record = sales.find_one({'seller_address':address})\n",
    "            if record is not None:\n",
    "                user_name = record['seller_username']\n",
    "        else:\n",
    "            user_name = record['buyer_username']\n",
    "        user_names.append(user_name)\n",
    "        peeps+=1\n",
    "        count.append(trans)\n",
    "        bot_addy.append(address)\n",
    "print(sum(count))\n",
    "print(peeps)\n",
    "print(sum(i is None for i in user_names)/len(user_names))\n",
    "print(len(bot_addy))"
   ]
  },
  {
   "cell_type": "code",
   "execution_count": 64,
   "id": "2b163a84",
   "metadata": {},
   "outputs": [],
   "source": [
    "pot_bots = db.BotAddresses\n",
    "for addy in bot_addy:\n",
    "    pot_bots.insert_one({'_id':addy})"
   ]
  },
  {
   "cell_type": "code",
   "execution_count": 41,
   "id": "00bb912a",
   "metadata": {},
   "outputs": [
    {
     "name": "stdout",
     "output_type": "stream",
     "text": [
      "{'_id': '0xdb21fab0df0505b4d73b69d9e8c7f69b7324e841cdbabfbd689c02cf6b86addb', 'auction_type': None, 'buyer_address': '0xf849de01b080adc3a814fabe1e2087475cf2e354', 'buyer_username': None, 'event_type': 'transfer', 'is_bundle': False, 'seller_address': '0x14751dacba0a081eecdc887ef065f8533c40ab90', 'seller_username': None, 'slug': 'atsnft', 'timestamp': '2023-07-23T23:14:35', 'token_id': '3720'}\n"
     ]
    }
   ],
   "source": [
    "from pymongo import MongoClient\n",
    "client = MongoClient()\n",
    "db =client.NFTDB\n",
    "slug_data = db.completedSlugs\n",
    "transfer_slug = db.completedSlugsTransfers\n",
    "sales = db.salesCollection\n",
    "transfers = db.transferCollection\n",
    "print(transfers.find_one({'buyer_address':'0xf849de01b080adc3a814fabe1e2087475cf2e354'}))"
   ]
  },
  {
   "cell_type": "code",
   "execution_count": 42,
   "id": "3bc0ccdf",
   "metadata": {},
   "outputs": [
    {
     "data": {
      "text/plain": [
       "<pymongo.results.InsertOneResult at 0x7fc0fd8d4ee0>"
      ]
     },
     "execution_count": 42,
     "metadata": {},
     "output_type": "execute_result"
    }
   ],
   "source": [
    "from pymongo import MongoClient\n",
    "client = MongoClient()\n",
    "db =client.TestDB\n",
    "test_coll = db.listtest\n",
    "test_dict = {'_id':'1','list_test':['1','2','3']}\n",
    "test_coll.insert_one(test_dict)"
   ]
  },
  {
   "cell_type": "code",
   "execution_count": 44,
   "id": "5d15bdb8",
   "metadata": {},
   "outputs": [
    {
     "data": {
      "text/plain": [
       "3"
      ]
     },
     "execution_count": 44,
     "metadata": {},
     "output_type": "execute_result"
    }
   ],
   "source": [
    "len(test_coll.find_one({})['list_test'])"
   ]
  },
  {
   "cell_type": "code",
   "execution_count": null,
   "id": "81f5723a",
   "metadata": {},
   "outputs": [],
   "source": []
  }
 ],
 "metadata": {
  "kernelspec": {
   "display_name": "Python 3 (ipykernel)",
   "language": "python",
   "name": "python3"
  },
  "language_info": {
   "codemirror_mode": {
    "name": "ipython",
    "version": 3
   },
   "file_extension": ".py",
   "mimetype": "text/x-python",
   "name": "python",
   "nbconvert_exporter": "python",
   "pygments_lexer": "ipython3",
   "version": "3.8.10"
  }
 },
 "nbformat": 4,
 "nbformat_minor": 5
}
