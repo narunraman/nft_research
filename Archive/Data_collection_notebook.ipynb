{
 "cells": [
  {
   "cell_type": "code",
   "execution_count": null,
   "id": "608d6d36",
   "metadata": {},
   "outputs": [],
   "source": [
    "%load_ext autoreload\n",
    "%autoreload 2\n",
    "\n",
    "from Openseas_Methods import *\n",
    "import networkx as nx\n",
    "import matplotlib.pyplot as plt\n",
    "import pickle\n",
    "import pygraphviz\n",
    "import random\n",
    "from pymongo import MongoClient\n",
    "from tqdm import tqdm"
   ]
  },
  {
   "cell_type": "code",
   "execution_count": null,
   "id": "06793d3d",
   "metadata": {},
   "outputs": [],
   "source": [
    "with open('top_bottom_one_week.pkl', 'rb') as f:\n",
    "    slugs = pickle.load(f)\n",
    "slugs = list(set(slugs))\n"
   ]
  },
  {
   "cell_type": "code",
   "execution_count": null,
   "id": "e09ff042",
   "metadata": {},
   "outputs": [],
   "source": [
    "from pymongo import MongoClient\n",
    "client = MongoClient()\n",
    "db =client.NFTDB\n",
    "slug_data = db.completedSlugs\n",
    "slugs = slug_data.find({},{'_id':1})\n",
    "slug_list = list(slugs)\n",
    "selected_slugs = [list(x.values())[0] for x in slug_list]\n",
    "print(selected_slugs)"
   ]
  },
  {
   "cell_type": "code",
   "execution_count": null,
   "id": "2d10ef90",
   "metadata": {},
   "outputs": [],
   "source": [
    "# selected_slugs = random.choices(slugs, k=50)\n",
    "# print(selected_slugs)\n",
    "from pymongo import MongoClient\n",
    "for slug in selected_slugs:\n",
    "    print(slug)\n",
    "    pull_sales_data(collection_slug = slug,event_type='successful',)"
   ]
  },
  {
   "cell_type": "code",
   "execution_count": null,
   "id": "fca16a0c",
   "metadata": {},
   "outputs": [],
   "source": [
    "#Flag sales in the transfer database\n",
    "from tqdm import tqdm\n",
    "transfers = db.transferCollection\n",
    "for tran in tqdm(tran_hashes):\n",
    "    transfers.update_one({\"_id\": tran}, {\"$set\": {\"Sale\": True}})"
   ]
  },
  {
   "cell_type": "code",
   "execution_count": null,
   "id": "5b821859",
   "metadata": {},
   "outputs": [],
   "source": [
    "from pymongo import MongoClient\n",
    "client = MongoClient()\n",
    "db =client.NFTDB\n",
    "sales = db.salesCollection\n",
    "bots = db.BotAddresses\n",
    "bots = bots.find({},{'_id':1})\n",
    "bot_list = list(bots)\n",
    "bot_addresses = [list(x.values())[0] for x in bot_list]\n",
    "addresses  = list(set(sales.distinct('buyer_address')+sales.distinct('seller_address')))\n",
    "add_no_bot = [x for x in addresses if x not in bot_addresses]\n",
    "add_no_bot.sort()\n",
    "find_all_nfts_for_addresses(add_no_bot[:120000],dbname='NFTDB',API_KEY=\"fa400fba3fd44574b659bb0372b8b5d9\")\n"
   ]
  },
  {
   "cell_type": "code",
   "execution_count": null,
   "id": "544e6a2f-5382-4812-9d02-d3d6dcec71a3",
   "metadata": {},
   "outputs": [],
   "source": [
    "with open('combo_per.pkl','rb') as f:\n",
    "    combo_perc = pickle.load(f)\n",
    "G = make_nft_graph(list(combo_15_perc.items()),skip_list=skip_list,min_owners=500)"
   ]
  }
 ],
 "metadata": {
  "kernelspec": {
   "display_name": "Python 3 (ipykernel)",
   "language": "python",
   "name": "python3"
  },
  "language_info": {
   "codemirror_mode": {
    "name": "ipython",
    "version": 3
   },
   "file_extension": ".py",
   "mimetype": "text/x-python",
   "name": "python",
   "nbconvert_exporter": "python",
   "pygments_lexer": "ipython3",
   "version": "3.8.10"
  }
 },
 "nbformat": 4,
 "nbformat_minor": 5
}
