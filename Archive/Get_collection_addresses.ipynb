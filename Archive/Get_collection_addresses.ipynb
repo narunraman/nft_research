{
 "cells": [
  {
   "cell_type": "code",
   "execution_count": 1,
   "id": "ed763cc0-fae2-4e0f-9aba-d5cc513ee66f",
   "metadata": {},
   "outputs": [],
   "source": [
    "%load_ext autoreload\n",
    "%autoreload 2\n",
    "from psql_methods import execute_commands\n",
    "from Openseas_Methods import *\n",
    "import networkx as nx\n",
    "import matplotlib.pyplot as plt\n",
    "import pickle\n",
    "import pygraphviz\n",
    "import random\n",
    "from pymongo import MongoClient\n",
    "from tqdm import tqdm\n",
    "from datetime import datetime\n",
    "import requests\n",
    "from PIL import Image\n",
    "from io import BytesIO\n",
    "from IPython.display import display\n",
    "import os\n",
    "import pandas as pd"
   ]
  },
  {
   "cell_type": "code",
   "execution_count": 4,
   "id": "6d16d772-c5b2-48bd-85b2-e02703d9451c",
   "metadata": {},
   "outputs": [],
   "source": [
    "with open('combo_per.pkl','rb') as f:\n",
    "   combo_perc =  pickle.load(f)\n",
    "# Extract keys and values from the dictionary\n",
    "keys = list(combo_perc.keys())\n",
    "values = list(combo_perc.values())\n",
    "\n",
    "# Create a DataFrame\n",
    "df = pd.DataFrame(keys, columns=['NFT1', 'NFT2'])\n",
    "df['Values'] = values\n",
    "new_slugs = list(df['NFT1'].unique())"
   ]
  },
  {
   "cell_type": "code",
   "execution_count": 10,
   "id": "f89f748a-4dea-4f39-aa9a-c766b4760241",
   "metadata": {},
   "outputs": [
    {
     "name": "stderr",
     "output_type": "stream",
     "text": [
      " 14%|█████▊                                  | 998/6884 [03:51<19:46,  4.96it/s]"
     ]
    },
    {
     "name": "stdout",
     "output_type": "stream",
     "text": [
      "error\n",
      "<Response [400]>\n",
      "transferred-to-base failed to find contract\n"
     ]
    },
    {
     "name": "stderr",
     "output_type": "stream",
     "text": [
      " 31%|████████████▏                          | 2152/6884 [08:20<16:13,  4.86it/s]"
     ]
    },
    {
     "name": "stdout",
     "output_type": "stream",
     "text": [
      "error\n",
      "<Response [400]>\n",
      "ready-player-cat-nft failed to find contract\n"
     ]
    },
    {
     "name": "stderr",
     "output_type": "stream",
     "text": [
      " 32%|████████████▌                          | 2210/6884 [08:33<17:41,  4.40it/s]"
     ]
    },
    {
     "name": "stdout",
     "output_type": "stream",
     "text": [
      "error\n",
      "<Response [400]>\n",
      "starlingsnft failed to find contract\n"
     ]
    },
    {
     "name": "stderr",
     "output_type": "stream",
     "text": [
      " 36%|█████████████▉                         | 2459/6884 [09:35<13:04,  5.64it/s]"
     ]
    },
    {
     "name": "stdout",
     "output_type": "stream",
     "text": [
      "error\n",
      "<Response [400]>\n",
      "dogemigos-onchain failed to find contract\n"
     ]
    },
    {
     "name": "stderr",
     "output_type": "stream",
     "text": [
      " 47%|██████████████████▎                    | 3233/6884 [12:46<15:09,  4.01it/s]"
     ]
    },
    {
     "name": "stdout",
     "output_type": "stream",
     "text": [
      "error\n",
      "<Response [400]>\n",
      "sundaymood failed to find contract\n"
     ]
    },
    {
     "name": "stderr",
     "output_type": "stream",
     "text": [
      " 61%|███████████████████████▉               | 4222/6884 [16:45<11:35,  3.83it/s]"
     ]
    },
    {
     "name": "stdout",
     "output_type": "stream",
     "text": [
      "error\n",
      "<Response [400]>\n",
      "we-are-eternal-spirits-2 failed to find contract\n"
     ]
    },
    {
     "name": "stderr",
     "output_type": "stream",
     "text": [
      " 69%|██████████████████████████▋            | 4717/6884 [18:38<07:37,  4.74it/s]"
     ]
    },
    {
     "name": "stdout",
     "output_type": "stream",
     "text": [
      "error\n",
      "<Response [400]>\n",
      "everai-heroes-duo failed to find contract\n"
     ]
    },
    {
     "name": "stderr",
     "output_type": "stream",
     "text": [
      " 71%|███████████████████████████▊           | 4913/6884 [19:31<09:46,  3.36it/s]"
     ]
    },
    {
     "name": "stdout",
     "output_type": "stream",
     "text": [
      "error\n",
      "<Response [400]>\n",
      "planet-seekers failed to find contract\n"
     ]
    },
    {
     "name": "stderr",
     "output_type": "stream",
     "text": [
      " 72%|████████████████████████████▏          | 4981/6884 [19:47<07:13,  4.39it/s]"
     ]
    },
    {
     "name": "stdout",
     "output_type": "stream",
     "text": [
      "error\n",
      "<Response [400]>\n",
      "wargames-by-far failed to find contract\n"
     ]
    },
    {
     "name": "stderr",
     "output_type": "stream",
     "text": [
      " 97%|█████████████████████████████████████▋ | 6654/6884 [26:28<00:47,  4.87it/s]"
     ]
    },
    {
     "name": "stdout",
     "output_type": "stream",
     "text": [
      "error\n",
      "<Response [400]>\n",
      "dname failed to find contract\n"
     ]
    },
    {
     "name": "stderr",
     "output_type": "stream",
     "text": [
      "100%|███████████████████████████████████████| 6884/6884 [27:23<00:00,  4.19it/s]\n"
     ]
    }
   ],
   "source": [
    "for slug in tqdm(new_slugs):\n",
    "    pull_nft_contracts(slug)"
   ]
  },
  {
   "cell_type": "code",
   "execution_count": null,
   "id": "a442b67e-8903-40f3-95df-f13d8f0fbc48",
   "metadata": {},
   "outputs": [],
   "source": []
  }
 ],
 "metadata": {
  "kernelspec": {
   "display_name": "Python 3 (ipykernel)",
   "language": "python",
   "name": "python3"
  },
  "language_info": {
   "codemirror_mode": {
    "name": "ipython",
    "version": 3
   },
   "file_extension": ".py",
   "mimetype": "text/x-python",
   "name": "python",
   "nbconvert_exporter": "python",
   "pygments_lexer": "ipython3",
   "version": "3.8.10"
  }
 },
 "nbformat": 4,
 "nbformat_minor": 5
}
