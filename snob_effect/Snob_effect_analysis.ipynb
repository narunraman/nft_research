{
 "cells": [
  {
   "cell_type": "code",
   "execution_count": 2,
   "id": "d08171bf-68ea-424b-840c-33fd95cc7a88",
   "metadata": {},
   "outputs": [],
   "source": [
    "%load_ext autoreload\n",
    "%autoreload 2\n",
    "import feature_extract\n",
    "import sys\n",
    "sys.path.append(\"..\")\n",
    "import torch\n",
    "import psql_methods as psql\n",
    "import pickle\n",
    "import alchemy_methods as alc\n",
    "from tqdm import tqdm\n",
    "import numpy as np\n",
    "from more_itertools import chunked\n",
    "import pandas as pd\n",
    "import snob_utils as snob"
   ]
  },
  {
   "cell_type": "markdown",
   "id": "54933d96-b57c-4697-9270-3d5d98331681",
   "metadata": {},
   "source": [
    "The goal of this notebook is to evaluate how effective aesthetic dissimilarity is at predicting sale value"
   ]
  },
  {
   "cell_type": "code",
   "execution_count": 3,
   "id": "6b8522a7-ba33-47c5-950b-97e86a091148",
   "metadata": {},
   "outputs": [
    {
     "name": "stdout",
     "output_type": "stream",
     "text": [
      "Dataset ReturnIndexDataset\n",
      "    Number of datapoints: 373074\n",
      "    Root location: /global/scratch/tlundy/NFT_Research/nft_research/Dino/expanded_images/val\n"
     ]
    },
    {
     "name": "stderr",
     "output_type": "stream",
     "text": [
      "100%|████████████████████████████████████████| 1184/1184 [00:02<00:00, 429.86it/s]\n"
     ]
    },
    {
     "data": {
      "text/html": [
       "<div>\n",
       "<style scoped>\n",
       "    .dataframe tbody tr th:only-of-type {\n",
       "        vertical-align: middle;\n",
       "    }\n",
       "\n",
       "    .dataframe tbody tr th {\n",
       "        vertical-align: top;\n",
       "    }\n",
       "\n",
       "    .dataframe thead th {\n",
       "        text-align: right;\n",
       "    }\n",
       "</style>\n",
       "<table border=\"1\" class=\"dataframe\">\n",
       "  <thead>\n",
       "    <tr style=\"text-align: right;\">\n",
       "      <th></th>\n",
       "      <th>Label</th>\n",
       "      <th>Collection</th>\n",
       "      <th>NFT_num</th>\n",
       "      <th>Contract</th>\n",
       "      <th>sale_price</th>\n",
       "      <th>distance</th>\n",
       "    </tr>\n",
       "  </thead>\n",
       "  <tbody>\n",
       "    <tr>\n",
       "      <th>0</th>\n",
       "      <td>0</td>\n",
       "      <td>0-project</td>\n",
       "      <td>102</td>\n",
       "      <td>0x69be2c18a3c7acd14d5114a66f2dad3e96150427</td>\n",
       "      <td>0.096525</td>\n",
       "      <td>0.490676</td>\n",
       "    </tr>\n",
       "    <tr>\n",
       "      <th>1</th>\n",
       "      <td>0</td>\n",
       "      <td>0-project</td>\n",
       "      <td>103</td>\n",
       "      <td>0x69be2c18a3c7acd14d5114a66f2dad3e96150427</td>\n",
       "      <td>0.038415</td>\n",
       "      <td>0.368442</td>\n",
       "    </tr>\n",
       "    <tr>\n",
       "      <th>2</th>\n",
       "      <td>0</td>\n",
       "      <td>0-project</td>\n",
       "      <td>104</td>\n",
       "      <td>0x69be2c18a3c7acd14d5114a66f2dad3e96150427</td>\n",
       "      <td>0.034688</td>\n",
       "      <td>0.512769</td>\n",
       "    </tr>\n",
       "    <tr>\n",
       "      <th>3</th>\n",
       "      <td>0</td>\n",
       "      <td>0-project</td>\n",
       "      <td>106</td>\n",
       "      <td>0x69be2c18a3c7acd14d5114a66f2dad3e96150427</td>\n",
       "      <td>0.022950</td>\n",
       "      <td>0.542099</td>\n",
       "    </tr>\n",
       "    <tr>\n",
       "      <th>4</th>\n",
       "      <td>0</td>\n",
       "      <td>0-project</td>\n",
       "      <td>108</td>\n",
       "      <td>0x69be2c18a3c7acd14d5114a66f2dad3e96150427</td>\n",
       "      <td>0.035188</td>\n",
       "      <td>0.482177</td>\n",
       "    </tr>\n",
       "    <tr>\n",
       "      <th>...</th>\n",
       "      <td>...</td>\n",
       "      <td>...</td>\n",
       "      <td>...</td>\n",
       "      <td>...</td>\n",
       "      <td>...</td>\n",
       "      <td>...</td>\n",
       "    </tr>\n",
       "    <tr>\n",
       "      <th>227196</th>\n",
       "      <td>1263</td>\n",
       "      <td>zombieclub-token</td>\n",
       "      <td>6645</td>\n",
       "      <td>0x9c80777cae192e5031c38a0d951c55730ecc3f5e</td>\n",
       "      <td>1.932220</td>\n",
       "      <td>0.659015</td>\n",
       "    </tr>\n",
       "    <tr>\n",
       "      <th>227197</th>\n",
       "      <td>1263</td>\n",
       "      <td>zombieclub-token</td>\n",
       "      <td>6651</td>\n",
       "      <td>0x9c80777cae192e5031c38a0d951c55730ecc3f5e</td>\n",
       "      <td>2.271000</td>\n",
       "      <td>0.560017</td>\n",
       "    </tr>\n",
       "    <tr>\n",
       "      <th>227198</th>\n",
       "      <td>1263</td>\n",
       "      <td>zombieclub-token</td>\n",
       "      <td>956</td>\n",
       "      <td>0x9c80777cae192e5031c38a0d951c55730ecc3f5e</td>\n",
       "      <td>2.770620</td>\n",
       "      <td>0.609922</td>\n",
       "    </tr>\n",
       "    <tr>\n",
       "      <th>227199</th>\n",
       "      <td>1263</td>\n",
       "      <td>zombieclub-token</td>\n",
       "      <td>958</td>\n",
       "      <td>0x9c80777cae192e5031c38a0d951c55730ecc3f5e</td>\n",
       "      <td>2.407260</td>\n",
       "      <td>0.637645</td>\n",
       "    </tr>\n",
       "    <tr>\n",
       "      <th>227200</th>\n",
       "      <td>1263</td>\n",
       "      <td>zombieclub-token</td>\n",
       "      <td>961</td>\n",
       "      <td>0x9c80777cae192e5031c38a0d951c55730ecc3f5e</td>\n",
       "      <td>3.894008</td>\n",
       "      <td>0.813670</td>\n",
       "    </tr>\n",
       "  </tbody>\n",
       "</table>\n",
       "<p>227201 rows × 6 columns</p>\n",
       "</div>"
      ],
      "text/plain": [
       "        Label        Collection NFT_num  \\\n",
       "0           0         0-project     102   \n",
       "1           0         0-project     103   \n",
       "2           0         0-project     104   \n",
       "3           0         0-project     106   \n",
       "4           0         0-project     108   \n",
       "...       ...               ...     ...   \n",
       "227196   1263  zombieclub-token    6645   \n",
       "227197   1263  zombieclub-token    6651   \n",
       "227198   1263  zombieclub-token     956   \n",
       "227199   1263  zombieclub-token     958   \n",
       "227200   1263  zombieclub-token     961   \n",
       "\n",
       "                                          Contract  sale_price  distance  \n",
       "0       0x69be2c18a3c7acd14d5114a66f2dad3e96150427    0.096525  0.490676  \n",
       "1       0x69be2c18a3c7acd14d5114a66f2dad3e96150427    0.038415  0.368442  \n",
       "2       0x69be2c18a3c7acd14d5114a66f2dad3e96150427    0.034688  0.512769  \n",
       "3       0x69be2c18a3c7acd14d5114a66f2dad3e96150427    0.022950  0.542099  \n",
       "4       0x69be2c18a3c7acd14d5114a66f2dad3e96150427    0.035188  0.482177  \n",
       "...                                            ...         ...       ...  \n",
       "227196  0x9c80777cae192e5031c38a0d951c55730ecc3f5e    1.932220  0.659015  \n",
       "227197  0x9c80777cae192e5031c38a0d951c55730ecc3f5e    2.271000  0.560017  \n",
       "227198  0x9c80777cae192e5031c38a0d951c55730ecc3f5e    2.770620  0.609922  \n",
       "227199  0x9c80777cae192e5031c38a0d951c55730ecc3f5e    2.407260  0.637645  \n",
       "227200  0x9c80777cae192e5031c38a0d951c55730ecc3f5e    3.894008  0.813670  \n",
       "\n",
       "[227201 rows x 6 columns]"
      ]
     },
     "execution_count": 3,
     "metadata": {},
     "output_type": "execute_result"
    }
   ],
   "source": [
    "df1 = snob.create_snob_df('expanded_images','expanded_features')\n",
    "df1"
   ]
  },
  {
   "cell_type": "code",
   "execution_count": 4,
   "id": "e31a52ea-3773-4815-9e2d-f7e379cc405f",
   "metadata": {},
   "outputs": [
    {
     "name": "stdout",
     "output_type": "stream",
     "text": [
      "Dataset ReturnIndexDataset\n",
      "    Number of datapoints: 846346\n",
      "    Root location: /global/scratch/tlundy/NFT_Research/nft_research/Dino/images/val\n"
     ]
    },
    {
     "name": "stderr",
     "output_type": "stream",
     "text": [
      "100%|████████████████████████████████████████| 1265/1265 [00:02<00:00, 430.53it/s]\n"
     ]
    }
   ],
   "source": [
    "df2 = snob.create_snob_df('images','features')\n"
   ]
  },
  {
   "cell_type": "code",
   "execution_count": 5,
   "id": "9538eded-5afa-49ad-aced-dcee101bbe6a",
   "metadata": {},
   "outputs": [
    {
     "name": "stdout",
     "output_type": "stream",
     "text": [
      "4221\n"
     ]
    }
   ],
   "source": [
    "command = \"select distinct slug from slug_to_type where type='pfps'\"\n",
    "rows = psql.execute_commands([command])\n",
    "rows = [x[0] for x in rows]\n",
    "print(len(rows))"
   ]
  },
  {
   "cell_type": "code",
   "execution_count": 6,
   "id": "ea85f3ac-3a20-42c4-b04c-4854369c74c1",
   "metadata": {},
   "outputs": [
    {
     "data": {
      "text/html": [
       "<div>\n",
       "<style scoped>\n",
       "    .dataframe tbody tr th:only-of-type {\n",
       "        vertical-align: middle;\n",
       "    }\n",
       "\n",
       "    .dataframe tbody tr th {\n",
       "        vertical-align: top;\n",
       "    }\n",
       "\n",
       "    .dataframe thead th {\n",
       "        text-align: right;\n",
       "    }\n",
       "</style>\n",
       "<table border=\"1\" class=\"dataframe\">\n",
       "  <thead>\n",
       "    <tr style=\"text-align: right;\">\n",
       "      <th></th>\n",
       "      <th>Label</th>\n",
       "      <th>Collection</th>\n",
       "      <th>NFT_num</th>\n",
       "      <th>Contract</th>\n",
       "      <th>sale_price</th>\n",
       "      <th>distance</th>\n",
       "    </tr>\n",
       "  </thead>\n",
       "  <tbody>\n",
       "    <tr>\n",
       "      <th>0</th>\n",
       "      <td>0</td>\n",
       "      <td>0-project</td>\n",
       "      <td>102</td>\n",
       "      <td>0x69be2c18a3c7acd14d5114a66f2dad3e96150427</td>\n",
       "      <td>0.096525</td>\n",
       "      <td>0.490676</td>\n",
       "    </tr>\n",
       "    <tr>\n",
       "      <th>1</th>\n",
       "      <td>0</td>\n",
       "      <td>0-project</td>\n",
       "      <td>103</td>\n",
       "      <td>0x69be2c18a3c7acd14d5114a66f2dad3e96150427</td>\n",
       "      <td>0.038415</td>\n",
       "      <td>0.368442</td>\n",
       "    </tr>\n",
       "    <tr>\n",
       "      <th>2</th>\n",
       "      <td>0</td>\n",
       "      <td>0-project</td>\n",
       "      <td>104</td>\n",
       "      <td>0x69be2c18a3c7acd14d5114a66f2dad3e96150427</td>\n",
       "      <td>0.034688</td>\n",
       "      <td>0.512769</td>\n",
       "    </tr>\n",
       "    <tr>\n",
       "      <th>3</th>\n",
       "      <td>0</td>\n",
       "      <td>0-project</td>\n",
       "      <td>106</td>\n",
       "      <td>0x69be2c18a3c7acd14d5114a66f2dad3e96150427</td>\n",
       "      <td>0.022950</td>\n",
       "      <td>0.542099</td>\n",
       "    </tr>\n",
       "    <tr>\n",
       "      <th>4</th>\n",
       "      <td>0</td>\n",
       "      <td>0-project</td>\n",
       "      <td>108</td>\n",
       "      <td>0x69be2c18a3c7acd14d5114a66f2dad3e96150427</td>\n",
       "      <td>0.035188</td>\n",
       "      <td>0.482177</td>\n",
       "    </tr>\n",
       "    <tr>\n",
       "      <th>...</th>\n",
       "      <td>...</td>\n",
       "      <td>...</td>\n",
       "      <td>...</td>\n",
       "      <td>...</td>\n",
       "      <td>...</td>\n",
       "      <td>...</td>\n",
       "    </tr>\n",
       "    <tr>\n",
       "      <th>468618</th>\n",
       "      <td>3428</td>\n",
       "      <td>zombieclub-token</td>\n",
       "      <td>6614</td>\n",
       "      <td>0x9c80777cae192e5031c38a0d951c55730ecc3f5e</td>\n",
       "      <td>1.534742</td>\n",
       "      <td>0.612652</td>\n",
       "    </tr>\n",
       "    <tr>\n",
       "      <th>468619</th>\n",
       "      <td>3428</td>\n",
       "      <td>zombieclub-token</td>\n",
       "      <td>6628</td>\n",
       "      <td>0x9c80777cae192e5031c38a0d951c55730ecc3f5e</td>\n",
       "      <td>2.425428</td>\n",
       "      <td>0.712623</td>\n",
       "    </tr>\n",
       "    <tr>\n",
       "      <th>468620</th>\n",
       "      <td>3428</td>\n",
       "      <td>zombieclub-token</td>\n",
       "      <td>6640</td>\n",
       "      <td>0x9c80777cae192e5031c38a0d951c55730ecc3f5e</td>\n",
       "      <td>1.253140</td>\n",
       "      <td>0.687746</td>\n",
       "    </tr>\n",
       "    <tr>\n",
       "      <th>468621</th>\n",
       "      <td>3428</td>\n",
       "      <td>zombieclub-token</td>\n",
       "      <td>969</td>\n",
       "      <td>0x9c80777cae192e5031c38a0d951c55730ecc3f5e</td>\n",
       "      <td>2.493558</td>\n",
       "      <td>0.618565</td>\n",
       "    </tr>\n",
       "    <tr>\n",
       "      <th>468622</th>\n",
       "      <td>3428</td>\n",
       "      <td>zombieclub-token</td>\n",
       "      <td>986</td>\n",
       "      <td>0x9c80777cae192e5031c38a0d951c55730ecc3f5e</td>\n",
       "      <td>1.648898</td>\n",
       "      <td>0.762690</td>\n",
       "    </tr>\n",
       "  </tbody>\n",
       "</table>\n",
       "<p>468623 rows × 6 columns</p>\n",
       "</div>"
      ],
      "text/plain": [
       "        Label        Collection NFT_num  \\\n",
       "0           0         0-project     102   \n",
       "1           0         0-project     103   \n",
       "2           0         0-project     104   \n",
       "3           0         0-project     106   \n",
       "4           0         0-project     108   \n",
       "...       ...               ...     ...   \n",
       "468618   3428  zombieclub-token    6614   \n",
       "468619   3428  zombieclub-token    6628   \n",
       "468620   3428  zombieclub-token    6640   \n",
       "468621   3428  zombieclub-token     969   \n",
       "468622   3428  zombieclub-token     986   \n",
       "\n",
       "                                          Contract  sale_price  distance  \n",
       "0       0x69be2c18a3c7acd14d5114a66f2dad3e96150427    0.096525  0.490676  \n",
       "1       0x69be2c18a3c7acd14d5114a66f2dad3e96150427    0.038415  0.368442  \n",
       "2       0x69be2c18a3c7acd14d5114a66f2dad3e96150427    0.034688  0.512769  \n",
       "3       0x69be2c18a3c7acd14d5114a66f2dad3e96150427    0.022950  0.542099  \n",
       "4       0x69be2c18a3c7acd14d5114a66f2dad3e96150427    0.035188  0.482177  \n",
       "...                                            ...         ...       ...  \n",
       "468618  0x9c80777cae192e5031c38a0d951c55730ecc3f5e    1.534742  0.612652  \n",
       "468619  0x9c80777cae192e5031c38a0d951c55730ecc3f5e    2.425428  0.712623  \n",
       "468620  0x9c80777cae192e5031c38a0d951c55730ecc3f5e    1.253140  0.687746  \n",
       "468621  0x9c80777cae192e5031c38a0d951c55730ecc3f5e    2.493558  0.618565  \n",
       "468622  0x9c80777cae192e5031c38a0d951c55730ecc3f5e    1.648898  0.762690  \n",
       "\n",
       "[468623 rows x 6 columns]"
      ]
     },
     "execution_count": 6,
     "metadata": {},
     "output_type": "execute_result"
    }
   ],
   "source": [
    "total_df =pd.concat([df1, df2], ignore_index=True)\n",
    "total_df"
   ]
  },
  {
   "cell_type": "code",
   "execution_count": null,
   "id": "b7d82576",
   "metadata": {},
   "outputs": [],
   "source": [
    "command = \"Select contract,token_id,rank from nft_to_rarity_2\"\n",
    "rarities = psql.execute_commands([command])\n",
    "\n",
    "# print(rarities)\n",
    "# Column names for the DataFrame\n",
    "\n",
    "columns = ['Contract', 'NFT_num', 'rarity_rank']\n",
    "# Create a DataFrame from the list of tuples\n",
    "df_rare = pd.DataFrame(rarities, columns=columns)\n",
    "merged_df_rare = pd.merge(df_rare, total_df, on=['Contract','NFT_num'])"
   ]
  },
  {
   "cell_type": "code",
   "execution_count": 8,
   "id": "2abc8ab6-22e5-4401-92d8-7271848b10e0",
   "metadata": {},
   "outputs": [
    {
     "ename": "NameError",
     "evalue": "name 'df_rare' is not defined",
     "output_type": "error",
     "traceback": [
      "\u001b[0;31m---------------------------------------------------------------------------\u001b[0m",
      "\u001b[0;31mNameError\u001b[0m                                 Traceback (most recent call last)",
      "Cell \u001b[0;32mIn[8], line 1\u001b[0m\n\u001b[0;32m----> 1\u001b[0m merged_df \u001b[38;5;241m=\u001b[39m pd\u001b[38;5;241m.\u001b[39mmerge(total_df, \u001b[43mdf_rare\u001b[49m, on\u001b[38;5;241m=\u001b[39mcolumns_to_compare, how\u001b[38;5;241m=\u001b[39m\u001b[38;5;124m'\u001b[39m\u001b[38;5;124mouter\u001b[39m\u001b[38;5;124m'\u001b[39m, indicator\u001b[38;5;241m=\u001b[39m\u001b[38;5;28;01mTrue\u001b[39;00m)\n\u001b[1;32m      3\u001b[0m \u001b[38;5;66;03m# Filter rows that are only in df1\u001b[39;00m\n\u001b[1;32m      4\u001b[0m coll_to_rare \u001b[38;5;241m=\u001b[39m merged_df[merged_df[\u001b[38;5;124m'\u001b[39m\u001b[38;5;124m_merge\u001b[39m\u001b[38;5;124m'\u001b[39m] \u001b[38;5;241m==\u001b[39m \u001b[38;5;124m'\u001b[39m\u001b[38;5;124mleft_only\u001b[39m\u001b[38;5;124m'\u001b[39m]\u001b[38;5;241m.\u001b[39mdrop(\u001b[38;5;124m'\u001b[39m\u001b[38;5;124m_merge\u001b[39m\u001b[38;5;124m'\u001b[39m, axis\u001b[38;5;241m=\u001b[39m\u001b[38;5;241m1\u001b[39m)\n",
      "\u001b[0;31mNameError\u001b[0m: name 'df_rare' is not defined"
     ]
    }
   ],
   "source": [
    "merged_df = pd.merge(total_df, df_rare, on=columns_to_compare, how='outer', indicator=True)\n",
    "\n",
    "# Filter rows that are only in df1\n",
    "coll_to_rare = merged_df[merged_df['_merge'] == 'left_only'].drop('_merge', axis=1)\n",
    "coll_to_rare = coll_to_rare.groupby('Collection').filter(lambda group: len(group) >= 100)\n",
    "coll_to_rare['Collection'].value_counts()"
   ]
  },
  {
   "cell_type": "code",
   "execution_count": 14,
   "id": "dad70837-9fd0-4c0d-ae61-7c8914af04fc",
   "metadata": {},
   "outputs": [
    {
     "name": "stderr",
     "output_type": "stream",
     "text": [
      "  0%|                                                    | 0/1265 [00:00<?, ?it/s]/global/scratch/tlundy/NFT_Research/nft_venv/lib/python3.8/site-packages/scipy/stats/_stats_py.py:4424: ConstantInputWarning: An input array is constant; the correlation coefficient is not defined.\n",
      "  warnings.warn(stats.ConstantInputWarning(msg))\n",
      " 12%|████▉                                    | 153/1265 [00:00<00:01, 787.38it/s]"
     ]
    },
    {
     "name": "stdout",
     "output_type": "stream",
     "text": [
      "Collection: 0xapes-trilogy, Correlation: 0.1447800918783596, P-Value:0.0009843014819011014\n",
      "Collection: 2545bygr4y, Correlation: 0.2461209991006064, P-Value:0.0001427018162294507\n",
      "Collection: 3l3phants-official, Correlation: 0.28497539686385676, P-Value:4.479243226606441e-06\n",
      "Collection: 8bituniverse, Correlation: 0.3250175525890116, P-Value:1.337735628272056e-10\n",
      "Collection: 8pes-dvnci, Correlation: 0.18312921692015202, P-Value:1.2277883494050162e-05\n",
      "Collection: 8sian-main-collection, Correlation: 0.20626667820946784, P-Value:6.241109732483733e-06\n",
      "Collection: akc, Correlation: 0.2329380238050589, P-Value:3.7686924695964404e-08\n",
      "Collection: akidcalledbeast, Correlation: 0.1594224797227827, P-Value:0.0005911326660191867\n",
      "Collection: akumu-dragonz, Correlation: 0.12729700817635092, P-Value:0.013133826431337063\n",
      "Collection: akutars, Correlation: 0.13670273040014225, P-Value:0.030376778159757135\n",
      "Collection: alienfrensnft, Correlation: 0.09150637179568798, P-Value:0.030675684756005753\n",
      "Collection: alinft-official, Correlation: 0.12324132146447729, P-Value:0.0331515896884731\n",
      "Collection: alleykatzofficial, Correlation: 0.21416874764240573, P-Value:3.9406035579758295e-06\n",
      "Collection: alpacadabraz, Correlation: 0.10671260390236137, P-Value:0.020671868640022347\n",
      "Collection: alphabetty-doodles, Correlation: 0.19137998127680642, P-Value:8.233141588891817e-05\n",
      "Collection: alphaelementary, Correlation: 0.1701036028586495, P-Value:0.00028462581423371246\n",
      "Collection: alphagirlclub, Correlation: 0.1393093088642857, P-Value:0.008211923443280285\n",
      "Collection: angels-of-aether, Correlation: 0.1905559052335361, P-Value:0.0009275957073085334\n",
      "Collection: angryapes-society-nft, Correlation: 0.1567704127498692, P-Value:0.00016468851360347913\n",
      "Collection: animetas, Correlation: 0.12117003393960676, P-Value:0.0053477916484575465\n",
      "Collection: antonymgenesis, Correlation: 0.13804292473946214, P-Value:0.0017981558750263587\n",
      "Collection: ape-mfers, Correlation: 0.1958371154230746, P-Value:9.882439901661047e-06\n",
      "Collection: apedogwtf, Correlation: 0.13345870837352186, P-Value:0.0058011458498941825\n",
      "Collection: atsui, Correlation: 0.1827007287609575, P-Value:2.3180204088985768e-05\n",
      "Collection: av-yacht-club, Correlation: 0.5188229515358173, P-Value:8.462289540231855e-16\n",
      "Collection: avius-animae, Correlation: 0.13021995422012306, P-Value:0.002848664234484053\n",
      "Collection: axolittles, Correlation: 0.31731547071486926, P-Value:9.979641836945154e-07\n",
      "Collection: babobunnyclub, Correlation: 0.30789731056246405, P-Value:3.6468699467171996e-08\n",
      "Collection: barn-owlz, Correlation: 0.18286369123933102, P-Value:3.828562756366295e-05\n",
      "Collection: based-ghouls, Correlation: 0.15672455654157588, P-Value:0.0013789464000435502\n",
      "Collection: bastard-penguins, Correlation: 0.11433571548723832, P-Value:0.014901510753692039\n",
      "Collection: batdadmigo, Correlation: 0.2724779422427329, P-Value:0.003978928214711699\n",
      "Collection: bbrcofficial-ivyboys, Correlation: 0.16751474704983751, P-Value:0.00012040882217345549\n",
      "Collection: bbyc-bored-bits-yacht-club, Correlation: 0.1576977589681715, P-Value:0.0004117233535295017\n",
      "Collection: beanzofficial, Correlation: 0.24392743317006224, P-Value:2.943861785753981e-07\n",
      "Collection: bearmarketbears, Correlation: 0.3653615352555283, P-Value:2.751401596370272e-11\n",
      "Collection: beartings, Correlation: 0.3217080467580014, P-Value:1.498405228071636e-13\n",
      "Collection: ben-mezrich-project-meme-stock, Correlation: 0.12458016657309852, P-Value:0.02426181626389\n",
      "Collection: bestfriend-collection, Correlation: 0.1596861961082942, P-Value:0.0003767666432202285\n",
      "Collection: binkies, Correlation: 0.3785272986280862, P-Value:4.258274771085776e-16\n",
      "Collection: bitcoinbirdsofficial, Correlation: 0.16846832493886807, P-Value:0.0008371562580348214\n",
      "Collection: bokinftofficial, Correlation: 0.09088640270218053, P-Value:0.03018156968669476\n",
      "Collection: boonjiproject, Correlation: 0.08881339921568325, P-Value:0.04520365298438353\n",
      "Collection: bored-mummy-waking-up, Correlation: 0.4580631227789721, P-Value:9.08731782954035e-28\n",
      "Collection: boredgorillayachtclub, Correlation: 0.18257198038011124, P-Value:1.705386300352017e-05\n",
      "Collection: boredpepeyc, Correlation: 0.13481393469436542, P-Value:0.023314086099026535\n",
      "Collection: boring-bananas-company, Correlation: 0.1165536537402145, P-Value:0.017949201891773504\n",
      "Collection: btfdrabbits, Correlation: 0.18138840380743787, P-Value:8.368868548505026e-05\n",
      "Collection: bubblegumkids, Correlation: 0.14223094276631912, P-Value:0.0019292504240678169\n",
      "Collection: buildanape, Correlation: 0.2658594548136468, P-Value:0.005878341826143437\n",
      "Collection: bullsandapes-genesis, Correlation: 0.21136305618332527, P-Value:0.00027533876341166984\n",
      "Collection: bus-stop, Correlation: 0.12142666434054891, P-Value:0.021018590396597998\n"
     ]
    },
    {
     "name": "stderr",
     "output_type": "stream",
     "text": [
      " 27%|███████████                              | 342/1265 [00:00<00:01, 892.02it/s]"
     ]
    },
    {
     "name": "stdout",
     "output_type": "stream",
     "text": [
      "Collection: buttheads-real, Correlation: 0.16047227840282616, P-Value:0.006631709656534166\n",
      "Collection: camelsnftio, Correlation: 0.10021427900505987, P-Value:0.04008896722823258\n",
      "Collection: cartoonsnft, Correlation: 0.264544797713731, P-Value:2.93739046251529e-09\n",
      "Collection: castle-kid-colin-tilley, Correlation: 0.11504409791489631, P-Value:0.020415077217025828\n",
      "Collection: casual-sloths-official, Correlation: 0.104790675970556, P-Value:0.016828699610020755\n",
      "Collection: catbloxgenesis, Correlation: 0.21692916739276233, P-Value:1.4899336913155323e-06\n",
      "Collection: catbloxpumacapsule, Correlation: 0.26378379561683724, P-Value:1.8100818540541806e-07\n",
      "Collection: catc, Correlation: 0.3002869448604096, P-Value:1.3898494293360771e-06\n",
      "Collection: cerealclub, Correlation: 0.2710129596985372, P-Value:8.692307887460384e-08\n",
      "Collection: chain-runners-nft, Correlation: 0.12595434131200953, P-Value:0.010591392503897172\n",
      "Collection: chaoscityresidents, Correlation: 0.18903985904325427, P-Value:5.2448878264212865e-05\n",
      "Collection: checks-art-history, Correlation: 0.19589766736353376, P-Value:1.6061505840209757e-05\n",
      "Collection: cheebs-nft-official, Correlation: 0.17817748225425312, P-Value:2.6814158782542945e-05\n",
      "Collection: cheers-up, Correlation: 0.18512199024504802, P-Value:0.0016653780903543214\n",
      "Collection: chibi-apes, Correlation: 0.1853768306075212, P-Value:1.125628263632579e-05\n",
      "Collection: childrenofukiyoofficial, Correlation: 0.26097423534955855, P-Value:1.999147494207435e-08\n",
      "Collection: chill-frogs, Correlation: 0.10614738408206005, P-Value:0.01555418616491966\n",
      "Collection: chippys-world, Correlation: 0.3139669780587857, P-Value:9.226006660455491e-11\n",
      "Collection: chubbiverse-frens, Correlation: 0.12262177586911133, P-Value:0.014005863593477445\n",
      "Collection: chubbykaijudao, Correlation: 0.35556527186160586, P-Value:8.826639941480435e-16\n",
      "Collection: citizenz-nft, Correlation: 0.16890364209560396, P-Value:0.00023465141786967926\n",
      "Collection: commsaur, Correlation: 0.2637295389152385, P-Value:2.2318744624995746e-06\n",
      "Collection: cool-cats-nft, Correlation: 0.11246587377218356, P-Value:0.0098392510091859\n",
      "Collection: cooldogsofficial, Correlation: 0.29052113510300703, P-Value:7.945974491510649e-12\n",
      "Collection: coolpetsnft, Correlation: 0.3364607987710318, P-Value:5.277004661929766e-11\n",
      "Collection: corntownofficial, Correlation: 0.1059287998345247, P-Value:0.014052884520277233\n",
      "Collection: cosmiccatsofficial, Correlation: 0.1310221433770809, P-Value:0.006768925800491486\n",
      "Collection: cosmodinos-omega, Correlation: 0.23423591383861816, P-Value:1.657350046684758e-07\n",
      "Collection: crazy-lizard-army, Correlation: 0.1546190886781442, P-Value:0.002057474739072663\n",
      "Collection: crecodiles, Correlation: 0.2317465018098425, P-Value:0.0003609311044789916\n",
      "Collection: creepy-friends-by-nft-booster, Correlation: 0.14964928955318937, P-Value:0.025766861195778295\n",
      "Collection: croakz-v2-1, Correlation: 0.2456224391134458, P-Value:6.443099810153809e-09\n",
      "Collection: crypto-hobos, Correlation: 0.2866887927130588, P-Value:2.6402306345233483e-10\n",
      "Collection: crypto-hodlers-nft, Correlation: 0.3367044062494873, P-Value:3.816600449792274e-09\n",
      "Collection: crypto-pills-by-micha-klein, Correlation: 0.21381234005331276, P-Value:9.277918516419427e-05\n",
      "Collection: cryptoadpunks, Correlation: 0.15447989688847671, P-Value:0.00547018820396732\n",
      "Collection: cryptobatz-by-ozzy-osbourne, Correlation: 0.23681802457006096, P-Value:1.6166847649930403e-07\n",
      "Collection: cryptocannabisclub, Correlation: 0.12182218573361506, P-Value:0.007731330413621874\n",
      "Collection: cryptocoven, Correlation: 0.15658081107808589, P-Value:0.0028145628752807073\n",
      "Collection: cryptodickbutts-s3, Correlation: 0.23240752753765984, P-Value:5.370422945263248e-07\n",
      "Collection: cryptomutts-official, Correlation: 0.20187946346232097, P-Value:0.00023827897376498363\n",
      "Collection: cupcatsofficial, Correlation: 0.21483398165012124, P-Value:6.901743584933614e-07\n",
      "Collection: currencypunks, Correlation: 0.18187211767248518, P-Value:0.001397675883150586\n",
      "Collection: cyberfrogz, Correlation: 0.09478572620679979, P-Value:0.04567499921673278\n",
      "Collection: cyberkongz-vx, Correlation: 0.09560091543204632, P-Value:0.04969650526485656\n",
      "Collection: darkflex, Correlation: 0.12944487690942455, P-Value:0.002604397411405629\n",
      "Collection: deaddegens, Correlation: 0.24184603839179633, P-Value:6.980260292895455e-09\n",
      "Collection: deadheads, Correlation: 0.2410717589799037, P-Value:6.568080223341339e-08\n",
      "Collection: degenerate-regenerate, Correlation: 0.17703248149941808, P-Value:0.00018646159738017472\n",
      "Collection: derage, Correlation: 0.30683932717170503, P-Value:1.6067962560759303e-13\n",
      "Collection: devilvalley, Correlation: 0.4480384792110197, P-Value:1.2521314443889201e-27\n",
      "Collection: dicklebutts, Correlation: 0.16223471149491048, P-Value:0.0015078701106868088\n",
      "Collection: dinks, Correlation: 0.11837215471467351, P-Value:0.009363453223558338\n",
      "Collection: dippies, Correlation: 0.144637572218163, P-Value:0.0006915517845178919\n",
      "Collection: dirtbirdswtf, Correlation: 0.0932022553583379, P-Value:0.028268340395325327\n",
      "Collection: dirtybird-flight-club, Correlation: 0.13622368031862722, P-Value:0.006492645260765336\n"
     ]
    },
    {
     "name": "stderr",
     "output_type": "stream",
     "text": [
      " 43%|█████████████████▌                       | 542/1265 [00:00<00:00, 947.69it/s]"
     ]
    },
    {
     "name": "stdout",
     "output_type": "stream",
     "text": [
      "Collection: divineanarchy, Correlation: 0.11431245053527128, P-Value:0.01084069941944033\n",
      "Collection: doadz, Correlation: 0.15124396840324789, P-Value:0.002819620755747219\n",
      "Collection: dodofrensxyz, Correlation: 0.3039429227629261, P-Value:4.8082880593112354e-09\n",
      "Collection: dogeclub-dogc, Correlation: 0.16294395890372787, P-Value:0.00020429180680740967\n",
      "Collection: dogs-unchained, Correlation: 0.26071257173913737, P-Value:1.3273983274613332e-05\n",
      "Collection: doodle-apes-society-das, Correlation: 0.1412277923376367, P-Value:0.006507890892285733\n",
      "Collection: doodlefrensnft, Correlation: 0.17594812872185306, P-Value:0.001809968136082569\n",
      "Collection: doodles-official, Correlation: 0.3336055178571356, P-Value:3.230033971335644e-15\n",
      "Collection: doomers-degen-den, Correlation: 0.1885579592671693, P-Value:0.0037921976712669324\n",
      "Collection: dourdarcels, Correlation: 0.09098294004192242, P-Value:0.042409823935680956\n",
      "Collection: dr-ethvils-3d-frankenpunks, Correlation: 0.17576781702251634, P-Value:8.308003192233981e-05\n",
      "Collection: dragon-town-wtf, Correlation: 0.6212345031254684, P-Value:7.891944767961881e-42\n",
      "Collection: dreamzukinft, Correlation: 0.09325193480084287, P-Value:0.042647238517765355\n",
      "Collection: dropbearsnft, Correlation: 0.1421190090597142, P-Value:0.015433086407004328\n",
      "Collection: dropoutz-nft, Correlation: 0.16208434618541864, P-Value:0.005748767457270503\n",
      "Collection: elven, Correlation: 0.14784119306476162, P-Value:0.006313467308955855\n",
      "Collection: ensmaxis, Correlation: 0.11664650790715694, P-Value:0.008179385028102714\n",
      "Collection: escape-the-agenda-official, Correlation: 0.22852839523344728, P-Value:5.826549562209256e-07\n",
      "Collection: ethalien-vox, Correlation: 0.18444514101026968, P-Value:0.002256732523691914\n",
      "Collection: etherealswtf, Correlation: 0.20443742899192918, P-Value:1.5130303046424712e-05\n",
      "Collection: ethereans-official, Correlation: 0.2566013566795789, P-Value:4.028372915639448e-05\n",
      "Collection: ethsenders, Correlation: 0.10717870944041219, P-Value:0.0372608769629156\n",
      "Collection: exohape, Correlation: 0.15870385622084518, P-Value:0.0019143667085965627\n",
      "Collection: fameladysquad, Correlation: 0.16396056190732575, P-Value:0.00022475334102794726\n",
      "Collection: fanggangnft, Correlation: 0.13170734939218628, P-Value:0.0019291650591884613\n",
      "Collection: fatales, Correlation: 0.16362011628086234, P-Value:0.00040774507843902166\n",
      "Collection: fishyfam, Correlation: 0.08950428288336966, P-Value:0.04459980676371781\n",
      "Collection: floppycollection, Correlation: 0.10311641999399361, P-Value:0.026179859184077656\n",
      "Collection: flowtys, Correlation: 0.15026648190557781, P-Value:0.03851072847155566\n",
      "Collection: fomo-mofos, Correlation: 0.2347945822348312, P-Value:1.6880537584505184e-07\n",
      "Collection: forgottenpunks, Correlation: 0.19422758697249629, P-Value:0.00014179612587469215\n",
      "Collection: fragments-by-james-jean, Correlation: 0.13942464181715816, P-Value:0.00930783994567592\n",
      "Collection: frensdoteth, Correlation: 0.1876316894172522, P-Value:0.00014304388646135466\n",
      "Collection: froyokittenscollection, Correlation: 0.13057872086513705, P-Value:0.00498402180609594\n",
      "Collection: fuekinft, Correlation: 0.15004199112186578, P-Value:0.005294657896230718\n",
      "Collection: funclesnft, Correlation: 0.1920580665712248, P-Value:9.096841485868706e-05\n",
      "Collection: futr-one, Correlation: 0.162535421284827, P-Value:0.00020029845628948825\n",
      "Collection: g00p, Correlation: 0.19888692456599613, P-Value:2.592194057270529e-06\n",
      "Collection: galactic-secret-agency, Correlation: 0.36747563438867026, P-Value:7.311017866031778e-11\n",
      "Collection: galaxy-warriors-9999, Correlation: 0.15845619340018527, P-Value:0.009104127956582107\n",
      "Collection: gauntlets, Correlation: 0.17864337757334026, P-Value:0.0006060493554030607\n",
      "Collection: gdrake, Correlation: 0.12031497387342707, P-Value:0.005870347069711226\n",
      "Collection: gh0stlygh0sts, Correlation: 0.09828600851821627, P-Value:0.023644773435613626\n",
      "Collection: ghost-buddy, Correlation: 0.1912192399973059, P-Value:5.288882244727419e-06\n",
      "Collection: ghostchildbones, Correlation: 0.2534913606475237, P-Value:1.4294430705114832e-09\n",
      "Collection: ghouls-dbs, Correlation: 0.24489581880273636, P-Value:4.4522395241057735e-05\n",
      "Collection: girlies-nft, Correlation: 0.10820953789602102, P-Value:0.012596660256326902\n",
      "Collection: gluefactoryshow, Correlation: 0.1922690518852921, P-Value:0.0003091101050714133\n",
      "Collection: good-minds-nft, Correlation: 0.13519215252353445, P-Value:0.00574867603586314\n",
      "Collection: goodboi-borzoi, Correlation: 0.1862191605975606, P-Value:3.5470236601160475e-05\n",
      "Collection: grandpaapecountryclub, Correlation: 0.2083529752401149, P-Value:0.03127156763167623\n",
      "Collection: grimbogs-by-bedbugs, Correlation: 0.1411738057676586, P-Value:0.010237856447965354\n",
      "Collection: gunslingersnft, Correlation: 0.18279717716285995, P-Value:0.0001261177823843485\n",
      "Collection: gutterpigeons, Correlation: 0.2993816034316688, P-Value:2.359005816170419e-10\n",
      "Collection: headtripz, Correlation: 0.31220576191292887, P-Value:1.1616823851978834e-06\n"
     ]
    },
    {
     "name": "stderr",
     "output_type": "stream",
     "text": [
      " 61%|████████████████████████▎               | 769/1265 [00:00<00:00, 1040.66it/s]"
     ]
    },
    {
     "name": "stdout",
     "output_type": "stream",
     "text": [
      "Collection: himalayainc, Correlation: 0.30275107309888305, P-Value:1.3784016059635085e-10\n",
      "Collection: hot-dougs, Correlation: 0.27693675079854485, P-Value:1.8149137301077718e-06\n",
      "Collection: howlerz, Correlation: 0.09962982505024066, P-Value:0.019549033444331267\n",
      "Collection: idamura-xyz, Correlation: 0.13675327779441002, P-Value:0.022573094323685053\n",
      "Collection: imps-by-supernfty, Correlation: 0.19364815631419297, P-Value:0.00017837199140362603\n",
      "Collection: inbetweeners, Correlation: 0.197598270764618, P-Value:4.6435457473917396e-05\n",
      "Collection: incognito-nft, Correlation: 0.13442370564830836, P-Value:0.001964404943778392\n",
      "Collection: infamous-clearance-passes, Correlation: 0.6634836298948943, P-Value:6.39385902005169e-70\n",
      "Collection: internet-raised-official, Correlation: 0.12532074683777913, P-Value:0.02119172519310039\n",
      "Collection: invazers, Correlation: 0.41410352893740127, P-Value:1.514425853263908e-05\n",
      "Collection: invisiblefriends, Correlation: 0.13095892001995887, P-Value:0.0045004015199797175\n",
      "Collection: irl-punks-1, Correlation: 0.1796032673734234, P-Value:0.009436883696090238\n",
      "Collection: jadu-ava, Correlation: 0.1536284275128423, P-Value:0.010311567852666112\n",
      "Collection: jpunks-og-rex, Correlation: 0.171237997945654, P-Value:0.00367605918388702\n",
      "Collection: just-mallards, Correlation: 0.38965059612087793, P-Value:3.4336403674316813e-13\n",
      "Collection: kanpai-pandas, Correlation: 0.12394461281833699, P-Value:0.011602325244430348\n",
      "Collection: karafuru, Correlation: 0.11092109685477171, P-Value:0.010385800396685256\n",
      "Collection: karafuru-x-hypebeast-x-atmos, Correlation: 0.23769276131170744, P-Value:0.000497280866499304\n",
      "Collection: kawaiimetacollage, Correlation: 0.26633939058422357, P-Value:6.467267480560957e-06\n",
      "Collection: kawamii, Correlation: 0.12741627897974236, P-Value:0.01223013607595105\n",
      "Collection: khuga-by-khuga-labs, Correlation: 0.09738902672236638, P-Value:0.020709937753467515\n",
      "Collection: kibatsu-mecha, Correlation: 0.14051423372677516, P-Value:0.005378988658330516\n",
      "Collection: knights-of-degen-official, Correlation: 0.4026229498047458, P-Value:7.739127678655032e-18\n",
      "Collection: koala-intelligence-agency, Correlation: 0.15176533083715213, P-Value:0.0006141333121718541\n",
      "Collection: kreepyclub, Correlation: 0.11463734755171763, P-Value:0.013785294519845026\n",
      "Collection: larva-chads, Correlation: 0.12901109078964942, P-Value:0.004002051540358494\n",
      "Collection: lazy-lions, Correlation: 0.09329995311204281, P-Value:0.027399189751435894\n",
      "Collection: lil-heroes-by-edgar-plans, Correlation: 0.1836472544120398, P-Value:0.00010313136885130143\n",
      "Collection: lilkami, Correlation: 0.28482595327777915, P-Value:3.1282916736097287e-12\n",
      "Collection: lockdown-lemmings, Correlation: 0.1090323177585803, P-Value:0.03733099943705466\n",
      "Collection: long-neckie-ladies, Correlation: 0.09182601756356557, P-Value:0.049039246813234495\n",
      "Collection: loser-club-official, Correlation: 0.08655240918115359, P-Value:0.04682927006522195\n",
      "Collection: lostboy-nft, Correlation: 0.24529370346250798, P-Value:3.0488698349154893e-07\n",
      "Collection: lostsoulssanctuary, Correlation: 0.38165531216308224, P-Value:6.7284084022443414e-09\n",
      "Collection: lucky-ducky-nft, Correlation: 0.11832540001486794, P-Value:0.011179317413614746\n",
      "Collection: machine-soldier, Correlation: 0.23156671965851236, P-Value:4.155732213091327e-06\n",
      "Collection: maisondegoat, Correlation: 0.11534908697270253, P-Value:0.010931869369384282\n",
      "Collection: market-mkrs, Correlation: 0.09690408211302248, P-Value:0.030105840621317177\n",
      "Collection: mekaverse, Correlation: 0.2359720825448881, P-Value:1.547146869492829e-07\n",
      "Collection: memsvoyageone, Correlation: 0.19538767206350854, P-Value:2.7069529006226727e-05\n",
      "Collection: metacraft-season-pass-2022, Correlation: 0.24975219863076928, P-Value:2.0213410581604718e-06\n",
      "Collection: metakrew, Correlation: 0.33378235078760626, P-Value:6.149099265312324e-07\n",
      "Collection: metatravelers, Correlation: 0.17527867974032485, P-Value:0.0011155888611461167\n",
      "Collection: mfers, Correlation: 0.10368142310238496, P-Value:0.013509449678684133\n",
      "Collection: migratingcollection, Correlation: 0.19242832723083347, P-Value:5.681972375401103e-05\n",
      "Collection: mintge-ji-ba, Correlation: 0.14089565306718535, P-Value:0.019412177504903597\n",
      "Collection: misfit-university-official, Correlation: 0.16123593811206977, P-Value:0.006858539434839781\n",
      "Collection: mobs-and-aliens, Correlation: 0.371857887821855, P-Value:6.101860522421125e-11\n",
      "Collection: moonbirds-oddities, Correlation: 0.10793445995161749, P-Value:0.04608863190384981\n",
      "Collection: moonbunny-nft, Correlation: 0.2628750378387808, P-Value:9.165150858140017e-07\n",
      "Collection: moonlingsofficial, Correlation: 0.3682432152954849, P-Value:4.609040700489345e-10\n",
      "Collection: moonrunnersnft, Correlation: 0.25273494743386893, P-Value:7.122588497338689e-10\n",
      "Collection: moonturtlez, Correlation: 0.25926819399925616, P-Value:1.2597450457659096e-08\n",
      "Collection: moshimochi, Correlation: 0.11686324230551012, P-Value:0.008440900708764573\n"
     ]
    },
    {
     "name": "stderr",
     "output_type": "stream",
     "text": [
      " 80%|███████████████████████████████        | 1007/1265 [00:01<00:00, 1118.91it/s]"
     ]
    },
    {
     "name": "stdout",
     "output_type": "stream",
     "text": [
      "Collection: murakami-flowers-2022-official, Correlation: 0.3087131103929568, P-Value:5.051987843119961e-08\n",
      "Collection: muribyfabrik, Correlation: 0.15960247137034503, P-Value:0.00029202590425665676\n",
      "Collection: mutant-hound-collars, Correlation: 0.8895313539976035, P-Value:7.495812038843338e-155\n",
      "Collection: mysticsuniverse, Correlation: 0.13135763477476908, P-Value:0.047574712412736746\n",
      "Collection: nakamigos, Correlation: 0.09296498615083523, P-Value:0.03015817679638883\n",
      "Collection: neopunkssaga, Correlation: 0.23599707091708427, P-Value:3.2293458764536685e-05\n",
      "Collection: nounpunks-eth, Correlation: 0.2212942569709156, P-Value:2.631876817275739e-06\n",
      "Collection: nyolings, Correlation: 0.10820985892692524, P-Value:0.008985882188597303\n",
      "Collection: obitsofficial, Correlation: 0.09997831960582892, P-Value:0.021707098568597875\n",
      "Collection: official-moar-by-joan-cornella, Correlation: 0.212452681023813, P-Value:2.6506497311346636e-06\n",
      "Collection: official-surreals, Correlation: 0.1463376924822041, P-Value:0.0009287882550340675\n",
      "Collection: officialdudes, Correlation: 0.267938071641462, P-Value:1.667029866882526e-08\n",
      "Collection: omnimorphs, Correlation: 0.16343325025471747, P-Value:0.0003381153104918849\n",
      "Collection: origamasks, Correlation: 0.3979422684606075, P-Value:1.7723237134197225e-16\n",
      "Collection: osiris-cosmic-kids, Correlation: 0.12547191263626725, P-Value:0.034236540630066\n",
      "Collection: panduhs, Correlation: 0.16692630321973767, P-Value:0.006456420185879369\n",
      "Collection: party-penguins, Correlation: 0.19324745808689392, P-Value:7.13073492883181e-05\n",
      "Collection: peanz-official, Correlation: 0.3110726013366691, P-Value:4.929339902700104e-07\n",
      "Collection: pepeapesofficial, Correlation: 0.12199759793408178, P-Value:0.018578389319844246\n",
      "Collection: pepemigos-official, Correlation: 0.13199520198110415, P-Value:0.0176232060224811\n",
      "Collection: pepunksnfts, Correlation: 0.18140508048742868, P-Value:0.0004074080701455812\n",
      "Collection: phantabear, Correlation: 0.09560190127803596, P-Value:0.03975757094016897\n",
      "Collection: pixel-crypto-ninja-heroes, Correlation: 0.16378466425999996, P-Value:0.0071033246329023966\n",
      "Collection: prime-kong-planet-by-pap, Correlation: 0.169447201502318, P-Value:0.0014871267211283594\n",
      "Collection: projectkaito, Correlation: 0.24754048326875608, P-Value:1.7307911775320633e-08\n",
      "Collection: proof-moonbirds, Correlation: 0.2964124390074111, P-Value:3.964478810405872e-10\n",
      "Collection: punkillaz-official, Correlation: 0.12664245260357593, P-Value:0.0027272453781845975\n",
      "Collection: punkmfers, Correlation: 0.16557390409272546, P-Value:0.0013925557922648479\n",
      "Collection: purrnelopes-country-club, Correlation: 0.29008635085763085, P-Value:8.773033140964999e-09\n",
      "Collection: pxnghostdivision, Correlation: 0.21359824306536837, P-Value:2.1178201281095235e-06\n",
      "Collection: radbro-radcats, Correlation: 0.23493919762126297, P-Value:0.00035660371242888497\n",
      "Collection: rare-apepes, Correlation: 0.1462703703856406, P-Value:0.001139136263606628\n",
      "Collection: re-genz, Correlation: 0.2592565393498542, P-Value:1.796494064501224e-07\n",
      "Collection: rebelsociety, Correlation: 0.204419037042071, P-Value:1.9061941301266096e-06\n",
      "Collection: regulars, Correlation: 0.1603108556306529, P-Value:0.0013137248895922343\n",
      "Collection: rektguy, Correlation: 0.15359118237984998, P-Value:0.0009626633882473713\n",
      "Collection: remilio-babies, Correlation: 0.12264428299439807, P-Value:0.013060587609991701\n",
      "Collection: roborovski-nft, Correlation: 0.13352344359780713, P-Value:0.012794159035388872\n",
      "Collection: rotten-anti-social-club, Correlation: 0.10922872925980098, P-Value:0.014941763290130325\n",
      "Collection: rubber-duck-bath-party, Correlation: 0.21776060125182317, P-Value:4.803287546251633e-06\n",
      "Collection: rug-radio-faces-of-web3, Correlation: 0.19750335680690118, P-Value:0.0026817746134129993\n",
      "Collection: sacred-skulls-official, Correlation: 0.2317173888311494, P-Value:4.494346347397035e-07\n",
      "Collection: sakura-park, Correlation: 0.12183777091338784, P-Value:0.01795091668781913\n",
      "Collection: sametoadz, Correlation: 0.4317752832601414, P-Value:7.917808570960954e-16\n",
      "Collection: saplingsnft, Correlation: 0.16395175302858003, P-Value:0.004901023823527742\n",
      "Collection: shroomios, Correlation: 0.09712795654461487, P-Value:0.04640562774835315\n",
      "Collection: slumdoge-billionaires, Correlation: 0.15374675433012844, P-Value:0.007435417275457882\n",
      "Collection: sneakerheadsofficial, Correlation: 0.4589170425340742, P-Value:2.6185492098855245e-27\n",
      "Collection: sougen-genesis-collection, Correlation: 0.11991728820469218, P-Value:0.04163847417909986\n"
     ]
    },
    {
     "name": "stderr",
     "output_type": "stream",
     "text": [
      "100%|███████████████████████████████████████| 1265/1265 [00:01<00:00, 1000.75it/s]"
     ]
    },
    {
     "name": "stdout",
     "output_type": "stream",
     "text": [
      "Collection: soynft, Correlation: 0.20810595939667154, P-Value:1.969260326340126e-05\n",
      "Collection: spaceboysnft, Correlation: 0.1097256111502901, P-Value:0.02335531254188182\n",
      "Collection: spaceridersnft, Correlation: 0.14534832962349536, P-Value:0.0009838240790808422\n",
      "Collection: sphpp, Correlation: 0.14676770592405058, P-Value:0.002174078927053016\n",
      "Collection: spookies-nft, Correlation: 0.2322209660166619, P-Value:8.767437845941525e-06\n",
      "Collection: ssr-wives, Correlation: 0.1682969734139204, P-Value:0.0019340016333944316\n",
      "Collection: staxx-invaders, Correlation: 0.35677943633022524, P-Value:1.2082799473651742e-08\n",
      "Collection: strange-times-, Correlation: 0.1261893030472155, P-Value:0.006729621270608156\n",
      "Collection: strxngers, Correlation: 0.14471658487721334, P-Value:0.0008627070787606652\n",
      "Collection: suki-learns-to-fly, Correlation: 0.11787825383752656, P-Value:0.013781971735518341\n",
      "Collection: supducks, Correlation: 0.09452134174844637, P-Value:0.04555114638809162\n",
      "Collection: supergeisha, Correlation: 0.1190982803911758, P-Value:0.01596018014838441\n",
      "Collection: tat-twelve-anonymous-tournaments, Correlation: 0.10551528525570306, P-Value:0.03142635345602022\n",
      "Collection: tenjin-genesis, Correlation: 0.15349560593403042, P-Value:0.017566410306895694\n",
      "Collection: the-birdhouse-official, Correlation: 0.11143756779071584, P-Value:0.02620848428009028\n",
      "Collection: the-british, Correlation: 0.11067698757312665, P-Value:0.04618495638967993\n",
      "Collection: the-cult-club, Correlation: 0.21039601315370354, P-Value:0.00012964508622292166\n",
      "Collection: the-infernals, Correlation: 0.13629516678575435, P-Value:0.002685191105584928\n",
      "Collection: the-long-lost, Correlation: 0.12006921754240579, P-Value:0.006906640668897096\n",
      "Collection: the-lunartics, Correlation: 0.1456311349111757, P-Value:0.0024970999280894525\n",
      "Collection: the-phoenixes, Correlation: 0.27984824170230005, P-Value:8.523642679249077e-10\n",
      "Collection: the-pixels-inc, Correlation: 0.15910933096474217, P-Value:0.00197005996543268\n",
      "Collection: the-seekers, Correlation: 0.3286416772450947, P-Value:1.585112115689579e-08\n",
      "Collection: theaces, Correlation: 0.1961870123185447, P-Value:7.04749964311033e-05\n",
      "Collection: thecryptomoms, Correlation: 0.14329043919953327, P-Value:0.034479573773896335\n",
      "Collection: theindifferentduck, Correlation: 0.09493381955038073, P-Value:0.038615925688641105\n",
      "Collection: thelastabyss, Correlation: 0.15016349497609355, P-Value:0.02020685431267143\n",
      "Collection: theprojecturs, Correlation: 0.18434153928524108, P-Value:0.00022985273227174994\n",
      "Collection: thesunniesnft, Correlation: 0.1661478918517335, P-Value:0.00017126801302286314\n",
      "Collection: thewickedcraniums, Correlation: 0.180541235530027, P-Value:3.5785082487702884e-05\n",
      "Collection: thewynlambo, Correlation: 0.1307770232992103, P-Value:0.041664453809454056\n",
      "Collection: timetrav3lers, Correlation: 0.10628290451526345, P-Value:0.019984925292291136\n",
      "Collection: tiny-dinos-eth, Correlation: 0.15594060248918756, P-Value:0.0002061901645317898\n",
      "Collection: toddlerpillars, Correlation: 0.20454841884995661, P-Value:0.0015107153651931942\n",
      "Collection: trapmonkie, Correlation: 0.15543938985798908, P-Value:0.004010414055132025\n",
      "Collection: trippytoadznft, Correlation: 0.19972424010853207, P-Value:3.092867127873663e-06\n",
      "Collection: tubby-cats, Correlation: 0.15183623478028596, P-Value:0.0010612841040001386\n",
      "Collection: unemployables, Correlation: 0.23854019182798156, P-Value:2.130158613788841e-08\n",
      "Collection: unpunksnft, Correlation: 0.1464316216408873, P-Value:0.002755289264114884\n",
      "Collection: veefriends-series-2, Correlation: 0.21020921624941893, P-Value:0.002364909291923712\n",
      "Collection: vogu, Correlation: 0.19371839554832876, P-Value:3.58701366382412e-05\n",
      "Collection: voodoosclub, Correlation: 0.19235183448035426, P-Value:0.0011003359841410896\n",
      "Collection: weathereportofficial, Correlation: 0.14003053333600995, P-Value:0.005021015773499418\n",
      "Collection: wildpepe, Correlation: 0.23563837030280219, P-Value:4.2127267010990526e-06\n",
      "Collection: woodies-generative, Correlation: 0.12045569331269121, P-Value:0.03096019569007573\n",
      "Collection: xtreme-pixels, Correlation: 0.17652665219510524, P-Value:6.649883194726988e-05\n",
      "Collection: yeetsnft, Correlation: 0.1124643800664704, P-Value:0.01604416610701322\n",
      "760\n",
      "313\n",
      "7\n",
      "[0.09638321 0.13021995 0.16751475 0.23479458 0.36778267]\n",
      "0.19410784736007766\n"
     ]
    },
    {
     "name": "stderr",
     "output_type": "stream",
     "text": [
      "\n"
     ]
    },
    {
     "data": {
      "image/png": "[encoded data removed]",
      "text/plain": [
       "<Figure size 640x480 with 1 Axes>"
      ]
     },
     "metadata": {},
     "output_type": "display_data"
    }
   ],
   "source": [
    "import matplotlib.pyplot as plt\n",
    "from scipy.stats import pearsonr, spearmanr\n",
    "from scipy import stats\n",
    "import statistics\n",
    "grouped = total_df.groupby('Collection')\n",
    "# grouped = coll_to_rare.groupby('Collection')\n",
    "# Create a scatter plot using Matplotlib\n",
    "pos_count = 0\n",
    "neg_count = 0\n",
    "total_count = 0\n",
    "\n",
    "\n",
    "correlations = []\n",
    "for label, group in tqdm(grouped):\n",
    "    if label in rows:\n",
    "        total_count+=1\n",
    "        x = group['distance']\n",
    "        y = group['sale_price']\n",
    "        def statistic(x):  # explore all possible pairings by permuting `x`\n",
    "            rs = stats.spearmanr(x, y).statistic  # ignore pvalue\n",
    "            transformed = rs * np.sqrt(dof / ((rs+1.0)*(1.0-rs)))\n",
    "            return transformed\n",
    "        # try:\n",
    "    \n",
    "        # except:\n",
    "        #     continue\n",
    "        # plt.show()\n",
    "        # Compute correlation coefficient and p-value\n",
    "        correlation, p_value = pearsonr(x, y)\n",
    "        \n",
    "        # correlation, p_value = spearmanr(x,y)\n",
    "        # ref = stats.permutation_test((x,), statistic, alternative='greater',permutation_type='pairings')\n",
    "        if p_value<0.05 and correlation>0:\n",
    "            correlations.append(correlation)\n",
    "            plt.scatter(x,y,alpha=0.2)\n",
    "            coefficients = np.polyfit(x, y, 1)\n",
    "            line_of_best_fit = np.polyval(coefficients, x)\n",
    "            # Plot the line of best fit\n",
    "            plt.plot(x, line_of_best_fit, color='red', label='Line of Best Fit')\n",
    "            plt.title('Scatter Plot')\n",
    "            plt.xlabel('Column 1')\n",
    "            plt.xlim(left=0,right=1)\n",
    "            plt.ylim(top=1,bottom=0)\n",
    "            plt.ylabel('Column 2')\n",
    "            # plt.show()\n",
    "            pos_count+=1\n",
    "            print(f\"Collection: {label}, Correlation: {correlation}, P-Value:{p_value}\")\n",
    "        elif p_value<0.05 and correlation<0:\n",
    "            neg_count+=1\n",
    "print(total_count)\n",
    "print(pos_count)\n",
    "print(neg_count)\n",
    "print(np.percentile(correlations,[5,25,50,75,95]))\n",
    "print(np.mean(correlations))"
   ]
  },
  {
   "cell_type": "code",
   "execution_count": null,
   "id": "290f08d4-bd5a-4ed0-8dae-b159b6aa8f10",
   "metadata": {},
   "outputs": [],
   "source": [
    "pfp_rows = df1.query(f\"Collection in {rows}\")\n",
    "selected_columns = pfp_rows[['Contract', 'NFT_num']].to_numpy().tolist()\n",
    "# rares_to_grab  = list(chunked(selected_columns,10_000))\n",
    "# for rare_chunk in rares_to_grab:\n",
    "#     rarities = alc.NFT_to_rarities(rare_chunk)\n",
    "#     command = \"INSERT INTO nft_to_rare (contract, token_id, rarity) VALUES (%s, %s, %s) returning token_id\"\n",
    "#     psql.batch_insert(command,rarities)"
   ]
  },
  {
   "cell_type": "code",
   "execution_count": 9,
   "id": "c8b3c283-0106-4ce2-9724-c6706b10f6bd",
   "metadata": {},
   "outputs": [],
   "source": []
  },
  {
   "cell_type": "code",
   "execution_count": 128,
   "id": "e39978e6-ed85-4614-987a-cc08e75d8a6d",
   "metadata": {},
   "outputs": [
    {
     "data": {
      "text/html": [
       "<div>\n",
       "<style scoped>\n",
       "    .dataframe tbody tr th:only-of-type {\n",
       "        vertical-align: middle;\n",
       "    }\n",
       "\n",
       "    .dataframe tbody tr th {\n",
       "        vertical-align: top;\n",
       "    }\n",
       "\n",
       "    .dataframe thead th {\n",
       "        text-align: right;\n",
       "    }\n",
       "</style>\n",
       "<table border=\"1\" class=\"dataframe\">\n",
       "  <thead>\n",
       "    <tr style=\"text-align: right;\">\n",
       "      <th></th>\n",
       "      <th>Contract</th>\n",
       "      <th>NFT_num</th>\n",
       "      <th>rarity_rank</th>\n",
       "      <th>Label</th>\n",
       "      <th>Collection</th>\n",
       "      <th>sale_price</th>\n",
       "      <th>distance</th>\n",
       "    </tr>\n",
       "  </thead>\n",
       "  <tbody>\n",
       "  </tbody>\n",
       "</table>\n",
       "</div>"
      ],
      "text/plain": [
       "Empty DataFrame\n",
       "Columns: [Contract, NFT_num, rarity_rank, Label, Collection, sale_price, distance]\n",
       "Index: []"
      ]
     },
     "execution_count": 128,
     "metadata": {},
     "output_type": "execute_result"
    }
   ],
   "source": [
    "merged_df_rare.query(\"Collection=='0n1-force'\").sort_values('distance')\n",
    "# merged_df_rare"
   ]
  },
  {
   "cell_type": "code",
   "execution_count": 10,
   "id": "bd9400f6-77ae-4c47-964e-32af4c252bdd",
   "metadata": {},
   "outputs": [
    {
     "name": "stdout",
     "output_type": "stream",
     "text": [
      "Label counts:\n",
      "Collection\n",
      "bags-by-1984               591\n",
      "poobs                      590\n",
      "pudgypenguins              588\n",
      "pablos-lol                 585\n",
      "bankrupt-ftx-yacht-club    582\n",
      "                          ... \n",
      "dgenmon                    102\n",
      "invazers                   102\n",
      "hashguise-gen-1            101\n",
      "killacubs                  101\n",
      "rareshoe                   100\n",
      "Name: count, Length: 959, dtype: int64\n"
     ]
    }
   ],
   "source": [
    "df_filtered_rare = merged_df_rare.groupby('Collection').filter(lambda group: len(group) >= 100)\n",
    "# Count occurrences of each unique label in the filtered DataFrame\n",
    "label_counts = df_filtered_rare['Collection'].value_counts()\n",
    "\n",
    "# Display the result\n",
    "print(\"Label counts:\")\n",
    "print(label_counts)"
   ]
  },
  {
   "cell_type": "code",
   "execution_count": 181,
   "id": "97191a8e-b37a-49a9-b336-9e16c7610567",
   "metadata": {},
   "outputs": [
    {
     "name": "stderr",
     "output_type": "stream",
     "text": [
      "  0%|                                           | 2/959 [00:13<1:44:30,  6.55s/it]"
     ]
    },
    {
     "name": "stdout",
     "output_type": "stream",
     "text": [
      "0.4727\n",
      "0.859\n"
     ]
    },
    {
     "name": "stderr",
     "output_type": "stream",
     "text": [
      "  1%|▎                                            | 7/959 [00:26<55:38,  3.51s/it]"
     ]
    },
    {
     "name": "stdout",
     "output_type": "stream",
     "text": [
      "0.0368\n",
      "0.0132\n"
     ]
    },
    {
     "name": "stderr",
     "output_type": "stream",
     "text": [
      "  1%|▎                                          | 8/959 [00:40<1:26:13,  5.44s/it]"
     ]
    },
    {
     "name": "stdout",
     "output_type": "stream",
     "text": [
      "0.3767\n",
      "0.3985\n"
     ]
    },
    {
     "name": "stderr",
     "output_type": "stream",
     "text": [
      "  1%|▌                                         | 12/959 [00:53<1:08:55,  4.37s/it]"
     ]
    },
    {
     "name": "stdout",
     "output_type": "stream",
     "text": [
      "0.001\n",
      "0.1803\n",
      "(Rarity) Collection: 3l3phants-official, Correlation: -0.20602940805411732, P-Value:0.001\n"
     ]
    },
    {
     "name": "stderr",
     "output_type": "stream",
     "text": [
      "  2%|▋                                         | 15/959 [01:07<1:10:12,  4.46s/it]"
     ]
    },
    {
     "name": "stdout",
     "output_type": "stream",
     "text": [
      "0.1709\n",
      "0.0053\n"
     ]
    },
    {
     "name": "stderr",
     "output_type": "stream",
     "text": [
      "  2%|▋                                         | 16/959 [01:20<1:29:59,  5.73s/it]"
     ]
    },
    {
     "name": "stdout",
     "output_type": "stream",
     "text": [
      "0.7765\n",
      "0.2329\n"
     ]
    },
    {
     "name": "stderr",
     "output_type": "stream",
     "text": [
      "  2%|▋                                         | 17/959 [01:35<1:52:25,  7.16s/it]"
     ]
    },
    {
     "name": "stdout",
     "output_type": "stream",
     "text": [
      "0.0002\n",
      "0.2574\n",
      "(Rarity) Collection: 8bituniverse, Correlation: -0.1925369282285529, P-Value:0.0002\n"
     ]
    },
    {
     "name": "stderr",
     "output_type": "stream",
     "text": [
      "  2%|▉                                         | 20/959 [01:48<1:33:41,  5.99s/it]"
     ]
    },
    {
     "name": "stdout",
     "output_type": "stream",
     "text": [
      "0.3837\n",
      "0.2256\n"
     ]
    },
    {
     "name": "stderr",
     "output_type": "stream",
     "text": [
      "  4%|█▋                                          | 36/959 [02:03<32:52,  2.14s/it]"
     ]
    },
    {
     "name": "stdout",
     "output_type": "stream",
     "text": [
      "0.0065\n",
      "0.0001\n"
     ]
    },
    {
     "name": "stderr",
     "output_type": "stream",
     "text": [
      "  4%|█▋                                          | 37/959 [02:17<44:35,  2.90s/it]"
     ]
    },
    {
     "name": "stdout",
     "output_type": "stream",
     "text": [
      "0.6417\n",
      "0.0002\n"
     ]
    },
    {
     "name": "stderr",
     "output_type": "stream",
     "text": [
      "  4%|█▊                                          | 40/959 [02:31<50:14,  3.28s/it]"
     ]
    },
    {
     "name": "stdout",
     "output_type": "stream",
     "text": [
      "0.091\n",
      "0.0926\n"
     ]
    },
    {
     "name": "stderr",
     "output_type": "stream",
     "text": [
      "  4%|█▊                                        | 41/959 [02:44<1:04:35,  4.22s/it]"
     ]
    },
    {
     "name": "stdout",
     "output_type": "stream",
     "text": [
      "0.1061\n",
      "0.0335\n"
     ]
    },
    {
     "name": "stderr",
     "output_type": "stream",
     "text": [
      "  5%|█▉                                        | 44/959 [02:59<1:06:53,  4.39s/it]"
     ]
    },
    {
     "name": "stdout",
     "output_type": "stream",
     "text": [
      "0.0051\n",
      "0.2749\n",
      "(Rarity) Collection: alleykatzofficial, Correlation: -0.12209554646566223, P-Value:0.0051\n"
     ]
    },
    {
     "name": "stderr",
     "output_type": "stream",
     "text": [
      "/global/scratch/tlundy/NFT_Research/nft_venv/lib/python3.8/site-packages/scipy/stats/_stats_py.py:4916: ConstantInputWarning: An input array is constant; the correlation coefficient is not defined.\n",
      "  warnings.warn(stats.ConstantInputWarning(warn_msg))\n",
      "  5%|██                                        | 46/959 [03:04<1:01:37,  4.05s/it]"
     ]
    },
    {
     "name": "stdout",
     "output_type": "stream",
     "text": [
      "0.0001\n",
      "0.5309\n"
     ]
    },
    {
     "name": "stderr",
     "output_type": "stream",
     "text": [
      "  5%|██▍                                         | 52/959 [03:18<48:21,  3.20s/it]"
     ]
    },
    {
     "name": "stdout",
     "output_type": "stream",
     "text": [
      "0.0232\n",
      "0.0164\n"
     ]
    },
    {
     "name": "stderr",
     "output_type": "stream",
     "text": [
      "  6%|██▊                                         | 60/959 [03:33<38:17,  2.56s/it]"
     ]
    },
    {
     "name": "stdout",
     "output_type": "stream",
     "text": [
      "0.0001\n",
      "0.0001\n",
      "(Rarity) Collection: animonkeys, Correlation: -0.2595313460220716, P-Value:0.0001\n"
     ]
    },
    {
     "name": "stderr",
     "output_type": "stream",
     "text": [
      "  6%|██▊                                         | 62/959 [03:48<48:49,  3.27s/it]"
     ]
    },
    {
     "name": "stdout",
     "output_type": "stream",
     "text": [
      "0.0407\n",
      "0.0635\n",
      "(Rarity) Collection: antonymgenesis, Correlation: -0.07721941511436112, P-Value:0.0407\n"
     ]
    },
    {
     "name": "stderr",
     "output_type": "stream",
     "text": [
      "  7%|██▉                                         | 64/959 [04:02<58:44,  3.94s/it]"
     ]
    },
    {
     "name": "stdout",
     "output_type": "stream",
     "text": [
      "0.0019\n",
      "0.0001\n"
     ]
    },
    {
     "name": "stderr",
     "output_type": "stream",
     "text": [
      "  8%|███▌                                        | 79/959 [04:17<29:46,  2.03s/it]"
     ]
    },
    {
     "name": "stdout",
     "output_type": "stream",
     "text": [
      "0.0007\n",
      "0.0449\n",
      "(Rarity) Collection: atsui, Correlation: -0.14530428448100044, P-Value:0.0007\n"
     ]
    },
    {
     "name": "stderr",
     "output_type": "stream",
     "text": [
      "  8%|███▋                                        | 80/959 [04:29<38:40,  2.64s/it]"
     ]
    },
    {
     "name": "stdout",
     "output_type": "stream",
     "text": [
      "0.1836\n",
      "0.0433\n"
     ]
    },
    {
     "name": "stderr",
     "output_type": "stream",
     "text": [
      "  9%|███▊                                        | 82/959 [04:43<46:47,  3.20s/it]"
     ]
    },
    {
     "name": "stdout",
     "output_type": "stream",
     "text": [
      "0.3248\n",
      "0.0001\n"
     ]
    },
    {
     "name": "stderr",
     "output_type": "stream",
     "text": [
      "  9%|███▉                                        | 85/959 [04:58<52:56,  3.63s/it]"
     ]
    },
    {
     "name": "stdout",
     "output_type": "stream",
     "text": [
      "0.5293\n",
      "0.2891\n"
     ]
    },
    {
     "name": "stderr",
     "output_type": "stream",
     "text": [
      " 10%|████▏                                       | 92/959 [05:11<41:55,  2.90s/it]"
     ]
    },
    {
     "name": "stdout",
     "output_type": "stream",
     "text": [
      "0.0001\n",
      "0.0057\n",
      "(Rarity) Collection: babobunnyclub, Correlation: -0.37114030845343304, P-Value:0.0001\n"
     ]
    },
    {
     "name": "stderr",
     "output_type": "stream",
     "text": [
      " 10%|████▎                                       | 95/959 [05:26<47:53,  3.33s/it]"
     ]
    },
    {
     "name": "stdout",
     "output_type": "stream",
     "text": [
      "0.4258\n",
      "0.3944\n"
     ]
    },
    {
     "name": "stderr",
     "output_type": "stream",
     "text": [
      " 10%|████▍                                       | 98/959 [05:41<52:54,  3.69s/it]"
     ]
    },
    {
     "name": "stdout",
     "output_type": "stream",
     "text": [
      "0.0383\n",
      "0.2035\n",
      "(Rarity) Collection: baluba, Correlation: -0.0804363746839375, P-Value:0.0383\n"
     ]
    },
    {
     "name": "stderr",
     "output_type": "stream",
     "text": [
      " 11%|████▌                                      | 103/959 [05:55<48:22,  3.39s/it]"
     ]
    },
    {
     "name": "stdout",
     "output_type": "stream",
     "text": [
      "0.0328\n",
      "0.1242\n",
      "(Rarity) Collection: based-ghouls, Correlation: -0.09129863259685485, P-Value:0.0328\n"
     ]
    },
    {
     "name": "stderr",
     "output_type": "stream",
     "text": [
      " 11%|████▍                                    | 104/959 [06:10<1:03:25,  4.45s/it]"
     ]
    },
    {
     "name": "stdout",
     "output_type": "stream",
     "text": [
      "0.1726\n",
      "0.0534\n"
     ]
    },
    {
     "name": "stderr",
     "output_type": "stream",
     "text": [
      " 11%|████▌                                    | 106/959 [06:25<1:11:41,  5.04s/it]"
     ]
    },
    {
     "name": "stdout",
     "output_type": "stream",
     "text": [
      "0.2856\n",
      "0.2096\n"
     ]
    },
    {
     "name": "stderr",
     "output_type": "stream",
     "text": [
      " 12%|████▉                                      | 111/959 [06:39<58:18,  4.13s/it]"
     ]
    },
    {
     "name": "stdout",
     "output_type": "stream",
     "text": [
      "0.0002\n",
      "0.0696\n",
      "(Rarity) Collection: beanzofficial, Correlation: -0.16806242055979959, P-Value:0.0002\n"
     ]
    },
    {
     "name": "stderr",
     "output_type": "stream",
     "text": [
      " 12%|████▊                                    | 112/959 [06:53<1:13:05,  5.18s/it]"
     ]
    },
    {
     "name": "stdout",
     "output_type": "stream",
     "text": [
      "0.0001\n",
      "0.0001\n"
     ]
    },
    {
     "name": "stderr",
     "output_type": "stream",
     "text": [
      " 12%|████▊                                    | 114/959 [07:08<1:20:32,  5.72s/it]"
     ]
    },
    {
     "name": "stdout",
     "output_type": "stream",
     "text": [
      "0.0001\n",
      "0.0017\n",
      "(Rarity) Collection: beartings, Correlation: -0.17771121459990782, P-Value:0.0001\n"
     ]
    },
    {
     "name": "stderr",
     "output_type": "stream",
     "text": [
      " 12%|████▉                                    | 116/959 [07:22<1:25:54,  6.11s/it]"
     ]
    },
    {
     "name": "stdout",
     "output_type": "stream",
     "text": [
      "0.2476\n",
      "0.2623\n"
     ]
    },
    {
     "name": "stderr",
     "output_type": "stream",
     "text": [
      " 13%|█████▍                                     | 122/959 [07:37<58:12,  4.17s/it]"
     ]
    },
    {
     "name": "stdout",
     "output_type": "stream",
     "text": [
      "0.0002\n",
      "0.0158\n",
      "(Rarity) Collection: binkies, Correlation: -0.17636467715172938, P-Value:0.0002\n"
     ]
    },
    {
     "name": "stderr",
     "output_type": "stream",
     "text": [
      " 13%|█████▋                                     | 126/959 [07:50<54:38,  3.94s/it]"
     ]
    },
    {
     "name": "stdout",
     "output_type": "stream",
     "text": [
      "0.3652\n",
      "0.4272\n"
     ]
    },
    {
     "name": "stderr",
     "output_type": "stream",
     "text": [
      " 13%|█████▊                                     | 129/959 [08:04<56:57,  4.12s/it]"
     ]
    },
    {
     "name": "stdout",
     "output_type": "stream",
     "text": [
      "0.0673\n",
      "0.428\n"
     ]
    },
    {
     "name": "stderr",
     "output_type": "stream",
     "text": [
      " 15%|██████▎                                    | 142/959 [08:18<30:03,  2.21s/it]"
     ]
    },
    {
     "name": "stdout",
     "output_type": "stream",
     "text": [
      "0.0001\n",
      "0.0001\n",
      "(Rarity) Collection: bored-ape-comic, Correlation: -0.4722567079430092, P-Value:0.0001\n"
     ]
    },
    {
     "name": "stderr",
     "output_type": "stream",
     "text": [
      " 15%|██████▍                                    | 143/959 [08:32<40:31,  2.98s/it]"
     ]
    },
    {
     "name": "stdout",
     "output_type": "stream",
     "text": [
      "0.0194\n",
      "0.049\n",
      "(Rarity) Collection: bored-ape-kennel-club, Correlation: -0.09897199073052564, P-Value:0.0194\n"
     ]
    },
    {
     "name": "stderr",
     "output_type": "stream",
     "text": [
      " 15%|██████▋                                    | 148/959 [08:47<40:10,  2.97s/it]"
     ]
    },
    {
     "name": "stdout",
     "output_type": "stream",
     "text": [
      "0.0001\n",
      "0.0006\n",
      "(Rarity) Collection: bored-mummy-waking-up, Correlation: -0.23328933685129194, P-Value:0.0001\n"
     ]
    },
    {
     "name": "stderr",
     "output_type": "stream",
     "text": [
      " 16%|██████▊                                    | 152/959 [09:01<41:36,  3.09s/it]"
     ]
    },
    {
     "name": "stdout",
     "output_type": "stream",
     "text": [
      "0.1002\n",
      "0.0134\n"
     ]
    },
    {
     "name": "stderr",
     "output_type": "stream",
     "text": [
      " 17%|███████▏                                   | 161/959 [09:14<31:27,  2.36s/it]"
     ]
    },
    {
     "name": "stdout",
     "output_type": "stream",
     "text": [
      "0.2475\n",
      "0.1836\n"
     ]
    },
    {
     "name": "stderr",
     "output_type": "stream",
     "text": [
      " 17%|███████▍                                   | 167/959 [09:29<31:38,  2.40s/it]"
     ]
    },
    {
     "name": "stdout",
     "output_type": "stream",
     "text": [
      "0.0142\n",
      "0.0049\n"
     ]
    },
    {
     "name": "stderr",
     "output_type": "stream",
     "text": [
      " 18%|███████▌                                   | 170/959 [09:43<36:48,  2.80s/it]"
     ]
    },
    {
     "name": "stdout",
     "output_type": "stream",
     "text": [
      "0.0112\n",
      "0.0456\n",
      "(Rarity) Collection: bus-stop, Correlation: -0.12150115941254017, P-Value:0.0112\n"
     ]
    },
    {
     "name": "stderr",
     "output_type": "stream",
     "text": [
      " 19%|████████▏                                  | 183/959 [09:57<24:49,  1.92s/it]"
     ]
    },
    {
     "name": "stdout",
     "output_type": "stream",
     "text": [
      "0.0002\n",
      "0.2038\n",
      "(Rarity) Collection: catbloxgenesis, Correlation: -0.16304123078239335, P-Value:0.0002\n"
     ]
    },
    {
     "name": "stderr",
     "output_type": "stream",
     "text": [
      " 19%|████████▎                                  | 184/959 [10:12<33:18,  2.58s/it]"
     ]
    },
    {
     "name": "stdout",
     "output_type": "stream",
     "text": [
      "0.0001\n",
      "0.0622\n",
      "(Rarity) Collection: catbloxpumacapsule, Correlation: -0.22515769722225434, P-Value:0.0001\n"
     ]
    },
    {
     "name": "stderr",
     "output_type": "stream",
     "text": [
      " 19%|████████▎                                  | 185/959 [10:25<43:23,  3.36s/it]"
     ]
    },
    {
     "name": "stdout",
     "output_type": "stream",
     "text": [
      "0.0026\n",
      "0.0089\n",
      "(Rarity) Collection: catc, Correlation: -0.17766117324067549, P-Value:0.0026\n"
     ]
    },
    {
     "name": "stderr",
     "output_type": "stream",
     "text": [
      " 19%|████████▍                                  | 187/959 [10:39<51:18,  3.99s/it]"
     ]
    },
    {
     "name": "stdout",
     "output_type": "stream",
     "text": [
      "0.9198\n",
      "0.5296\n"
     ]
    },
    {
     "name": "stderr",
     "output_type": "stream",
     "text": [
      " 20%|████████                                 | 188/959 [10:53<1:05:03,  5.06s/it]"
     ]
    },
    {
     "name": "stdout",
     "output_type": "stream",
     "text": [
      "0.7911\n",
      "0.5019\n"
     ]
    },
    {
     "name": "stderr",
     "output_type": "stream",
     "text": [
      " 20%|████████                                 | 189/959 [11:07<1:20:36,  6.28s/it]"
     ]
    },
    {
     "name": "stdout",
     "output_type": "stream",
     "text": [
      "0.0001\n",
      "0.0037\n",
      "(Rarity) Collection: cerealclub, Correlation: -0.2832885221415014, P-Value:0.0001\n"
     ]
    },
    {
     "name": "stderr",
     "output_type": "stream",
     "text": [
      " 20%|████████▏                                | 191/959 [11:21<1:23:24,  6.52s/it]"
     ]
    },
    {
     "name": "stdout",
     "output_type": "stream",
     "text": [
      "0.051\n",
      "0.0579\n"
     ]
    },
    {
     "name": "stderr",
     "output_type": "stream",
     "text": [
      " 20%|████████▎                                | 193/959 [11:36<1:25:42,  6.71s/it]"
     ]
    },
    {
     "name": "stdout",
     "output_type": "stream",
     "text": [
      "0.0001\n",
      "0.0311\n",
      "(Rarity) Collection: chaoscityresidents, Correlation: -0.20883486019369138, P-Value:0.0001\n"
     ]
    },
    {
     "name": "stderr",
     "output_type": "stream",
     "text": [
      " 20%|████████▎                                | 195/959 [11:50<1:27:33,  6.88s/it]"
     ]
    },
    {
     "name": "stdout",
     "output_type": "stream",
     "text": [
      "0.8846\n",
      "0.0184\n"
     ]
    },
    {
     "name": "stderr",
     "output_type": "stream",
     "text": [
      " 20%|████████▍                                | 196/959 [12:05<1:45:11,  8.27s/it]"
     ]
    },
    {
     "name": "stdout",
     "output_type": "stream",
     "text": [
      "0.3676\n",
      "0.3637\n"
     ]
    },
    {
     "name": "stderr",
     "output_type": "stream",
     "text": [
      " 21%|████████▍                                | 197/959 [12:19<1:58:30,  9.33s/it]"
     ]
    },
    {
     "name": "stdout",
     "output_type": "stream",
     "text": [
      "0.0988\n",
      "0.0216\n"
     ]
    },
    {
     "name": "stderr",
     "output_type": "stream",
     "text": [
      " 21%|████████▌                                | 200/959 [12:33<1:31:45,  7.25s/it]"
     ]
    },
    {
     "name": "stdout",
     "output_type": "stream",
     "text": [
      "0.0002\n",
      "0.2619\n",
      "(Rarity) Collection: childrenofukiyoofficial, Correlation: -0.17493520567373894, P-Value:0.0002\n"
     ]
    },
    {
     "name": "stderr",
     "output_type": "stream",
     "text": [
      " 21%|████████▋                                | 204/959 [12:47<1:09:35,  5.53s/it]"
     ]
    },
    {
     "name": "stdout",
     "output_type": "stream",
     "text": [
      "0.0001\n",
      "0.3015\n",
      "(Rarity) Collection: chippys-world, Correlation: -0.18736368406536535, P-Value:0.0001\n"
     ]
    },
    {
     "name": "stderr",
     "output_type": "stream",
     "text": [
      " 22%|█████████▎                                 | 208/959 [13:02<59:43,  4.77s/it]"
     ]
    },
    {
     "name": "stdout",
     "output_type": "stream",
     "text": [
      "0.0004\n",
      "0.0007\n",
      "(Rarity) Collection: chubbykaijudao, Correlation: -0.17126463244369527, P-Value:0.0004\n"
     ]
    },
    {
     "name": "stderr",
     "output_type": "stream",
     "text": [
      " 22%|█████████                                | 211/959 [13:17<1:00:30,  4.85s/it]"
     ]
    },
    {
     "name": "stdout",
     "output_type": "stream",
     "text": [
      "0.7523\n",
      "0.7433\n"
     ]
    },
    {
     "name": "stderr",
     "output_type": "stream",
     "text": [
      " 22%|█████████                                | 213/959 [13:31<1:06:36,  5.36s/it]"
     ]
    },
    {
     "name": "stdout",
     "output_type": "stream",
     "text": [
      "0.0012\n",
      "0.0404\n",
      "(Rarity) Collection: citizenz-nft, Correlation: -0.14845860292972624, P-Value:0.0012\n"
     ]
    },
    {
     "name": "stderr",
     "output_type": "stream",
     "text": [
      " 23%|█████████▊                                 | 219/959 [13:46<48:57,  3.97s/it]"
     ]
    },
    {
     "name": "stdout",
     "output_type": "stream",
     "text": [
      "0.0001\n",
      "0.0003\n",
      "(Rarity) Collection: collectvoxtownstar, Correlation: -0.2936356072584593, P-Value:0.0001\n"
     ]
    },
    {
     "name": "stderr",
     "output_type": "stream",
     "text": [
      " 23%|█████████▉                                 | 221/959 [14:01<56:04,  4.56s/it]"
     ]
    },
    {
     "name": "stdout",
     "output_type": "stream",
     "text": [
      "0.3056\n",
      "0.4318\n"
     ]
    },
    {
     "name": "stderr",
     "output_type": "stream",
     "text": [
      " 23%|█████████▍                               | 222/959 [14:14<1:09:22,  5.65s/it]"
     ]
    },
    {
     "name": "stdout",
     "output_type": "stream",
     "text": [
      "0.0943\n",
      "0.0384\n"
     ]
    },
    {
     "name": "stderr",
     "output_type": "stream",
     "text": [
      " 23%|█████████▌                               | 223/959 [14:30<1:26:52,  7.08s/it]"
     ]
    },
    {
     "name": "stdout",
     "output_type": "stream",
     "text": [
      "0.0025\n",
      "0.0001\n"
     ]
    },
    {
     "name": "stderr",
     "output_type": "stream",
     "text": [
      " 24%|██████████▍                                | 232/959 [14:44<42:43,  3.53s/it]"
     ]
    },
    {
     "name": "stdout",
     "output_type": "stream",
     "text": [
      "0.0001\n",
      "0.0001\n",
      "(Rarity) Collection: covidpunksnft, Correlation: -0.37104533326193634, P-Value:0.0001\n"
     ]
    },
    {
     "name": "stderr",
     "output_type": "stream",
     "text": [
      " 24%|██████████▍                                | 234/959 [14:58<49:45,  4.12s/it]"
     ]
    },
    {
     "name": "stdout",
     "output_type": "stream",
     "text": [
      "0.3356\n",
      "0.3898\n"
     ]
    },
    {
     "name": "stderr",
     "output_type": "stream",
     "text": [
      " 25%|██████████▌                                | 236/959 [15:12<56:18,  4.67s/it]"
     ]
    },
    {
     "name": "stdout",
     "output_type": "stream",
     "text": [
      "0.0009\n",
      "0.1898\n",
      "(Rarity) Collection: creaturecrowd, Correlation: -0.1724511700174776, P-Value:0.0009\n"
     ]
    },
    {
     "name": "stderr",
     "output_type": "stream",
     "text": [
      " 25%|██████████▋                                | 239/959 [15:26<55:25,  4.62s/it]"
     ]
    },
    {
     "name": "stdout",
     "output_type": "stream",
     "text": [
      "0.0104\n",
      "0.0002\n"
     ]
    },
    {
     "name": "stderr",
     "output_type": "stream",
     "text": [
      " 25%|██████████▉                                | 243/959 [15:41<51:39,  4.33s/it]"
     ]
    },
    {
     "name": "stdout",
     "output_type": "stream",
     "text": [
      "0.0001\n",
      "0.0002\n",
      "(Rarity) Collection: croakz-v2-1, Correlation: -0.2275109056411643, P-Value:0.0001\n"
     ]
    },
    {
     "name": "stderr",
     "output_type": "stream",
     "text": [
      " 25%|██████████▍                              | 244/959 [15:56<1:05:54,  5.53s/it]"
     ]
    },
    {
     "name": "stdout",
     "output_type": "stream",
     "text": [
      "0.6922\n",
      "0.3207\n"
     ]
    },
    {
     "name": "stderr",
     "output_type": "stream",
     "text": [
      " 26%|██████████▌                              | 246/959 [16:09<1:08:45,  5.79s/it]"
     ]
    },
    {
     "name": "stdout",
     "output_type": "stream",
     "text": [
      "0.7913\n",
      "0.0121\n"
     ]
    },
    {
     "name": "stderr",
     "output_type": "stream",
     "text": [
      " 26%|██████████▌                              | 248/959 [16:23<1:13:00,  6.16s/it]"
     ]
    },
    {
     "name": "stdout",
     "output_type": "stream",
     "text": [
      "0.0001\n",
      "0.007\n",
      "(Rarity) Collection: crypto-hobos, Correlation: -0.2645533948896932, P-Value:0.0001\n"
     ]
    },
    {
     "name": "stderr",
     "output_type": "stream",
     "text": [
      " 26%|██████████▋                              | 250/959 [16:37<1:14:55,  6.34s/it]"
     ]
    },
    {
     "name": "stdout",
     "output_type": "stream",
     "text": [
      "0.4181\n",
      "0.3993\n"
     ]
    },
    {
     "name": "stderr",
     "output_type": "stream",
     "text": [
      " 26%|██████████▋                              | 251/959 [16:51<1:29:06,  7.55s/it]"
     ]
    },
    {
     "name": "stdout",
     "output_type": "stream",
     "text": [
      "0.0019\n",
      "0.0291\n",
      "(Rarity) Collection: crypto-pills-by-micha-klein, Correlation: -0.1578291910250709, P-Value:0.0019\n"
     ]
    },
    {
     "name": "stderr",
     "output_type": "stream",
     "text": [
      " 27%|███████████▍                               | 256/959 [17:05<59:04,  5.04s/it]"
     ]
    },
    {
     "name": "stdout",
     "output_type": "stream",
     "text": [
      "0.0319\n",
      "0.2035\n",
      "(Rarity) Collection: cryptodickbutts-s3, Correlation: -0.08651113631273727, P-Value:0.0319\n"
     ]
    },
    {
     "name": "stderr",
     "output_type": "stream",
     "text": [
      " 27%|███████████▌                               | 259/959 [17:19<57:10,  4.90s/it]"
     ]
    },
    {
     "name": "stdout",
     "output_type": "stream",
     "text": [
      "0.014\n",
      "0.0104\n"
     ]
    },
    {
     "name": "stderr",
     "output_type": "stream",
     "text": [
      " 27%|███████████▏                             | 261/959 [17:34<1:03:16,  5.44s/it]"
     ]
    },
    {
     "name": "stdout",
     "output_type": "stream",
     "text": [
      "0.0001\n",
      "0.0031\n",
      "(Rarity) Collection: cryptoskulls, Correlation: -0.18276190729188102, P-Value:0.0001\n"
     ]
    },
    {
     "name": "stderr",
     "output_type": "stream",
     "text": [
      " 27%|███████████▏                             | 262/959 [17:48<1:17:11,  6.64s/it]"
     ]
    },
    {
     "name": "stdout",
     "output_type": "stream",
     "text": [
      "0.4998\n",
      "0.5779\n"
     ]
    },
    {
     "name": "stderr",
     "output_type": "stream",
     "text": [
      " 28%|████████████                               | 269/959 [18:03<46:06,  4.01s/it]"
     ]
    },
    {
     "name": "stdout",
     "output_type": "stream",
     "text": [
      "0.0002\n",
      "0.0301\n",
      "(Rarity) Collection: cupcatsofficial, Correlation: -0.16725638446532998, P-Value:0.0002\n"
     ]
    },
    {
     "name": "stderr",
     "output_type": "stream",
     "text": [
      " 28%|████████████▏                              | 271/959 [18:15<50:56,  4.44s/it]"
     ]
    },
    {
     "name": "stdout",
     "output_type": "stream",
     "text": [
      "0.4941\n",
      "0.6234\n"
     ]
    },
    {
     "name": "stderr",
     "output_type": "stream",
     "text": [
      " 29%|████████████▎                              | 275/959 [18:28<45:18,  3.97s/it]"
     ]
    },
    {
     "name": "stdout",
     "output_type": "stream",
     "text": [
      "0.1119\n",
      "0.806\n"
     ]
    },
    {
     "name": "stderr",
     "output_type": "stream",
     "text": [
      " 29%|████████████▍                              | 278/959 [18:40<45:36,  4.02s/it]"
     ]
    },
    {
     "name": "stdout",
     "output_type": "stream",
     "text": [
      "0.4899\n",
      "0.2338\n"
     ]
    },
    {
     "name": "stderr",
     "output_type": "stream",
     "text": [
      " 29%|████████████▌                              | 281/959 [18:55<48:11,  4.26s/it]"
     ]
    },
    {
     "name": "stdout",
     "output_type": "stream",
     "text": [
      "0.0001\n",
      "0.0001\n",
      "(Rarity) Collection: deadheads, Correlation: -0.27787996557731515, P-Value:0.0001\n"
     ]
    },
    {
     "name": "stderr",
     "output_type": "stream",
     "text": [
      " 30%|████████████▉                              | 289/959 [19:10<33:55,  3.04s/it]"
     ]
    },
    {
     "name": "stdout",
     "output_type": "stream",
     "text": [
      "0.0001\n",
      "0.0002\n"
     ]
    },
    {
     "name": "stderr",
     "output_type": "stream",
     "text": [
      " 30%|█████████████                              | 290/959 [19:25<45:06,  4.05s/it]"
     ]
    },
    {
     "name": "stdout",
     "output_type": "stream",
     "text": [
      "0.0009\n",
      "0.3679\n",
      "(Rarity) Collection: devilvalley, Correlation: -0.13519317251634624, P-Value:0.0009\n"
     ]
    },
    {
     "name": "stderr",
     "output_type": "stream",
     "text": [
      " 31%|█████████████▍                             | 301/959 [19:39<27:04,  2.47s/it]"
     ]
    },
    {
     "name": "stdout",
     "output_type": "stream",
     "text": [
      "0.0771\n",
      "0.0714\n"
     ]
    },
    {
     "name": "stderr",
     "output_type": "stream",
     "text": [
      " 32%|█████████████▌                             | 303/959 [19:53<33:22,  3.05s/it]"
     ]
    },
    {
     "name": "stdout",
     "output_type": "stream",
     "text": [
      "0.0001\n",
      "0.0026\n",
      "(Rarity) Collection: dodofrensxyz, Correlation: -0.22015760406257515, P-Value:0.0001\n"
     ]
    },
    {
     "name": "stderr",
     "output_type": "stream",
     "text": [
      " 32%|█████████████▋                             | 304/959 [20:08<44:11,  4.05s/it]"
     ]
    },
    {
     "name": "stdout",
     "output_type": "stream",
     "text": [
      "0.0001\n",
      "0.0002\n",
      "(Rarity) Collection: dogeclub-dogc, Correlation: -0.22571254764715892, P-Value:0.0001\n"
     ]
    },
    {
     "name": "stderr",
     "output_type": "stream",
     "text": [
      " 32%|█████████████▋                             | 305/959 [20:21<54:44,  5.02s/it]"
     ]
    },
    {
     "name": "stdout",
     "output_type": "stream",
     "text": [
      "0.0689\n",
      "0.0366\n"
     ]
    },
    {
     "name": "stderr",
     "output_type": "stream",
     "text": [
      " 32%|█████████████▋                             | 306/959 [20:26<55:26,  5.09s/it]"
     ]
    },
    {
     "name": "stdout",
     "output_type": "stream",
     "text": [
      "0.0001\n",
      "0.0652\n"
     ]
    },
    {
     "name": "stderr",
     "output_type": "stream",
     "text": [
      " 32%|█████████████▏                           | 307/959 [20:41<1:11:41,  6.60s/it]"
     ]
    },
    {
     "name": "stdout",
     "output_type": "stream",
     "text": [
      "0.0001\n",
      "0.0118\n",
      "(Rarity) Collection: donald-trump-yacht-club, Correlation: -0.1986718335182368, P-Value:0.0001\n"
     ]
    },
    {
     "name": "stderr",
     "output_type": "stream",
     "text": [
      " 32%|█████████████▏                           | 308/959 [20:54<1:25:51,  7.91s/it]"
     ]
    },
    {
     "name": "stdout",
     "output_type": "stream",
     "text": [
      "0.0057\n",
      "0.0123\n",
      "(Rarity) Collection: doodlefrensnft, Correlation: -0.14647017742554147, P-Value:0.0057\n"
     ]
    },
    {
     "name": "stderr",
     "output_type": "stream",
     "text": [
      " 32%|█████████████▏                           | 309/959 [21:09<1:41:48,  9.40s/it]"
     ]
    },
    {
     "name": "stdout",
     "output_type": "stream",
     "text": [
      "0.0005\n",
      "0.0085\n",
      "(Rarity) Collection: doodles-official, Correlation: -0.15944327909143075, P-Value:0.0005\n"
     ]
    },
    {
     "name": "stderr",
     "output_type": "stream",
     "text": [
      " 33%|█████████████▎                           | 312/959 [21:24<1:18:43,  7.30s/it]"
     ]
    },
    {
     "name": "stdout",
     "output_type": "stream",
     "text": [
      "0.0003\n",
      "0.2082\n",
      "(Rarity) Collection: dotdotdots, Correlation: -0.1372007559733921, P-Value:0.0003\n"
     ]
    },
    {
     "name": "stderr",
     "output_type": "stream",
     "text": [
      " 33%|██████████████▏                            | 316/959 [21:38<58:53,  5.50s/it]"
     ]
    },
    {
     "name": "stdout",
     "output_type": "stream",
     "text": [
      "0.0006\n",
      "0.0511\n",
      "(Rarity) Collection: dragon-town-wtf, Correlation: -0.16887396846730915, P-Value:0.0006\n"
     ]
    },
    {
     "name": "stderr",
     "output_type": "stream",
     "text": [
      " 33%|██████████████▎                            | 319/959 [21:53<56:37,  5.31s/it]"
     ]
    },
    {
     "name": "stdout",
     "output_type": "stream",
     "text": [
      "0.004\n",
      "0.0169\n",
      "(Rarity) Collection: dreamyofficial, Correlation: -0.11847424083840156, P-Value:0.004\n"
     ]
    },
    {
     "name": "stderr",
     "output_type": "stream",
     "text": [
      " 35%|██████████████▊                            | 331/959 [22:08<27:37,  2.64s/it]"
     ]
    },
    {
     "name": "stdout",
     "output_type": "stream",
     "text": [
      "0.186\n",
      "0.2267\n"
     ]
    },
    {
     "name": "stderr",
     "output_type": "stream",
     "text": [
      " 35%|██████████████▉                            | 333/959 [22:22<33:36,  3.22s/it]"
     ]
    },
    {
     "name": "stdout",
     "output_type": "stream",
     "text": [
      "0.2592\n",
      "0.1428\n"
     ]
    },
    {
     "name": "stderr",
     "output_type": "stream",
     "text": [
      " 35%|███████████████                            | 337/959 [22:36<34:10,  3.30s/it]"
     ]
    },
    {
     "name": "stdout",
     "output_type": "stream",
     "text": [
      "0.1027\n",
      "0.0022\n"
     ]
    },
    {
     "name": "stderr",
     "output_type": "stream",
     "text": [
      " 35%|███████████████▏                           | 338/959 [22:50<44:34,  4.31s/it]"
     ]
    },
    {
     "name": "stdout",
     "output_type": "stream",
     "text": [
      "0.0053\n",
      "0.0567\n",
      "(Rarity) Collection: escape-the-agenda-official, Correlation: -0.12035114202454078, P-Value:0.0053\n"
     ]
    },
    {
     "name": "stderr",
     "output_type": "stream",
     "text": [
      " 35%|███████████████▏                           | 340/959 [23:04<49:37,  4.81s/it]"
     ]
    },
    {
     "name": "stdout",
     "output_type": "stream",
     "text": [
      "0.0802\n",
      "0.2742\n"
     ]
    },
    {
     "name": "stderr",
     "output_type": "stream",
     "text": [
      " 36%|███████████████▎                           | 342/959 [23:18<54:53,  5.34s/it]"
     ]
    },
    {
     "name": "stdout",
     "output_type": "stream",
     "text": [
      "0.0001\n",
      "0.0001\n"
     ]
    },
    {
     "name": "stderr",
     "output_type": "stream",
     "text": [
      " 36%|███████████████▌                           | 348/959 [23:32<38:45,  3.81s/it]"
     ]
    },
    {
     "name": "stdout",
     "output_type": "stream",
     "text": [
      "0.2127\n",
      "0.0296\n"
     ]
    },
    {
     "name": "stderr",
     "output_type": "stream",
     "text": [
      " 36%|███████████████▋                           | 350/959 [23:45<44:35,  4.39s/it]"
     ]
    },
    {
     "name": "stdout",
     "output_type": "stream",
     "text": [
      "0.6314\n",
      "0.028\n"
     ]
    },
    {
     "name": "stderr",
     "output_type": "stream",
     "text": [
      " 37%|███████████████▊                           | 354/959 [24:00<41:12,  4.09s/it]"
     ]
    },
    {
     "name": "stdout",
     "output_type": "stream",
     "text": [
      "0.3797\n",
      "0.0429\n"
     ]
    },
    {
     "name": "stderr",
     "output_type": "stream",
     "text": [
      " 37%|███████████████▉                           | 355/959 [24:13<51:41,  5.13s/it]"
     ]
    },
    {
     "name": "stdout",
     "output_type": "stream",
     "text": [
      "0.508\n",
      "0.3599\n"
     ]
    },
    {
     "name": "stderr",
     "output_type": "stream",
     "text": [
      " 38%|████████████████▍                          | 367/959 [24:26<24:23,  2.47s/it]"
     ]
    },
    {
     "name": "stdout",
     "output_type": "stream",
     "text": [
      "0.005\n",
      "0.098\n",
      "(Rarity) Collection: fiveheadcircle, Correlation: -0.1967562381743792, P-Value:0.005\n"
     ]
    },
    {
     "name": "stderr",
     "output_type": "stream",
     "text": [
      " 39%|████████████████▋                          | 373/959 [24:40<23:31,  2.41s/it]"
     ]
    },
    {
     "name": "stdout",
     "output_type": "stream",
     "text": [
      "0.0001\n",
      "0.4964\n",
      "(Rarity) Collection: fluf-world-thingies, Correlation: -0.24641448526457038, P-Value:0.0001\n"
     ]
    },
    {
     "name": "stderr",
     "output_type": "stream",
     "text": [
      " 39%|████████████████▊                          | 374/959 [24:54<31:28,  3.23s/it]"
     ]
    },
    {
     "name": "stdout",
     "output_type": "stream",
     "text": [
      "0.5296\n",
      "0.2313\n"
     ]
    },
    {
     "name": "stderr",
     "output_type": "stream",
     "text": [
      " 39%|████████████████▊                          | 375/959 [25:08<41:40,  4.28s/it]"
     ]
    },
    {
     "name": "stdout",
     "output_type": "stream",
     "text": [
      "0.1118\n",
      "0.652\n"
     ]
    },
    {
     "name": "stderr",
     "output_type": "stream",
     "text": [
      " 40%|████████████████▉                          | 379/959 [25:23<39:00,  4.04s/it]"
     ]
    },
    {
     "name": "stdout",
     "output_type": "stream",
     "text": [
      "0.0001\n",
      "0.0006\n",
      "(Rarity) Collection: foxyfamnft, Correlation: -0.19412616236951155, P-Value:0.0001\n"
     ]
    },
    {
     "name": "stderr",
     "output_type": "stream",
     "text": [
      " 40%|█████████████████                          | 380/959 [25:37<49:29,  5.13s/it]"
     ]
    },
    {
     "name": "stdout",
     "output_type": "stream",
     "text": [
      "0.0059\n",
      "0.6036\n",
      "(Rarity) Collection: fragments-by-james-jean, Correlation: -0.1317089114825086, P-Value:0.0059\n"
     ]
    },
    {
     "name": "stderr",
     "output_type": "stream",
     "text": [
      " 40%|████████████████▎                        | 381/959 [25:52<1:02:34,  6.50s/it]"
     ]
    },
    {
     "name": "stdout",
     "output_type": "stream",
     "text": [
      "0.6178\n",
      "0.1919\n"
     ]
    },
    {
     "name": "stderr",
     "output_type": "stream",
     "text": [
      " 40%|████████████████▎                        | 382/959 [26:05<1:12:43,  7.56s/it]"
     ]
    },
    {
     "name": "stdout",
     "output_type": "stream",
     "text": [
      "0.8737\n",
      "0.0819\n"
     ]
    },
    {
     "name": "stderr",
     "output_type": "stream",
     "text": [
      " 40%|████████████████▍                        | 384/959 [26:20<1:11:49,  7.50s/it]"
     ]
    },
    {
     "name": "stdout",
     "output_type": "stream",
     "text": [
      "0.0001\n",
      "0.5404\n",
      "(Rarity) Collection: fresh-fools-nft, Correlation: -0.2129476244029511, P-Value:0.0001\n"
     ]
    },
    {
     "name": "stderr",
     "output_type": "stream",
     "text": [
      " 40%|█████████████████▎                         | 387/959 [26:25<49:03,  5.15s/it]"
     ]
    },
    {
     "name": "stdout",
     "output_type": "stream",
     "text": [
      "0.0001\n",
      "0.3899\n"
     ]
    },
    {
     "name": "stderr",
     "output_type": "stream",
     "text": [
      " 41%|█████████████████▍                         | 389/959 [26:39<54:37,  5.75s/it]"
     ]
    },
    {
     "name": "stdout",
     "output_type": "stream",
     "text": [
      "0.0564\n",
      "0.0361\n"
     ]
    },
    {
     "name": "stderr",
     "output_type": "stream",
     "text": [
      " 41%|█████████████████▌                         | 391/959 [26:53<57:47,  6.11s/it]"
     ]
    },
    {
     "name": "stdout",
     "output_type": "stream",
     "text": [
      "0.1944\n",
      "0.1897\n"
     ]
    },
    {
     "name": "stderr",
     "output_type": "stream",
     "text": [
      " 41%|████████████████▊                        | 393/959 [27:08<1:00:31,  6.42s/it]"
     ]
    },
    {
     "name": "stdout",
     "output_type": "stream",
     "text": [
      "0.0085\n",
      "0.0481\n",
      "(Rarity) Collection: funclesnft, Correlation: -0.11889595778783318, P-Value:0.0085\n"
     ]
    },
    {
     "name": "stderr",
     "output_type": "stream",
     "text": [
      " 41%|█████████████████▊                         | 397/959 [27:22<48:33,  5.18s/it]"
     ]
    },
    {
     "name": "stdout",
     "output_type": "stream",
     "text": [
      "0.0704\n",
      "0.0165\n"
     ]
    },
    {
     "name": "stderr",
     "output_type": "stream",
     "text": [
      " 42%|█████████████████▉                         | 399/959 [27:36<52:13,  5.60s/it]"
     ]
    },
    {
     "name": "stdout",
     "output_type": "stream",
     "text": [
      "0.0031\n",
      "0.0073\n",
      "(Rarity) Collection: galactic-secret-agency, Correlation: -0.16415990011731174, P-Value:0.0031\n"
     ]
    },
    {
     "name": "stderr",
     "output_type": "stream",
     "text": [
      " 42%|██████████████████                         | 404/959 [27:51<40:39,  4.40s/it]"
     ]
    },
    {
     "name": "stdout",
     "output_type": "stream",
     "text": [
      "0.1023\n",
      "0.5953\n"
     ]
    },
    {
     "name": "stderr",
     "output_type": "stream",
     "text": [
      " 42%|██████████████████▏                        | 405/959 [28:05<51:05,  5.53s/it]"
     ]
    },
    {
     "name": "stdout",
     "output_type": "stream",
     "text": [
      "1.0\n",
      "0.9483\n"
     ]
    },
    {
     "name": "stderr",
     "output_type": "stream",
     "text": [
      " 42%|█████████████████▎                       | 406/959 [28:20<1:03:05,  6.84s/it]"
     ]
    },
    {
     "name": "stdout",
     "output_type": "stream",
     "text": [
      "0.051\n",
      "0.3349\n"
     ]
    },
    {
     "name": "stderr",
     "output_type": "stream",
     "text": [
      " 43%|██████████████████▎                        | 409/959 [28:35<56:19,  6.14s/it]"
     ]
    },
    {
     "name": "stdout",
     "output_type": "stream",
     "text": [
      "0.0871\n",
      "0.0428\n"
     ]
    },
    {
     "name": "stderr",
     "output_type": "stream",
     "text": [
      " 43%|█████████████████▌                       | 410/959 [28:49<1:07:32,  7.38s/it]"
     ]
    },
    {
     "name": "stdout",
     "output_type": "stream",
     "text": [
      "0.0001\n",
      "0.0049\n",
      "(Rarity) Collection: gen-dot-art, Correlation: -0.24209079020548152, P-Value:0.0001\n"
     ]
    },
    {
     "name": "stderr",
     "output_type": "stream",
     "text": [
      " 43%|██████████████████▌                        | 415/959 [29:03<44:31,  4.91s/it]"
     ]
    },
    {
     "name": "stdout",
     "output_type": "stream",
     "text": [
      "0.7768\n",
      "0.032\n"
     ]
    },
    {
     "name": "stderr",
     "output_type": "stream",
     "text": [
      " 43%|██████████████████▋                        | 417/959 [29:18<49:57,  5.53s/it]"
     ]
    },
    {
     "name": "stdout",
     "output_type": "stream",
     "text": [
      "0.0028\n",
      "0.0001\n"
     ]
    },
    {
     "name": "stderr",
     "output_type": "stream",
     "text": [
      " 44%|█████████████████▊                       | 418/959 [29:33<1:02:08,  6.89s/it]"
     ]
    },
    {
     "name": "stdout",
     "output_type": "stream",
     "text": [
      "0.0031\n",
      "0.6475\n",
      "(Rarity) Collection: ghostchildbones, Correlation: -0.1140810626628119, P-Value:0.0031\n"
     ]
    },
    {
     "name": "stderr",
     "output_type": "stream",
     "text": [
      " 44%|██████████████████▉                        | 422/959 [29:47<48:24,  5.41s/it]"
     ]
    },
    {
     "name": "stdout",
     "output_type": "stream",
     "text": [
      "0.0414\n",
      "0.8908\n",
      "(Rarity) Collection: gitcoin-presents, Correlation: -0.08301177079818037, P-Value:0.0414\n"
     ]
    },
    {
     "name": "stderr",
     "output_type": "stream",
     "text": [
      " 45%|███████████████████▏                       | 429/959 [30:02<32:21,  3.66s/it]"
     ]
    },
    {
     "name": "stdout",
     "output_type": "stream",
     "text": [
      "0.2309\n",
      "0.1085\n"
     ]
    },
    {
     "name": "stderr",
     "output_type": "stream",
     "text": [
      " 45%|███████████████████▎                       | 432/959 [30:15<33:53,  3.86s/it]"
     ]
    },
    {
     "name": "stdout",
     "output_type": "stream",
     "text": [
      "0.2923\n",
      "0.1509\n"
     ]
    },
    {
     "name": "stderr",
     "output_type": "stream",
     "text": [
      " 45%|███████████████████▍                       | 433/959 [30:29<43:08,  4.92s/it]"
     ]
    },
    {
     "name": "stdout",
     "output_type": "stream",
     "text": [
      "0.0002\n",
      "0.0031\n",
      "(Rarity) Collection: gossamer-academy, Correlation: -0.19061707839033687, P-Value:0.0002\n"
     ]
    },
    {
     "name": "stderr",
     "output_type": "stream",
     "text": [
      " 45%|███████████████████▍                       | 434/959 [30:44<54:24,  6.22s/it]"
     ]
    },
    {
     "name": "stdout",
     "output_type": "stream",
     "text": [
      "1.0\n",
      "0.1067\n"
     ]
    },
    {
     "name": "stderr",
     "output_type": "stream",
     "text": [
      " 45%|██████████████████▌                      | 435/959 [30:57<1:02:42,  7.18s/it]"
     ]
    },
    {
     "name": "stdout",
     "output_type": "stream",
     "text": [
      "0.5728\n",
      "0.0096\n"
     ]
    },
    {
     "name": "stderr",
     "output_type": "stream",
     "text": [
      " 46%|███████████████████▋                       | 438/959 [31:11<53:39,  6.18s/it]"
     ]
    },
    {
     "name": "stdout",
     "output_type": "stream",
     "text": [
      "0.0003\n",
      "0.0001\n"
     ]
    },
    {
     "name": "stderr",
     "output_type": "stream",
     "text": [
      " 46%|███████████████████▊                       | 441/959 [31:25<48:22,  5.60s/it]"
     ]
    },
    {
     "name": "stdout",
     "output_type": "stream",
     "text": [
      "0.1271\n",
      "0.1707\n"
     ]
    },
    {
     "name": "stderr",
     "output_type": "stream",
     "text": [
      " 47%|████████████████████                       | 448/959 [31:39<31:05,  3.65s/it]"
     ]
    },
    {
     "name": "stdout",
     "output_type": "stream",
     "text": [
      "0.0059\n",
      "0.0001\n"
     ]
    },
    {
     "name": "stderr",
     "output_type": "stream",
     "text": [
      " 47%|████████████████████▏                      | 450/959 [31:53<36:30,  4.30s/it]"
     ]
    },
    {
     "name": "stdout",
     "output_type": "stream",
     "text": [
      "0.5438\n",
      "0.2423\n"
     ]
    },
    {
     "name": "stderr",
     "output_type": "stream",
     "text": [
      " 47%|████████████████████▎                      | 453/959 [32:08<37:45,  4.48s/it]"
     ]
    },
    {
     "name": "stdout",
     "output_type": "stream",
     "text": [
      "0.6328\n",
      "0.3048\n"
     ]
    },
    {
     "name": "stderr",
     "output_type": "stream",
     "text": [
      " 48%|████████████████████▍                      | 456/959 [32:22<38:19,  4.57s/it]"
     ]
    },
    {
     "name": "stdout",
     "output_type": "stream",
     "text": [
      "0.4298\n",
      "0.2374\n"
     ]
    },
    {
     "name": "stderr",
     "output_type": "stream",
     "text": [
      " 48%|████████████████████▍                      | 457/959 [32:35<46:12,  5.52s/it]"
     ]
    },
    {
     "name": "stdout",
     "output_type": "stream",
     "text": [
      "0.9262\n",
      "0.1605\n"
     ]
    },
    {
     "name": "stderr",
     "output_type": "stream",
     "text": [
      " 48%|████████████████████▌                      | 458/959 [32:49<56:53,  6.81s/it]"
     ]
    },
    {
     "name": "stdout",
     "output_type": "stream",
     "text": [
      "0.0001\n",
      "0.0002\n",
      "(Rarity) Collection: hausphasesbyfabrik, Correlation: -0.19757046879299853, P-Value:0.0001\n"
     ]
    },
    {
     "name": "stderr",
     "output_type": "stream",
     "text": [
      " 48%|████████████████████▊                      | 463/959 [33:03<38:55,  4.71s/it]"
     ]
    },
    {
     "name": "stdout",
     "output_type": "stream",
     "text": [
      "1.0\n",
      "0.002\n"
     ]
    },
    {
     "name": "stderr",
     "output_type": "stream",
     "text": [
      " 48%|████████████████████▊                      | 465/959 [33:17<43:23,  5.27s/it]"
     ]
    },
    {
     "name": "stdout",
     "output_type": "stream",
     "text": [
      "0.0001\n",
      "0.0303\n",
      "(Rarity) Collection: himalayainc, Correlation: -0.3530329325857317, P-Value:0.0001\n"
     ]
    },
    {
     "name": "stderr",
     "output_type": "stream",
     "text": [
      " 49%|████████████████████▉                      | 466/959 [33:30<52:21,  6.37s/it]"
     ]
    },
    {
     "name": "stdout",
     "output_type": "stream",
     "text": [
      "0.3472\n",
      "0.3582\n"
     ]
    },
    {
     "name": "stderr",
     "output_type": "stream",
     "text": [
      " 49%|█████████████████████                      | 469/959 [33:44<46:24,  5.68s/it]"
     ]
    },
    {
     "name": "stdout",
     "output_type": "stream",
     "text": [
      "0.0001\n",
      "0.0078\n",
      "(Rarity) Collection: hot-dougs, Correlation: -0.23414665156206793, P-Value:0.0001\n"
     ]
    },
    {
     "name": "stderr",
     "output_type": "stream",
     "text": [
      " 49%|█████████████████████                      | 471/959 [33:58<48:56,  6.02s/it]"
     ]
    },
    {
     "name": "stdout",
     "output_type": "stream",
     "text": [
      "0.038\n",
      "0.1262\n",
      "(Rarity) Collection: hugpass, Correlation: -0.09811459460555026, P-Value:0.038\n"
     ]
    },
    {
     "name": "stderr",
     "output_type": "stream",
     "text": [
      " 49%|█████████████████████▎                     | 474/959 [34:11<44:16,  5.48s/it]"
     ]
    },
    {
     "name": "stdout",
     "output_type": "stream",
     "text": [
      "0.3531\n",
      "0.0613\n"
     ]
    },
    {
     "name": "stderr",
     "output_type": "stream",
     "text": [
      " 51%|█████████████████████▋                     | 485/959 [34:25<21:32,  2.73s/it]"
     ]
    },
    {
     "name": "stdout",
     "output_type": "stream",
     "text": [
      "0.7992\n",
      "0.7677\n"
     ]
    },
    {
     "name": "stderr",
     "output_type": "stream",
     "text": [
      " 51%|█████████████████████▊                     | 487/959 [34:38<25:28,  3.24s/it]"
     ]
    },
    {
     "name": "stdout",
     "output_type": "stream",
     "text": [
      "0.1643\n",
      "0.1785\n"
     ]
    },
    {
     "name": "stderr",
     "output_type": "stream",
     "text": [
      " 51%|█████████████████████▉                     | 488/959 [34:52<33:44,  4.30s/it]"
     ]
    },
    {
     "name": "stdout",
     "output_type": "stream",
     "text": [
      "0.1002\n",
      "0.1618\n"
     ]
    },
    {
     "name": "stderr",
     "output_type": "stream",
     "text": [
      " 52%|██████████████████████▏                    | 496/959 [35:05<22:14,  2.88s/it]"
     ]
    },
    {
     "name": "stdout",
     "output_type": "stream",
     "text": [
      "0.0027\n",
      "0.0001\n"
     ]
    },
    {
     "name": "stderr",
     "output_type": "stream",
     "text": [
      " 52%|██████████████████████▎                    | 499/959 [35:18<24:45,  3.23s/it]"
     ]
    },
    {
     "name": "stdout",
     "output_type": "stream",
     "text": [
      "0.2989\n",
      "0.269\n"
     ]
    },
    {
     "name": "stderr",
     "output_type": "stream",
     "text": [
      " 52%|██████████████████████▌                    | 502/959 [35:32<27:00,  3.55s/it]"
     ]
    },
    {
     "name": "stdout",
     "output_type": "stream",
     "text": [
      "0.0008\n",
      "0.0001\n"
     ]
    },
    {
     "name": "stderr",
     "output_type": "stream",
     "text": [
      " 52%|██████████████████████▌                    | 503/959 [35:46<35:21,  4.65s/it]"
     ]
    },
    {
     "name": "stdout",
     "output_type": "stream",
     "text": [
      "0.37\n",
      "0.0249\n"
     ]
    },
    {
     "name": "stderr",
     "output_type": "stream",
     "text": [
      " 53%|██████████████████████▋                    | 505/959 [36:00<38:38,  5.11s/it]"
     ]
    },
    {
     "name": "stdout",
     "output_type": "stream",
     "text": [
      "0.203\n",
      "0.1207\n"
     ]
    },
    {
     "name": "stderr",
     "output_type": "stream",
     "text": [
      " 53%|██████████████████████▊                    | 509/959 [36:13<33:15,  4.43s/it]"
     ]
    },
    {
     "name": "stdout",
     "output_type": "stream",
     "text": [
      "0.0008\n",
      "0.0006\n"
     ]
    },
    {
     "name": "stderr",
     "output_type": "stream",
     "text": [
      " 53%|██████████████████████▉                    | 512/959 [36:27<33:07,  4.45s/it]"
     ]
    },
    {
     "name": "stdout",
     "output_type": "stream",
     "text": [
      "0.5289\n",
      "0.5793\n"
     ]
    },
    {
     "name": "stderr",
     "output_type": "stream",
     "text": [
      " 54%|███████████████████████▏                   | 517/959 [36:39<26:46,  3.64s/it]"
     ]
    },
    {
     "name": "stdout",
     "output_type": "stream",
     "text": [
      "0.9857\n",
      "0.1302\n"
     ]
    },
    {
     "name": "stderr",
     "output_type": "stream",
     "text": [
      " 55%|███████████████████████▍                   | 523/959 [36:54<22:39,  3.12s/it]"
     ]
    },
    {
     "name": "stdout",
     "output_type": "stream",
     "text": [
      "0.0007\n",
      "0.0167\n",
      "(Rarity) Collection: knights-of-degen-official, Correlation: -0.15416079012678854, P-Value:0.0007\n"
     ]
    },
    {
     "name": "stderr",
     "output_type": "stream",
     "text": [
      " 55%|███████████████████████▋                   | 528/959 [37:08<21:47,  3.03s/it]"
     ]
    },
    {
     "name": "stdout",
     "output_type": "stream",
     "text": [
      "0.0585\n",
      "0.3072\n"
     ]
    },
    {
     "name": "stderr",
     "output_type": "stream",
     "text": [
      " 55%|███████████████████████▋                   | 529/959 [37:21<27:59,  3.90s/it]"
     ]
    },
    {
     "name": "stdout",
     "output_type": "stream",
     "text": [
      "0.3381\n",
      "0.149\n"
     ]
    },
    {
     "name": "stderr",
     "output_type": "stream",
     "text": [
      " 56%|████████████████████████                   | 537/959 [37:35<20:06,  2.86s/it]"
     ]
    },
    {
     "name": "stdout",
     "output_type": "stream",
     "text": [
      "0.2995\n",
      "0.0228\n"
     ]
    },
    {
     "name": "stderr",
     "output_type": "stream",
     "text": [
      " 57%|████████████████████████▎                  | 542/959 [37:49<19:22,  2.79s/it]"
     ]
    },
    {
     "name": "stdout",
     "output_type": "stream",
     "text": [
      "0.4541\n",
      "0.2665\n"
     ]
    },
    {
     "name": "stderr",
     "output_type": "stream",
     "text": [
      " 57%|████████████████████████▍                  | 546/959 [38:04<20:58,  3.05s/it]"
     ]
    },
    {
     "name": "stdout",
     "output_type": "stream",
     "text": [
      "0.0001\n",
      "0.2559\n",
      "(Rarity) Collection: lilkami, Correlation: -0.1972797994987543, P-Value:0.0001\n"
     ]
    },
    {
     "name": "stderr",
     "output_type": "stream",
     "text": [
      " 57%|████████████████████████▌                  | 549/959 [38:17<23:06,  3.38s/it]"
     ]
    },
    {
     "name": "stdout",
     "output_type": "stream",
     "text": [
      "1.0\n",
      "0.0001\n"
     ]
    },
    {
     "name": "stderr",
     "output_type": "stream",
     "text": [
      " 59%|█████████████████████████▎                 | 565/959 [38:31<11:43,  1.78s/it]"
     ]
    },
    {
     "name": "stdout",
     "output_type": "stream",
     "text": [
      "0.0001\n",
      "0.0067\n",
      "(Rarity) Collection: lostsoulssanctuary, Correlation: -0.3266168036930404, P-Value:0.0001\n"
     ]
    },
    {
     "name": "stderr",
     "output_type": "stream",
     "text": [
      " 59%|█████████████████████████▍                 | 568/959 [38:45<14:25,  2.21s/it]"
     ]
    },
    {
     "name": "stdout",
     "output_type": "stream",
     "text": [
      "0.0035\n",
      "0.0965\n",
      "(Rarity) Collection: lucky-ducky-nft, Correlation: -0.12357583514374666, P-Value:0.0035\n"
     ]
    },
    {
     "name": "stderr",
     "output_type": "stream",
     "text": [
      " 59%|█████████████████████████▌                 | 570/959 [38:58<17:42,  2.73s/it]"
     ]
    },
    {
     "name": "stdout",
     "output_type": "stream",
     "text": [
      "0.0535\n",
      "0.0012\n"
     ]
    },
    {
     "name": "stderr",
     "output_type": "stream",
     "text": [
      " 60%|█████████████████████████▋                 | 574/959 [39:12<18:39,  2.91s/it]"
     ]
    },
    {
     "name": "stdout",
     "output_type": "stream",
     "text": [
      "0.4713\n",
      "0.1455\n"
     ]
    },
    {
     "name": "stderr",
     "output_type": "stream",
     "text": [
      " 60%|█████████████████████████▊                 | 575/959 [39:26<24:37,  3.85s/it]"
     ]
    },
    {
     "name": "stdout",
     "output_type": "stream",
     "text": [
      "0.0287\n",
      "0.0126\n"
     ]
    },
    {
     "name": "stderr",
     "output_type": "stream",
     "text": [
      " 60%|█████████████████████████▊                 | 577/959 [39:40<28:18,  4.45s/it]"
     ]
    },
    {
     "name": "stdout",
     "output_type": "stream",
     "text": [
      "0.7573\n",
      "0.0235\n"
     ]
    },
    {
     "name": "stderr",
     "output_type": "stream",
     "text": [
      " 61%|██████████████████████████▎                | 586/959 [39:53<17:30,  2.82s/it]"
     ]
    },
    {
     "name": "stdout",
     "output_type": "stream",
     "text": [
      "0.5595\n",
      "0.0994\n"
     ]
    },
    {
     "name": "stderr",
     "output_type": "stream",
     "text": [
      " 62%|██████████████████████████▌                | 592/959 [40:07<16:10,  2.64s/it]"
     ]
    },
    {
     "name": "stdout",
     "output_type": "stream",
     "text": [
      "0.8002\n",
      "0.0277\n"
     ]
    },
    {
     "name": "stderr",
     "output_type": "stream",
     "text": [
      " 62%|██████████████████████████▌                | 593/959 [40:22<21:34,  3.54s/it]"
     ]
    },
    {
     "name": "stdout",
     "output_type": "stream",
     "text": [
      "0.6783\n",
      "0.0016\n"
     ]
    },
    {
     "name": "stderr",
     "output_type": "stream",
     "text": [
      " 62%|██████████████████████████▋                | 596/959 [40:35<23:01,  3.81s/it]"
     ]
    },
    {
     "name": "stdout",
     "output_type": "stream",
     "text": [
      "0.0002\n",
      "0.0008\n",
      "(Rarity) Collection: metacraft-season-pass-2022, Correlation: -0.18063835918368504, P-Value:0.0002\n"
     ]
    },
    {
     "name": "stderr",
     "output_type": "stream",
     "text": [
      " 62%|██████████████████████████▊                | 597/959 [40:49<28:48,  4.78s/it]"
     ]
    },
    {
     "name": "stdout",
     "output_type": "stream",
     "text": [
      "0.0001\n",
      "0.0001\n"
     ]
    },
    {
     "name": "stderr",
     "output_type": "stream",
     "text": [
      " 63%|██████████████████████████▉                | 600/959 [41:02<28:16,  4.73s/it]"
     ]
    },
    {
     "name": "stdout",
     "output_type": "stream",
     "text": [
      "0.0593\n",
      "0.3366\n"
     ]
    },
    {
     "name": "stderr",
     "output_type": "stream",
     "text": [
      " 63%|██████████████████████████▉                | 602/959 [41:17<31:57,  5.37s/it]"
     ]
    },
    {
     "name": "stdout",
     "output_type": "stream",
     "text": [
      "0.1068\n",
      "0.0962\n"
     ]
    },
    {
     "name": "stderr",
     "output_type": "stream",
     "text": [
      " 64%|███████████████████████████▎               | 610/959 [41:31<19:07,  3.29s/it]"
     ]
    },
    {
     "name": "stdout",
     "output_type": "stream",
     "text": [
      "0.3577\n",
      "0.078\n"
     ]
    },
    {
     "name": "stderr",
     "output_type": "stream",
     "text": [
      " 64%|███████████████████████████▍               | 613/959 [41:45<20:37,  3.58s/it]"
     ]
    },
    {
     "name": "stdout",
     "output_type": "stream",
     "text": [
      "0.0178\n",
      "0.4107\n",
      "(Rarity) Collection: misfit-university-official, Correlation: -0.125566202820736, P-Value:0.0178\n"
     ]
    },
    {
     "name": "stderr",
     "output_type": "stream",
     "text": [
      " 64%|███████████████████████████▌               | 614/959 [41:58<25:57,  4.51s/it]"
     ]
    },
    {
     "name": "stdout",
     "output_type": "stream",
     "text": [
      "0.3822\n",
      "0.4725\n"
     ]
    },
    {
     "name": "stderr",
     "output_type": "stream",
     "text": [
      " 64%|███████████████████████████▌               | 616/959 [42:11<28:34,  5.00s/it]"
     ]
    },
    {
     "name": "stdout",
     "output_type": "stream",
     "text": [
      "0.4293\n",
      "0.3224\n"
     ]
    },
    {
     "name": "stderr",
     "output_type": "stream",
     "text": [
      " 64%|███████████████████████████▋               | 617/959 [42:25<35:10,  6.17s/it]"
     ]
    },
    {
     "name": "stdout",
     "output_type": "stream",
     "text": [
      "0.0001\n",
      "0.0001\n",
      "(Rarity) Collection: mobs-and-aliens, Correlation: -0.40931386944800563, P-Value:0.0001\n"
     ]
    },
    {
     "name": "stderr",
     "output_type": "stream",
     "text": [
      " 65%|███████████████████████████▉               | 622/959 [42:38<25:17,  4.50s/it]"
     ]
    },
    {
     "name": "stdout",
     "output_type": "stream",
     "text": [
      "0.6396\n",
      "0.0997\n"
     ]
    },
    {
     "name": "stderr",
     "output_type": "stream",
     "text": [
      " 65%|███████████████████████████▉               | 623/959 [42:53<31:56,  5.70s/it]"
     ]
    },
    {
     "name": "stdout",
     "output_type": "stream",
     "text": [
      "0.057\n",
      "0.2017\n"
     ]
    },
    {
     "name": "stderr",
     "output_type": "stream",
     "text": [
      " 65%|████████████████████████████▏              | 628/959 [43:06<23:41,  4.29s/it]"
     ]
    },
    {
     "name": "stdout",
     "output_type": "stream",
     "text": [
      "0.0161\n",
      "0.0053\n"
     ]
    },
    {
     "name": "stderr",
     "output_type": "stream",
     "text": [
      " 66%|████████████████████████████▏              | 630/959 [43:21<27:25,  5.00s/it]"
     ]
    },
    {
     "name": "stdout",
     "output_type": "stream",
     "text": [
      "0.0068\n",
      "0.0619\n",
      "(Rarity) Collection: moonrunnersnft, Correlation: -0.10344136609382007, P-Value:0.0068\n"
     ]
    },
    {
     "name": "stderr",
     "output_type": "stream",
     "text": [
      " 66%|████████████████████████████▌              | 637/959 [43:36<18:49,  3.51s/it]"
     ]
    },
    {
     "name": "stdout",
     "output_type": "stream",
     "text": [
      "0.2898\n",
      "0.3336\n"
     ]
    },
    {
     "name": "stderr",
     "output_type": "stream",
     "text": [
      " 67%|████████████████████████████▌              | 638/959 [43:50<23:57,  4.48s/it]"
     ]
    },
    {
     "name": "stdout",
     "output_type": "stream",
     "text": [
      "0.0003\n",
      "0.0002\n"
     ]
    },
    {
     "name": "stderr",
     "output_type": "stream",
     "text": [
      " 67%|████████████████████████████▋              | 639/959 [44:03<29:28,  5.53s/it]"
     ]
    },
    {
     "name": "stdout",
     "output_type": "stream",
     "text": [
      "0.3331\n",
      "0.2283\n"
     ]
    },
    {
     "name": "stderr",
     "output_type": "stream",
     "text": [
      " 67%|████████████████████████████▉              | 644/959 [44:16<22:00,  4.19s/it]"
     ]
    },
    {
     "name": "stdout",
     "output_type": "stream",
     "text": [
      "0.4864\n",
      "0.1028\n"
     ]
    },
    {
     "name": "stderr",
     "output_type": "stream",
     "text": [
      " 67%|█████████████████████████████              | 647/959 [44:31<22:43,  4.37s/it]"
     ]
    },
    {
     "name": "stdout",
     "output_type": "stream",
     "text": [
      "0.0141\n",
      "0.003\n"
     ]
    },
    {
     "name": "stderr",
     "output_type": "stream",
     "text": [
      " 68%|█████████████████████████████▏             | 650/959 [44:44<22:35,  4.39s/it]"
     ]
    },
    {
     "name": "stdout",
     "output_type": "stream",
     "text": [
      "0.9769\n",
      "0.2185\n"
     ]
    },
    {
     "name": "stderr",
     "output_type": "stream",
     "text": [
      " 68%|█████████████████████████████▎             | 655/959 [44:58<18:48,  3.71s/it]"
     ]
    },
    {
     "name": "stdout",
     "output_type": "stream",
     "text": [
      "0.0001\n",
      "0.5775\n",
      "(Rarity) Collection: neopunkssaga, Correlation: -0.2660543326839583, P-Value:0.0001\n"
     ]
    },
    {
     "name": "stderr",
     "output_type": "stream",
     "text": [
      " 69%|█████████████████████████████▊             | 665/959 [45:12<12:17,  2.51s/it]"
     ]
    },
    {
     "name": "stdout",
     "output_type": "stream",
     "text": [
      "0.0004\n",
      "0.011\n",
      "(Rarity) Collection: noodlesnft-official, Correlation: -0.14505905642184677, P-Value:0.0004\n"
     ]
    },
    {
     "name": "stderr",
     "output_type": "stream",
     "text": [
      " 70%|█████████████████████████████▉             | 669/959 [45:27<13:22,  2.77s/it]"
     ]
    },
    {
     "name": "stdout",
     "output_type": "stream",
     "text": [
      "0.0002\n",
      "0.0001\n",
      "(Rarity) Collection: nounpunks-eth, Correlation: -0.18138296744217502, P-Value:0.0002\n"
     ]
    },
    {
     "name": "stderr",
     "output_type": "stream",
     "text": [
      " 71%|██████████████████████████████▍            | 680/959 [45:41<09:36,  2.07s/it]"
     ]
    },
    {
     "name": "stdout",
     "output_type": "stream",
     "text": [
      "0.1324\n",
      "0.0762\n"
     ]
    },
    {
     "name": "stderr",
     "output_type": "stream",
     "text": [
      " 71%|██████████████████████████████▌            | 683/959 [45:55<11:17,  2.45s/it]"
     ]
    },
    {
     "name": "stdout",
     "output_type": "stream",
     "text": [
      "1.0\n",
      "0.9978\n"
     ]
    },
    {
     "name": "stderr",
     "output_type": "stream",
     "text": [
      " 72%|██████████████████████████████▉            | 689/959 [46:08<10:48,  2.40s/it]"
     ]
    },
    {
     "name": "stdout",
     "output_type": "stream",
     "text": [
      "0.0788\n",
      "0.039\n"
     ]
    },
    {
     "name": "stderr",
     "output_type": "stream",
     "text": [
      " 72%|██████████████████████████████▉            | 691/959 [46:23<13:26,  3.01s/it]"
     ]
    },
    {
     "name": "stdout",
     "output_type": "stream",
     "text": [
      "0.0001\n",
      "0.0004\n",
      "(Rarity) Collection: origamasks, Correlation: -0.21546031973641008, P-Value:0.0001\n"
     ]
    },
    {
     "name": "stderr",
     "output_type": "stream",
     "text": [
      " 73%|███████████████████████████████▎           | 698/959 [46:37<11:25,  2.63s/it]"
     ]
    },
    {
     "name": "stdout",
     "output_type": "stream",
     "text": [
      "0.0977\n",
      "0.1355\n"
     ]
    },
    {
     "name": "stderr",
     "output_type": "stream",
     "text": [
      " 73%|███████████████████████████████▍           | 700/959 [46:50<13:45,  3.19s/it]"
     ]
    },
    {
     "name": "stdout",
     "output_type": "stream",
     "text": [
      "0.0005\n",
      "0.006\n",
      "(Rarity) Collection: peanz-official, Correlation: -0.2224232404883542, P-Value:0.0005\n"
     ]
    },
    {
     "name": "stderr",
     "output_type": "stream",
     "text": [
      " 75%|████████████████████████████████▏          | 718/959 [47:04<06:32,  1.63s/it]"
     ]
    },
    {
     "name": "stdout",
     "output_type": "stream",
     "text": [
      "0.999\n",
      "0.1188\n"
     ]
    },
    {
     "name": "stderr",
     "output_type": "stream",
     "text": [
      " 75%|████████████████████████████████▏          | 719/959 [47:19<09:06,  2.28s/it]"
     ]
    },
    {
     "name": "stdout",
     "output_type": "stream",
     "text": [
      "0.0123\n",
      "0.0292\n",
      "(Rarity) Collection: pixels-farm, Correlation: -0.09716645065583703, P-Value:0.0123\n"
     ]
    },
    {
     "name": "stderr",
     "output_type": "stream",
     "text": [
      " 75%|████████████████████████████████▎          | 721/959 [47:33<11:22,  2.87s/it]"
     ]
    },
    {
     "name": "stdout",
     "output_type": "stream",
     "text": [
      "0.9997\n",
      "0.0001\n"
     ]
    },
    {
     "name": "stderr",
     "output_type": "stream",
     "text": [
      " 75%|████████████████████████████████▍          | 724/959 [47:48<12:56,  3.30s/it]"
     ]
    },
    {
     "name": "stdout",
     "output_type": "stream",
     "text": [
      "0.6153\n",
      "0.3674\n"
     ]
    },
    {
     "name": "stderr",
     "output_type": "stream",
     "text": [
      " 77%|████████████████████████████████▉          | 734/959 [48:02<08:49,  2.35s/it]"
     ]
    },
    {
     "name": "stdout",
     "output_type": "stream",
     "text": [
      "0.9707\n",
      "0.6059\n"
     ]
    },
    {
     "name": "stderr",
     "output_type": "stream",
     "text": [
      " 77%|█████████████████████████████████          | 736/959 [48:16<10:53,  2.93s/it]"
     ]
    },
    {
     "name": "stdout",
     "output_type": "stream",
     "text": [
      "0.0006\n",
      "0.0053\n",
      "(Rarity) Collection: probablyalabel, Correlation: -0.14740663454036773, P-Value:0.0006\n"
     ]
    },
    {
     "name": "stderr",
     "output_type": "stream",
     "text": [
      " 77%|█████████████████████████████████▏         | 740/959 [48:31<11:27,  3.14s/it]"
     ]
    },
    {
     "name": "stdout",
     "output_type": "stream",
     "text": [
      "0.0005\n",
      "0.0288\n",
      "(Rarity) Collection: projectkaito, Correlation: -0.14141039546662226, P-Value:0.0005\n"
     ]
    },
    {
     "name": "stderr",
     "output_type": "stream",
     "text": [
      " 77%|█████████████████████████████████▎         | 743/959 [48:45<12:35,  3.50s/it]"
     ]
    },
    {
     "name": "stdout",
     "output_type": "stream",
     "text": [
      "0.0001\n",
      "0.0019\n",
      "(Rarity) Collection: proof-moonbirds, Correlation: -0.23005139347722764, P-Value:0.0001\n"
     ]
    },
    {
     "name": "stderr",
     "output_type": "stream",
     "text": [
      " 78%|█████████████████████████████████▍         | 746/959 [49:00<13:36,  3.83s/it]"
     ]
    },
    {
     "name": "stdout",
     "output_type": "stream",
     "text": [
      "0.995\n",
      "0.4066\n"
     ]
    },
    {
     "name": "stderr",
     "output_type": "stream",
     "text": [
      " 78%|█████████████████████████████████▌         | 748/959 [49:13<15:16,  4.34s/it]"
     ]
    },
    {
     "name": "stdout",
     "output_type": "stream",
     "text": [
      "0.8197\n",
      "0.6657\n"
     ]
    },
    {
     "name": "stderr",
     "output_type": "stream",
     "text": [
      " 78%|█████████████████████████████████▋         | 750/959 [49:26<16:44,  4.81s/it]"
     ]
    },
    {
     "name": "stdout",
     "output_type": "stream",
     "text": [
      "0.3958\n",
      "0.1508\n"
     ]
    },
    {
     "name": "stderr",
     "output_type": "stream",
     "text": [
      " 78%|█████████████████████████████████▋         | 752/959 [49:40<18:18,  5.31s/it]"
     ]
    },
    {
     "name": "stdout",
     "output_type": "stream",
     "text": [
      "0.0164\n",
      "0.014\n"
     ]
    },
    {
     "name": "stderr",
     "output_type": "stream",
     "text": [
      " 79%|█████████████████████████████████▊         | 755/959 [49:54<17:08,  5.04s/it]"
     ]
    },
    {
     "name": "stdout",
     "output_type": "stream",
     "text": [
      "0.0153\n",
      "0.0119\n"
     ]
    },
    {
     "name": "stderr",
     "output_type": "stream",
     "text": [
      " 79%|█████████████████████████████████▉         | 756/959 [50:08<21:13,  6.27s/it]"
     ]
    },
    {
     "name": "stdout",
     "output_type": "stream",
     "text": [
      "0.0001\n",
      "0.0023\n",
      "(Rarity) Collection: purrnelopes-country-club, Correlation: -0.2042286553823599, P-Value:0.0001\n"
     ]
    },
    {
     "name": "stderr",
     "output_type": "stream",
     "text": [
      " 79%|█████████████████████████████████▉         | 757/959 [50:23<25:43,  7.64s/it]"
     ]
    },
    {
     "name": "stdout",
     "output_type": "stream",
     "text": [
      "0.0035\n",
      "0.0032\n",
      "(Rarity) Collection: pxnghostdivision, Correlation: -0.12496552942389583, P-Value:0.0035\n"
     ]
    },
    {
     "name": "stderr",
     "output_type": "stream",
     "text": [
      " 79%|██████████████████████████████████         | 759/959 [50:37<24:52,  7.46s/it]"
     ]
    },
    {
     "name": "stdout",
     "output_type": "stream",
     "text": [
      "0.1591\n",
      "0.1142\n"
     ]
    },
    {
     "name": "stderr",
     "output_type": "stream",
     "text": [
      " 80%|██████████████████████████████████▏        | 763/959 [50:50<17:56,  5.49s/it]"
     ]
    },
    {
     "name": "stdout",
     "output_type": "stream",
     "text": [
      "0.0089\n",
      "0.0638\n",
      "(Rarity) Collection: radbro-radcats, Correlation: -0.1526211049762504, P-Value:0.0089\n"
     ]
    },
    {
     "name": "stderr",
     "output_type": "stream",
     "text": [
      " 80%|██████████████████████████████████▌        | 770/959 [51:04<11:22,  3.61s/it]"
     ]
    },
    {
     "name": "stdout",
     "output_type": "stream",
     "text": [
      "0.0356\n",
      "0.0039\n"
     ]
    },
    {
     "name": "stderr",
     "output_type": "stream",
     "text": [
      " 81%|██████████████████████████████████▋        | 774/959 [51:18<11:04,  3.59s/it]"
     ]
    },
    {
     "name": "stdout",
     "output_type": "stream",
     "text": [
      "0.1375\n",
      "0.0706\n"
     ]
    },
    {
     "name": "stderr",
     "output_type": "stream",
     "text": [
      " 81%|██████████████████████████████████▊        | 776/959 [51:32<12:44,  4.18s/it]"
     ]
    },
    {
     "name": "stdout",
     "output_type": "stream",
     "text": [
      "0.5792\n",
      "0.0974\n"
     ]
    },
    {
     "name": "stderr",
     "output_type": "stream",
     "text": [
      " 81%|██████████████████████████████████▊        | 777/959 [51:47<16:16,  5.36s/it]"
     ]
    },
    {
     "name": "stdout",
     "output_type": "stream",
     "text": [
      "0.4271\n",
      "0.1059\n"
     ]
    },
    {
     "name": "stderr",
     "output_type": "stream",
     "text": [
      " 81%|██████████████████████████████████▉        | 779/959 [52:01<17:25,  5.81s/it]"
     ]
    },
    {
     "name": "stdout",
     "output_type": "stream",
     "text": [
      "0.3978\n",
      "0.557\n"
     ]
    },
    {
     "name": "stderr",
     "output_type": "stream",
     "text": [
      " 82%|███████████████████████████████████▍       | 790/959 [52:14<07:51,  2.79s/it]"
     ]
    },
    {
     "name": "stdout",
     "output_type": "stream",
     "text": [
      "1.0\n",
      "0.7494\n"
     ]
    },
    {
     "name": "stderr",
     "output_type": "stream",
     "text": [
      " 83%|███████████████████████████████████▋       | 795/959 [52:29<07:44,  2.83s/it]"
     ]
    },
    {
     "name": "stdout",
     "output_type": "stream",
     "text": [
      "0.0007\n",
      "0.0005\n"
     ]
    },
    {
     "name": "stderr",
     "output_type": "stream",
     "text": [
      " 83%|███████████████████████████████████▋       | 796/959 [52:43<10:06,  3.72s/it]"
     ]
    },
    {
     "name": "stdout",
     "output_type": "stream",
     "text": [
      "0.9444\n",
      "0.0077\n"
     ]
    },
    {
     "name": "stderr",
     "output_type": "stream",
     "text": [
      " 83%|███████████████████████████████████▊       | 798/959 [52:57<11:32,  4.30s/it]"
     ]
    },
    {
     "name": "stdout",
     "output_type": "stream",
     "text": [
      "0.3232\n",
      "0.4422\n"
     ]
    },
    {
     "name": "stderr",
     "output_type": "stream",
     "text": [
      " 83%|███████████████████████████████████▊       | 800/959 [53:11<12:49,  4.84s/it]"
     ]
    },
    {
     "name": "stdout",
     "output_type": "stream",
     "text": [
      "0.0001\n",
      "0.0094\n",
      "(Rarity) Collection: satoshi-island-citizenship-nfts, Correlation: -0.423630294879243, P-Value:0.0001\n"
     ]
    },
    {
     "name": "stderr",
     "output_type": "stream",
     "text": [
      " 84%|████████████████████████████████████       | 804/959 [53:25<11:18,  4.38s/it]"
     ]
    },
    {
     "name": "stdout",
     "output_type": "stream",
     "text": [
      "0.1821\n",
      "0.0039\n"
     ]
    },
    {
     "name": "stderr",
     "output_type": "stream",
     "text": [
      " 84%|████████████████████████████████████       | 805/959 [53:39<14:07,  5.50s/it]"
     ]
    },
    {
     "name": "stdout",
     "output_type": "stream",
     "text": [
      "0.7434\n",
      "0.9187\n"
     ]
    },
    {
     "name": "stderr",
     "output_type": "stream",
     "text": [
      " 85%|████████████████████████████████████▎      | 811/959 [53:52<09:29,  3.85s/it]"
     ]
    },
    {
     "name": "stdout",
     "output_type": "stream",
     "text": [
      "0.433\n",
      "0.5589\n"
     ]
    },
    {
     "name": "stderr",
     "output_type": "stream",
     "text": [
      " 85%|████████████████████████████████████▍      | 814/959 [54:06<09:42,  4.02s/it]"
     ]
    },
    {
     "name": "stdout",
     "output_type": "stream",
     "text": [
      "0.299\n",
      "0.0351\n"
     ]
    },
    {
     "name": "stderr",
     "output_type": "stream",
     "text": [
      " 86%|████████████████████████████████████▊      | 821/959 [54:20<07:03,  3.07s/it]"
     ]
    },
    {
     "name": "stdout",
     "output_type": "stream",
     "text": [
      "0.0001\n",
      "0.0001\n",
      "(Rarity) Collection: skuxxversepass, Correlation: -0.25809467350060983, P-Value:0.0001\n"
     ]
    },
    {
     "name": "stderr",
     "output_type": "stream",
     "text": [
      " 86%|████████████████████████████████████▉      | 823/959 [54:33<08:20,  3.68s/it]"
     ]
    },
    {
     "name": "stdout",
     "output_type": "stream",
     "text": [
      "0.0001\n",
      "0.0146\n",
      "(Rarity) Collection: slumdoge-billionaires, Correlation: -0.2434096301509047, P-Value:0.0001\n"
     ]
    },
    {
     "name": "stderr",
     "output_type": "stream",
     "text": [
      " 87%|█████████████████████████████████████▎     | 833/959 [54:48<05:12,  2.48s/it]"
     ]
    },
    {
     "name": "stdout",
     "output_type": "stream",
     "text": [
      "0.1843\n",
      "0.003\n"
     ]
    },
    {
     "name": "stderr",
     "output_type": "stream",
     "text": [
      " 88%|█████████████████████████████████████▋     | 841/959 [55:02<04:20,  2.21s/it]"
     ]
    },
    {
     "name": "stdout",
     "output_type": "stream",
     "text": [
      "0.1357\n",
      "0.6736\n"
     ]
    },
    {
     "name": "stderr",
     "output_type": "stream",
     "text": [
      " 88%|█████████████████████████████████████▊     | 844/959 [55:16<05:00,  2.61s/it]"
     ]
    },
    {
     "name": "stdout",
     "output_type": "stream",
     "text": [
      "0.9086\n",
      "0.3323\n"
     ]
    },
    {
     "name": "stderr",
     "output_type": "stream",
     "text": [
      " 88%|█████████████████████████████████████▉     | 845/959 [55:29<06:28,  3.41s/it]"
     ]
    },
    {
     "name": "stdout",
     "output_type": "stream",
     "text": [
      "0.0001\n",
      "0.5076\n",
      "(Rarity) Collection: staxx-invaders, Correlation: -0.32166665584335813, P-Value:0.0001\n"
     ]
    },
    {
     "name": "stderr",
     "output_type": "stream",
     "text": [
      " 89%|██████████████████████████████████████▎    | 855/959 [55:42<04:03,  2.34s/it]"
     ]
    },
    {
     "name": "stdout",
     "output_type": "stream",
     "text": [
      "0.3669\n",
      "0.0082\n"
     ]
    },
    {
     "name": "stderr",
     "output_type": "stream",
     "text": [
      " 90%|██████████████████████████████████████▋    | 864/959 [55:57<03:13,  2.03s/it]"
     ]
    },
    {
     "name": "stdout",
     "output_type": "stream",
     "text": [
      "0.908\n",
      "0.5306\n"
     ]
    },
    {
     "name": "stderr",
     "output_type": "stream",
     "text": [
      " 91%|███████████████████████████████████████    | 872/959 [56:10<02:47,  1.93s/it]"
     ]
    },
    {
     "name": "stdout",
     "output_type": "stream",
     "text": [
      "0.5913\n",
      "0.1448\n"
     ]
    },
    {
     "name": "stderr",
     "output_type": "stream",
     "text": [
      " 91%|███████████████████████████████████████▏   | 874/959 [56:24<03:28,  2.45s/it]"
     ]
    },
    {
     "name": "stdout",
     "output_type": "stream",
     "text": [
      "0.0684\n",
      "0.0033\n"
     ]
    },
    {
     "name": "stderr",
     "output_type": "stream",
     "text": [
      " 91%|███████████████████████████████████████▏   | 875/959 [56:37<04:31,  3.23s/it]"
     ]
    },
    {
     "name": "stdout",
     "output_type": "stream",
     "text": [
      "0.049\n",
      "0.0001\n"
     ]
    },
    {
     "name": "stderr",
     "output_type": "stream",
     "text": [
      " 92%|███████████████████████████████████████▍   | 880/959 [56:52<04:05,  3.11s/it]"
     ]
    },
    {
     "name": "stdout",
     "output_type": "stream",
     "text": [
      "0.9313\n",
      "0.0001\n"
     ]
    },
    {
     "name": "stderr",
     "output_type": "stream",
     "text": [
      " 92%|███████████████████████████████████████▌   | 881/959 [57:07<05:23,  4.15s/it]"
     ]
    },
    {
     "name": "stdout",
     "output_type": "stream",
     "text": [
      "0.1826\n",
      "0.0038\n"
     ]
    },
    {
     "name": "stderr",
     "output_type": "stream",
     "text": [
      " 92%|███████████████████████████████████████▋   | 885/959 [57:20<04:46,  3.87s/it]"
     ]
    },
    {
     "name": "stdout",
     "output_type": "stream",
     "text": [
      "0.0291\n",
      "0.0355\n",
      "(Rarity) Collection: the-sevens--companions, Correlation: -0.12617808023863122, P-Value:0.0291\n"
     ]
    },
    {
     "name": "stderr",
     "output_type": "stream",
     "text": [
      " 93%|███████████████████████████████████████▉   | 890/959 [57:34<04:00,  3.48s/it]"
     ]
    },
    {
     "name": "stdout",
     "output_type": "stream",
     "text": [
      "0.0145\n",
      "0.2309\n",
      "(Rarity) Collection: theaces, Correlation: -0.10872943749953047, P-Value:0.0145\n"
     ]
    },
    {
     "name": "stderr",
     "output_type": "stream",
     "text": [
      " 93%|████████████████████████████████████████▏  | 896/959 [57:48<03:12,  3.06s/it]"
     ]
    },
    {
     "name": "stdout",
     "output_type": "stream",
     "text": [
      "0.584\n",
      "0.2252\n"
     ]
    },
    {
     "name": "stderr",
     "output_type": "stream",
     "text": [
      " 94%|████████████████████████████████████████▏  | 897/959 [58:02<04:03,  3.93s/it]"
     ]
    },
    {
     "name": "stdout",
     "output_type": "stream",
     "text": [
      "0.8707\n",
      "0.0239\n"
     ]
    },
    {
     "name": "stderr",
     "output_type": "stream",
     "text": [
      " 94%|████████████████████████████████████████▎  | 899/959 [58:16<04:32,  4.55s/it]"
     ]
    },
    {
     "name": "stdout",
     "output_type": "stream",
     "text": [
      "0.1184\n",
      "0.3875\n"
     ]
    },
    {
     "name": "stderr",
     "output_type": "stream",
     "text": [
      " 96%|█████████████████████████████████████████▎ | 922/959 [58:30<00:56,  1.54s/it]"
     ]
    },
    {
     "name": "stdout",
     "output_type": "stream",
     "text": [
      "0.0001\n",
      "0.0013\n",
      "(Rarity) Collection: trapmonkie, Correlation: -0.24698509622354164, P-Value:0.0001\n"
     ]
    },
    {
     "name": "stderr",
     "output_type": "stream",
     "text": [
      " 96%|█████████████████████████████████████████▍ | 925/959 [58:44<01:06,  1.95s/it]"
     ]
    },
    {
     "name": "stdout",
     "output_type": "stream",
     "text": [
      "0.0942\n",
      "0.0747\n"
     ]
    },
    {
     "name": "stderr",
     "output_type": "stream",
     "text": [
      " 97%|█████████████████████████████████████████▊ | 932/959 [58:57<00:52,  1.93s/it]"
     ]
    },
    {
     "name": "stdout",
     "output_type": "stream",
     "text": [
      "0.948\n",
      "0.1999\n"
     ]
    },
    {
     "name": "stderr",
     "output_type": "stream",
     "text": [
      " 98%|██████████████████████████████████████████ | 939/959 [59:11<00:38,  1.94s/it]"
     ]
    },
    {
     "name": "stdout",
     "output_type": "stream",
     "text": [
      "0.0009\n",
      "0.0018\n",
      "(Rarity) Collection: waltz-sunflower, Correlation: -0.1825388899627958, P-Value:0.0009\n"
     ]
    },
    {
     "name": "stderr",
     "output_type": "stream",
     "text": [
      " 98%|██████████████████████████████████████████▏| 940/959 [59:24<00:48,  2.58s/it]"
     ]
    },
    {
     "name": "stdout",
     "output_type": "stream",
     "text": [
      "0.6715\n",
      "0.3743\n"
     ]
    },
    {
     "name": "stderr",
     "output_type": "stream",
     "text": [
      " 98%|██████████████████████████████████████████▎| 944/959 [59:37<00:40,  2.71s/it]"
     ]
    },
    {
     "name": "stdout",
     "output_type": "stream",
     "text": [
      "0.7574\n",
      "0.5147\n"
     ]
    },
    {
     "name": "stderr",
     "output_type": "stream",
     "text": [
      " 99%|██████████████████████████████████████████▋| 953/959 [59:51<00:13,  2.22s/it]"
     ]
    },
    {
     "name": "stdout",
     "output_type": "stream",
     "text": [
      "0.0001\n",
      "0.0001\n",
      "(Rarity) Collection: worldwidewebbland, Correlation: -0.387621800274441, P-Value:0.0001\n"
     ]
    },
    {
     "name": "stderr",
     "output_type": "stream",
     "text": [
      " 99%|████████████████████████████████████████▊| 954/959 [1:00:06<00:15,  3.04s/it]"
     ]
    },
    {
     "name": "stdout",
     "output_type": "stream",
     "text": [
      "0.0001\n",
      "0.0001\n",
      "(Rarity) Collection: writers-room, Correlation: -0.2258260281568548, P-Value:0.0001\n"
     ]
    },
    {
     "name": "stderr",
     "output_type": "stream",
     "text": [
      "100%|█████████████████████████████████████████| 959/959 [1:00:20<00:00,  3.78s/it]"
     ]
    },
    {
     "name": "stdout",
     "output_type": "stream",
     "text": [
      "0.1999\n",
      "0.2109\n",
      "260\n",
      "Rare: 0, Rare Neg: 90, Dist: 66, Dist Neg:0\n"
     ]
    },
    {
     "name": "stderr",
     "output_type": "stream",
     "text": [
      "\n"
     ]
    }
   ],
   "source": [
    "import matplotlib.pyplot as plt\n",
    "from scipy.stats import pearsonr\n",
    "grouped = df_filtered_rare.groupby('Collection')\n",
    "# Create a scatter plot using Matplotlib\n",
    "count=0\n",
    "count_dist = 0\n",
    "count_rare = 0\n",
    "count_dist_neg = 0\n",
    "count_rare_neg = 0\n",
    "for label, group in tqdm(grouped):\n",
    "    if label in dist_slugs:\n",
    "        x_1 = group['rarity_rank']\n",
    "        x_2 = group['distance']\n",
    "        y = group['sale_price']\n",
    "        dof = dof = len(x_1)-2\n",
    "        def statistic(x):  # explore all possible pairings by permuting `x`\n",
    "            rs = stats.spearmanr(x, y).statistic  # ignore pvalue\n",
    "            transformed = rs * np.sqrt(dof / ((rs+1.0)*(1.0-rs)))\n",
    "            return transformed\n",
    "        count+=1\n",
    "        # Compute correlation coefficient and p-value\n",
    "        # correlation, p_value = pearsonr(x_1, y)\n",
    "        # correlation_2, p_value_2 = pearsonr(x_2, y)\n",
    "        ref = stats.permutation_test((x_1,), statistic, alternative='less',permutation_type='pairings')\n",
    "        correlation, p_value = spearmanr(x_1, y)\n",
    "        correlation_2, p_value_2 = spearmanr(x_2, y)\n",
    "        p_value = stats.permutation_test((x_1,), statistic, alternative='less',permutation_type='pairings').pvalue\n",
    "        p_value_2 = stats.permutation_test((x_2,), statistic, alternative='greater',permutation_type='pairings').pvalue\n",
    "        print(p_value)\n",
    "        print(p_value_2)\n",
    "        if np.abs(correlation)>np.abs(correlation_2) and p_value<0.05:\n",
    "        # if p_value<0.05:\n",
    "            if correlation<-0:\n",
    "                print(f\"(Rarity) Collection: {label}, Correlation: {correlation}, P-Value:{p_value}\")\n",
    "                count_rare_neg+=1\n",
    "            else:\n",
    "                print(f\"(Rarity) Collection: {label}, Correlation: {correlation}, P-Value:{p_value}\")\n",
    "                count_rare+=1\n",
    "        elif p_value_2<0.05:\n",
    "            if correlation_2<0:\n",
    "                count_dist_neg+=1\n",
    "            else:\n",
    "                count_dist+=1\n",
    "print(count)\n",
    "print(f\"Rare: {count_rare}, Rare Neg: {count_rare_neg}, Dist: {count_dist}, Dist Neg:{count_dist_neg}\")"
   ]
  },
  {
   "cell_type": "code",
   "execution_count": 182,
   "id": "e59ef12b-5236-48a7-9b76-e554deb5e94e",
   "metadata": {},
   "outputs": [
    {
     "name": "stderr",
     "output_type": "stream",
     "text": [
      "  9%|███▋                                       | 83/959 [00:00<00:02, 432.43it/s]"
     ]
    },
    {
     "name": "stdout",
     "output_type": "stream",
     "text": [
      "(Visual) Collection: 0xawnft, R2: 0.0006289314612103469\n",
      "(Visual) Collection: 2545bygr4y, R2: 0.06057554619828054\n",
      "(Visual) Collection: 3600yako-nft, R2: 0.000744963445071023\n",
      "(Visual) Collection: 3l3phants-official, R2: 0.08121097681771261\n",
      "(Visual) Collection: 555-hunter-orrell, R2: 0.009047262018901936\n",
      "(Visual) Collection: 8bitguyz, R2: 0.00013891234506835382\n",
      "(Visual) Collection: 8bituniverse, R2: 0.1056364094909511\n",
      "(Visual) Collection: 9dcc-iteration-01-looks, R2: 0.001376985317201207\n",
      "(Visual) Collection: akc, R2: 0.054260122934206234\n",
      "(Visual) Collection: akidcalledbeast, R2: 0.039321283605626145\n",
      "(Visual) Collection: akumu-dragonz, R2: 0.016204528290649778\n",
      "(Visual) Collection: akutars, R2: 0.018687636498854188\n",
      "(Visual) Collection: alleykatzofficial, R2: 0.045868252466716664\n",
      "(Visual) Collection: almaxjackirving-odyssey, R2: 0.00016359220977402167\n",
      "(Visual) Collection: ambushofficialpowreboot, R2: 0.11235007852230727\n",
      "(Visual) Collection: animonkeys, R2: 0.3871846433312389\n",
      "(Visual) Collection: antonymgenesis, R2: 0.01905584907062463\n",
      "(Visual) Collection: apedogwtf, R2: 0.017811226840728778\n",
      "(Visual) Collection: atsui, R2: 0.03423654982026858\n",
      "(Visual) Collection: attackgame-official, R2: 0.041507714079903946\n",
      "(Visual) Collection: av-yacht-club, R2: 0.26917725504033685\n",
      "(Visual) Collection: avius-animae, R2: 0.01695723647709102\n",
      "(Visual) Collection: babobunnyclub, R2: 0.0948007538515988\n",
      "(Visual) Collection: bagner, R2: 0.001426546228593284\n",
      "(Visual) Collection: baluba, R2: 0.001389996207446842\n",
      "(Visual) Collection: based-ghouls, R2: 0.024562586623153693\n",
      "(Visual) Collection: basedheads, R2: 0.00653538914316576\n",
      "(Visual) Collection: bastard-penguins, R2: 0.013072655835978608\n"
     ]
    },
    {
     "name": "stderr",
     "output_type": "stream",
     "text": [
      " 20%|████████▎                                 | 189/959 [00:00<00:01, 495.84it/s]"
     ]
    },
    {
     "name": "stdout",
     "output_type": "stream",
     "text": [
      "(Visual) Collection: beanzofficial, R2: 0.05950059265293528\n",
      "(Visual) Collection: bearmarketbears, R2: 0.13348905144427692\n",
      "(Visual) Collection: beartings, R2: 0.1034960673488482\n",
      "(Visual) Collection: bestfriend-collection, R2: 0.02549968122753643\n",
      "(Visual) Collection: binkies, R2: 0.1432829158066763\n",
      "(Visual) Collection: bitgoatznft, R2: 0.0011848899485589204\n",
      "(Visual) Collection: blklavas, R2: 0.006663733419718376\n",
      "(Visual) Collection: bored-ape-comic, R2: 0.14516322023191564\n",
      "(Visual) Collection: bored-ape-kennel-club, R2: 0.0015060415622066836\n",
      "(Visual) Collection: bored-mummy-waking-up, R2: 0.2098218244500234\n",
      "(Visual) Collection: boredapeyogaclub, R2: 0.041831829213549776\n",
      "(Visual) Collection: brycnft, R2: 0.003760098502265219\n",
      "(Visual) Collection: budverse-cans-heritage-edition, R2: 0.0508377041231588\n",
      "(Visual) Collection: bus-stop, R2: 0.014744434812872464\n",
      "(Visual) Collection: catbloxgenesis, R2: 0.04705826366571697\n",
      "(Visual) Collection: catbloxpumacapsule, R2: 0.06958189083002553\n",
      "(Visual) Collection: catc, R2: 0.09017224925359868\n",
      "(Visual) Collection: cats-wtf, R2: 2.9042527872724655e-05\n",
      "(Visual) Collection: censored-boys-syndicate-2, R2: 0.003308579388985211\n",
      "(Visual) Collection: cerealclub, R2: 0.07344802432456121\n",
      "(Visual) Collection: chain-runners-nft, R2: 0.01586449609534213\n",
      "(Visual) Collection: chaoscityresidents, R2: 0.03573606830709364\n",
      "(Visual) Collection: checks-art-history, R2: 0.03837589607847369\n",
      "(Visual) Collection: cheebs-nft-official, R2: 0.03174721518246493\n",
      "(Visual) Collection: cheers-up, R2: 0.03427015127228794\n",
      "(Visual) Collection: childrenofukiyoofficial, R2: 0.06810755151628689\n",
      "(Visual) Collection: chippys-world, R2: 0.09857526331136601\n",
      "(Visual) Collection: chubbykaijudao, R2: 0.12920520045875994\n",
      "(Visual) Collection: chungos, R2: 0.0051249954396096475\n",
      "(Visual) Collection: citizenz-nft, R2: 0.04133905234473678\n"
     ]
    },
    {
     "name": "stderr",
     "output_type": "stream",
     "text": [
      " 31%|████████████▉                             | 296/959 [00:00<00:01, 515.01it/s]"
     ]
    },
    {
     "name": "stdout",
     "output_type": "stream",
     "text": [
      "(Visual) Collection: collectvoxtownstar, R2: 0.15967211163751882\n",
      "(Visual) Collection: commoners-by-commonopoly, R2: 0.023769343486903405\n",
      "(Visual) Collection: commsaur, R2: 0.06955326969644449\n",
      "(Visual) Collection: cool-cats-nft, R2: 0.012648572763340526\n",
      "(Visual) Collection: covidpunksnft, R2: 0.04789726092992119\n",
      "(Visual) Collection: cpg-pop, R2: 0.0029351787063703894\n",
      "(Visual) Collection: creaturecrowd, R2: 0.2167951761276462\n",
      "(Visual) Collection: crecodiles, R2: 0.053706441101099456\n",
      "(Visual) Collection: croakz-v2-1, R2: 0.0603303825960384\n",
      "(Visual) Collection: crudeborne-eggs, R2: 0.005221606484041574\n",
      "(Visual) Collection: crypto-bears-by-cbs, R2: 0.013436803527214214\n",
      "(Visual) Collection: crypto-hobos, R2: 0.08219046386727147\n",
      "(Visual) Collection: crypto-phunks, R2: 1.3998438836759775e-05\n",
      "(Visual) Collection: crypto-pills-by-micha-klein, R2: 0.045715716759073044\n",
      "(Visual) Collection: cryptodickbutts-s3, R2: 0.054013258856168256\n",
      "(Visual) Collection: cryptomutts-official, R2: 0.04075531776783459\n",
      "(Visual) Collection: cryptoskulls, R2: 0.0029426591296745075\n",
      "(Visual) Collection: cryptotechwomennft, R2: 0.00276152712175326\n",
      "(Visual) Collection: cupcatsofficial, R2: 0.04615363967164443\n",
      "(Visual) Collection: cyberfrogz, R2: 0.02237633036171993\n",
      "(Visual) Collection: darkness-descends, R2: 0.0015458926049527477\n",
      "(Visual) Collection: deadbirdswtf, R2: 0.014255193629769125\n",
      "(Visual) Collection: deadheads, R2: 0.058115592977665\n",
      "(Visual) Collection: derage, R2: 0.09415037269918491\n",
      "(Visual) Collection: devilvalley, R2: 0.2007384788537233\n",
      "(Visual) Collection: doadz, R2: 0.022874737978362703\n",
      "(Visual) Collection: dodofrensxyz, R2: 0.09238130029767\n",
      "(Visual) Collection: dogeclub-dogc, R2: 0.0265507337432197\n",
      "(Visual) Collection: dogs-unchained, R2: 0.0774896262691337\n",
      "(Visual) Collection: dolce-gabbana-dgfamily-glass, R2: 0.009451792806266957\n",
      "(Visual) Collection: donald-trump-yacht-club, R2: 0.07674990318980313\n",
      "(Visual) Collection: doodlefrensnft, R2: 0.030957744000721932\n",
      "(Visual) Collection: doodles-official, R2: 0.11129264154472762\n",
      "(Visual) Collection: dotdotdots, R2: 3.6110605020400754e-05\n",
      "(Visual) Collection: dragon-town-wtf, R2: 0.3859323078735475\n",
      "(Visual) Collection: dreamyofficial, R2: 0.04758797724741748\n"
     ]
    },
    {
     "name": "stderr",
     "output_type": "stream",
     "text": [
      " 42%|█████████████████▌                        | 402/959 [00:00<00:01, 520.79it/s]"
     ]
    },
    {
     "name": "stdout",
     "output_type": "stream",
     "text": [
      "(Visual) Collection: elftown-wtf, R2: 0.0019013707911690325\n",
      "(Visual) Collection: elven, R2: 0.021857018366812198\n",
      "(Visual) Collection: eponym, R2: 0.04452217479934806\n",
      "(Visual) Collection: escape-the-agenda-official, R2: 0.05222522742797486\n",
      "(Visual) Collection: ethalien-vox, R2: 0.03402001004229782\n",
      "(Visual) Collection: etherealswtf, R2: 0.04179466237283014\n",
      "(Visual) Collection: everythingiown, R2: 0.02447482184764249\n",
      "(Visual) Collection: exclusible-alpha, R2: 0.010109523396518494\n",
      "(Visual) Collection: eyesoffashionnft, R2: 0.0007257285425745774\n",
      "(Visual) Collection: ezu, R2: 0.0016972166711469727\n",
      "(Visual) Collection: fiveheadcircle, R2: 0.019286021328856373\n",
      "(Visual) Collection: fluf-world-thingies, R2: 0.1238739163388638\n",
      "(Visual) Collection: fly-frogs, R2: 0.005266455971437156\n",
      "(Visual) Collection: fomo-mofos, R2: 0.055128495846828884\n",
      "(Visual) Collection: foxyfamnft, R2: 0.15558353275193104\n",
      "(Visual) Collection: fragments-by-james-jean, R2: 0.019439230745842973\n",
      "(Visual) Collection: frankfrank, R2: 0.0001937559028259983\n",
      "(Visual) Collection: freejojo-official, R2: 0.008385888211947301\n",
      "(Visual) Collection: fresh-fools-nft, R2: 4.294512988789467e-05\n",
      "(Visual) Collection: from-the-fragments-of-tezuka-osamu-generative-art, R2: 0.013083835848397785\n",
      "(Visual) Collection: froyokittenscollection, R2: 0.01705080234277534\n",
      "(Visual) Collection: fuekinft, R2: 0.022512599099813735\n",
      "(Visual) Collection: funclesnft, R2: 0.03688630093507683\n",
      "(Visual) Collection: g-evols, R2: 0.0071887734710152085\n",
      "(Visual) Collection: galactic-secret-agency, R2: 0.1350383418693556\n",
      "(Visual) Collection: galaxyeggs9999, R2: 0.024227499012000386\n",
      "(Visual) Collection: game-of-thrones-the-north-series-i-hero-box, R2: 1.2539717686665952e-05\n",
      "(Visual) Collection: gangsta-mice-city, R2: 0.0036819937353580467\n",
      "(Visual) Collection: gdrake, R2: 0.016592431151559728\n",
      "(Visual) Collection: gen-dot-art, R2: 0.16538561284944575\n",
      "(Visual) Collection: ghibladymaker, R2: 0.05012514150440539\n",
      "(Visual) Collection: ghost-buddy, R2: 0.03729477876182452\n",
      "(Visual) Collection: ghostchildbones, R2: 0.06425786992293281\n",
      "(Visual) Collection: gitcoin-presents, R2: 0.026157887126303625\n",
      "(Visual) Collection: goodboi-borzoi, R2: 0.03467757577366015\n",
      "(Visual) Collection: gorgonzorats, R2: 0.005513687789547306\n",
      "(Visual) Collection: gossamer-academy, R2: 0.003484864336490201\n",
      "(Visual) Collection: gossamer-seed, R2: 0.002656291718262649\n",
      "(Visual) Collection: grandpaapecountryclub, R2: 0.04341096229140806\n"
     ]
    },
    {
     "name": "stderr",
     "output_type": "stream",
     "text": [
      " 53%|██████████████████████▏                   | 508/959 [00:01<00:00, 521.16it/s]"
     ]
    },
    {
     "name": "stdout",
     "output_type": "stream",
     "text": [
      "(Visual) Collection: great-expectations, R2: 0.08953469240260947\n",
      "(Visual) Collection: grimbogs-by-bedbugs, R2: 0.01993004343492455\n",
      "(Visual) Collection: gutterpigeons, R2: 0.08962934447331672\n",
      "(Visual) Collection: habbo-avatars, R2: 2.8654865303456845e-05\n",
      "(Visual) Collection: hapeprime, R2: 0.004458173375202157\n",
      "(Visual) Collection: hasbinft, R2: 0.0034651437006054664\n",
      "(Visual) Collection: hashguise-gen-1, R2: 0.004827545389313848\n",
      "(Visual) Collection: hausphasesbyfabrik, R2: 0.09201620274194267\n",
      "(Visual) Collection: heedongofficial, R2: 0.04638376066312622\n",
      "(Visual) Collection: himalayainc, R2: 0.09165821226252535\n",
      "(Visual) Collection: hiphop-reboot-official, R2: 0.015830566449134165\n",
      "(Visual) Collection: hot-dougs, R2: 0.07669396394285521\n",
      "(Visual) Collection: hugpass, R2: 0.10483216719409028\n",
      "(Visual) Collection: idamura-xyz, R2: 0.018701458987514852\n",
      "(Visual) Collection: internet-raised-official, R2: 0.015705289587978566\n",
      "(Visual) Collection: invazers, R2: 0.17148173267840894\n",
      "(Visual) Collection: invisiblefriends, R2: 0.017150238732794088\n",
      "(Visual) Collection: joyworld-joytoys, R2: 0.08116760662236067\n",
      "(Visual) Collection: juiceboxfrens, R2: 0.003226512785370006\n",
      "(Visual) Collection: just-mallards, R2: 0.15182758705735533\n",
      "(Visual) Collection: justcubesnft, R2: 0.014022237467881449\n",
      "(Visual) Collection: kamiyo, R2: 0.01149170593061044\n",
      "(Visual) Collection: kawaiimetacollage, R2: 0.08211977065786269\n",
      "(Visual) Collection: kg-potato-official, R2: 0.012105606170274452\n",
      "(Visual) Collection: killacubs, R2: 0.005691053696679327\n",
      "(Visual) Collection: knights-of-degen-official, R2: 0.162105239709475\n",
      "(Visual) Collection: krisalis, R2: 0.037953007713268594\n",
      "(Visual) Collection: kryptic-kids, R2: 0.0031390524651415674\n",
      "(Visual) Collection: lasogette, R2: 0.006631659540751178\n",
      "(Visual) Collection: legendxbywilljack, R2: 1.2831376516864168e-08\n"
     ]
    },
    {
     "name": "stderr",
     "output_type": "stream",
     "text": [
      " 64%|██████████████████████████▉               | 614/959 [00:01<00:00, 525.22it/s]"
     ]
    },
    {
     "name": "stdout",
     "output_type": "stream",
     "text": [
      "(Visual) Collection: lilkami, R2: 0.08112582366059562\n",
      "(Visual) Collection: linksdao, R2: 0.6793159054043152\n",
      "(Visual) Collection: lostsoulssanctuary, R2: 0.14566077730229987\n",
      "(Visual) Collection: lucky-ducky-nft, R2: 0.01400090028867862\n",
      "(Visual) Collection: lumilands, R2: 0.044935179923865975\n",
      "(Visual) Collection: machina-the-underground, R2: 0.032378685932580864\n",
      "(Visual) Collection: machine-soldier, R2: 0.05362314565340398\n",
      "(Visual) Collection: magicforestnosleep, R2: 0.019760535125450174\n",
      "(Visual) Collection: mcgoblinwtf, R2: 0.0030340425129752324\n",
      "(Visual) Collection: meltdown-nft-official, R2: 0.003901274689205647\n",
      "(Visual) Collection: memsvoyageone, R2: 0.038176342394397156\n",
      "(Visual) Collection: metacraft-season-pass-2022, R2: 0.06237616072090324\n",
      "(Visual) Collection: metakrew, R2: 0.11141065769730074\n",
      "(Visual) Collection: metatravelers, R2: 0.030722615571511458\n",
      "(Visual) Collection: mfers, R2: 0.010749837496535686\n",
      "(Visual) Collection: mintge-ji-ba, R2: 0.019851585053228815\n",
      "(Visual) Collection: misfit-university-official, R2: 0.02599702773887924\n",
      "(Visual) Collection: mistertoshi, R2: 0.005366093489630908\n",
      "(Visual) Collection: mistletoadz, R2: 0.0004985893927460516\n",
      "(Visual) Collection: mobs-and-aliens, R2: 0.13827828873533132\n",
      "(Visual) Collection: monstershelter, R2: 0.0033198829663273477\n",
      "(Visual) Collection: moodiesbyhanuka, R2: 9.13802261699459e-05\n",
      "(Visual) Collection: moonlingsofficial, R2: 0.13560306561115676\n",
      "(Visual) Collection: moonrunnersnft, R2: 0.06387495365440043\n",
      "(Visual) Collection: multiversevm, R2: 0.011204256395085488\n",
      "(Visual) Collection: murakami-flowers-2022-official, R2: 0.09530378452849397\n",
      "(Visual) Collection: murakami-lucky-cat-coin-bank, R2: 0.001266354294632177\n",
      "(Visual) Collection: mutantdoge-dogc, R2: 0.00221838969777588\n",
      "(Visual) Collection: mystery-bowl, R2: 0.013898172067056014\n",
      "(Visual) Collection: nah-fungible-bones, R2: 0.005353334329628923\n"
     ]
    },
    {
     "name": "stderr",
     "output_type": "stream",
     "text": [
      " 75%|███████████████████████████████▌          | 721/959 [00:01<00:00, 527.59it/s]"
     ]
    },
    {
     "name": "stdout",
     "output_type": "stream",
     "text": [
      "(Visual) Collection: neopunkssaga, R2: 0.05569461748144344\n",
      "(Visual) Collection: noodlesnft-official, R2: 0.001188755246316231\n",
      "(Visual) Collection: nounpunks-eth, R2: 0.04897114816830972\n",
      "(Visual) Collection: officialdudes, R2: 0.07179081023494549\n",
      "(Visual) Collection: old-barefootparrots, R2: 0.0008860788469687852\n",
      "(Visual) Collection: onitamanft, R2: 0.01182115160856545\n",
      "(Visual) Collection: origamasks, R2: 0.15835804902757422\n",
      "(Visual) Collection: party-penguins, R2: 0.037344580057045995\n",
      "(Visual) Collection: peanz-official, R2: 0.09676616330236221\n",
      "(Visual) Collection: pixelchain, R2: 0.010599640850345815\n",
      "(Visual) Collection: pixels-farm, R2: 0.01849144277590975\n",
      "(Visual) Collection: pixl-pets-genesis, R2: 0.00782163077425313\n",
      "(Visual) Collection: planetcoco, R2: 0.0005764882482341971\n",
      "(Visual) Collection: prim8, R2: 1.9677271134721508e-07\n",
      "(Visual) Collection: probablyalabel, R2: 0.15341531543290132\n",
      "(Visual) Collection: projectkaito, R2: 0.06127629085692976\n",
      "(Visual) Collection: proof-moonbirds, R2: 0.08786033399832183\n",
      "(Visual) Collection: psychedelics-anonymous-genesis, R2: 0.00029944493976274966\n",
      "(Visual) Collection: pudgy-milady, R2: 0.0029157230696347236\n",
      "(Visual) Collection: pudgydickbutts, R2: 0.0029164634319572835\n",
      "(Visual) Collection: pudgyrods, R2: 0.09001198917506958\n",
      "(Visual) Collection: punkmfers, R2: 0.039259802814615385\n",
      "(Visual) Collection: purrnelopes-country-club, R2: 0.08415009095389658\n",
      "(Visual) Collection: pxnghostdivision, R2: 0.045624209440612074\n",
      "(Visual) Collection: qtopia-genesis, R2: 0.003151719600024694\n"
     ]
    },
    {
     "name": "stderr",
     "output_type": "stream",
     "text": [
      " 86%|████████████████████████████████████▎     | 828/959 [00:01<00:00, 525.86it/s]"
     ]
    },
    {
     "name": "stdout",
     "output_type": "stream",
     "text": [
      "(Visual) Collection: radbro-radcats, R2: 0.055196426578922764\n",
      "(Visual) Collection: re-genz, R2: 0.06721395319566259\n",
      "(Visual) Collection: regulars, R2: 0.02569957043303217\n",
      "(Visual) Collection: rektfolios, R2: 0.00039629475263580627\n",
      "(Visual) Collection: rektguy, R2: 0.023590251304840493\n",
      "(Visual) Collection: remilio-babies, R2: 0.015041620151210022\n",
      "(Visual) Collection: rtfkt-nike-cryptokicks, R2: 0.0039080925388785825\n",
      "(Visual) Collection: sacred-skulls-official, R2: 0.053692948286725994\n",
      "(Visual) Collection: sakura-park, R2: 0.014844442421143356\n",
      "(Visual) Collection: saplingsnft, R2: 0.02688017732114445\n",
      "(Visual) Collection: satoshi-island-citizenship-nfts, R2: 0.6277886044752601\n",
      "(Visual) Collection: scottie-pippen, R2: 0.01698185090285731\n",
      "(Visual) Collection: secretratsociety, R2: 0.0015227809944259318\n",
      "(Visual) Collection: sharkzgenesis, R2: 0.00716816016354882\n",
      "(Visual) Collection: shylock, R2: 0.00885191420237974\n",
      "(Visual) Collection: skuxxversepass, R2: 0.2724866278912541\n",
      "(Visual) Collection: slumdoge-billionaires, R2: 0.023638064467048858\n",
      "(Visual) Collection: spaceboysnft, R2: 0.012039709742304394\n",
      "(Visual) Collection: spriteclub, R2: 0.003935659031088168\n",
      "(Visual) Collection: state-of-the-art-by-thankyoux, R2: 0.0017532360868433017\n",
      "(Visual) Collection: staxx-invaders, R2: 0.12729156618811344\n",
      "(Visual) Collection: suki-learns-to-fly, R2: 0.03443021531489032\n",
      "(Visual) Collection: tastybonesxyz, R2: 0.0005150305916029607\n"
     ]
    },
    {
     "name": "stderr",
     "output_type": "stream",
     "text": [
      "100%|██████████████████████████████████████████| 959/959 [00:01<00:00, 513.87it/s]"
     ]
    },
    {
     "name": "stdout",
     "output_type": "stream",
     "text": [
      "(Visual) Collection: the-british, R2: 0.012249395578261879\n",
      "(Visual) Collection: the-cult-club, R2: 0.0442664823509733\n",
      "(Visual) Collection: the-dooplicator, R2: 0.18766871066531732\n",
      "(Visual) Collection: the-phoenixes, R2: 0.078315038383869\n",
      "(Visual) Collection: the-picaroons, R2: 0.005196786779386731\n",
      "(Visual) Collection: the-sevens--companions, R2: 0.009215677752338225\n",
      "(Visual) Collection: theaces, R2: 0.038489343802476705\n",
      "(Visual) Collection: theindifferentduck, R2: 0.009012430094424206\n",
      "(Visual) Collection: thelastabyss, R2: 0.02254907522343541\n",
      "(Visual) Collection: thelonelyfroglamboclub, R2: 0.003202921152756777\n",
      "(Visual) Collection: trapmonkie, R2: 0.024161403919424118\n",
      "(Visual) Collection: tubby-cats, R2: 0.02305424219225427\n",
      "(Visual) Collection: vansofficial, R2: 0.004453921140801453\n",
      "(Visual) Collection: waltz-sunflower, R2: 0.014345379330071961\n",
      "(Visual) Collection: wearebyjohnjohnny, R2: 0.0011079850424915438\n",
      "(Visual) Collection: wgmi-studios-genesis, R2: 2.1758758967926894e-06\n",
      "(Visual) Collection: worldwidewebbland, R2: 0.29039074477394755\n",
      "(Visual) Collection: writers-room, R2: 0.13197239456264043\n",
      "(Visual) Collection: xore-genesis, R2: 0.0028653150584480036\n",
      "652 260 0.04336834458645049 0.05171196616891731\n"
     ]
    },
    {
     "name": "stderr",
     "output_type": "stream",
     "text": [
      "\n"
     ]
    }
   ],
   "source": [
    "from sklearn.metrics import r2_score\n",
    "from sklearn import datasets, linear_model\n",
    "grouped = df_filtered_rare.groupby('Collection')\n",
    "# Create a scatter plot using Matplotlib\n",
    "count=0\n",
    "count_dist = 0\n",
    "count_rare = 0\n",
    "count_dist_neg = 0\n",
    "count_rare_neg = 0\n",
    "rare_r2s = []\n",
    "dist_r2s = []\n",
    "dist_slugs = []\n",
    "for label, group in tqdm(grouped):\n",
    "    # if label not in rows:\n",
    "    x_1 = -np.asarray(group['rarity_rank'])\n",
    "    x_1 = x_1.reshape(-1, 1)\n",
    "    x_2 = np.asarray(group['distance'])\n",
    "    x_2 = x_2.reshape(-1, 1)\n",
    "    y = np.asarray(group['sale_price'])\n",
    "    y = y.reshape(-1, 1)\n",
    "    # y = np.log10(y, out=np.zeros_like(y), where=(y!=0))\n",
    "    # Create linear regression object for rarity\n",
    "    regr1 = linear_model.LinearRegression(positive=True)\n",
    "    regr1.fit(x_1, y)\n",
    "    rarity_pred = regr1.predict(x_1)\n",
    "    # Create linear regression object for rarity\n",
    "    regr2 = linear_model.LinearRegression(positive=True)\n",
    "    regr2.fit(x_2, y)\n",
    "    visual_pred = regr2.predict(x_2)\n",
    "    # Compute correlation coefficient and p-value\n",
    "    rare_r2 = r2_score(y,rarity_pred)\n",
    "    # rare_r2s.append(rare_r2)\n",
    "    dist_r2= r2_score(y,visual_pred)\n",
    "    # dist_r2s.append(dist_r2)\n",
    "    if max(rare_r2,dist_r2) ==0:\n",
    "        continue\n",
    "    if rare_r2>dist_r2:\n",
    "        count_rare+=1\n",
    "        rare_r2s.append(rare_r2)\n",
    "    else:\n",
    "        print(f\"(Visual) Collection: {label}, R2: {dist_r2}\")\n",
    "        count_dist+=1\n",
    "        dist_slugs.append(label)\n",
    "        dist_r2s.append(dist_r2)\n",
    "print(count_rare,count_dist,np.mean(rare_r2s),np.mean(dist_r2s))"
   ]
  },
  {
   "cell_type": "code",
   "execution_count": 149,
   "id": "22f4743b-a6ed-45b4-b0f8-0dbd45b59821",
   "metadata": {},
   "outputs": [
    {
     "name": "stderr",
     "output_type": "stream",
     "text": [
      "100%|██████████████████████████████████████████| 959/959 [00:00<00:00, 961.57it/s]"
     ]
    },
    {
     "name": "stdout",
     "output_type": "stream",
     "text": [
      "120 0.03193737087697135\n"
     ]
    },
    {
     "name": "stderr",
     "output_type": "stream",
     "text": [
      "\n"
     ]
    }
   ],
   "source": [
    "from sklearn.metrics import r2_score\n",
    "from sklearn import datasets, linear_model\n",
    "grouped = df_filtered_rare.groupby('Collection')\n",
    "# Create a scatter plot using Matplotlib\n",
    "count=0\n",
    "count_dist = 0\n",
    "count_rare = 0\n",
    "count_dist_neg = 0\n",
    "count_rare_neg = 0\n",
    "rare_r2s = []\n",
    "dist_r2s = []\n",
    "for label, group in tqdm(grouped):\n",
    "    x_1 = -np.asarray(group['rarity_rank'])\n",
    "    x_1 = x_1.reshape(-1, 1)\n",
    "    x_2 = np.asarray(group['distance'])\n",
    "    x_2 = x_2.reshape(-1, 1)\n",
    "    y = np.asarray(group['sale_price'])\n",
    "    y = y.reshape(-1, 1)\n",
    "    combined_array = np.hstack((x_1, x_2))\n",
    "    # y = np.log10(y, out=np.zeros_like(y), where=(y!=0))\n",
    "    # Create linear regression object for rarity\n",
    "    regr1 = linear_model.LinearRegression()\n",
    "    regr1.fit(combined_array, y)\n",
    "    rarity_pred = regr1.predict(combined_array)\n",
    "    # Create linear regression object for rarity\n",
    "    # Compute correlation coefficient and p-value\n",
    "    rare_r2 = r2_score(y,rarity_pred)\n",
    "    rare_r2s.append(rare_r2)\n",
    "    # dist_r2= r2_score(y,visual_pred)\n",
    "    # dist_r2s.append(dist_r2)\n",
    "    if rare_r2>0.1:\n",
    "        count_rare+=1\n",
    "    # elif regr2.coef_>0 and dist_r2>0.2:\n",
    "    #     count_dist+=1\n",
    "print(count_rare,np.median(rare_r2s))"
   ]
  },
  {
   "cell_type": "code",
   "execution_count": null,
   "id": "92a650d6-00c3-4098-a00b-3d21ccc98fa6",
   "metadata": {},
   "outputs": [],
   "source": [
    "with open('rarity_distance.pkl','wb') as f:\n",
    "    pickle.dump(df_filtered_rare,f)"
   ]
  },
  {
   "cell_type": "code",
   "execution_count": null,
   "id": "74016bc5-dc54-42c6-8340-c422fd41f7b6",
   "metadata": {},
   "outputs": [],
   "source": [
    "with open('rarity_distance.pkl','rb') as f:\n",
    "    df_filtered_rare = pickle.load(f)"
   ]
  },
  {
   "cell_type": "code",
   "execution_count": null,
   "id": "4275a151-251c-49a6-b568-069e7995185f",
   "metadata": {},
   "outputs": [],
   "source": [
    "\n",
    "# Count occurrences of each unique label in the filtered DataFrame\n",
    "label_counts = df_filtered_rare['rarity'].value_counts()\n",
    "\n",
    "# Display the result\n",
    "print(\"Label counts:\")\n",
    "print(label_counts)"
   ]
  },
  {
   "cell_type": "code",
   "execution_count": 161,
   "id": "6b3af29b-23aa-4a00-8986-15343e74c88a",
   "metadata": {},
   "outputs": [
    {
     "data": {
      "text/html": [
       "<div>\n",
       "<style scoped>\n",
       "    .dataframe tbody tr th:only-of-type {\n",
       "        vertical-align: middle;\n",
       "    }\n",
       "\n",
       "    .dataframe tbody tr th {\n",
       "        vertical-align: top;\n",
       "    }\n",
       "\n",
       "    .dataframe thead th {\n",
       "        text-align: right;\n",
       "    }\n",
       "</style>\n",
       "<table border=\"1\" class=\"dataframe\">\n",
       "  <thead>\n",
       "    <tr style=\"text-align: right;\">\n",
       "      <th></th>\n",
       "      <th>Contract</th>\n",
       "      <th>NFT_num</th>\n",
       "      <th>rarity_rank</th>\n",
       "      <th>Label</th>\n",
       "      <th>Collection</th>\n",
       "      <th>sale_price</th>\n",
       "      <th>distance</th>\n",
       "    </tr>\n",
       "  </thead>\n",
       "  <tbody>\n",
       "    <tr>\n",
       "      <th>72841</th>\n",
       "      <td>0x82235445a7f634279e33702cc004b0fdb002fda7</td>\n",
       "      <td>2352</td>\n",
       "      <td>3</td>\n",
       "      <td>2807</td>\n",
       "      <td>sakura-park</td>\n",
       "      <td>0.132797</td>\n",
       "      <td>0.559004</td>\n",
       "    </tr>\n",
       "    <tr>\n",
       "      <th>72877</th>\n",
       "      <td>0x82235445a7f634279e33702cc004b0fdb002fda7</td>\n",
       "      <td>2533</td>\n",
       "      <td>4</td>\n",
       "      <td>1047</td>\n",
       "      <td>sakura-park</td>\n",
       "      <td>0.215547</td>\n",
       "      <td>0.630085</td>\n",
       "    </tr>\n",
       "    <tr>\n",
       "      <th>72710</th>\n",
       "      <td>0x82235445a7f634279e33702cc004b0fdb002fda7</td>\n",
       "      <td>1503</td>\n",
       "      <td>11</td>\n",
       "      <td>2807</td>\n",
       "      <td>sakura-park</td>\n",
       "      <td>0.072407</td>\n",
       "      <td>0.535397</td>\n",
       "    </tr>\n",
       "    <tr>\n",
       "      <th>72633</th>\n",
       "      <td>0x82235445a7f634279e33702cc004b0fdb002fda7</td>\n",
       "      <td>1135</td>\n",
       "      <td>14</td>\n",
       "      <td>2807</td>\n",
       "      <td>sakura-park</td>\n",
       "      <td>0.086008</td>\n",
       "      <td>0.567585</td>\n",
       "    </tr>\n",
       "    <tr>\n",
       "      <th>72758</th>\n",
       "      <td>0x82235445a7f634279e33702cc004b0fdb002fda7</td>\n",
       "      <td>1802</td>\n",
       "      <td>34</td>\n",
       "      <td>2807</td>\n",
       "      <td>sakura-park</td>\n",
       "      <td>0.068487</td>\n",
       "      <td>0.610942</td>\n",
       "    </tr>\n",
       "    <tr>\n",
       "      <th>...</th>\n",
       "      <td>...</td>\n",
       "      <td>...</td>\n",
       "      <td>...</td>\n",
       "      <td>...</td>\n",
       "      <td>...</td>\n",
       "      <td>...</td>\n",
       "      <td>...</td>\n",
       "    </tr>\n",
       "    <tr>\n",
       "      <th>72973</th>\n",
       "      <td>0x82235445a7f634279e33702cc004b0fdb002fda7</td>\n",
       "      <td>845</td>\n",
       "      <td>2638</td>\n",
       "      <td>1047</td>\n",
       "      <td>sakura-park</td>\n",
       "      <td>0.051833</td>\n",
       "      <td>0.620839</td>\n",
       "    </tr>\n",
       "    <tr>\n",
       "      <th>72861</th>\n",
       "      <td>0x82235445a7f634279e33702cc004b0fdb002fda7</td>\n",
       "      <td>2453</td>\n",
       "      <td>2639</td>\n",
       "      <td>2807</td>\n",
       "      <td>sakura-park</td>\n",
       "      <td>0.015725</td>\n",
       "      <td>0.493072</td>\n",
       "    </tr>\n",
       "    <tr>\n",
       "      <th>72882</th>\n",
       "      <td>0x82235445a7f634279e33702cc004b0fdb002fda7</td>\n",
       "      <td>2540</td>\n",
       "      <td>2640</td>\n",
       "      <td>2807</td>\n",
       "      <td>sakura-park</td>\n",
       "      <td>0.051563</td>\n",
       "      <td>0.612080</td>\n",
       "    </tr>\n",
       "    <tr>\n",
       "      <th>72778</th>\n",
       "      <td>0x82235445a7f634279e33702cc004b0fdb002fda7</td>\n",
       "      <td>1940</td>\n",
       "      <td>2645</td>\n",
       "      <td>1047</td>\n",
       "      <td>sakura-park</td>\n",
       "      <td>0.022200</td>\n",
       "      <td>0.494194</td>\n",
       "    </tr>\n",
       "    <tr>\n",
       "      <th>72908</th>\n",
       "      <td>0x82235445a7f634279e33702cc004b0fdb002fda7</td>\n",
       "      <td>2666</td>\n",
       "      <td>2659</td>\n",
       "      <td>2807</td>\n",
       "      <td>sakura-park</td>\n",
       "      <td>0.042550</td>\n",
       "      <td>0.478333</td>\n",
       "    </tr>\n",
       "  </tbody>\n",
       "</table>\n",
       "<p>377 rows × 7 columns</p>\n",
       "</div>"
      ],
      "text/plain": [
       "                                         Contract NFT_num  rarity_rank  Label  \\\n",
       "72841  0x82235445a7f634279e33702cc004b0fdb002fda7    2352            3   2807   \n",
       "72877  0x82235445a7f634279e33702cc004b0fdb002fda7    2533            4   1047   \n",
       "72710  0x82235445a7f634279e33702cc004b0fdb002fda7    1503           11   2807   \n",
       "72633  0x82235445a7f634279e33702cc004b0fdb002fda7    1135           14   2807   \n",
       "72758  0x82235445a7f634279e33702cc004b0fdb002fda7    1802           34   2807   \n",
       "...                                           ...     ...          ...    ...   \n",
       "72973  0x82235445a7f634279e33702cc004b0fdb002fda7     845         2638   1047   \n",
       "72861  0x82235445a7f634279e33702cc004b0fdb002fda7    2453         2639   2807   \n",
       "72882  0x82235445a7f634279e33702cc004b0fdb002fda7    2540         2640   2807   \n",
       "72778  0x82235445a7f634279e33702cc004b0fdb002fda7    1940         2645   1047   \n",
       "72908  0x82235445a7f634279e33702cc004b0fdb002fda7    2666         2659   2807   \n",
       "\n",
       "        Collection  sale_price  distance  \n",
       "72841  sakura-park    0.132797  0.559004  \n",
       "72877  sakura-park    0.215547  0.630085  \n",
       "72710  sakura-park    0.072407  0.535397  \n",
       "72633  sakura-park    0.086008  0.567585  \n",
       "72758  sakura-park    0.068487  0.610942  \n",
       "...            ...         ...       ...  \n",
       "72973  sakura-park    0.051833  0.620839  \n",
       "72861  sakura-park    0.015725  0.493072  \n",
       "72882  sakura-park    0.051563  0.612080  \n",
       "72778  sakura-park    0.022200  0.494194  \n",
       "72908  sakura-park    0.042550  0.478333  \n",
       "\n",
       "[377 rows x 7 columns]"
      ]
     },
     "execution_count": 161,
     "metadata": {},
     "output_type": "execute_result"
    }
   ],
   "source": [
    "df_filtered_rare.query(\"Collection=='sakura-park'\").sort_values('rarity_rank')"
   ]
  },
  {
   "cell_type": "code",
   "execution_count": null,
   "id": "bf9d5ac7-f57c-4971-a706-be8c42455e9f",
   "metadata": {},
   "outputs": [],
   "source": [
    "import matplotlib.pyplot as plt\n",
    "from scipy.stats import pearsonr\n",
    "grouped = df_filtered_rare.groupby('Collection')\n",
    "# Create a scatter plot using Matplotlib\n",
    "count=0\n",
    "count_dist = 0\n",
    "count_rare = 0\n",
    "count_dist_neg = 0\n",
    "count_rare_neg = 0\n",
    "for label, group in tqdm(grouped):\n",
    "    x_1 = 1-group['rarity']\n",
    "    y = group['sale_price']\n",
    "    # Compute correlation coefficient and p-value\n",
    "    correlation, p_value = pearsonr(x_1, y)\n",
    "    if p_value<0.05:\n",
    "        x_1 = np.log(x_1)\n",
    "        plt.scatter(x_1,y,alpha=0.2,label='Rarity')\n",
    "        plt.title('Scatter Plot')\n",
    "        plt.xlabel('Column 1')\n",
    "        # plt.xlim(left=0,right=1)\n",
    "        plt.ylabel('Column 2')\n",
    "        try:\n",
    "            coefficients = np.polyfit(x_1, y, 1)\n",
    "            line_of_best_fit = np.polyval(coefficients, x_1)\n",
    "            # Plot the line of best fit\n",
    "            plt.plot(x_1, line_of_best_fit, color='red', label='Line of Best Fit')\n",
    "        except:\n",
    "            continue\n",
    "        plt.legend()\n",
    "        plt.show()\n",
    "        \n",
    "        count+=1\n",
    "        print(f\"(Rarity) Collection: {label}, Correlation: {correlation}, P-Value:{p_value}\")"
   ]
  },
  {
   "cell_type": "code",
   "execution_count": null,
   "id": "c07e26b3-1db7-47b2-9ff4-3d0da95ed5a7",
   "metadata": {},
   "outputs": [],
   "source": [
    "beans_df = merged_df2.query(\"Collection=='beanzofficial'\")"
   ]
  },
  {
   "cell_type": "code",
   "execution_count": null,
   "id": "2895be28-ae22-4d36-bbb6-ac773bceed60",
   "metadata": {},
   "outputs": [],
   "source": [
    "beans_df.sort_values(by=\"distance\")"
   ]
  },
  {
   "cell_type": "code",
   "execution_count": null,
   "id": "60c40ef1-8466-406d-a195-9024d775d637",
   "metadata": {},
   "outputs": [],
   "source": [
    "import Openseas_Methods as opse\n",
    "shit_list = []\n",
    "for contract,token in tqdm(selected_columns[:10]):\n",
    "    if contract in shit_list:\n",
    "        continue\n",
    "    rarity = opse.pull_nft_rarity(contract,token)\n",
    "    if rarity is None:\n",
    "        shit_list.append(contract)\n",
    "    else:\n",
    "        print(rarity)\n"
   ]
  },
  {
   "cell_type": "code",
   "execution_count": 123,
   "id": "63234367-139a-4069-b191-1d0a24bd8967",
   "metadata": {},
   "outputs": [
    {
     "data": {
      "text/html": [
       "<div>\n",
       "<style scoped>\n",
       "    .dataframe tbody tr th:only-of-type {\n",
       "        vertical-align: middle;\n",
       "    }\n",
       "\n",
       "    .dataframe tbody tr th {\n",
       "        vertical-align: top;\n",
       "    }\n",
       "\n",
       "    .dataframe thead th {\n",
       "        text-align: right;\n",
       "    }\n",
       "</style>\n",
       "<table border=\"1\" class=\"dataframe\">\n",
       "  <thead>\n",
       "    <tr style=\"text-align: right;\">\n",
       "      <th></th>\n",
       "      <th>Label</th>\n",
       "      <th>Collection</th>\n",
       "      <th>NFT_num</th>\n",
       "      <th>Contract</th>\n",
       "      <th>sale_price</th>\n",
       "      <th>distance</th>\n",
       "      <th>rarity_rank</th>\n",
       "    </tr>\n",
       "  </thead>\n",
       "  <tbody>\n",
       "    <tr>\n",
       "      <th>0</th>\n",
       "      <td>0</td>\n",
       "      <td>0-project</td>\n",
       "      <td>102</td>\n",
       "      <td>0x69be2c18a3c7acd14d5114a66f2dad3e96150427</td>\n",
       "      <td>0.096525</td>\n",
       "      <td>0.490676</td>\n",
       "      <td>NaN</td>\n",
       "    </tr>\n",
       "    <tr>\n",
       "      <th>1</th>\n",
       "      <td>0</td>\n",
       "      <td>0-project</td>\n",
       "      <td>103</td>\n",
       "      <td>0x69be2c18a3c7acd14d5114a66f2dad3e96150427</td>\n",
       "      <td>0.038415</td>\n",
       "      <td>0.368442</td>\n",
       "      <td>NaN</td>\n",
       "    </tr>\n",
       "    <tr>\n",
       "      <th>2</th>\n",
       "      <td>0</td>\n",
       "      <td>0-project</td>\n",
       "      <td>104</td>\n",
       "      <td>0x69be2c18a3c7acd14d5114a66f2dad3e96150427</td>\n",
       "      <td>0.034688</td>\n",
       "      <td>0.512769</td>\n",
       "      <td>NaN</td>\n",
       "    </tr>\n",
       "    <tr>\n",
       "      <th>3</th>\n",
       "      <td>0</td>\n",
       "      <td>0-project</td>\n",
       "      <td>106</td>\n",
       "      <td>0x69be2c18a3c7acd14d5114a66f2dad3e96150427</td>\n",
       "      <td>0.022950</td>\n",
       "      <td>0.542099</td>\n",
       "      <td>NaN</td>\n",
       "    </tr>\n",
       "    <tr>\n",
       "      <th>4</th>\n",
       "      <td>0</td>\n",
       "      <td>0-project</td>\n",
       "      <td>108</td>\n",
       "      <td>0x69be2c18a3c7acd14d5114a66f2dad3e96150427</td>\n",
       "      <td>0.035188</td>\n",
       "      <td>0.482177</td>\n",
       "      <td>NaN</td>\n",
       "    </tr>\n",
       "    <tr>\n",
       "      <th>...</th>\n",
       "      <td>...</td>\n",
       "      <td>...</td>\n",
       "      <td>...</td>\n",
       "      <td>...</td>\n",
       "      <td>...</td>\n",
       "      <td>...</td>\n",
       "      <td>...</td>\n",
       "    </tr>\n",
       "    <tr>\n",
       "      <th>468341</th>\n",
       "      <td>3413</td>\n",
       "      <td>yeetsnft</td>\n",
       "      <td>91</td>\n",
       "      <td>0x4b13e4107b62cdcb96e0ad84ad4bc2f684440d13</td>\n",
       "      <td>0.008457</td>\n",
       "      <td>0.530718</td>\n",
       "      <td>NaN</td>\n",
       "    </tr>\n",
       "    <tr>\n",
       "      <th>468342</th>\n",
       "      <td>3413</td>\n",
       "      <td>yeetsnft</td>\n",
       "      <td>917</td>\n",
       "      <td>0x4b13e4107b62cdcb96e0ad84ad4bc2f684440d13</td>\n",
       "      <td>0.008788</td>\n",
       "      <td>0.440329</td>\n",
       "      <td>NaN</td>\n",
       "    </tr>\n",
       "    <tr>\n",
       "      <th>468343</th>\n",
       "      <td>3413</td>\n",
       "      <td>yeetsnft</td>\n",
       "      <td>92</td>\n",
       "      <td>0x4b13e4107b62cdcb96e0ad84ad4bc2f684440d13</td>\n",
       "      <td>0.009104</td>\n",
       "      <td>0.419018</td>\n",
       "      <td>NaN</td>\n",
       "    </tr>\n",
       "    <tr>\n",
       "      <th>468344</th>\n",
       "      <td>3413</td>\n",
       "      <td>yeetsnft</td>\n",
       "      <td>930</td>\n",
       "      <td>0x4b13e4107b62cdcb96e0ad84ad4bc2f684440d13</td>\n",
       "      <td>0.018211</td>\n",
       "      <td>0.454962</td>\n",
       "      <td>NaN</td>\n",
       "    </tr>\n",
       "    <tr>\n",
       "      <th>468345</th>\n",
       "      <td>3413</td>\n",
       "      <td>yeetsnft</td>\n",
       "      <td>945</td>\n",
       "      <td>0x4b13e4107b62cdcb96e0ad84ad4bc2f684440d13</td>\n",
       "      <td>0.010872</td>\n",
       "      <td>0.374715</td>\n",
       "      <td>NaN</td>\n",
       "    </tr>\n",
       "  </tbody>\n",
       "</table>\n",
       "<p>324612 rows × 7 columns</p>\n",
       "</div>"
      ],
      "text/plain": [
       "        Label Collection NFT_num                                    Contract  \\\n",
       "0           0  0-project     102  0x69be2c18a3c7acd14d5114a66f2dad3e96150427   \n",
       "1           0  0-project     103  0x69be2c18a3c7acd14d5114a66f2dad3e96150427   \n",
       "2           0  0-project     104  0x69be2c18a3c7acd14d5114a66f2dad3e96150427   \n",
       "3           0  0-project     106  0x69be2c18a3c7acd14d5114a66f2dad3e96150427   \n",
       "4           0  0-project     108  0x69be2c18a3c7acd14d5114a66f2dad3e96150427   \n",
       "...       ...        ...     ...                                         ...   \n",
       "468341   3413   yeetsnft      91  0x4b13e4107b62cdcb96e0ad84ad4bc2f684440d13   \n",
       "468342   3413   yeetsnft     917  0x4b13e4107b62cdcb96e0ad84ad4bc2f684440d13   \n",
       "468343   3413   yeetsnft      92  0x4b13e4107b62cdcb96e0ad84ad4bc2f684440d13   \n",
       "468344   3413   yeetsnft     930  0x4b13e4107b62cdcb96e0ad84ad4bc2f684440d13   \n",
       "468345   3413   yeetsnft     945  0x4b13e4107b62cdcb96e0ad84ad4bc2f684440d13   \n",
       "\n",
       "        sale_price  distance  rarity_rank  \n",
       "0         0.096525  0.490676          NaN  \n",
       "1         0.038415  0.368442          NaN  \n",
       "2         0.034688  0.512769          NaN  \n",
       "3         0.022950  0.542099          NaN  \n",
       "4         0.035188  0.482177          NaN  \n",
       "...            ...       ...          ...  \n",
       "468341    0.008457  0.530718          NaN  \n",
       "468342    0.008788  0.440329          NaN  \n",
       "468343    0.009104  0.419018          NaN  \n",
       "468344    0.018211  0.454962          NaN  \n",
       "468345    0.010872  0.374715          NaN  \n",
       "\n",
       "[324612 rows x 7 columns]"
      ]
     },
     "execution_count": 123,
     "metadata": {},
     "output_type": "execute_result"
    }
   ],
   "source": [
    "columns_to_compare = ['Contract', 'NFT_num']\n",
    "\n",
    "# Merge DataFrames based on specified columns\n",
    "merged_df = pd.merge(total_df, df_rare, on=columns_to_compare, how='outer', indicator=True)\n",
    "\n",
    "# Filter rows that are only in df1\n",
    "coll_to_rare = merged_df[merged_df['_merge'] == 'left_only'].drop('_merge', axis=1)\n",
    "coll_to_rare"
   ]
  },
  {
   "cell_type": "code",
   "execution_count": null,
   "id": "496ebdbe-7e09-4d63-8436-da54caccb729",
   "metadata": {},
   "outputs": [
    {
     "name": "stdout",
     "output_type": "stream",
     "text": [
      "65\n"
     ]
    },
    {
     "name": "stderr",
     "output_type": "stream",
     "text": [
      " 63%|█████████████████████████▋               | 3133/5000 [07:26<06:46,  4.59it/s]"
     ]
    },
    {
     "name": "stdout",
     "output_type": "stream",
     "text": [
      "error\n",
      "<Response [429]>\n"
     ]
    },
    {
     "name": "stderr",
     "output_type": "stream",
     "text": [
      "100%|█████████████████████████████████████████| 5000/5000 [12:17<00:00,  6.78it/s]\n",
      "100%|█████████████████████████████████████████| 5000/5000 [10:37<00:00,  7.85it/s]\n",
      "100%|█████████████████████████████████████████| 5000/5000 [11:39<00:00,  7.14it/s]\n",
      "100%|█████████████████████████████████████████| 5000/5000 [08:00<00:00, 10.40it/s]\n",
      "100%|█████████████████████████████████████████| 5000/5000 [11:23<00:00,  7.31it/s]\n",
      "  8%|███▏                                    | 404/5000 [02:37<1:04:50,  1.18it/s]"
     ]
    },
    {
     "name": "stdout",
     "output_type": "stream",
     "text": [
      "error\n",
      "<Response [524]>\n"
     ]
    },
    {
     "name": "stderr",
     "output_type": "stream",
     "text": [
      "100%|█████████████████████████████████████████| 5000/5000 [13:39<00:00,  6.10it/s]\n",
      "100%|█████████████████████████████████████████| 5000/5000 [10:53<00:00,  7.65it/s]\n",
      "100%|█████████████████████████████████████████| 5000/5000 [08:48<00:00,  9.46it/s]\n",
      "100%|█████████████████████████████████████████| 5000/5000 [09:20<00:00,  8.92it/s]\n",
      "100%|█████████████████████████████████████████| 5000/5000 [11:19<00:00,  7.36it/s]\n",
      "100%|█████████████████████████████████████████| 5000/5000 [08:30<00:00,  9.79it/s]\n",
      "100%|█████████████████████████████████████████| 5000/5000 [08:33<00:00,  9.73it/s]\n",
      "100%|█████████████████████████████████████████| 5000/5000 [10:40<00:00,  7.81it/s]\n",
      "100%|█████████████████████████████████████████| 5000/5000 [11:23<00:00,  7.32it/s]\n",
      "100%|█████████████████████████████████████████| 5000/5000 [11:05<00:00,  7.51it/s]\n",
      "100%|█████████████████████████████████████████| 5000/5000 [12:34<00:00,  6.63it/s]\n",
      "100%|█████████████████████████████████████████| 5000/5000 [12:14<00:00,  6.81it/s]\n",
      "100%|█████████████████████████████████████████| 5000/5000 [12:51<00:00,  6.48it/s]\n",
      "100%|█████████████████████████████████████████| 5000/5000 [08:49<00:00,  9.45it/s]\n",
      "100%|█████████████████████████████████████████| 5000/5000 [07:50<00:00, 10.62it/s]\n",
      "100%|█████████████████████████████████████████| 5000/5000 [12:34<00:00,  6.63it/s]\n",
      "100%|█████████████████████████████████████████| 5000/5000 [13:58<00:00,  5.96it/s]\n",
      "100%|█████████████████████████████████████████| 5000/5000 [12:33<00:00,  6.63it/s]\n",
      "100%|█████████████████████████████████████████| 5000/5000 [09:34<00:00,  8.70it/s]\n",
      "100%|█████████████████████████████████████████| 5000/5000 [11:25<00:00,  7.29it/s]\n",
      "100%|█████████████████████████████████████████| 5000/5000 [08:00<00:00, 10.41it/s]\n",
      "100%|█████████████████████████████████████████| 5000/5000 [12:50<00:00,  6.49it/s]\n",
      "100%|█████████████████████████████████████████| 5000/5000 [12:39<00:00,  6.58it/s]\n",
      "100%|█████████████████████████████████████████| 5000/5000 [11:40<00:00,  7.13it/s]\n",
      "100%|█████████████████████████████████████████| 5000/5000 [08:15<00:00, 10.09it/s]\n",
      "100%|█████████████████████████████████████████| 5000/5000 [09:28<00:00,  8.80it/s]\n",
      "100%|█████████████████████████████████████████| 5000/5000 [08:54<00:00,  9.36it/s]\n",
      " 85%|██████████████████████████████████▋      | 4237/5000 [09:38<02:12,  5.77it/s]"
     ]
    }
   ],
   "source": [
    "selected_columns = sorted(coll_to_rare[['Contract', 'NFT_num']].to_numpy().tolist())\n",
    "command = \"INSERT INTO nft_to_rarity_2 (contract, token_id, rare_score, rank) VALUES (%s, %s, %s,%s) returning token_id\"\n",
    "rares_to_grab  = list(chunked(selected_columns,5000))\n",
    "rarities = []\n",
    "print(len(rares_to_grab))\n",
    "bad_contracts = []\n",
    "for rare_chunk in rares_to_grab[1:]:\n",
    "    for contract,token_id in tqdm(rare_chunk):\n",
    "        if contract in bad_contracts:\n",
    "            continue\n",
    "        rare_dict = opse.pull_nft_rarity(contract,token_id)\n",
    "        if rare_dict is None:\n",
    "            bad_contracts.append(contract)\n",
    "            continue\n",
    "        rarities.append((contract,token_id,rare_dict.get('score',''),rare_dict.get('rank',-1)))\n",
    "    psql.batch_insert(command,rarities)\n",
    "    rarities = []"
   ]
  },
  {
   "cell_type": "code",
   "execution_count": 126,
   "id": "c8fdc3bc-cc72-4007-8223-19523e26ff5c",
   "metadata": {},
   "outputs": [
    {
     "name": "stdout",
     "output_type": "stream",
     "text": [
      "poo\n"
     ]
    }
   ],
   "source": [
    "print('poo')"
   ]
  },
  {
   "cell_type": "code",
   "execution_count": null,
   "id": "b15795c9-a05a-43b0-811c-01eeb50df79d",
   "metadata": {},
   "outputs": [],
   "source": [
    "https://www.openrarity.dev/"
   ]
  },
  {
   "cell_type": "code",
   "execution_count": 13,
   "id": "aefbb6a0-bad4-4395-9870-6854f62cf14d",
   "metadata": {},
   "outputs": [
    {
     "name": "stderr",
     "output_type": "stream",
     "text": [
      "  0%|                                                     | 0/959 [00:00<?, ?it/s]/global/scratch/tlundy/NFT_Research/nft_venv/lib/python3.8/site-packages/scipy/stats/_stats_py.py:4424: ConstantInputWarning: An input array is constant; the correlation coefficient is not defined.\n",
      "  warnings.warn(stats.ConstantInputWarning(msg))\n",
      " 10%|████▏                                      | 92/959 [00:00<00:01, 479.17it/s]"
     ]
    },
    {
     "name": "stdout",
     "output_type": "stream",
     "text": [
      "Collection: 0xapes-trilogy, Correlation: 0.14478009187835955, P-Value:0.0009843014819011014\n",
      "Collection: 1928-apes, Correlation: 0.14124270544246548, P-Value:0.024655838356120733\n",
      "Collection: 199x-spectra, Correlation: 0.17051995026025848, P-Value:0.004802095906909498\n",
      "Collection: 2545bygr4y, Correlation: 0.24612099910060645, P-Value:0.0001427018162294507\n",
      "Collection: 3gm-bot-pass, Correlation: 0.09214002673425808, P-Value:0.04362069808219986\n",
      "Collection: 3l3phants-official, Correlation: 0.28497539686385676, P-Value:4.479243226606441e-06\n",
      "Collection: 8bituniverse, Correlation: 0.32501755258901166, P-Value:1.337735628272015e-10\n",
      "Collection: 8sian-main-collection, Correlation: 0.20626667820946787, P-Value:6.241109732483508e-06\n",
      "Collection: a-common-place, Correlation: 0.12036875571472969, P-Value:0.028796244864181572\n",
      "Collection: abstractars, Correlation: 0.1319439415960449, P-Value:0.017317235289224433\n",
      "Collection: acrocspacecraft, Correlation: 0.20500222855285544, P-Value:0.0034258409365693627\n",
      "Collection: adventuresofjimmy, Correlation: 0.09741044103740619, P-Value:0.02492278217249579\n",
      "Collection: akc, Correlation: 0.23293802380505893, P-Value:3.7686924695964404e-08\n",
      "Collection: akidcalledbeast, Correlation: 0.19829594954417504, P-Value:0.00011810750468467232\n",
      "Collection: akumu-dragonz, Correlation: 0.12729700817635095, P-Value:0.013133826431337063\n",
      "Collection: akutars, Correlation: 0.1367027304001422, P-Value:0.030376778159757135\n",
      "Collection: alienfrensnft, Correlation: 0.09150637179568798, P-Value:0.030675684756005753\n",
      "Collection: alinft-official, Correlation: 0.12782000086961712, P-Value:0.028428939332730996\n",
      "Collection: alleykatzofficial, Correlation: 0.21416874764240573, P-Value:3.9406035579758295e-06\n",
      "Collection: alphabetty-doodles, Correlation: 0.19137998127680636, P-Value:8.233141588891817e-05\n",
      "Collection: alphagirlclub, Correlation: 0.13930930886428575, P-Value:0.00821192344328016\n",
      "Collection: ambushofficialpowreboot, Correlation: 0.33518663237412544, P-Value:1.6393619031443278e-08\n",
      "Collection: angels-of-aether, Correlation: 0.19055590523353608, P-Value:0.0009275957073085334\n",
      "Collection: angryapes-society-nft, Correlation: 0.15677041274986922, P-Value:0.00016468851360347913\n",
      "Collection: animetas, Correlation: 0.12117003393960678, P-Value:0.0053477916484575465\n",
      "Collection: animo-official, Correlation: 0.2012825814588483, P-Value:1.0277463489765609e-05\n",
      "Collection: animonkeys, Correlation: 0.6222416277711087, P-Value:1.2436080819781517e-56\n",
      "Collection: antonymgenesis, Correlation: 0.13804292473946211, P-Value:0.0017981558750263587\n",
      "Collection: ape-mfers, Correlation: 0.19583711542307464, P-Value:9.882439901661047e-06\n",
      "Collection: apedogwtf, Correlation: 0.13345870837352186, P-Value:0.0058011458498941825\n",
      "Collection: arcade-land, Correlation: 0.1123390306171219, P-Value:0.01292944198776586\n",
      "Collection: artie-season-1-supercute, Correlation: 0.1075231903660568, P-Value:0.02665396167889634\n",
      "Collection: atsui, Correlation: 0.18503121309732762, P-Value:2.813025303180497e-05\n",
      "Collection: attackgame-official, Correlation: 0.20373442045934184, P-Value:0.025621429121029014\n",
      "Collection: av-yacht-club, Correlation: 0.5188229515358173, P-Value:8.462289540231855e-16\n",
      "Collection: avius-animae, Correlation: 0.13021995422012303, P-Value:0.002848664234484053\n",
      "Collection: axolittles, Correlation: 0.31731547071486926, P-Value:9.979641836945154e-07\n",
      "Collection: azragames-thehopeful, Correlation: 0.1628216096283358, P-Value:0.0025629937437221784\n",
      "Collection: azukielementals, Correlation: 0.12939251095046442, P-Value:0.03669362377327997\n",
      "Collection: babobunnyclub, Correlation: 0.30789731056246405, P-Value:3.6468699467171996e-08\n",
      "Collection: bankrupt-ftx-yacht-club, Correlation: 0.13110358959294674, P-Value:0.001525842166640598\n",
      "Collection: barn-owlz, Correlation: 0.18286369123933102, P-Value:3.828562756366295e-05\n",
      "Collection: based-ghouls, Correlation: 0.15672455654157585, P-Value:0.0013789464000435502\n",
      "Collection: bastard-gan-punks-v2, Correlation: 0.24689771661125273, P-Value:1.0654067964545106e-06\n",
      "Collection: bastard-penguins, Correlation: 0.11433571548723834, P-Value:0.014901510753692039\n",
      "Collection: bbrcofficial-ivyboys, Correlation: 0.16751474704983757, P-Value:0.00012040882217345549\n",
      "Collection: bbyc-bored-bits-yacht-club, Correlation: 0.15769775896817156, P-Value:0.0004117233535295017\n",
      "Collection: beans-dumb-ways-to-die, Correlation: 0.13590798301694956, P-Value:0.0032195741540649104\n",
      "Collection: beanzofficial, Correlation: 0.24392743317006213, P-Value:2.9438617857540577e-07\n",
      "Collection: bearmarketbears, Correlation: 0.3653615352555282, P-Value:2.7514015963702793e-11\n",
      "Collection: beartings, Correlation: 0.3217080467580012, P-Value:1.4984052280716971e-13\n",
      "Collection: ben-mezrich-project-meme-stock, Correlation: 0.12458016657309848, P-Value:0.02426181626389\n",
      "Collection: bestfriend-collection, Correlation: 0.15968619610829424, P-Value:0.0003767666432202285\n",
      "Collection: binkies, Correlation: 0.3785272986280863, P-Value:4.258274771085776e-16\n",
      "Collection: biplane-bobo, Correlation: 0.16195685510692204, P-Value:0.00017326878618586575\n",
      "Collection: bitcoinbirdsofficial, Correlation: 0.16846832493886815, P-Value:0.0008371562580348214\n"
     ]
    },
    {
     "name": "stderr",
     "output_type": "stream",
     "text": [
      " 22%|█████████▎                                | 213/959 [00:00<00:01, 554.73it/s]"
     ]
    },
    {
     "name": "stdout",
     "output_type": "stream",
     "text": [
      "Collection: blockydoge3, Correlation: 0.1181848748577377, P-Value:0.03946002507519574\n",
      "Collection: bokinftofficial, Correlation: 0.09088640270218051, P-Value:0.03018156968669476\n",
      "Collection: bonsai-zenft, Correlation: 0.2532281372075474, P-Value:1.8307738066679469e-06\n",
      "Collection: boonjiproject, Correlation: 0.09220532086384463, P-Value:0.04884702029757449\n",
      "Collection: bored-and-dangerous, Correlation: 0.18949839413953892, P-Value:0.002107483471015604\n",
      "Collection: bored-ape-comic, Correlation: 0.381002913679037, P-Value:1.1868591397186473e-10\n",
      "Collection: bored-ape-seeks-yacht-club-issue-0, Correlation: 0.4181701904233452, P-Value:2.9602836248131265e-14\n",
      "Collection: bored-mummy-waking-up, Correlation: 0.45806312277897215, P-Value:9.087317829539742e-28\n",
      "Collection: boredaiclub, Correlation: 0.1780700190166469, P-Value:0.003098603093115929\n",
      "Collection: boredapeyogaclub, Correlation: 0.20452830907615185, P-Value:0.0002464077416865041\n",
      "Collection: boredgorillayachtclub, Correlation: 0.18257198038011127, P-Value:1.705386300351995e-05\n",
      "Collection: boredpepeyc, Correlation: 0.1348139346943655, P-Value:0.02331408609902632\n",
      "Collection: boring-bananas-company, Correlation: 0.11655365374021452, P-Value:0.017949201891773504\n",
      "Collection: btfdrabbits, Correlation: 0.18138840380743784, P-Value:8.368868548505026e-05\n",
      "Collection: bubblegumkids, Correlation: 0.14223094276631917, P-Value:0.0019292504240678169\n",
      "Collection: buddabearsofficial, Correlation: 0.16012611273696267, P-Value:0.0009500609987385711\n",
      "Collection: budverse-cans-heritage-edition, Correlation: 0.22547218037522654, P-Value:3.3972352691816636e-07\n",
      "Collection: bullsandapes-genesis, Correlation: 0.21136305618332527, P-Value:0.00027533876341166984\n",
      "Collection: bus-stop, Correlation: 0.12142666434054886, P-Value:0.021018590396597998\n",
      "Collection: buttheads-real, Correlation: 0.16047227840282619, P-Value:0.006631709656534166\n",
      "Collection: camelsnftio, Correlation: 0.10021427900505987, P-Value:0.04008896722823258\n",
      "Collection: capiesbyfabrik, Correlation: 0.20919517726502004, P-Value:8.033424285397038e-05\n",
      "Collection: cartoonsnft, Correlation: 0.16004181621597863, P-Value:0.01726249486580335\n",
      "Collection: castle-kid-colin-tilley, Correlation: 0.11504409791489632, P-Value:0.020415077217025828\n",
      "Collection: catbloxgenesis, Correlation: 0.21692916739276227, P-Value:1.4899336913155323e-06\n",
      "Collection: catbloxpumacapsule, Correlation: 0.2637837956168372, P-Value:1.8100818540541806e-07\n",
      "Collection: catc, Correlation: 0.3002869448604095, P-Value:1.3898494293360771e-06\n",
      "Collection: cerealclub, Correlation: 0.27101295969853734, P-Value:8.692307887460384e-08\n",
      "Collection: chain-runners-nft, Correlation: 0.12595434131200953, P-Value:0.010591392503897172\n",
      "Collection: chaoscityresidents, Correlation: 0.18903985904325427, P-Value:5.2448878264212865e-05\n",
      "Collection: checks-art-history, Correlation: 0.19589766736353376, P-Value:1.6061505840209757e-05\n",
      "Collection: cheebs-nft-official, Correlation: 0.17817748225425314, P-Value:2.6814158782542945e-05\n",
      "Collection: cheers-up, Correlation: 0.18512199024504808, P-Value:0.0016653780903543214\n",
      "Collection: chibi-apes, Correlation: 0.18537683060752116, P-Value:1.125628263632579e-05\n",
      "Collection: childrenofukiyoofficial, Correlation: 0.26097423534955855, P-Value:1.999147494207435e-08\n",
      "Collection: chill-frogs, Correlation: 0.10614738408206002, P-Value:0.015554186164919694\n",
      "Collection: chillrx, Correlation: 0.22009757671590338, P-Value:2.583070330452524e-05\n",
      "Collection: chippys-world, Correlation: 0.3139669780587857, P-Value:9.226006660455491e-11\n",
      "Collection: chubbiverse-frens, Correlation: 0.12262177586911135, P-Value:0.014005863593477445\n",
      "Collection: chubbykaijudao, Correlation: 0.35945124907108017, P-Value:4.3686106226623603e-16\n",
      "Collection: citizenz-nft, Correlation: 0.20332007363941396, P-Value:3.0045580355532357e-05\n",
      "Collection: cockpunch, Correlation: 0.16140996980420824, P-Value:0.0014847120882601876\n",
      "Collection: collectvoxtownstar, Correlation: 0.3995899293494755, P-Value:1.6812835272801324e-22\n",
      "Collection: commoners-by-commonopoly, Correlation: 0.15417309585950242, P-Value:0.001653473337676736\n",
      "Collection: commsaur, Correlation: 0.2637295389152386, P-Value:2.2318744624995746e-06\n",
      "Collection: cool-cats-nft, Correlation: 0.11246587377218356, P-Value:0.0098392510091859\n",
      "Collection: cooldogsofficial, Correlation: 0.29052113510300703, P-Value:7.945974491510649e-12\n",
      "Collection: corntownofficial, Correlation: 0.17640489506681203, P-Value:0.0022789027848955064\n",
      "Collection: cosmiccatsofficial, Correlation: 0.1310221433770809, P-Value:0.006768925800491486\n",
      "Collection: cosmodinos-omega, Correlation: 0.23423591383861816, P-Value:1.657350046684758e-07\n",
      "Collection: covidpunksnft, Correlation: 0.21885442862761748, P-Value:7.940740008448769e-06\n",
      "Collection: crazy-lizard-army, Correlation: 0.15461908867814414, P-Value:0.002057474739072663\n",
      "Collection: creaturecrowd, Correlation: 0.46561268896760755, P-Value:6.045440166450351e-19\n",
      "Collection: creatureworld, Correlation: 0.10578099936587242, P-Value:0.012977967221687451\n",
      "Collection: crecodiles, Correlation: 0.2317465018098424, P-Value:0.0003609311044789905\n",
      "Collection: creepy-friends-by-nft-booster, Correlation: 0.14964928955318937, P-Value:0.025766861195778295\n",
      "Collection: croakz-v2-1, Correlation: 0.2456224391134458, P-Value:6.443099810153809e-09\n",
      "Collection: crypto-hobos, Correlation: 0.2866887927130588, P-Value:2.6402306345233483e-10\n",
      "Collection: crypto-hodlers-nft, Correlation: 0.3367044062494874, P-Value:3.816600449792176e-09\n",
      "Collection: crypto-pills-by-micha-klein, Correlation: 0.21381234005331268, P-Value:9.277918516419427e-05\n"
     ]
    },
    {
     "name": "stderr",
     "output_type": "stream",
     "text": [
      " 36%|██████████████▉                           | 341/959 [00:00<00:01, 601.65it/s]"
     ]
    },
    {
     "name": "stdout",
     "output_type": "stream",
     "text": [
      "Collection: cryptoadpunks, Correlation: 0.15447989688847671, P-Value:0.00547018820396732\n",
      "Collection: cryptobatz-by-ozzy-osbourne, Correlation: 0.23681802457006096, P-Value:1.6166847649930403e-07\n",
      "Collection: cryptocannabisclub, Correlation: 0.12182218573361506, P-Value:0.007731330413621874\n",
      "Collection: cryptodickbutts-s3, Correlation: 0.23240752753765984, P-Value:5.370422945263248e-07\n",
      "Collection: cryptomutts-official, Correlation: 0.201879463462321, P-Value:0.00023827897376498363\n",
      "Collection: cubemindwave, Correlation: 0.44137705208303674, P-Value:1.8768346720338475e-18\n",
      "Collection: cupcatsofficial, Correlation: 0.21483398165012121, P-Value:6.901743584933614e-07\n",
      "Collection: darkflex, Correlation: 0.12944487690942458, P-Value:0.002604397411405629\n",
      "Collection: deaddegens, Correlation: 0.2418460383917964, P-Value:6.980260292895455e-09\n",
      "Collection: deadheads, Correlation: 0.24107175897990374, P-Value:6.568080223341339e-08\n",
      "Collection: degenerate-regenerate, Correlation: 0.17703248149941803, P-Value:0.00018646159738018982\n",
      "Collection: derage, Correlation: 0.3068393271717051, P-Value:1.6067962560760085e-13\n",
      "Collection: devilvalley, Correlation: 0.4480384792110198, P-Value:1.2521314443889201e-27\n",
      "Collection: dinks, Correlation: 0.1183721547146735, P-Value:0.009363453223558338\n",
      "Collection: dippies, Correlation: 0.144637572218163, P-Value:0.0006915517845178919\n",
      "Collection: dirtbirdswtf, Correlation: 0.09320225535833791, P-Value:0.028268340395325327\n",
      "Collection: doadz, Correlation: 0.15124396840324786, P-Value:0.002819620755747219\n",
      "Collection: dodofrensxyz, Correlation: 0.30394292276292617, P-Value:4.8082880593112354e-09\n",
      "Collection: dogeclub-dogc, Correlation: 0.16294395890372793, P-Value:0.00020429180680740967\n",
      "Collection: dogs-unchained, Correlation: 0.2783695857473187, P-Value:6.298655394806512e-05\n",
      "Collection: donald-trump-yacht-club, Correlation: 0.2770377288201071, P-Value:9.177618020818771e-10\n",
      "Collection: doodlefrensnft, Correlation: 0.1759481287218531, P-Value:0.001809968136082569\n",
      "Collection: doodles-official, Correlation: 0.33360551785713566, P-Value:3.230033971335355e-15\n",
      "Collection: doomers-degen-den, Correlation: 0.18855795926716928, P-Value:0.0037921976712669324\n",
      "Collection: dourdarcels, Correlation: 0.09098294004192241, P-Value:0.042409823935680956\n",
      "Collection: dr-ethvils-3d-frankenpunks, Correlation: 0.17576781702251634, P-Value:8.308003192233981e-05\n",
      "Collection: dragon-town-wtf, Correlation: 0.6212345031254684, P-Value:7.891944767961881e-42\n",
      "Collection: dreamyofficial, Correlation: 0.21814668745460608, P-Value:7.42799366986469e-07\n",
      "Collection: dreamzukinft, Correlation: 0.09325193480084285, P-Value:0.042647238517765355\n",
      "Collection: dropbearsnft, Correlation: 0.1421190090597142, P-Value:0.015433086407004328\n",
      "Collection: elven, Correlation: 0.14784119306476162, P-Value:0.006313467308955855\n",
      "Collection: ensmaxis, Correlation: 0.11664650790715692, P-Value:0.008179385028102714\n",
      "Collection: eponym, Correlation: 0.2110027838663465, P-Value:4.19078572162939e-05\n",
      "Collection: escape-the-agenda-official, Correlation: 0.22852839523344726, P-Value:5.82654956220921e-07\n",
      "Collection: ethalien-vox, Correlation: 0.18444514101026968, P-Value:0.002256732523691914\n",
      "Collection: etherealartorigins, Correlation: 0.17204827355246657, P-Value:0.001192669278443319\n",
      "Collection: etherealswtf, Correlation: 0.20443742899192924, P-Value:1.5130303046424517e-05\n",
      "Collection: ethereans-official, Correlation: 0.2566013566795789, P-Value:4.028372915639448e-05\n",
      "Collection: ethsenders, Correlation: 0.1071787094404122, P-Value:0.0372608769629156\n",
      "Collection: everythingiown, Correlation: 0.15644430909318, P-Value:0.011219164032877501\n",
      "Collection: exohape, Correlation: 0.15870385622084518, P-Value:0.0019143667085965627\n",
      "Collection: fameladysquad, Correlation: 0.16396056190732572, P-Value:0.00022475334102794726\n",
      "Collection: fanggangnft, Correlation: 0.13170734939218628, P-Value:0.0019291650591884613\n",
      "Collection: fatales, Correlation: 0.16362011628086237, P-Value:0.00040774507843902166\n",
      "Collection: finiliar, Correlation: 0.13755788945019723, P-Value:0.00561442276229463\n",
      "Collection: fishyfam, Correlation: 0.08950428288336963, P-Value:0.04459980676371781\n",
      "Collection: floppycollection, Correlation: 0.10311641999399358, P-Value:0.026179859184077656\n",
      "Collection: flowtys, Correlation: 0.15026648190557781, P-Value:0.03851072847155566\n",
      "Collection: fluf-world-burrows, Correlation: 0.4454587700637574, P-Value:1.1655432503939997e-12\n",
      "Collection: fluf-world-thingies, Correlation: 0.35195726493263874, P-Value:3.553883732345241e-10\n",
      "Collection: fomo-mofos, Correlation: 0.23479458223483113, P-Value:1.6880537584505184e-07\n",
      "Collection: forgottenpunks, Correlation: 0.19422758697249629, P-Value:0.00014179612587469215\n",
      "Collection: foxyfamnft, Correlation: 0.39444078484853873, P-Value:2.425604276346465e-16\n",
      "Collection: fragments-by-james-jean, Correlation: 0.13942464181715822, P-Value:0.009307839945675765\n",
      "Collection: froyokittenscollection, Correlation: 0.13057872086513705, P-Value:0.00498402180609594\n"
     ]
    },
    {
     "name": "stderr",
     "output_type": "stream",
     "text": [
      " 49%|████████████████████▊                     | 474/959 [00:00<00:00, 630.84it/s]"
     ]
    },
    {
     "name": "stdout",
     "output_type": "stream",
     "text": [
      "Collection: fuekinft, Correlation: 0.15004199112186578, P-Value:0.005294657896230718\n",
      "Collection: funclesnft, Correlation: 0.19205806657122487, P-Value:9.096841485868706e-05\n",
      "Collection: futr-one, Correlation: 0.16253542128482693, P-Value:0.00020029845628949212\n",
      "Collection: g00p, Correlation: 0.19888692456599608, P-Value:2.592194057270529e-06\n",
      "Collection: galactic-secret-agency, Correlation: 0.3674756343886702, P-Value:7.311017866031778e-11\n",
      "Collection: galaxy-warriors-9999, Correlation: 0.15845619340018532, P-Value:0.009104127956582107\n",
      "Collection: galaxyeggs9999, Correlation: 0.15565185193887007, P-Value:0.00028627452095594244\n",
      "Collection: gardenlockdown, Correlation: 0.3489127694105728, P-Value:9.395667989314067e-08\n",
      "Collection: gauntlets, Correlation: 0.17864337757334023, P-Value:0.0006060493554030607\n",
      "Collection: gdrake, Correlation: 0.12881161108983796, P-Value:0.0033460913630371644\n",
      "Collection: gen-dot-art, Correlation: 0.40667629983740844, P-Value:9.498257794955839e-20\n",
      "Collection: gh0stlygh0sts, Correlation: 0.09828600851821628, P-Value:0.023644773435613626\n",
      "Collection: ghibladymaker, Correlation: 0.22388644779085187, P-Value:0.000642747743641663\n",
      "Collection: ghost-buddy, Correlation: 0.19311856141195904, P-Value:5.492371876293867e-06\n",
      "Collection: ghostchildbones, Correlation: 0.25349136064752364, P-Value:1.4294430705114832e-09\n",
      "Collection: ghouls-dbs, Correlation: 0.24489581880273634, P-Value:4.4522395241057735e-05\n",
      "Collection: girlies-nft, Correlation: 0.108209537896021, P-Value:0.012596660256326902\n",
      "Collection: gitcoin-presents, Correlation: 0.16173400114479122, P-Value:0.0008184758911033272\n",
      "Collection: gluefactoryshow, Correlation: 0.19226905188529217, P-Value:0.0003091101050714133\n",
      "Collection: good-minds-nft, Correlation: 0.13519215252353448, P-Value:0.00574867603586314\n",
      "Collection: goodboi-borzoi, Correlation: 0.18621916059756066, P-Value:3.5470236601159615e-05\n",
      "Collection: grandpaapecountryclub, Correlation: 0.2083529752401149, P-Value:0.03127156763167623\n",
      "Collection: graycraft-2, Correlation: 0.11316681008199396, P-Value:0.031585110079501905\n",
      "Collection: great-expectations, Correlation: 0.29922348237163693, P-Value:3.086813622512035e-09\n",
      "Collection: grimbogs-by-bedbugs, Correlation: 0.14117380576765853, P-Value:0.010237856447965354\n",
      "Collection: gunslingersnft, Correlation: 0.18279717716285995, P-Value:0.0001261177823843485\n",
      "Collection: gurts, Correlation: 0.22033533083057086, P-Value:0.0003175232822369152\n",
      "Collection: gutterpigeons, Correlation: 0.29938160343166875, P-Value:2.359005816170419e-10\n",
      "Collection: hausphasesbyfabrik, Correlation: 0.3033417260153022, P-Value:2.738593694267097e-11\n",
      "Collection: heedongofficial, Correlation: 0.2153688943722517, P-Value:0.0005076566316372102\n",
      "Collection: himalayainc, Correlation: 0.30275107309888316, P-Value:1.3784016059635085e-10\n",
      "Collection: hiphop-reboot-official, Correlation: 0.12581957895786547, P-Value:0.04870188692937697\n",
      "Collection: hot-dougs, Correlation: 0.27693675079854485, P-Value:1.8149137301077718e-06\n",
      "Collection: howlerz, Correlation: 0.09962982505024065, P-Value:0.019549033444331267\n",
      "Collection: hugpass, Correlation: 0.3237779597101853, P-Value:1.2221547100124266e-09\n",
      "Collection: idamura-xyz, Correlation: 0.13675327779441, P-Value:0.022573094323685053\n",
      "Collection: impostors-genesis-aliens, Correlation: 0.11216457742130229, P-Value:0.020883405635912945\n",
      "Collection: imps-by-supernfty, Correlation: 0.193648156314193, P-Value:0.00017837199140362603\n",
      "Collection: inbetweeners, Correlation: 0.19759827076461803, P-Value:4.6435457473917396e-05\n",
      "Collection: incognito-nft, Correlation: 0.13442370564830836, P-Value:0.001964404943778392\n",
      "Collection: infamous-clearance-passes, Correlation: 0.6634836298948944, P-Value:6.39385902005169e-70\n",
      "Collection: internet-raised-official, Correlation: 0.12532074683777916, P-Value:0.02119172519310039\n",
      "Collection: invazers, Correlation: 0.41410352893740127, P-Value:1.514425853263908e-05\n",
      "Collection: invisiblefriends, Correlation: 0.1309589200199589, P-Value:0.004500401519979558\n",
      "Collection: jadu-ava, Correlation: 0.15362842751284236, P-Value:0.010311567852666112\n",
      "Collection: joyworld-joytoys, Correlation: 0.284899292070656, P-Value:0.001116201004254082\n"
     ]
    },
    {
     "name": "stderr",
     "output_type": "stream",
     "text": [
      " 64%|██████████████████████████▋               | 610/959 [00:01<00:00, 488.67it/s]"
     ]
    },
    {
     "name": "stdout",
     "output_type": "stream",
     "text": [
      "Collection: jpunks-og-rex, Correlation: 0.17123799794565397, P-Value:0.00367605918388702\n",
      "Collection: just-mallards, Correlation: 0.389650596120878, P-Value:3.4336403674316813e-13\n",
      "Collection: justcubesnft, Correlation: 0.11841552882912562, P-Value:0.01085543252770858\n",
      "Collection: karafuru, Correlation: 0.11092109685477171, P-Value:0.010385800396685256\n",
      "Collection: karafuru-gachapon, Correlation: 0.14270404026247935, P-Value:0.0323870638245952\n",
      "Collection: karafuru-x-hypebeast-x-atmos, Correlation: 0.23769276131170744, P-Value:0.000497280866499304\n",
      "Collection: kawaiimetacollage, Correlation: 0.28656547359698215, P-Value:1.2350631084883067e-06\n",
      "Collection: kawamii, Correlation: 0.12741627897974236, P-Value:0.01223013607595105\n",
      "Collection: khuga-by-khuga-labs, Correlation: 0.09738902672236639, P-Value:0.020709937753466894\n",
      "Collection: kibatsu-mecha, Correlation: 0.14051423372677518, P-Value:0.005378988658330423\n",
      "Collection: knights-of-degen-official, Correlation: 0.4026229498047458, P-Value:7.739127678655032e-18\n",
      "Collection: koala-intelligence-agency, Correlation: 0.15176533083715213, P-Value:0.0006141333121718541\n",
      "Collection: kometh-garden-point-issue-1, Correlation: 0.19944235743785088, P-Value:0.0022722405289904743\n",
      "Collection: kreepyclub, Correlation: 0.11463734755171762, P-Value:0.013785294519845026\n",
      "Collection: krisalis, Correlation: 0.19481531693701193, P-Value:3.366739611267605e-05\n",
      "Collection: larva-chads, Correlation: 0.12901109078964942, P-Value:0.004002051540358494\n",
      "Collection: lazy-lions, Correlation: 0.0932999531120428, P-Value:0.027399189751435894\n",
      "Collection: lazy-lions-bungalows, Correlation: 0.16184410271189176, P-Value:0.013380225937820468\n",
      "Collection: lil-heroes-by-edgar-plans, Correlation: 0.18364725441203977, P-Value:0.00010313136885130143\n",
      "Collection: lilkami, Correlation: 0.28482595327777915, P-Value:3.1282916736097287e-12\n",
      "Collection: linksdao, Correlation: 0.824206227472418, P-Value:3.127588792003671e-85\n",
      "Collection: linksdao-champions, Correlation: 0.18807836570282907, P-Value:0.0009645618129081196\n",
      "Collection: lockdown-lemmings, Correlation: 0.1090323177585803, P-Value:0.03733099943705466\n",
      "Collection: long-neckie-ladies, Correlation: 0.09182601756356558, P-Value:0.04903924681323371\n",
      "Collection: loser-club-official, Correlation: 0.08655240918115359, P-Value:0.04682927006522195\n",
      "Collection: lostboy-nft, Correlation: 0.24529370346250795, P-Value:3.0488698349154893e-07\n",
      "Collection: lostsoulssanctuary, Correlation: 0.38165531216308224, P-Value:6.7284084022443414e-09\n",
      "Collection: lucky-ducky-nft, Correlation: 0.11832540001486797, P-Value:0.011179317413614746\n",
      "Collection: lumensnft, Correlation: 0.10273329225162903, P-Value:0.017992308984569452\n",
      "Collection: lumilands, Correlation: 0.21197919691296582, P-Value:0.0016456569600628193\n",
      "Collection: machina-the-underground, Correlation: 0.179940784516965, P-Value:0.0011833051182325615\n",
      "Collection: machine-soldier, Correlation: 0.23156671965851236, P-Value:4.155732213091327e-06\n",
      "Collection: magicforestnosleep, Correlation: 0.14057217052265472, P-Value:0.009555059028750002\n",
      "Collection: maisondegoat, Correlation: 0.1153490869727025, P-Value:0.010931869369384282\n",
      "Collection: market-mkrs, Correlation: 0.09690408211302247, P-Value:0.030105840621317177\n",
      "Collection: memsvoyageone, Correlation: 0.19538767206350854, P-Value:2.7069529006226727e-05\n",
      "Collection: metacraft-season-pass-2022, Correlation: 0.24975219863076933, P-Value:2.0213410581604718e-06\n",
      "Collection: metakrew, Correlation: 0.3337823507876063, P-Value:6.149099265312324e-07\n",
      "Collection: metatravelers, Correlation: 0.17527867974032485, P-Value:0.0011155888611461167\n",
      "Collection: mfers, Correlation: 0.10368142310238501, P-Value:0.013509449678684133\n",
      "Collection: migratingcollection, Correlation: 0.19242832723083345, P-Value:5.6819723754011894e-05\n",
      "Collection: mintge-ji-ba, Correlation: 0.14089565306718532, P-Value:0.01941217750490368\n",
      "Collection: misfit-university-official, Correlation: 0.16123593811206977, P-Value:0.006858539434839781\n",
      "Collection: mobs-and-aliens, Correlation: 0.371857887821855, P-Value:6.101860522421125e-11\n",
      "Collection: moonbirds-oddities, Correlation: 0.10793445995161756, P-Value:0.04608863190384942\n",
      "Collection: moonbunny-nft, Correlation: 0.2628750378387808, P-Value:9.165150858140017e-07\n",
      "Collection: moonlingsofficial, Correlation: 0.36824321529548504, P-Value:4.6090407004893235e-10\n",
      "Collection: moonrunnersnft, Correlation: 0.252734947433869, P-Value:7.122588497338689e-10\n",
      "Collection: moonturtlez, Correlation: 0.2592681939992562, P-Value:1.2597450457659096e-08\n",
      "Collection: morethangamersnftmtg, Correlation: 0.13845812895456142, P-Value:0.001324897435361548\n",
      "Collection: moshimochi, Correlation: 0.11686324230551012, P-Value:0.008440900708764573\n",
      "Collection: mpl-official, Correlation: 0.18253572940359614, P-Value:4.099049290698071e-05\n",
      "Collection: multiversevm, Correlation: 0.10585016010892605, P-Value:0.019719294778933832\n",
      "Collection: murakami-flowers-2022-official, Correlation: 0.3087131103929568, P-Value:5.051987843119961e-08\n"
     ]
    },
    {
     "name": "stderr",
     "output_type": "stream",
     "text": [
      " 79%|█████████████████████████████████         | 756/959 [00:01<00:00, 595.84it/s]"
     ]
    },
    {
     "name": "stdout",
     "output_type": "stream",
     "text": [
      "Collection: muribyfabrik, Correlation: 0.15960247137034497, P-Value:0.00029202590425665676\n",
      "Collection: mystery-bowl, Correlation: 0.11789050880819926, P-Value:0.011757718661701043\n",
      "Collection: mysticsuniverse, Correlation: 0.13135763477476908, P-Value:0.047574712412736746\n",
      "Collection: nakamigos, Correlation: 0.09296498615083523, P-Value:0.03015817679638883\n",
      "Collection: neopunkssaga, Correlation: 0.23599707091708422, P-Value:3.2293458764536685e-05\n",
      "Collection: never-fear-truth-by-jd, Correlation: 0.13244296597704253, P-Value:0.042516325946051634\n",
      "Collection: nftsensei, Correlation: 0.3348780167925809, P-Value:2.7949195093866195e-12\n",
      "Collection: not-a-nft-project, Correlation: 0.19182090618353714, P-Value:6.000751695224511e-06\n",
      "Collection: nounpunks-eth, Correlation: 0.22129425697091568, P-Value:2.6318768172757586e-06\n",
      "Collection: nyolings, Correlation: 0.10820985892692525, P-Value:0.008985882188597303\n",
      "Collection: obitsofficial, Correlation: 0.09997831960582892, P-Value:0.021707098568597875\n",
      "Collection: official-moar-by-joan-cornella, Correlation: 0.21245268102381298, P-Value:2.6506497311346636e-06\n",
      "Collection: official-surreals, Correlation: 0.14633769248220413, P-Value:0.0009287882550340675\n",
      "Collection: officialdudes, Correlation: 0.26793807164146205, P-Value:1.667029866882526e-08\n",
      "Collection: onisquad, Correlation: 0.10636205024195622, P-Value:0.04284394997093533\n",
      "Collection: origamasks, Correlation: 0.3979422684606075, P-Value:1.7723237134197225e-16\n",
      "Collection: osiris-cosmic-kids, Correlation: 0.12547191263626722, P-Value:0.034236540630066134\n",
      "Collection: panduhs, Correlation: 0.16692630321973767, P-Value:0.006456420185879369\n",
      "Collection: panksnotded, Correlation: 0.12504365256744962, P-Value:0.0031972407420421396\n",
      "Collection: paradisetrippies, Correlation: 0.13069303997254506, P-Value:0.023577898818458218\n",
      "Collection: party-penguins, Correlation: 0.19324745808689392, P-Value:7.13073492883181e-05\n",
      "Collection: partydegenerates, Correlation: 0.11232992096402158, P-Value:0.021619479755106925\n",
      "Collection: peanz-official, Correlation: 0.3110726013366691, P-Value:4.929339902700104e-07\n",
      "Collection: pepemigos-official, Correlation: 0.13199520198110415, P-Value:0.0176232060224811\n",
      "Collection: pepunksnfts, Correlation: 0.18140508048742865, P-Value:0.0004074080701455881\n",
      "Collection: phantabear, Correlation: 0.09560190127803594, P-Value:0.03975757094016897\n",
      "Collection: pixel-crypto-ninja-heroes, Correlation: 0.16378466425999996, P-Value:0.0071033246329023966\n",
      "Collection: pixels-farm, Correlation: 0.13598324446750712, P-Value:0.0017729475500415338\n",
      "Collection: placeholdersnft, Correlation: 0.6854812752885919, P-Value:1.385997432561209e-50\n",
      "Collection: probablyalabel, Correlation: 0.39168267185682537, P-Value:1.6438129058665224e-17\n",
      "Collection: projectkaito, Correlation: 0.24754048326875602, P-Value:1.7307911775320633e-08\n",
      "Collection: proof-moonbirds, Correlation: 0.29641243900741115, P-Value:3.964478810405878e-10\n",
      "Collection: pudgyrods, Correlation: 0.3000199812930293, P-Value:1.894510059475188e-09\n",
      "Collection: punkillaz-official, Correlation: 0.1266424526035759, P-Value:0.0027272453781845975\n",
      "Collection: punkmfers, Correlation: 0.19814086608929352, P-Value:0.0011850303467640425\n",
      "Collection: purrnelopes-country-club, Correlation: 0.2900863508576308, P-Value:8.773033140964999e-09\n",
      "Collection: pxnghostdivision, Correlation: 0.2135982430653684, P-Value:2.1178201281095235e-06\n",
      "Collection: radbro-radcats, Correlation: 0.23493919762126303, P-Value:0.00035660371242888\n",
      "Collection: rare-apepes, Correlation: 0.14627037038564064, P-Value:0.001139136263606628\n",
      "Collection: rareshoe, Correlation: 0.25361333032010486, P-Value:0.010895941994806823\n",
      "Collection: re-genz, Correlation: 0.25925653934985415, P-Value:1.796494064501224e-07\n",
      "Collection: reactormotors, Correlation: 0.18381897783225068, P-Value:0.0028742720099319365\n",
      "Collection: rebelsociety, Correlation: 0.204419037042071, P-Value:1.9061941301266096e-06\n",
      "Collection: regulars, Correlation: 0.16031085563065287, P-Value:0.0013137248895922343\n",
      "Collection: rektguy, Correlation: 0.15359118237984998, P-Value:0.0009626633882473713\n",
      "Collection: remilio-babies, Correlation: 0.12264428299439803, P-Value:0.013060587609991701\n",
      "Collection: roborovski-nft, Correlation: 0.13352344359780713, P-Value:0.012794159035388872\n",
      "Collection: rotten-anti-social-club, Correlation: 0.10922872925980096, P-Value:0.014941763290130325\n",
      "Collection: rug-radio-faces-of-web3, Correlation: 0.19750335680690123, P-Value:0.0026817746134129993\n",
      "Collection: sacred-skulls-official, Correlation: 0.23171738883114945, P-Value:4.494346347397035e-07\n"
     ]
    },
    {
     "name": "stderr",
     "output_type": "stream",
     "text": [
      " 94%|███████████████████████████████████████▎  | 897/959 [00:01<00:00, 621.77it/s]"
     ]
    },
    {
     "name": "stdout",
     "output_type": "stream",
     "text": [
      "Collection: sakura-park, Correlation: 0.12183777091338784, P-Value:0.01795091668781913\n",
      "Collection: saplingsnft, Correlation: 0.16395175302858003, P-Value:0.004901023823527742\n",
      "Collection: satoshi-island-citizenship-nfts, Correlation: 0.7923311204763197, P-Value:1.419374937789992e-69\n",
      "Collection: scottie-pippen, Correlation: 0.13031443090792935, P-Value:0.006494364901582138\n",
      "Collection: seizonofficial, Correlation: 0.11040415805287697, P-Value:0.014082651752674471\n",
      "Collection: shellzorb, Correlation: 0.15071960919377655, P-Value:0.0013765854352423299\n",
      "Collection: shroomios, Correlation: 0.0971279565446149, P-Value:0.04640562774835315\n",
      "Collection: skuxxversepass, Correlation: 0.5220025171311474, P-Value:1.3440815059834701e-27\n",
      "Collection: slumdoge-billionaires, Correlation: 0.15374675433012833, P-Value:0.00743541727545787\n",
      "Collection: smashverse, Correlation: 0.2018901168947194, P-Value:0.0002843474471514867\n",
      "Collection: somethingtoken, Correlation: 0.34451542967621973, P-Value:1.953854663807384e-15\n",
      "Collection: sougen-genesis-collection, Correlation: 0.11991728820469219, P-Value:0.04163847417909986\n",
      "Collection: soynft, Correlation: 0.2081059593966716, P-Value:1.969260326340126e-05\n",
      "Collection: spaceboysnft, Correlation: 0.1097256111502901, P-Value:0.02335531254188182\n",
      "Collection: spaceridersnft, Correlation: 0.14534832962349536, P-Value:0.0009838240790808422\n",
      "Collection: sphpp, Correlation: 0.14676770592405056, P-Value:0.002174078927053016\n",
      "Collection: spookies-nft, Correlation: 0.23222096601666192, P-Value:8.767437845941525e-06\n",
      "Collection: spottiewifi, Correlation: 0.13095912823999933, P-Value:0.00335002046791845\n",
      "Collection: ssr-wives, Correlation: 0.16829697341392041, P-Value:0.0019340016333944316\n",
      "Collection: staxx-invaders, Correlation: 0.35677943633022524, P-Value:1.2082799473651742e-08\n",
      "Collection: steve-aoki-avatars, Correlation: 0.1996365988298027, P-Value:0.0014134941259245266\n",
      "Collection: strange-times-, Correlation: 0.1261893030472155, P-Value:0.006729621270608156\n",
      "Collection: strawberrywtf, Correlation: 0.18504221839773122, P-Value:0.004258462828910996\n",
      "Collection: strxngers, Correlation: 0.1447165848772134, P-Value:0.0008627070787606652\n",
      "Collection: suki-learns-to-fly, Correlation: 0.18555380706116015, P-Value:0.004315269032980112\n",
      "Collection: supducks, Correlation: 0.09452134174844637, P-Value:0.04555114638809162\n",
      "Collection: supergeisha, Correlation: 0.11909828039117576, P-Value:0.01596018014838441\n",
      "Collection: tat-twelve-anonymous-tournaments, Correlation: 0.10551528525570308, P-Value:0.03142635345602022\n",
      "Collection: tenjin-genesis, Correlation: 0.18188802428079479, P-Value:0.00657818145895701\n",
      "Collection: tgoa-gene-sis, Correlation: 0.15288106444849, P-Value:0.000839842255873686\n",
      "Collection: the-art-of-seasons, Correlation: 0.11545430497219916, P-Value:0.006818164284580638\n",
      "Collection: the-birdhouse-official, Correlation: 0.11143756779071588, P-Value:0.02620848428009028\n",
      "Collection: the-british, Correlation: 0.11067698757312662, P-Value:0.04618495638967993\n",
      "Collection: the-cult-club, Correlation: 0.21039601315370354, P-Value:0.00012964508622292166\n",
      "Collection: the-dooplicator, Correlation: 0.43320746838589635, P-Value:5.233073054750438e-14\n",
      "Collection: the-infernals, Correlation: 0.13629516678575435, P-Value:0.002685191105584928\n",
      "Collection: the-long-lost, Correlation: 0.12006921754240579, P-Value:0.006906640668897096\n",
      "Collection: the-phoenixes, Correlation: 0.27984824170230005, P-Value:8.523642679249077e-10\n",
      "Collection: the-pixels-inc, Correlation: 0.1591093309647421, P-Value:0.00197005996543268\n",
      "Collection: the-seekers, Correlation: 0.3286416772450946, P-Value:1.585112115689579e-08\n",
      "Collection: theaces, Correlation: 0.19618701231854468, P-Value:7.04749964311033e-05\n",
      "Collection: thecryptomoms, Correlation: 0.14329043919953333, P-Value:0.034479573773896335\n",
      "Collection: theindifferentduck, Correlation: 0.0949338195503807, P-Value:0.038615925688641584\n",
      "Collection: thelastabyss, Correlation: 0.15016349497609352, P-Value:0.02020685431267143\n",
      "Collection: thelobstars, Correlation: 0.19140971446761024, P-Value:2.836318405246118e-05\n",
      "Collection: theorbsbybt, Correlation: 0.2660878656888333, P-Value:3.4592641802272735e-05\n",
      "Collection: theprojecturs, Correlation: 0.18434153928524105, P-Value:0.00022985273227174994\n",
      "Collection: thesunniesnft, Correlation: 0.1661478918517335, P-Value:0.00017126801302286314\n",
      "Collection: thewalkingdeadofficialdeaddeeds, Correlation: 0.2891223940755423, P-Value:1.7606644750349636e-07\n",
      "Collection: thewickedcraniums, Correlation: 0.180541235530027, P-Value:3.5785082487702884e-05\n",
      "Collection: thewynlambo, Correlation: 0.1307770232992103, P-Value:0.041664453809454056\n",
      "Collection: timepieces-build-a-better-future-genesis-drop, Correlation: 0.1396338668661624, P-Value:0.0021907819765323196\n",
      "Collection: timetrav3lers, Correlation: 0.10628290451526347, P-Value:0.01998492529229111\n",
      "Collection: toadrunnerz, Correlation: 0.167762574916367, P-Value:0.01518222769682266\n",
      "Collection: toddlerpillars, Correlation: 0.20454841884995664, P-Value:0.0015107153651931942\n",
      "Collection: trapmonkie, Correlation: 0.15543938985798908, P-Value:0.004010414055132025\n",
      "Collection: trippytoadznft, Correlation: 0.19972424010853201, P-Value:3.092867127873663e-06\n",
      "Collection: tubby-cats, Correlation: 0.15183623478028596, P-Value:0.0010612841040001386\n"
     ]
    },
    {
     "name": "stderr",
     "output_type": "stream",
     "text": [
      "100%|██████████████████████████████████████████| 959/959 [00:01<00:00, 567.81it/s]\n"
     ]
    },
    {
     "name": "stdout",
     "output_type": "stream",
     "text": [
      "Collection: unemployables, Correlation: 0.23854019182798153, P-Value:2.130158613788841e-08\n",
      "Collection: unpunksnft, Correlation: 0.14643162164088727, P-Value:0.0027552892641149133\n",
      "Collection: veefriends-series-2, Correlation: 0.21020921624941893, P-Value:0.002364909291923712\n",
      "Collection: vogu, Correlation: 0.1937183955483287, P-Value:3.58701366382412e-05\n",
      "Collection: voodoosclub, Correlation: 0.19235183448035428, P-Value:0.0011003359841410896\n",
      "Collection: waltz-sunflower, Correlation: 0.11977219765067275, P-Value:0.0333083365794904\n",
      "Collection: weathereportofficial, Correlation: 0.14003053333600995, P-Value:0.005021015773499418\n",
      "Collection: wildpepe, Correlation: 0.23563837030280216, P-Value:4.2127267010990526e-06\n",
      "Collection: woodies-generative, Correlation: 0.12045569331269121, P-Value:0.03096019569007573\n",
      "Collection: worldwidewebbland, Correlation: 0.5388791560024822, P-Value:1.2529597182478765e-38\n",
      "Collection: writers-room, Correlation: 0.3632800497724043, P-Value:1.2311823463433827e-17\n",
      "Collection: xtreme-pixels, Correlation: 0.17652665219510524, P-Value:6.649883194726988e-05\n",
      "Collection: yeetsnft, Correlation: 0.1124643800664704, P-Value:0.01604416610701322\n",
      "959\n",
      "392\n",
      "12\n",
      "[0.09902511 0.13108323 0.17755125 0.23703671 0.39868372]\n",
      "0.20362054911274374\n"
     ]
    },
    {
     "data": {
      "image/png": "[encoded data removed]",
      "text/plain": [
       "<Figure size 640x480 with 1 Axes>"
      ]
     },
     "metadata": {},
     "output_type": "display_data"
    }
   ],
   "source": [
    "import matplotlib.pyplot as plt\n",
    "from scipy.stats import pearsonr, spearmanr\n",
    "from scipy import stats\n",
    "import statistics\n",
    "grouped = df_filtered_rare.groupby('Collection')\n",
    "# grouped = coll_to_rare.groupby('Collection')\n",
    "# Create a scatter plot using Matplotlib\n",
    "pos_count = 0\n",
    "neg_count = 0\n",
    "total_count = 0\n",
    "\n",
    "\n",
    "correlations = []\n",
    "for label, group in tqdm(grouped):\n",
    "# if label in rows:\n",
    "    total_count+=1\n",
    "    x = group['distance']\n",
    "    y = group['sale_price']\n",
    "    def statistic(x):  # explore all possible pairings by permuting `x`\n",
    "        rs = stats.spearmanr(x, y).statistic  # ignore pvalue\n",
    "        transformed = rs * np.sqrt(dof / ((rs+1.0)*(1.0-rs)))\n",
    "        return transformed\n",
    "    # try:\n",
    "\n",
    "    # except:\n",
    "    #     continue\n",
    "    # plt.show()\n",
    "    # Compute correlation coefficient and p-value\n",
    "    correlation, p_value = pearsonr(x, y)\n",
    "    \n",
    "    # correlation, p_value = spearmanr(x,y)\n",
    "    # ref = stats.permutation_test((x,), statistic, alternative='greater',permutation_type='pairings')\n",
    "    if p_value<0.05 and correlation>0:\n",
    "        correlations.append(correlation)\n",
    "        plt.scatter(x,y,alpha=0.2)\n",
    "        coefficients = np.polyfit(x, y, 1)\n",
    "        line_of_best_fit = np.polyval(coefficients, x)\n",
    "        # Plot the line of best fit\n",
    "        plt.plot(x, line_of_best_fit, color='red', label='Line of Best Fit')\n",
    "        plt.title('Scatter Plot')\n",
    "        plt.xlabel('Column 1')\n",
    "        plt.xlim(left=0,right=1)\n",
    "        plt.ylim(top=1,bottom=0)\n",
    "        plt.ylabel('Column 2')\n",
    "        # plt.show()\n",
    "        pos_count+=1\n",
    "        print(f\"Collection: {label}, Correlation: {correlation}, P-Value:{p_value}\")\n",
    "    elif p_value<0.05 and correlation<0:\n",
    "        neg_count+=1\n",
    "print(total_count)\n",
    "print(pos_count)\n",
    "print(neg_count)\n",
    "print(np.percentile(correlations,[5,25,50,75,95]))\n",
    "print(np.mean(correlations))"
   ]
  },
  {
   "cell_type": "code",
   "execution_count": null,
   "id": "3ba6b072-f03c-468f-ac5c-bcaaccf902e9",
   "metadata": {},
   "outputs": [],
   "source": []
  }
 ],
 "metadata": {
  "kernelspec": {
   "display_name": "Python 3 (ipykernel)",
   "language": "python",
   "name": "python3"
  },
  "language_info": {
   "codemirror_mode": {
    "name": "ipython",
    "version": 3
   },
   "file_extension": ".py",
   "mimetype": "text/x-python",
   "name": "python",
   "nbconvert_exporter": "python",
   "pygments_lexer": "ipython3",
   "version": "3.8.10"
  }
 },
 "nbformat": 4,
 "nbformat_minor": 5
}
