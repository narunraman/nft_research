{
 "cells": [
  {
   "cell_type": "code",
   "execution_count": 2,
   "id": "d08171bf-68ea-424b-840c-33fd95cc7a88",
   "metadata": {},
   "outputs": [],
   "source": [
    "%load_ext autoreload\n",
    "%autoreload 2\n",
    "import feature_extract\n",
    "import sys\n",
    "sys.path.append(\"..\")\n",
    "import torch\n",
    "import psql_methods as psql\n",
    "import pickle\n",
    "import alchemy_methods as alc\n",
    "from tqdm import tqdm\n",
    "import numpy as np\n",
    "from more_itertools import chunked\n",
    "import pandas as pd\n",
    "import snob_utils as snob"
   ]
  },
  {
   "cell_type": "markdown",
   "id": "54933d96-b57c-4697-9270-3d5d98331681",
   "metadata": {},
   "source": [
    "The goal of this notebook is to build the required sales data for snob effect analysis\n"
   ]
  },
  {
   "cell_type": "code",
   "execution_count": null,
   "id": "9f62638f-3c37-4acb-9c23-efda629472f1",
   "metadata": {},
   "outputs": [],
   "source": [
    "# model = torch.hub.load('facebookresearch/dino:main', 'dino_vits8')\n",
    "model_string = 'dinov2_vits14'\n",
    "data_path = '/global/scratch/tlundy/NFT_Research/nft_research/Dino/images'\n",
    "out_path = f'/global/scratch/tlundy/NFT_Research/nft_research/Dino/features/{model_string}'\n",
    "# out_path = f'/global/scratch/tlundy/NFT_Research/nft_research/Dino/features/test'\n"
   ]
  },
  {
   "cell_type": "code",
   "execution_count": null,
   "id": "9f6055d8-6be8-4d2e-8cd0-f24a065800aa",
   "metadata": {},
   "outputs": [],
   "source": [
    "#We assume the features have already been computed by the feature_extract_notebook\n",
    "feature_path = out_path+'/testfeat.pth'\n",
    "features = torch.load(feature_path)\n",
    "labels = feature_extract.get_labels(data_path)\n",
    "file_names = feature_extract.get_filenames(data_path)\n",
    "print(file_names[0])\n",
    "print(labels)"
   ]
  },
  {
   "cell_type": "code",
   "execution_count": null,
   "id": "19a8d191-dd93-4499-9b88-2a1451f108a7",
   "metadata": {},
   "outputs": [],
   "source": [
    "commands = [\"SELECT * from collectiontoaddress\"]\n",
    "data = psql.execute_commands(commands)\n",
    "slug_to_contract = {x[0]:x[1] for x in data}"
   ]
  },
  {
   "cell_type": "code",
   "execution_count": null,
   "id": "99fd1958-6ef4-434a-bb1b-c29adf447022",
   "metadata": {},
   "outputs": [],
   "source": [
    "import pandas as pd\n",
    "features_list = features.tolist()\n",
    "\n",
    "# Create a pandas DataFrame\n",
    "data = {'Label': labels.tolist(), 'Features': features_list,'Collection':[x[0] for x in file_names],\n",
    "        'NFT_num':[x[1] for x in file_names], 'Contract': [slug_to_contract.get(x[0],None) for x in file_names]}\n",
    "df = pd.DataFrame(data)\n"
   ]
  },
  {
   "cell_type": "code",
   "execution_count": null,
   "id": "7973a593-8203-41fd-b658-22fe5b141699",
   "metadata": {},
   "outputs": [],
   "source": [
    "del data\n",
    "del features\n",
    "del features_list\n"
   ]
  },
  {
   "cell_type": "code",
   "execution_count": null,
   "id": "68339a2b-9f54-4b4c-859f-bc3f7c190006",
   "metadata": {},
   "outputs": [],
   "source": [
    "#Find NFTS for which we already have sales data in case we need to start at an intermediate point\n",
    "command = \"Select distinct contract from nfttosales_2\"\n",
    "rows = psql.execute_commands([command])\n",
    "rows = [x[0] for x in rows] "
   ]
  },
  {
   "cell_type": "code",
   "execution_count": null,
   "id": "ce443962-0e73-47f2-9b4d-69a8ffa46426",
   "metadata": {},
   "outputs": [],
   "source": [
    "#Filter out NFT collections for which we already have sales data\n",
    "selected_columns = df[['Contract', 'NFT_num']].to_numpy().tolist()\n",
    "print(len(selected_columns))\n",
    "selected_columns = [x for x in selected_columns if x[0] not in rows]\n",
    "print(len(selected_columns))\n",
    "sales_grab = list(chunked(selected_columns,10_000))\n"
   ]
  },
  {
   "cell_type": "code",
   "execution_count": null,
   "id": "3a5a4f9f-1436-4490-9af0-08f9ec59510a",
   "metadata": {},
   "outputs": [],
   "source": [
    "\n",
    "for sale_chunk in sales_grab:\n",
    "    sales = alc.NFT_to_sales(sale_chunk)\n",
    "    commands = []\n",
    "    data_list = []\n",
    "    command = \"INSERT INTO nfttosales_2 (contract, token_id, sale_price) VALUES (%s, %s, %s) returning token_id\"\n",
    "    for sale in sales:\n",
    "        commands.append(command)\n",
    "        data_list.append(sale)\n",
    "    psql.execute_commands(commands,data_list)"
   ]
  }
 ],
 "metadata": {
  "kernelspec": {
   "display_name": "Python 3 (ipykernel)",
   "language": "python",
   "name": "python3"
  },
  "language_info": {
   "codemirror_mode": {
    "name": "ipython",
    "version": 3
   },
   "file_extension": ".py",
   "mimetype": "text/x-python",
   "name": "python",
   "nbconvert_exporter": "python",
   "pygments_lexer": "ipython3",
   "version": "3.8.10"
  }
 },
 "nbformat": 4,
 "nbformat_minor": 5
}
