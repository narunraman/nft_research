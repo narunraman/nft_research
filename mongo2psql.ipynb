{
 "cells": [
  {
   "cell_type": "code",
   "execution_count": 83,
   "id": "2011e8b0-6be3-4bb7-ac21-c2621fc7467d",
   "metadata": {},
   "outputs": [
    {
     "name": "stdout",
     "output_type": "stream",
     "text": [
      "The autoreload extension is already loaded. To reload it, use:\n",
      "  %reload_ext autoreload\n"
     ]
    }
   ],
   "source": [
    "%load_ext autoreload\n",
    "%autoreload 2\n",
    "import pandas as pd\n",
    "from pymongo import MongoClient\n",
    "client = MongoClient()\n",
    "import psycopg2\n",
    "import csv\n",
    "import pandas as pd\n",
    "import json\n",
    "import sys\n",
    "from psql_methods import create_empty_psql_tables_from_mongo, fill_psql_from_csv, fields_to_string"
   ]
  },
  {
   "cell_type": "code",
   "execution_count": 74,
   "id": "4582ba77-094e-4233-8bc6-bd26a207f550",
   "metadata": {
    "collapsed": true,
    "editable": true,
    "jupyter": {
     "outputs_hidden": true
    },
    "slideshow": {
     "slide_type": ""
    },
    "tags": []
   },
   "outputs": [
    {
     "data": {
      "text/plain": [
       "{'BotAddress': ['token_id',\n",
       "  '_id',\n",
       "  'timestamp',\n",
       "  'address',\n",
       "  'transaction_id',\n",
       "  'slug'],\n",
       " 'salesCollectionV2': ['token_id',\n",
       "  '_id',\n",
       "  'buyer_address',\n",
       "  'usd_price',\n",
       "  'is_bundle',\n",
       "  'payment_token',\n",
       "  'total_price',\n",
       "  'timestamp',\n",
       "  'bundle_token_ids',\n",
       "  'buyer_username',\n",
       "  'seller_username',\n",
       "  'slug',\n",
       "  'seller_address',\n",
       "  'event_type',\n",
       "  'auction_type'],\n",
       " 'completedSlugsTransfers': ['_id'],\n",
       " 'completedSlugs': ['_id'],\n",
       " 'NFTStats': ['one_hour_change',\n",
       "  'one_minute_sales',\n",
       "  'six_hour_volume',\n",
       "  'six_hour_difference',\n",
       "  'five_minute_average_price',\n",
       "  'one_minute_sales_change',\n",
       "  'five_minute_sales_change',\n",
       "  'six_hour_sales',\n",
       "  'fifteen_minute_sales',\n",
       "  'total_volume',\n",
       "  'six_hour_sales_change',\n",
       "  'one_minute_volume',\n",
       "  'seven_day_volume',\n",
       "  'fifteen_minute_change',\n",
       "  'one_minute_difference',\n",
       "  'thirty_day_volume',\n",
       "  'thirty_day_average_price',\n",
       "  'one_minute_average_price',\n",
       "  'six_hour_change',\n",
       "  'fifteen_minute_difference',\n",
       "  'num_reports',\n",
       "  'seven_day_change',\n",
       "  'total_sales',\n",
       "  'thirty_minute_change',\n",
       "  'one_day_sales',\n",
       "  'thirty_minute_sales_change',\n",
       "  'market_cap',\n",
       "  'fifteen_minute_average_price',\n",
       "  'fifteen_minute_sales_change',\n",
       "  'thirty_minute_sales',\n",
       "  'five_minute_change',\n",
       "  '_id',\n",
       "  'thirty_minute_volume',\n",
       "  'floor_price',\n",
       "  'one_hour_average_price',\n",
       "  'one_day_average_price',\n",
       "  'one_day_sales_change',\n",
       "  'average_price',\n",
       "  'one_minute_change',\n",
       "  'count',\n",
       "  'thirty_day_change',\n",
       "  'five_minute_volume',\n",
       "  'thirty_minute_difference',\n",
       "  'one_day_volume',\n",
       "  'one_hour_volume',\n",
       "  'five_minute_difference',\n",
       "  'fifteen_minute_volume',\n",
       "  'thirty_minute_average_price',\n",
       "  'num_owners',\n",
       "  'one_hour_sales',\n",
       "  'seven_day_sales',\n",
       "  'one_hour_sales_change',\n",
       "  'thirty_day_sales',\n",
       "  'one_hour_difference',\n",
       "  'thirty_day_difference',\n",
       "  'total_supply',\n",
       "  'five_minute_sales',\n",
       "  'slug',\n",
       "  'six_hour_average_price',\n",
       "  'one_day_difference',\n",
       "  'seven_day_average_price',\n",
       "  'one_day_change',\n",
       "  'seven_day_difference'],\n",
       " 'nftCombinations': ['_id', 'value'],\n",
       " 'completedSlugsHistoric': ['_id'],\n",
       " 'completedSlugsListings': ['_id'],\n",
       " 'addresstoNFT': ['_id', 'timestamp', 'address', 'NFTandToken', 'NFTs'],\n",
       " 'listingsCollection': ['token_id',\n",
       "  'timestamp',\n",
       "  'num_sales',\n",
       "  'id',\n",
       "  'auction_type',\n",
       "  'created_date',\n",
       "  'seller_fees',\n",
       "  'asset_contract_owner',\n",
       "  'opensea_fees',\n",
       "  'private',\n",
       "  'username',\n",
       "  '_id',\n",
       "  'ending_price',\n",
       "  'asset_contract',\n",
       "  'starting_price',\n",
       "  'listing_contract_address',\n",
       "  'owner_account',\n",
       "  'asset_owner',\n",
       "  'asset_id',\n",
       "  'duration',\n",
       "  'total_supply',\n",
       "  'slug',\n",
       "  'lister_address'],\n",
       " 'transferCollection': ['token_id',\n",
       "  '_id',\n",
       "  'buyer_address',\n",
       "  'is_bundle',\n",
       "  'timestamp',\n",
       "  'buyer_username',\n",
       "  'seller_username',\n",
       "  'slug',\n",
       "  'Sale',\n",
       "  'seller_address',\n",
       "  'event_type',\n",
       "  'auction_type'],\n",
       " 'address_data': ['_id',\n",
       "  'max_trans_sec_nft',\n",
       "  'max_buy_list_sec_nft',\n",
       "  'max_trans_min_nft',\n",
       "  'max_trans_sec',\n",
       "  'num_transactions',\n",
       "  'max_trans_min'],\n",
       " 'addressCollection': ['token_id',\n",
       "  '_id',\n",
       "  'timestamp',\n",
       "  'address',\n",
       "  'transaction_id',\n",
       "  'slug']}"
      ]
     },
     "execution_count": 74,
     "metadata": {},
     "output_type": "execute_result"
    }
   ],
   "source": [
    "# Code to create the list of fields per collection\n",
    "# def get_collection_keys(collection):\n",
    "#     cursor = collection.find({})\n",
    "#     return list(set([key for document in cursor for key in document.keys()]))\n",
    "# db_collection = {db['name']: {\n",
    "#     collection_name: get_collection_keys(client[db['name']][collection_name]) \n",
    "#     for collection_name in client[db['name']].list_collection_names()} \n",
    "#                  for db in client.list_databases() if db['name'] not in ['admin', 'config', 'local']}\n",
    "with open('mongo_csvs/db_collection.json', 'r') as f:\n",
    "    db_collection = json.load(f)\n",
    "db_collection = db_collection['NFTDB']\n",
    "del db_collection['testdb']\n",
    "del db_collection['salesCollection']\n",
    "del db_collection['slugCollection']\n",
    "db_collection"
   ]
  },
  {
   "cell_type": "code",
   "execution_count": 79,
   "id": "13ba3980-024b-4a08-acd4-c3dbc2e74ce3",
   "metadata": {},
   "outputs": [
    {
     "name": "stderr",
     "output_type": "stream",
     "text": [
      "/tmp/ipykernel_9370/3550739026.py:3: DtypeWarning: Columns (0,14) have mixed types. Specify dtype option on import or set low_memory=False.\n",
      "  temp_df = pd.read_csv(f'mongo_csvs/{collection_name}.csv', escapechar='\\\\')\n",
      "/tmp/ipykernel_9370/3550739026.py:3: DtypeWarning: Columns (3) have mixed types. Specify dtype option on import or set low_memory=False.\n",
      "  temp_df = pd.read_csv(f'mongo_csvs/{collection_name}.csv', escapechar='\\\\')\n",
      "/tmp/ipykernel_9370/3550739026.py:3: DtypeWarning: Columns (0,9,10) have mixed types. Specify dtype option on import or set low_memory=False.\n",
      "  temp_df = pd.read_csv(f'mongo_csvs/{collection_name}.csv', escapechar='\\\\')\n",
      "/tmp/ipykernel_9370/3550739026.py:3: DtypeWarning: Columns (0) have mixed types. Specify dtype option on import or set low_memory=False.\n",
      "  temp_df = pd.read_csv(f'mongo_csvs/{collection_name}.csv', escapechar='\\\\')\n"
     ]
    }
   ],
   "source": [
    "db_collection_types = {}\n",
    "for collection_name in db_collection:\n",
    "    temp_df = pd.read_csv(f'mongo_csvs/{collection_name}.csv', escapechar='\\\\')\n",
    "    field_types = {}\n",
    "    for field in temp_df:\n",
    "        if len(temp_df.dropna(subset=[field])) < 1:\n",
    "            field_types[field] = None\n",
    "        else:\n",
    "            value = temp_df.dropna(subset=[field]).iloc[0][field]\n",
    "            if type(value) != str:\n",
    "                field_types[field] = str(type(value))\n",
    "            elif value.startswith('0x'):\n",
    "                field_types[field] = 'BYTEA'\n",
    "            # this needs to come before timestamp\n",
    "            elif value.startswith('{') and ':' in value:\n",
    "                field_types[field] = 'json'\n",
    "            elif value.startswith('{'):\n",
    "                field_types[field] = 'ARRAY'\n",
    "            elif 'timestamp' in value or 'date' in value:\n",
    "                field_types[field] = 'TIMESTAMP'\n",
    "            else:\n",
    "                field_types[field] = str(str)\n",
    "    db_collection_types[collection_name] = field_types"
   ]
  },
  {
   "cell_type": "code",
   "execution_count": 55,
   "id": "b4c88633-23fc-440b-8fac-08b11d193f62",
   "metadata": {},
   "outputs": [],
   "source": [
    "# this constructs a new db from salesCollection with consistent types per field\n",
    "# \n",
    "\n",
    "# sales_df = pd.DataFrame(list((client.NFTDB.salesCollection.find({}))))\n",
    "# sales_df['bundle_token_ids'] = sales_df['token_id'].apply(lambda x: x if type(x) == list else None)\n",
    "# sales_df['token_id'] = sales_df['token_id'].apply(lambda x: x if type(x) != list else None)\n",
    "# client.NFTDB.salesCollectionV2.insert_many(sales_df.to_dict('records'))"
   ]
  },
  {
   "cell_type": "code",
   "execution_count": 55,
   "id": "0fc41928-e433-4507-9c10-b5f30aab786a",
   "metadata": {
    "scrolled": true
   },
   "outputs": [],
   "source": [
    "def mongo2csv(csv_columns, collection, collection_name):\n",
    "    with open(f'mongo_csvs/{collection_name}.csv', 'w', encoding='utf-8') as csvfile:\n",
    "        writer = csv.DictWriter(csvfile, fieldnames=csv_columns, escapechar='\\\\', quoting=csv.QUOTE_NONE)\n",
    "        writer.writeheader()\n",
    "        for doc in collection.find({}):\n",
    "            edited_doc = {}\n",
    "            for key in doc:\n",
    "                \n",
    "                # write as hex\n",
    "                try:\n",
    "                    if type(doc[key]) == str and (doc[key].startswith(r'\\x')):\n",
    "                        edited_doc[key] = doc[key].replace(r'\\x', '0x')\n",
    "                        # edited_doc[key] = bytes.fromhex(doc[key][2:])\n",
    "                        # edited_doc[key] = doc[key].replace('0x', r'\\x')\n",
    "                    else:\n",
    "                        edited_doc[key] = doc[key]\n",
    "                except AttributeError:\n",
    "                    print(collection_name, doc)\n",
    "                except ValueError as error:\n",
    "                    print(error, doc[key][2:], )\n",
    "                \n",
    "            # This needs to run after the first block\n",
    "            # opensea_fees and seller_fees to dict\n",
    "            if collection_name == 'listingsCollection':\n",
    "                # print(edited_doc)\n",
    "                if edited_doc['opensea_fees']:\n",
    "                    edited_doc['opensea_fees'] = {pair[0]: pair[1] for pair in edited_doc['opensea_fees']}\n",
    "                if edited_doc['seller_fees']:\n",
    "                    edited_doc['seller_fees'] = {pair[0]: pair[1] for pair in edited_doc['seller_fees']}\n",
    "\n",
    "            for key in edited_doc:\n",
    "                # this needs to run after the opensea block\n",
    "                if type(edited_doc[key]) == list:\n",
    "                    # print(doc[key])\n",
    "                    edited_doc[key] = '{' + ','.join(edited_doc[key]) + '}'\n",
    "            writer.writerow(edited_doc)\n",
    "\n",
    "for collection_name in db_collection:\n",
    "    if collection_name != 'testdb' or collection_name != 'slugCollection' or collection_name != 'salesCollection':\n",
    "        mongo2csv(db_collection[collection_name], client['NFTDB'][collection_name], collection_name)\n",
    "    "
   ]
  },
  {
   "cell_type": "code",
   "execution_count": 57,
   "id": "08ae65c8-1f30-492f-bd5f-eed306df7b06",
   "metadata": {},
   "outputs": [],
   "source": [
    "ba_df = pd.read_csv('mongo_csvs/BotAddress.csv')\n",
    "ba_df = ba_df[ba_df['token_id'].isnull()]\n",
    "ba_df.to_csv('mongo_csvs/BotAddress.csv', index = False)"
   ]
  },
  {
   "cell_type": "code",
   "execution_count": null,
   "id": "6a392afe-9070-44bb-a51c-66c4e4f2e2af",
   "metadata": {},
   "outputs": [],
   "source": [
    "stats_df = pd.read_csv('mongo_csvs/NFTStats.csv')\n",
    "stats_df\n",
    "# ba_df = ba_df[ba_df['token_id'].isnull()]\n",
    "# stats_df.to_csv('mongo_csvs/BotAddress.csv', index = False)"
   ]
  },
  {
   "cell_type": "code",
   "execution_count": 63,
   "id": "726f730d-6a3b-4731-98f9-16d6479b5eac",
   "metadata": {},
   "outputs": [
    {
     "data": {
      "text/plain": [
       "'BotAddress None, salesCollectionV2 None, completedSlugsTransfers None, completedSlugs None, NFTStats None, nftCombinations None, completedSlugsHistoric None, completedSlugsListings None, addresstoNFT None, listingsCollection None, transferCollection None, address_data None, addressCollection None'"
      ]
     },
     "execution_count": 63,
     "metadata": {},
     "output_type": "execute_result"
    }
   ],
   "source": [
    "fields_to_string(db_collection_types, 'BotAddress')"
   ]
  },
  {
   "cell_type": "code",
   "execution_count": 124,
   "id": "678e0597-c963-4615-91e9-1694e8b99c64",
   "metadata": {},
   "outputs": [],
   "source": [
    "create_empty_psql_tables_from_mongo(db_collection_types)"
   ]
  },
  {
   "cell_type": "code",
   "execution_count": 125,
   "id": "650aa985-86bf-4e12-886c-1a9c1365c2ea",
   "metadata": {},
   "outputs": [],
   "source": [
    "for collection_name in db_collection_types:\n",
    "    fill_psql_from_csv(collection_name)"
   ]
  },
  {
   "cell_type": "code",
   "execution_count": 126,
   "id": "b0bc8dec-2d5d-40ad-9bd6-44dd64f24af9",
   "metadata": {},
   "outputs": [],
   "source": [
    "with open('mongo_csvs/db_collection_types', 'w') as f:\n",
    "    json.dump(db_collection_types, f)"
   ]
  },
  {
   "cell_type": "code",
   "execution_count": null,
   "id": "3780284a-fbff-40ea-9729-f2c4d2b170a4",
   "metadata": {},
   "outputs": [],
   "source": []
  }
 ],
 "metadata": {
  "kernelspec": {
   "display_name": "Python 3 (ipykernel)",
   "language": "python",
   "name": "python3"
  },
  "language_info": {
   "codemirror_mode": {
    "name": "ipython",
    "version": 3
   },
   "file_extension": ".py",
   "mimetype": "text/x-python",
   "name": "python",
   "nbconvert_exporter": "python",
   "pygments_lexer": "ipython3",
   "version": "3.8.10"
  }
 },
 "nbformat": 4,
 "nbformat_minor": 5
}
