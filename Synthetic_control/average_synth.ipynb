{
 "cells": [
  {
   "cell_type": "code",
   "execution_count": 1,
   "metadata": {},
   "outputs": [],
   "source": [
    "%load_ext autoreload\n",
    "%autoreload 2\n",
    "import sys\n",
    "sys.path.append(\"..\")\n",
    "from SyntheticControlMethods import Synth\n",
    "import synth_utils as su\n",
    "import pandas as pd\n",
    "import numpy as np\n",
    "import synth_job as sj\n",
    "import Dino.cf_value as cfv\n",
    "import Dino.counterfeit_utils as cfu"
   ]
  },
  {
   "cell_type": "code",
   "execution_count": 12,
   "metadata": {},
   "outputs": [
    {
     "name": "stdout",
     "output_type": "stream",
     "text": [
      "No volume data for slug\n",
      "No volume data for slug\n",
      "No volume data for slug\n",
      "No volume data for slug\n",
      "No volume data for slug\n",
      "Slurm script generated and saved to: slurm_scripts/slurm_veefriends-series-2.sh\n",
      "No volume data for slug\n",
      "Slurm script generated and saved to: slurm_scripts/slurm_wonderpals.sh\n",
      "Slurm script generated and saved to: slurm_scripts/slurm_world-of-women-galaxy.sh\n",
      "Slurm script generated and saved to: slurm_scripts/slurm_world-of-women-nft.sh\n"
     ]
    }
   ],
   "source": [
    "# slugs = cfu.get_top_slugs(cfu.CUT_OFF,cfu.DB_NAME)\n",
    "slugs = slugs[25:]\n",
    "#Get all looksims\n",
    "for slug in slugs:\n",
    "    try:\n",
    "        df = su.create_average_synth_job_df(slug)\n",
    "    except:\n",
    "        continue\n",
    "    #pickle df into job_files directory\n",
    "    alts  = list(df['Alt'])\n",
    "    if len(alts) < 5:\n",
    "        continue\n",
    "    df.to_pickle(f'job_files/{slug}_avg_synth_df.pkl')\n",
    "    sj.make_and_save_alt_day_dict(alts,filename=f'job_files/{slug}_alt_day_dict.pkl')\n",
    "    sj.write_slurm_script(slug, len(alts))\n"
   ]
  },
  {
   "cell_type": "code",
   "execution_count": 10,
   "metadata": {},
   "outputs": [
    {
     "data": {
      "text/plain": [
       "['kprverse',\n",
       " 'lilpudgys',\n",
       " 'livesofasuna',\n",
       " 'metahero-generative',\n",
       " 'mfers',\n",
       " 'milady',\n",
       " 'moonbirds-oddities',\n",
       " 'muribyfabrik',\n",
       " 'mutant-ape-yacht-club',\n",
       " 'nakamigos',\n",
       " 'official-v1-punks',\n",
       " 'phantabear',\n",
       " 'proof-moonbirds',\n",
       " 'pudgypenguins',\n",
       " 'pxnghostdivision',\n",
       " 'rare-apepes',\n",
       " 'remilio-babies',\n",
       " 'sappy-seals',\n",
       " 'sneaky-vampire-syndicate',\n",
       " 'supducks',\n",
       " 'the-crypto-chicks',\n",
       " 'thepotatoz',\n",
       " 'theshiboshis',\n",
       " 'tubby-cats',\n",
       " 'veefriends',\n",
       " 'veefriends-series-2',\n",
       " 'wonderpals',\n",
       " 'world-of-women-galaxy',\n",
       " 'world-of-women-nft']"
      ]
     },
     "execution_count": 10,
     "metadata": {},
     "output_type": "execute_result"
    }
   ],
   "source": [
    "slugs[25:]"
   ]
  },
  {
   "cell_type": "code",
   "execution_count": 3,
   "metadata": {},
   "outputs": [],
   "source": [
    "slug = 'boredapeyachtclub'\n",
    "job_file = f'{slug}_avg_synth_df.pkl'\n",
    "results = sj.get_all_placebo_results(job_file,'bayc')"
   ]
  },
  {
   "cell_type": "code",
   "execution_count": 12,
   "metadata": {},
   "outputs": [
    {
     "data": {
      "text/plain": [
       "(0.17238667192400042, 0.7514831040030814)"
      ]
     },
     "execution_count": 12,
     "metadata": {},
     "output_type": "execute_result"
    }
   ],
   "source": [
    "results['p_value'].describe()\n",
    "hoeffding_confidence_interval(results['p_value'], delta=0.05)"
   ]
  },
  {
   "cell_type": "code",
   "execution_count": 11,
   "metadata": {},
   "outputs": [],
   "source": [
    "import math\n",
    "def hoeffding_confidence_interval(data, delta=0.05):\n",
    "    \"\"\"\n",
    "    Returns a (lower, upper) confidence interval for the mean of 'data'\n",
    "    using Hoeffding's inequality at confidence level 1 - delta.\n",
    "    \"\"\"\n",
    "    data = np.array(data)\n",
    "    n = len(data)\n",
    "    sample_mean = np.mean(data)\n",
    "    \n",
    "    # Hoeffding bound for [0,1] random variables:\n",
    "    #   P(|sample_mean - true_mean| >= epsilon) <= 2*exp(-2*n*epsilon^2)\n",
    "    # Solve for epsilon when the RHS = delta:\n",
    "    #   2*exp(-2*n*epsilon^2) = delta  ==>  epsilon = sqrt(ln(2/delta)/(2*n))\n",
    "    epsilon = math.sqrt( math.log(2.0/delta) / (2.0 * n) )\n",
    "    \n",
    "    lower = sample_mean - epsilon\n",
    "    upper = sample_mean + epsilon\n",
    "    \n",
    "    # You might optionally clip the interval to [0,1] if you know the true mean must be in [0,1].\n",
    "    lower = max(0, lower)\n",
    "    upper = min(1, upper)\n",
    "\n",
    "    return lower, upper"
   ]
  },
  {
   "cell_type": "code",
   "execution_count": null,
   "metadata": {},
   "outputs": [],
   "source": []
  }
 ],
 "metadata": {
  "kernelspec": {
   "display_name": "nft_venv2",
   "language": "python",
   "name": "python3"
  },
  "language_info": {
   "codemirror_mode": {
    "name": "ipython",
    "version": 3
   },
   "file_extension": ".py",
   "mimetype": "text/x-python",
   "name": "python",
   "nbconvert_exporter": "python",
   "pygments_lexer": "ipython3",
   "version": "3.12.3"
  }
 },
 "nbformat": 4,
 "nbformat_minor": 2
}
