{
 "cells": [
  {
   "cell_type": "code",
   "execution_count": 3,
   "id": "b18b56d6-26ad-483e-b937-89bb0aa99258",
   "metadata": {},
   "outputs": [
    {
     "name": "stdout",
     "output_type": "stream",
     "text": [
      "Defaulting to user installation because normal site-packages is not writeable\n",
      "Collecting dataclass_wizard\n",
      "  Downloading dataclass_wizard-0.22.2-py2.py3-none-any.whl (90 kB)\n",
      "\u001b[2K     \u001b[90m━━━━━━━━━━━━━━━━━━━━━━━━━━━━━━━━━━━━━━━━\u001b[0m \u001b[32m90.4/90.4 kB\u001b[0m \u001b[31m2.5 MB/s\u001b[0m eta \u001b[36m0:00:00\u001b[0m\n",
      "\u001b[?25hRequirement already satisfied: typing-extensions>=3.7.4.2 in /home/taylor/.local/lib/python3.8/site-packages (from dataclass_wizard) (4.7.1)\n",
      "Installing collected packages: dataclass_wizard\n",
      "Successfully installed dataclass_wizard-0.22.2\n",
      "Note: you may need to restart the kernel to use updated packages.\n"
     ]
    }
   ],
   "source": [
    "pip install dataclass_wizard"
   ]
  },
  {
   "cell_type": "code",
   "execution_count": 1,
   "id": "e957c8da-fd5d-47ac-a14c-d5cdbee3384b",
   "metadata": {},
   "outputs": [],
   "source": [
    "from alchemy import Alchemy, Network\n",
    "import pymongo\n",
    "from pymongo import MongoClient\n",
    "client = MongoClient()\n",
    "db =client.NFTDB\n",
    "sales = db.salesCollection\n",
    "bots = db.BotAddresses\n",
    "bots = bots.find({},{'_id':1})\n",
    "bot_list = list(bots)\n",
    "bot_addresses = [list(x.values())[0] for x in bot_list]\n",
    "addresses  = list(set(sales.distinct('buyer_address')+sales.distinct('seller_address')))\n",
    "add_no_bot = [x for x in addresses if x not in bot_addresses]\n",
    "add_no_bot.sort()"
   ]
  },
  {
   "cell_type": "code",
   "execution_count": 4,
   "id": "c1ca2264-edec-4b74-aafd-06fe3263cb59",
   "metadata": {},
   "outputs": [
    {
     "name": "stderr",
     "output_type": "stream",
     "text": [
      " 10%|████▍                                       | 1/10 [00:00<00:02,  3.39it/s]"
     ]
    },
    {
     "name": "stdout",
     "output_type": "stream",
     "text": [
      "<Response [200]>\n"
     ]
    },
    {
     "name": "stderr",
     "output_type": "stream",
     "text": [
      " 20%|████████▊                                   | 2/10 [00:00<00:02,  3.50it/s]"
     ]
    },
    {
     "name": "stdout",
     "output_type": "stream",
     "text": [
      "<Response [200]>\n"
     ]
    },
    {
     "name": "stderr",
     "output_type": "stream",
     "text": [
      " 30%|█████████████▏                              | 3/10 [00:01<00:05,  1.33it/s]"
     ]
    },
    {
     "name": "stdout",
     "output_type": "stream",
     "text": [
      "<Response [200]>\n"
     ]
    },
    {
     "name": "stderr",
     "output_type": "stream",
     "text": [
      " 40%|█████████████████▌                          | 4/10 [00:02<00:03,  1.79it/s]"
     ]
    },
    {
     "name": "stdout",
     "output_type": "stream",
     "text": [
      "<Response [200]>\n"
     ]
    },
    {
     "name": "stderr",
     "output_type": "stream",
     "text": [
      " 50%|██████████████████████                      | 5/10 [00:02<00:02,  2.06it/s]"
     ]
    },
    {
     "name": "stdout",
     "output_type": "stream",
     "text": [
      "<Response [200]>\n"
     ]
    },
    {
     "name": "stderr",
     "output_type": "stream",
     "text": [
      " 60%|██████████████████████████▍                 | 6/10 [00:02<00:01,  2.51it/s]"
     ]
    },
    {
     "name": "stdout",
     "output_type": "stream",
     "text": [
      "<Response [200]>\n"
     ]
    },
    {
     "name": "stderr",
     "output_type": "stream",
     "text": [
      " 70%|██████████████████████████████▊             | 7/10 [00:02<00:01,  2.93it/s]"
     ]
    },
    {
     "name": "stdout",
     "output_type": "stream",
     "text": [
      "<Response [200]>\n"
     ]
    },
    {
     "name": "stderr",
     "output_type": "stream",
     "text": [
      " 80%|███████████████████████████████████▏        | 8/10 [00:03<00:00,  2.63it/s]"
     ]
    },
    {
     "name": "stdout",
     "output_type": "stream",
     "text": [
      "<Response [200]>\n"
     ]
    },
    {
     "name": "stderr",
     "output_type": "stream",
     "text": [
      " 90%|███████████████████████████████████████▌    | 9/10 [00:03<00:00,  3.00it/s]"
     ]
    },
    {
     "name": "stdout",
     "output_type": "stream",
     "text": [
      "<Response [200]>\n"
     ]
    },
    {
     "name": "stderr",
     "output_type": "stream",
     "text": [
      "100%|███████████████████████████████████████████| 10/10 [00:04<00:00,  2.18it/s]"
     ]
    },
    {
     "name": "stdout",
     "output_type": "stream",
     "text": [
      "<Response [200]>\n"
     ]
    },
    {
     "name": "stderr",
     "output_type": "stream",
     "text": [
      "\n"
     ]
    }
   ],
   "source": [
    "import requests\n",
    "\n",
    "# Get how many NFTs an address owns.\n",
    "for addy in tqdm(add_no_bot[:10]):\n",
    "    \n",
    "    url = f\"https://eth-mainnet.g.alchemy.com/nft/v3/-dkhE3R5RIFr9b9KUhpp4pqlQFzpPFzW/getNFTsForOwner?owner={addy}&withMetadata=true&pageKey={cursor}&pageSize=100\"\n",
    "    \n",
    "    headers = {\"accept\": \"application/json\"}\n",
    "    \n",
    "    response = requests.get(url, headers=headers)\n",
    "    print(response)\n",
    "    # print(response['owned_nfts'])\n",
    "\n",
    "\n",
    "\n",
    "# Filter out spam NFTs.\n",
    "# nfts_without_spam = alchemy.nft.get_nfts_for_owner('vitalik.eth', exclude_filters=[NftFilters.SPAM])"
   ]
  },
  {
   "cell_type": "code",
   "execution_count": 3,
   "id": "da0a80a1-9161-4f5d-9e36-da74c21d01fe",
   "metadata": {},
   "outputs": [
    {
     "name": "stderr",
     "output_type": "stream",
     "text": [
      "  0%|                                                   | 0/100 [00:00<?, ?it/s]"
     ]
    },
    {
     "name": "stdout",
     "output_type": "stream",
     "text": [
      "error\n",
      "<Response [429]>\n",
      "error\n",
      "<Response [429]>\n",
      "error\n",
      "<Response [429]>\n",
      "error\n",
      "<Response [429]>\n"
     ]
    },
    {
     "name": "stderr",
     "output_type": "stream",
     "text": [
      "  0%|                                                   | 0/100 [00:07<?, ?it/s]\n"
     ]
    },
    {
     "ename": "KeyboardInterrupt",
     "evalue": "",
     "output_type": "error",
     "traceback": [
      "\u001b[0;31m---------------------------------------------------------------------------\u001b[0m",
      "\u001b[0;31mKeyboardInterrupt\u001b[0m                         Traceback (most recent call last)",
      "Cell \u001b[0;32mIn[3], line 5\u001b[0m\n\u001b[1;32m      3\u001b[0m \u001b[38;5;66;03m# Get how many NFTs an address owns.\u001b[39;00m\n\u001b[1;32m      4\u001b[0m \u001b[38;5;28;01mfor\u001b[39;00m addy \u001b[38;5;129;01min\u001b[39;00m tqdm(add_no_bot[:\u001b[38;5;241m100\u001b[39m]):   \n\u001b[0;32m----> 5\u001b[0m     \u001b[38;5;28mprint\u001b[39m(\u001b[43mNFT_api_request\u001b[49m\u001b[43m(\u001b[49m\u001b[43maddy\u001b[49m\u001b[43m,\u001b[49m\u001b[43mtimeout\u001b[49m\u001b[38;5;241;43m=\u001b[39;49m\u001b[38;5;241;43m2\u001b[39;49m\u001b[43m)\u001b[49m)\n\u001b[1;32m      6\u001b[0m     \u001b[38;5;66;03m# print(response['owned_nfts'])\u001b[39;00m\n\u001b[1;32m      7\u001b[0m \n\u001b[1;32m      8\u001b[0m \n\u001b[1;32m      9\u001b[0m \n\u001b[1;32m     10\u001b[0m \u001b[38;5;66;03m# Filter out spam NFTs.\u001b[39;00m\n\u001b[1;32m     11\u001b[0m \u001b[38;5;66;03m# nfts_without_spam = alchemy.nft.get_nfts_for_owner('vitalik.eth', exclude_filters=[NftFilters.SPAM])\u001b[39;00m\n",
      "File \u001b[0;32m~/NFTResearch/Openseas_Methods.py:100\u001b[0m, in \u001b[0;36mNFT_api_request\u001b[0;34m(address, next_curr, API_KEY, timeout)\u001b[0m\n\u001b[1;32m     98\u001b[0m     \u001b[38;5;28mprint\u001b[39m(\u001b[38;5;124m'\u001b[39m\u001b[38;5;124merror\u001b[39m\u001b[38;5;124m'\u001b[39m)\n\u001b[1;32m     99\u001b[0m     \u001b[38;5;28mprint\u001b[39m(response)\n\u001b[0;32m--> 100\u001b[0m     \u001b[43mtime\u001b[49m\u001b[38;5;241;43m.\u001b[39;49m\u001b[43msleep\u001b[49m\u001b[43m(\u001b[49m\u001b[43mtimeout\u001b[49m\u001b[43m)\u001b[49m\n\u001b[1;32m    101\u001b[0m \u001b[38;5;28;01melif\u001b[39;00m response\u001b[38;5;241m.\u001b[39mstatus_code\u001b[38;5;241m!=\u001b[39m\u001b[38;5;241m200\u001b[39m:\n\u001b[1;32m    102\u001b[0m     \u001b[38;5;28mprint\u001b[39m(\u001b[38;5;124m'\u001b[39m\u001b[38;5;124merror\u001b[39m\u001b[38;5;124m'\u001b[39m)\n",
      "\u001b[0;31mKeyboardInterrupt\u001b[0m: "
     ]
    }
   ],
   "source": [
    "import requests\n",
    "from Openseas_Methods import *\n",
    "# Get how many NFTs an address owns.\n",
    "for addy in tqdm(add_no_bot[:100]):   \n",
    "    print(NFT_api_request(addy,timeout=2))\n",
    "    # print(response['owned_nfts'])\n",
    "\n",
    "\n",
    "\n",
    "# Filter out spam NFTs.\n",
    "# nfts_without_spam = alchemy.nft.get_nfts_for_owner('vitalik.eth', exclude_filters=[NftFilters.SPAM])"
   ]
  },
  {
   "cell_type": "code",
   "execution_count": 26,
   "id": "3f93ee89-adcf-479a-af78-3bea43595442",
   "metadata": {},
   "outputs": [
    {
     "name": "stdout",
     "output_type": "stream",
     "text": [
      "None\n",
      "empyreansaga\n",
      "empyreansaga\n",
      "empyreansaga\n",
      "fatzuki-5\n",
      "None\n",
      "skyborne-genesisimmortals\n",
      "skyborne-genesisimmortals\n",
      "skyborne-genesisimmortals\n",
      "skyborne-genesisimmortals\n",
      "skyborne-genesisimmortals\n",
      "None\n",
      "None\n",
      "None\n",
      "dump-pepe\n",
      "dump-pepe\n",
      "dump-pepe\n",
      "gengoose\n",
      "gengoose\n"
     ]
    }
   ],
   "source": [
    "for ele in response.json()['ownedNfts']:\n",
    "    print(ele['contract']['openSeaMetadata']['collectionSlug'])"
   ]
  },
  {
   "cell_type": "code",
   "execution_count": 7,
   "id": "1e6cb2c0-63eb-4894-8ee3-e432a868af62",
   "metadata": {},
   "outputs": [
    {
     "name": "stdout",
     "output_type": "stream",
     "text": [
      "{'contract': {'address': '0x1e988ba4692e52Bc50b375bcC8585b95c48AaD77', 'name': 'Bufficorn Buidl Brigade', 'symbol': 'BBB', 'totalSupply': '10000', 'tokenType': 'ERC721', 'contractDeployer': '0xa8e5FF04427bD19A9d2aAfCb567d76f89e162dd1', 'deployedBlockNumber': 13533814, 'openSeaMetadata': {'floorPrice': 0.042799, 'collectionName': 'Bufficorn Buidl Brigade', 'collectionSlug': 'bufficornbuidlbrigade', 'safelistRequestStatus': 'verified', 'imageUrl': 'https://i.seadn.io/gae/_Qfw2lI3pYbso5-EKD7VS76UQOd7NTtcaYJ9qSGovG1X0iVm2oJNNgnepXRN5-3dDC3R2OtZQT1TpGgzNr5vp5v53ez84_lQaTjBYyY?w=500&auto=format', 'description': 'REFRESH METADATA BEFORE MAKING OFFERS - BUFFICORN TRAITS MAY HAVE CHANGED SINCE A BBB WAS LISTED\\n\\nWelcome to the Bufficorn #BUIDL Brigade (B³), a utility-based NFT PFP community brought to you by SporkDAO & ETHDenver, the largest and longest running ETH event in the world.\\n\\nJoin the community: https://discord.gg/sporkdao\\nSwap your Bufficorn\\'s traits: https://swap.bufficorn.com\\n\\nAs a furtherance of the SporkDAO community\\'s #BUIDLing propensity, B³ is a perfect expression of what it means to \"be a Bufficorn\" and to be passionate about #BUIDLing the decentralized future: You be you and express your inner creativity in a way that creates fulfillment and value for you and the community.', 'externalUrl': 'https://bufficornbuidlbrigade.com/', 'twitterUsername': 'EthereumDenver', 'discordUrl': 'https://discord.gg/SporkDAO', 'bannerImageUrl': 'https://i.seadn.io/gae/eF6hA3tRp9M1solLcMrrPgCPc2edxwlsMHOVXwWK1NzsuehZXnTSnU4cEt0AjIHkSMxVoR9Rx9mSULYhsHgHykZizlOmcm2xUXg8lg?w=500&auto=format', 'lastIngestedAt': '2023-09-29T07:08:46.000Z'}, 'isSpam': None, 'spamClassifications': []}, 'tokenId': '6468', 'tokenType': 'ERC721', 'name': 'Bufficorn #6468', 'description': 'The Bufficorn #BUIDL Brigade is an expression of what it means to “be a Bufficorn” and to be passionate about #BUIDLing the decentralized future.', 'tokenUri': 'https://bufficorn-trading.s3.amazonaws.com/tokens/6468.json', 'image': {'cachedUrl': 'https://nft-cdn.alchemy.com/eth-mainnet/2cb69ea4fa3f3a9778fd031c4baf8423', 'thumbnailUrl': 'https://res.cloudinary.com/alchemyapi/image/upload/thumbnailv2/eth-mainnet/2cb69ea4fa3f3a9778fd031c4baf8423', 'pngUrl': 'https://res.cloudinary.com/alchemyapi/image/upload/convert-png/eth-mainnet/2cb69ea4fa3f3a9778fd031c4baf8423', 'contentType': 'image/png', 'size': 341974, 'originalUrl': 'https://prod-metadata.s3.amazonaws.com/images/6468.png'}, 'raw': {'tokenUri': 'https://bufficorn-trading.s3.amazonaws.com/tokens/6468.json', 'metadata': {'name': 'Bufficorn #6468', 'description': 'The Bufficorn #BUIDL Brigade is an expression of what it means to “be a Bufficorn” and to be passionate about #BUIDLing the decentralized future.', 'image': 'https://prod-metadata.s3.amazonaws.com/images/6468.png', 'edition': 6468, 'attributes': [{'value': 'Green', 'trait_type': 'background'}, {'value': 'None', 'trait_type': 'back'}, {'value': 'Dark Brown', 'trait_type': 'fur'}, {'value': 'Lumberjack Shirt', 'trait_type': 'threads'}, {'value': 'Rainbow Vomit', 'trait_type': 'mouth'}, {'value': '8bit Glasses', 'trait_type': 'eyes'}, {'value': 'None', 'trait_type': 'earrings'}, {'value': 'Lincoln', 'trait_type': 'headgear'}, {'value': 'None', 'trait_type': 'Handheld'}, {'value': 'Metaversal', 'trait_type': 'horn'}]}, 'error': None}, 'collection': {'name': 'Bufficorn Buidl Brigade', 'slug': 'bufficornbuidlbrigade', 'externalUrl': 'https://bufficornbuidlbrigade.com/', 'bannerImageUrl': 'https://i.seadn.io/gae/eF6hA3tRp9M1solLcMrrPgCPc2edxwlsMHOVXwWK1NzsuehZXnTSnU4cEt0AjIHkSMxVoR9Rx9mSULYhsHgHykZizlOmcm2xUXg8lg?w=500&auto=format'}, 'mint': {'mintAddress': '0x000000000a38444e0a6e37d3b630d7e855a7cb13', 'blockNumber': 14192974, 'timestamp': '2022-02-12T18:40:40Z', 'transactionHash': '0xe73b643c9cc5005e2eac249aeeca19084d6dd52afeebfdc7c9b2bb56a9752d11'}, 'owners': None, 'timeLastUpdated': '2023-09-11T02:42:38.595Z', 'balance': '1', 'acquiredAt': {'blockTimestamp': None, 'blockNumber': None}}\n"
     ]
    }
   ],
   "source": [
    "print(response.json()['ownedNfts'][10])"
   ]
  },
  {
   "cell_type": "code",
   "execution_count": null,
   "id": "90db8cb6-fe61-4e31-b95c-cc9dfd7fbb52",
   "metadata": {},
   "outputs": [],
   "source": []
  }
 ],
 "metadata": {
  "kernelspec": {
   "display_name": "Python 3 (ipykernel)",
   "language": "python",
   "name": "python3"
  },
  "language_info": {
   "codemirror_mode": {
    "name": "ipython",
    "version": 3
   },
   "file_extension": ".py",
   "mimetype": "text/x-python",
   "name": "python",
   "nbconvert_exporter": "python",
   "pygments_lexer": "ipython3",
   "version": "3.8.10"
  }
 },
 "nbformat": 4,
 "nbformat_minor": 5
}
