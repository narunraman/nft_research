{
 "cells": [
  {
   "cell_type": "code",
   "execution_count": 2,
   "id": "ad8ad900-1d52-4ccb-ad99-5ac77c92ed40",
   "metadata": {},
   "outputs": [],
   "source": [
    "%load_ext autoreload\n",
    "%autoreload 2\n",
    "import sys\n",
    "sys.path.append(\"..\")\n",
    "import torch\n",
    "from itertools import combinations\n",
    "from Openseas_Methods import *\n",
    "from alchemy_methods import *\n",
    "import networkx\n",
    "from tqdm import tqdm\n",
    "from torch_geometric.utils.convert import from_networkx\n",
    "import matplotlib.pyplot as plt\n",
    "from graph_utils import *\n",
    "from network_utils import *\n",
    "import random"
   ]
  },
  {
   "cell_type": "code",
   "execution_count": 8,
   "id": "8c1e107e-e84c-4588-9a79-17e27a6fc328",
   "metadata": {},
   "outputs": [],
   "source": [
    "import pickle\n",
    "with open('dataset_stor/label_to_owners_dec_15.pkl','rb') as f:\n",
    "    label_to_owners = pickle.load(f)\n",
    "with open('dataset_stor/label_to_stats_dec_15.pkl','rb') as f:\n",
    "    label_stats = pickle.load(f)\n",
    "with open('dataset_stor/label_list.pkl','rb') as f:\n",
    "    label_list = pickle.load(f)"
   ]
  },
  {
   "cell_type": "code",
   "execution_count": 3,
   "id": "7912f2ef-7cce-477d-9958-793c140aa9ee",
   "metadata": {},
   "outputs": [],
   "source": [
    "import itertools\n",
    "wallets = list(label_to_owners.values())\n",
    "merged = list(itertools.chain.from_iterable(wallets))"
   ]
  },
  {
   "cell_type": "code",
   "execution_count": 4,
   "id": "2ae0ab8a-e7a2-4d30-a1e6-9adf846f0b60",
   "metadata": {},
   "outputs": [],
   "source": [
    "select_wallets = random.sample(merged, 100)\n"
   ]
  },
  {
   "cell_type": "code",
   "execution_count": 5,
   "id": "74ce93ee-7775-4d9c-ac2d-a26ede3b7038",
   "metadata": {},
   "outputs": [
    {
     "name": "stderr",
     "output_type": "stream",
     "text": [
      "100%|██████████████████████████████████████████████████| 100/100 [01:43<00:00,  1.04s/it]\n"
     ]
    }
   ],
   "source": [
    "NFT_list = owners_to_NFT(select_wallets)"
   ]
  },
  {
   "cell_type": "code",
   "execution_count": 11,
   "id": "a5d160e6-8c59-430d-bcb1-6cc9ed98b149",
   "metadata": {},
   "outputs": [
    {
     "name": "stdout",
     "output_type": "stream",
     "text": [
      "5537\n",
      "13540\n"
     ]
    }
   ],
   "source": [
    "print(len(NFT_list))\n",
    "NFT_set = list(set(NFT_list))\n",
    "len(NFT_set)\n",
    "print(len(label_list))"
   ]
  },
  {
   "cell_type": "code",
   "execution_count": 13,
   "id": "48430fda-8b65-4b69-acfa-88a2c295b9e6",
   "metadata": {},
   "outputs": [
    {
     "name": "stdout",
     "output_type": "stream",
     "text": [
      "15491\n"
     ]
    }
   ],
   "source": [
    "new_NFTs = [x[0] for x in NFT_set]\n",
    "total_nfts = set(label_list+new_NFTs)\n",
    "with open(f'dataset_stor/label_list_{run}.pkl','wb') as f:\n",
    "    pickle.dump(total_nfts,f)"
   ]
  },
  {
   "cell_type": "code",
   "execution_count": null,
   "id": "df5b4f93-89da-42d9-97a2-6aadf0e753b6",
   "metadata": {},
   "outputs": [
    {
     "name": "stderr",
     "output_type": "stream",
     "text": [
      "  1%|▋                                                                                         | 101/13630 [00:29<49:05,  4.59it/s]"
     ]
    }
   ],
   "source": [
    "label_to_owners = contracts_to_owners(NFT_set)"
   ]
  },
  {
   "cell_type": "code",
   "execution_count": 53,
   "id": "f0910a06-e67e-4e8d-9313-670bab0a2702",
   "metadata": {},
   "outputs": [],
   "source": [
    "with open('label_to_owners_dec_15.pkl','rb') as f:\n",
    "   label_to_owners = pickle.load(f)"
   ]
  },
  {
   "cell_type": "code",
   "execution_count": 56,
   "id": "27b1f6c2-e565-489a-aac4-50dd90bd2984",
   "metadata": {},
   "outputs": [],
   "source": [
    "labels = list(label_to_owners.keys())"
   ]
  },
  {
   "cell_type": "code",
   "execution_count": 67,
   "id": "1822429b-e932-42dc-af14-4d124efc3ff4",
   "metadata": {},
   "outputs": [
    {
     "name": "stderr",
     "output_type": "stream",
     "text": [
      "  3%|██▌                                                                                       | 387/13540 [00:56<29:01,  7.55it/s]"
     ]
    },
    {
     "name": "stdout",
     "output_type": "stream",
     "text": [
      "error\n",
      "<Response [400]>\n"
     ]
    },
    {
     "name": "stderr",
     "output_type": "stream",
     "text": [
      "  4%|████                                                                                      | 606/13540 [01:32<30:56,  6.97it/s]"
     ]
    },
    {
     "name": "stdout",
     "output_type": "stream",
     "text": [
      "error\n",
      "<Response [400]>\n"
     ]
    },
    {
     "name": "stderr",
     "output_type": "stream",
     "text": [
      "  5%|████▍                                                                                     | 660/13540 [01:40<30:14,  7.10it/s]"
     ]
    },
    {
     "name": "stdout",
     "output_type": "stream",
     "text": [
      "error\n",
      "<Response [400]>\n"
     ]
    },
    {
     "name": "stderr",
     "output_type": "stream",
     "text": [
      "  7%|██████▋                                                                                  | 1013/13540 [02:31<27:28,  7.60it/s]"
     ]
    },
    {
     "name": "stdout",
     "output_type": "stream",
     "text": [
      "error\n",
      "<Response [400]>\n"
     ]
    },
    {
     "name": "stderr",
     "output_type": "stream",
     "text": [
      "  8%|██████▉                                                                                  | 1058/13540 [02:38<28:15,  7.36it/s]"
     ]
    },
    {
     "name": "stdout",
     "output_type": "stream",
     "text": [
      "error\n",
      "<Response [400]>\n"
     ]
    },
    {
     "name": "stderr",
     "output_type": "stream",
     "text": [
      " 13%|███████████▏                                                                             | 1696/13540 [04:13<29:46,  6.63it/s]"
     ]
    },
    {
     "name": "stdout",
     "output_type": "stream",
     "text": [
      "error\n",
      "<Response [400]>\n"
     ]
    },
    {
     "name": "stderr",
     "output_type": "stream",
     "text": [
      " 17%|██████████████▋                                                                          | 2241/13540 [05:34<26:24,  7.13it/s]"
     ]
    },
    {
     "name": "stdout",
     "output_type": "stream",
     "text": [
      "error\n",
      "<Response [400]>\n"
     ]
    },
    {
     "name": "stderr",
     "output_type": "stream",
     "text": [
      " 18%|███████████████▉                                                                         | 2428/13540 [06:03<24:42,  7.50it/s]"
     ]
    },
    {
     "name": "stdout",
     "output_type": "stream",
     "text": [
      "error\n",
      "<Response [400]>\n"
     ]
    },
    {
     "name": "stderr",
     "output_type": "stream",
     "text": [
      " 19%|████████████████▍                                                                        | 2509/13540 [06:15<28:41,  6.41it/s]"
     ]
    },
    {
     "name": "stdout",
     "output_type": "stream",
     "text": [
      "error\n",
      "<Response [400]>\n"
     ]
    },
    {
     "name": "stderr",
     "output_type": "stream",
     "text": [
      " 22%|███████████████████▍                                                                     | 2957/13540 [07:21<24:24,  7.23it/s]"
     ]
    },
    {
     "name": "stdout",
     "output_type": "stream",
     "text": [
      "error\n",
      "<Response [400]>\n"
     ]
    },
    {
     "name": "stderr",
     "output_type": "stream",
     "text": [
      " 23%|████████████████████▌                                                                    | 3133/13540 [07:47<27:51,  6.23it/s]"
     ]
    },
    {
     "name": "stdout",
     "output_type": "stream",
     "text": [
      "error\n",
      "<Response [400]>\n"
     ]
    },
    {
     "name": "stderr",
     "output_type": "stream",
     "text": [
      " 24%|█████████████████████▏                                                                   | 3230/13540 [08:01<23:56,  7.18it/s]"
     ]
    },
    {
     "name": "stdout",
     "output_type": "stream",
     "text": [
      "error\n",
      "<Response [400]>\n"
     ]
    },
    {
     "name": "stderr",
     "output_type": "stream",
     "text": [
      " 29%|█████████████████████████▌                                                               | 3894/13540 [09:39<22:14,  7.23it/s]"
     ]
    },
    {
     "name": "stdout",
     "output_type": "stream",
     "text": [
      "error\n",
      "<Response [400]>\n"
     ]
    },
    {
     "name": "stderr",
     "output_type": "stream",
     "text": [
      " 33%|█████████████████████████████▌                                                           | 4500/13540 [11:09<20:38,  7.30it/s]"
     ]
    },
    {
     "name": "stdout",
     "output_type": "stream",
     "text": [
      "error\n",
      "<Response [400]>\n"
     ]
    },
    {
     "name": "stderr",
     "output_type": "stream",
     "text": [
      " 36%|███████████████████████████████▌                                                         | 4810/13540 [11:54<20:16,  7.18it/s]"
     ]
    },
    {
     "name": "stdout",
     "output_type": "stream",
     "text": [
      "error\n",
      "<Response [400]>\n"
     ]
    },
    {
     "name": "stderr",
     "output_type": "stream",
     "text": [
      " 49%|███████████████████████████████████████████▌                                             | 6631/13540 [16:18<15:15,  7.54it/s]"
     ]
    },
    {
     "name": "stdout",
     "output_type": "stream",
     "text": [
      "error\n",
      "<Response [400]>\n"
     ]
    },
    {
     "name": "stderr",
     "output_type": "stream",
     "text": [
      " 52%|██████████████████████████████████████████████▋                                          | 7108/13540 [17:28<14:16,  7.51it/s]"
     ]
    },
    {
     "name": "stdout",
     "output_type": "stream",
     "text": [
      "error\n",
      "<Response [400]>\n"
     ]
    },
    {
     "name": "stderr",
     "output_type": "stream",
     "text": [
      " 53%|███████████████████████████████████████████████▌                                         | 7240/13540 [17:46<14:16,  7.35it/s]"
     ]
    },
    {
     "name": "stdout",
     "output_type": "stream",
     "text": [
      "error\n",
      "<Response [400]>\n"
     ]
    },
    {
     "name": "stderr",
     "output_type": "stream",
     "text": [
      " 56%|██████████████████████████████████████████████████▏                                      | 7636/13540 [18:43<13:19,  7.39it/s]"
     ]
    },
    {
     "name": "stdout",
     "output_type": "stream",
     "text": [
      "error\n",
      "<Response [400]>\n"
     ]
    },
    {
     "name": "stderr",
     "output_type": "stream",
     "text": [
      " 57%|██████████████████████████████████████████████████▋                                      | 7710/13540 [18:55<14:05,  6.90it/s]"
     ]
    },
    {
     "name": "stdout",
     "output_type": "stream",
     "text": [
      "error\n",
      "<Response [400]>\n"
     ]
    },
    {
     "name": "stderr",
     "output_type": "stream",
     "text": [
      " 59%|████████████████████████████████████████████████████▊                                    | 8028/13540 [19:41<13:30,  6.80it/s]"
     ]
    },
    {
     "name": "stdout",
     "output_type": "stream",
     "text": [
      "error\n",
      "<Response [400]>\n"
     ]
    },
    {
     "name": "stderr",
     "output_type": "stream",
     "text": [
      " 68%|████████████████████████████████████████████████████████████▊                            | 9261/13540 [22:45<09:52,  7.22it/s]"
     ]
    },
    {
     "name": "stdout",
     "output_type": "stream",
     "text": [
      "error\n",
      "<Response [400]>\n"
     ]
    },
    {
     "name": "stderr",
     "output_type": "stream",
     "text": [
      " 71%|███████████████████████████████████████████████████████████████▌                         | 9677/13540 [23:46<09:26,  6.82it/s]"
     ]
    },
    {
     "name": "stdout",
     "output_type": "stream",
     "text": [
      "error\n",
      "<Response [400]>\n"
     ]
    },
    {
     "name": "stderr",
     "output_type": "stream",
     "text": [
      " 78%|████████████████████████████████████████████████████████████████████▎                   | 10503/13540 [25:51<06:57,  7.28it/s]"
     ]
    },
    {
     "name": "stdout",
     "output_type": "stream",
     "text": [
      "error\n",
      "<Response [400]>\n"
     ]
    },
    {
     "name": "stderr",
     "output_type": "stream",
     "text": [
      " 79%|█████████████████████████████████████████████████████████████████████▊                  | 10745/13540 [26:28<06:39,  6.99it/s]"
     ]
    },
    {
     "name": "stdout",
     "output_type": "stream",
     "text": [
      "error\n",
      "<Response [400]>\n"
     ]
    },
    {
     "name": "stderr",
     "output_type": "stream",
     "text": [
      " 80%|██████████████████████████████████████████████████████████████████████▏                 | 10801/13540 [26:35<06:03,  7.53it/s]"
     ]
    },
    {
     "name": "stdout",
     "output_type": "stream",
     "text": [
      "error\n",
      "<Response [400]>\n"
     ]
    },
    {
     "name": "stderr",
     "output_type": "stream",
     "text": [
      " 81%|███████████████████████████████████████████████████████████████████████                 | 10932/13540 [26:54<05:45,  7.55it/s]"
     ]
    },
    {
     "name": "stdout",
     "output_type": "stream",
     "text": [
      "error\n",
      "<Response [400]>\n"
     ]
    },
    {
     "name": "stderr",
     "output_type": "stream",
     "text": [
      " 82%|████████████████████████████████████████████████████████████████████████▏               | 11107/13540 [27:21<05:20,  7.60it/s]"
     ]
    },
    {
     "name": "stdout",
     "output_type": "stream",
     "text": [
      "error\n",
      "<Response [400]>\n"
     ]
    },
    {
     "name": "stderr",
     "output_type": "stream",
     "text": [
      " 83%|████████████████████████████████████████████████████████████████████████▋               | 11179/13540 [27:32<05:30,  7.14it/s]"
     ]
    },
    {
     "name": "stdout",
     "output_type": "stream",
     "text": [
      "error\n",
      "<Response [400]>\n"
     ]
    },
    {
     "name": "stderr",
     "output_type": "stream",
     "text": [
      " 85%|██████████████████████████████████████████████████████████████████████████▍             | 11458/13540 [28:12<05:01,  6.90it/s]"
     ]
    },
    {
     "name": "stdout",
     "output_type": "stream",
     "text": [
      "error\n",
      "<Response [400]>\n"
     ]
    },
    {
     "name": "stderr",
     "output_type": "stream",
     "text": [
      "100%|████████████████████████████████████████████████████████████████████████████████████████| 13540/13540 [33:22<00:00,  6.76it/s]\n"
     ]
    }
   ],
   "source": [
    "label_stats = pull_nft_stats(labels,no_save=True)"
   ]
  },
  {
   "cell_type": "code",
   "execution_count": 70,
   "id": "32233969-21e0-4a95-a2ac-2e8ce7e3a432",
   "metadata": {},
   "outputs": [],
   "source": [
    "with open('label_to_stats_dec_15.pkl','rb') as f:\n",
    "   l_stats= pickle.load(f)"
   ]
  },
  {
   "cell_type": "code",
   "execution_count": 72,
   "id": "5bd97968-4096-4ebb-8ef8-c4620d4e9e20",
   "metadata": {},
   "outputs": [
    {
     "name": "stderr",
     "output_type": "stream",
     "text": [
      "IOPub data rate exceeded.\n",
      "The Jupyter server will temporarily stop sending output\n",
      "to the client in order to avoid crashing it.\n",
      "To change this limit, set the config variable\n",
      "`--ServerApp.iopub_data_rate_limit`.\n",
      "\n",
      "Current values:\n",
      "ServerApp.iopub_data_rate_limit=1000000.0 (bytes/sec)\n",
      "ServerApp.rate_limit_window=3.0 (secs)\n",
      "\n"
     ]
    }
   ],
   "source": [
    "print(l_stats)"
   ]
  },
  {
   "cell_type": "code",
   "execution_count": null,
   "id": "8d79921e-2109-4005-889a-dfe8451b144a",
   "metadata": {},
   "outputs": [],
   "source": [
    "old_NFTs = list(label_to_owners.keys())\n",
    "new_NFTs = [x[0] for x in unique_NFTs]\n",
    "old_2_process = [x for x in old_NFTs if x not in new_NFTs]\n",
    "old_NFTs_contracts = labels_to_contracts(old_2_process)\n",
    "old_contracts = [x for x in old_NFTs_contracts if x is not None]\n",
    "old_contracts = [x for x in old_contracts if x[1] is not None]\n",
    "len(old_contracts)"
   ]
  },
  {
   "cell_type": "code",
   "execution_count": 3,
   "id": "df2a7b1e-1178-4b42-947d-97b7361bf1db",
   "metadata": {},
   "outputs": [
    {
     "name": "stdout",
     "output_type": "stream",
     "text": [
      "The autoreload extension is already loaded. To reload it, use:\n",
      "  %reload_ext autoreload\n"
     ]
    }
   ],
   "source": [
    "from dataset_builder import generate_dataset\n",
    "%load_ext autoreload\n",
    "%autoreload 2"
   ]
  },
  {
   "cell_type": "code",
   "execution_count": 12,
   "id": "ee9761fd-50a9-4b0f-9c09-c61ef20e5cff",
   "metadata": {},
   "outputs": [
    {
     "name": "stderr",
     "output_type": "stream",
     "text": [
      "100%|██████████████████████████████████████████████████████| 1/1 [00:02<00:00,  2.60s/it]\n"
     ]
    },
    {
     "name": "stdout",
     "output_type": "stream",
     "text": [
      "Number of NFTs found 19\n"
     ]
    },
    {
     "name": "stderr",
     "output_type": "stream",
     "text": [
      "100%|████████████████████████████████████████████████████| 19/19 [00:03<00:00,  5.86it/s]\n"
     ]
    },
    {
     "name": "stdout",
     "output_type": "stream",
     "text": [
      "Number of valid NFTs in Graph 5\n",
      "Number of valid NFTs in Graph post limit 5\n",
      "5 new NFTs to process and 0 NFTs already seen.\n",
      "('greedy-goblins-wtf', '0x0A69cEeB9aBCC8d0905Dd0458153a5d2262A8cD6')\n"
     ]
    },
    {
     "name": "stderr",
     "output_type": "stream",
     "text": [
      "100%|██████████████████████████████████████████████████████| 5/5 [00:01<00:00,  2.57it/s]\n",
      "100%|██████████████████████████████████████████████████████| 5/5 [00:00<00:00, 13.92it/s]\n"
     ]
    }
   ],
   "source": [
    "generate_dataset('test_run_2',num_graphs=1,owner_sample=1,max_graph_size=100)"
   ]
  },
  {
   "cell_type": "code",
   "execution_count": 3,
   "id": "746d2919-e1dc-478b-bb5e-bbed6fa5ee99",
   "metadata": {},
   "outputs": [],
   "source": [
    "from collections import defaultdict\n",
    "\n",
    "string_dict = defaultdict(lambda: len(string_dict) + 1)"
   ]
  },
  {
   "cell_type": "code",
   "execution_count": 8,
   "id": "31475ba1-0e81-4c49-91c9-c80cedde8be9",
   "metadata": {},
   "outputs": [
    {
     "data": {
      "text/plain": [
       "2"
      ]
     },
     "execution_count": 8,
     "metadata": {},
     "output_type": "execute_result"
    }
   ],
   "source": [
    "string_dict['b']"
   ]
  },
  {
   "cell_type": "code",
   "execution_count": 6,
   "id": "aa5d01c0-cc33-441f-a781-4020d8da9071",
   "metadata": {
    "editable": true,
    "slideshow": {
     "slide_type": ""
    },
    "tags": []
   },
   "outputs": [
    {
     "name": "stdout",
     "output_type": "stream",
     "text": [
      "                           _i6:  595.0 B\n",
      "                           _oh:  232.0 B\n",
      "                           Out:  232.0 B\n",
      "                          open:  136.0 B\n",
      "              generate_dataset:  136.0 B\n",
      "                    sizeof_fmt:  136.0 B\n",
      "                   __session__:  135.0 B\n",
      "                           _ih:  128.0 B\n",
      "                            In:  128.0 B\n",
      "                           _i1:  128.0 B\n"
     ]
    }
   ],
   "source": [
    "import sys\n",
    "def sizeof_fmt(num, suffix='B'):\n",
    "    ''' by Fred Cirera,  https://stackoverflow.com/a/1094933/1870254, modified'''\n",
    "    for unit in ['','Ki','Mi','Gi','Ti','Pi','Ei','Zi']:\n",
    "        if abs(num) < 1024.0:\n",
    "            return \"%3.1f %s%s\" % (num, unit, suffix)\n",
    "        num /= 1024.0\n",
    "    return \"%.1f %s%s\" % (num, 'Yi', suffix)\n",
    "\n",
    "for name, size in sorted(((name, sys.getsizeof(value)) for name, value in list(\n",
    "                          locals().items())), key= lambda x: -x[1])[:10]:\n",
    "    print(\"{:>30}: {:>8}\".format(name, sizeof_fmt(size)))"
   ]
  },
  {
   "cell_type": "code",
   "execution_count": null,
   "id": "27aea29a-2fb2-4b45-a5ac-917a849f8fe0",
   "metadata": {},
   "outputs": [],
   "source": []
  }
 ],
 "metadata": {
  "kernelspec": {
   "display_name": "nft_venv",
   "language": "python",
   "name": "nft_venv"
  },
  "language_info": {
   "codemirror_mode": {
    "name": "ipython",
    "version": 3
   },
   "file_extension": ".py",
   "mimetype": "text/x-python",
   "name": "python",
   "nbconvert_exporter": "python",
   "pygments_lexer": "ipython3",
   "version": "3.8.10"
  }
 },
 "nbformat": 4,
 "nbformat_minor": 5
}
