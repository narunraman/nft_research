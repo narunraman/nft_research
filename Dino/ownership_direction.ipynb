{
 "cells": [
  {
   "cell_type": "code",
   "execution_count": 2,
   "metadata": {},
   "outputs": [],
   "source": [
    "%load_ext autoreload\n",
    "%autoreload 2\n",
    "import counterfeit_utils as cfu\n",
    "import cf_value as cfv\n",
    "import sys\n",
    "sys.path.append('..')\n",
    "import data_retrieval.psql_methods as psql\n",
    "import pandas as pd"
   ]
  },
  {
   "cell_type": "code",
   "execution_count": 3,
   "metadata": {},
   "outputs": [],
   "source": [
    "look_sims = cfu.get_all_look_sims()"
   ]
  },
  {
   "cell_type": "code",
   "execution_count": 15,
   "metadata": {},
   "outputs": [],
   "source": [
    "command = f\"SELECT slug,token_id,sale_price from cf_sales where slug in {tuple(look_sims)}\"\n",
    "temp_stats_tuples = psql.execute_commands([command])\n",
    "columns = ['slug','token_id', 'sale_price']\n",
    "sales_df = pd.DataFrame(temp_stats_tuples,columns=columns)"
   ]
  },
  {
   "cell_type": "code",
   "execution_count": 18,
   "metadata": {},
   "outputs": [
    {
     "name": "stdout",
     "output_type": "stream",
     "text": [
      "318\n",
      "318\n"
     ]
    }
   ],
   "source": [
    "slugs = sales_df['slug'].unique()\n",
    "ls_set = set(look_sims)\n",
    "ls_slugs = [slug for slug in slugs if slug in ls_set]\n",
    "print(len(ls_slugs))\n",
    "print(len(slugs))"
   ]
  },
  {
   "cell_type": "code",
   "execution_count": 4,
   "metadata": {},
   "outputs": [],
   "source": [
    "command = f\"Create table look_sim_sales as SELECT * from cf_sales where slug in {tuple(look_sims)}\"\n",
    "# temp_stats_tuples = psql.execute_commands([command])"
   ]
  },
  {
   "cell_type": "code",
   "execution_count": 5,
   "metadata": {},
   "outputs": [
    {
     "name": "stdout",
     "output_type": "stream",
     "text": [
      "Create table look_sim_sales as SELECT * from cf_sales where slug in ('tronlegacy', 'projectririsu', 'cnp-philippines-happydaoyarou', 'chud0', '6sixty6', 'kamimain', 'superordinaryfriends', 'supermigos', 'ordinal-kubz', 'ahegao-nft-official', 'toonsquad-official', 'thejapanesenft', 'fastfoodpunks2', 'asiandisappointments', 'sakura-jk-gacha', 'metabatch', 'nubbies-genesis', 'mega-404-s1', 'mferchicks', 'mev-genesis', 'axolittles', 'heroesofcumberland', 'hertzcity', 'bladerunner-punks', 'degendinos-1', 'ethalien', 'linksdao-champions', 'playerone-1p', 'wu-ted-clan-collection', 'bored-naka-club', 'hoodles-official', 'hmn5', 'mfersimpson', 'dreamyofficial', 'fishyfam', 'sneedmaker', 'majo-genesis', '0xthesaudis-official', 'cryptodickpunks', 'xqui', 'kaiju-queenz-genesis', 'pirate-apes', 'chap-gang', 'minion-rewards', 'nft-ocs-genesis-maid-san', '0xhunter', 'gutter-art-editions', 'heroesmetaverse-tle-v2', 'suji-official', 'super-rabbits', 'wadafuq', 'clokiesnft', 'unfudables-1', 'baby-mutants-insertion', 'blubea-nft-official', 'archemist-genesis', 'divineanarchy', 'theposerparty', 'am-gm', 'crazy-lizard-army', 'substandardnfts', 'iroiro', 'strange-times-', 'holiday-baddies', 'loony-squad', 'harvmcmblocks', 'ordinal-miladys', 'madpig-1', 'fresh-boyz-club', 'stardustgeneration', 'official-apezuki', 'i-am-nobody-nft', 'dippies', 'phantadoodles', 'the-anata-nft', 'boredapepixelclubofc', 'phunkydoodles', 'metaflexer', 'richapes-2', 'sad-frogs-district', 'pepemfer-nakamigos', 'infectables', 'neko-maker', 'killergf', 'the-esion-club', 'gutterchicks', 'astarprince', 'lady-killaz', 'mad-monkey-sea-club', 'azukielementals', 'timelessnfts', 'pastastore', '0xzuki', 'bullmarketbunniesnft', 'tengria', 'conspiracy-lady-maker', 'codesekai', 'zotox', 'maid-ode', 'wearekevin', 'nftmemeclub-immortal', 'nodepunkes', 'punk-degenz', 'dabrics-nft', 'rockerpunks', 'alienapeyachtclub', 'luckyleopardcrew-v2', 'gnomeville', 'gardenlockdown', 'turtletown', 'troll-townwtf', 'ensmaxis', 'lazy-cubs', 'sneaky-vampire-syndicate', 'goobers-nft-rewards', 'kreepyclaim', 'spaceboysnft', 'degen-space-social-club', 'itsuki-v2', 'voiceverse-genesis', 'billionairebirds-official', 'tyco-swagg-unchained', 'ins1d3rs', 'zoodlers', 'tastybonesxyz', 'negative-milady', 'soulz-monogatari7777', 'my-thoughts-by-iucer', 'cheeks-pepo', 'goulerbros', 'detonated-toonz', 'hello-eno', 'thestoics', 'tokyoalternativegirls-v2', 'ikigaigenesis', 'cryptomonkz-official', 'oot-origins', 'winterbears', 'okcnp', 'babywizards', 'coolpenguinswtf', 'doodleduckling-official', 'testeditiondonotbuy', 'junky-flunkyz', 'debox-guardians-eagle', 'crazyrichyellows', 'the-wizop', 'genuine-alien', 'glitch-riot', 'niftydegen', 'barn-owlz', 'degodess-on-eth', 'broskeesnfts', 'holideez', 'dezuki', 'doodles-official', 'pudgy-pandas-official', 'puzlpunks', 'potatopunksofficial', 'genuiney00ts', 'wtchs-', 'skelet-guys', 'aes-apes-infinity', 'squishy-squad', 'luckyfrens', 'naughty-pippi', 'the-cov3nant', 'haogoodmanjollyexperience', 'todd-james-art-party', 'degengang', 'moonzilla-genesis', 'decadentpepe', 'pirates-of-the-metaverse-by-drip-studios', 'cryptonounbirbs', 'the-ojuju-saga-editions', 'therandomsnfts', 'banc-official', 'hisokaofficial', 'chillennials', 'bustling-bees', 'baecafe-s2', 'cyphercity', 'rplanet-genesis', 'choodles-nft', 'lordofthrones', 'pepemigos', 'morethangamersnftmtg', 'projectatamaofficial', 'undead-pastel-club', 'drunkenvikingstribe', 'beaned-ape-yacht-club', 'thepolacy', 'deadfellaz', 'junglebay', 'shinzonfts', 'yon-editions', 'uacofficial', 'alienfrensnft', 'shobits', 'ninja-squad-official', 'cooldogsofficial', 'ape-dao-remix', 'ggnft-by-globalesports', 'larva-doods', 'moon-birbs', 'mecha-ape-yacht-club', 'kuddle-koalas', 'mentalcollege-nuos', 'mutantgrandpacountryclub', 'fameladysquad', 'cryptoquackers-1', 'streetapesociety', 'jiqimao', 'mczukis-official', 'onisquad', 'thealphaqueen', 'cosmomasks-main-collection', 'proof-of-monke', 'azuki-demon', 'many-fold', 'skull-elementals', 'alphaduck', 'stranger-eggz', 'pepeunlimited', 'dawsworld', 'candy-hunters', 'the-saudi-ape', 'kumo-x-world-residents', 'ogczcollection', 'btfdrabbits', 'messycatscollection', 'tokyo-brave-heroes', 'mlz', 'sappypenguinsnft', 'marsaliencats', 'taiwanesenft', 'colorful-ape-club-official', 'summerbears', 'degens-of-the-street', 'nounpunks-eth', 'punkforce', 'pschsnft', 'boreddoodlapes', 'thesakuraprojectnft', 'v3phunks', 'ultraviolence-kibbles', 'djenerates-clubbing-edition', 'kuruoshi', 'cryptojokersxyz', 'mistertoshi', 'rare-crypto-pepunks', 'boonmirds', 'lonelypop', 'idolsnft', '0xdoodlesnft', 'ghibladymaker', 'blockchain-frenz-nft', 'sugartownoras', 'gldb-concert-nft-gldb', 'everybodys', 'time-travel-ape-society', 'moon-goons-official', 'holymigos', 'goblin-grlz', 'bored-actors', 'mutantdoge-dogc', 'a-goober-a-day', 'azukigos', 'valhalla', 'true-plebs', 'regina-x', 'rainbowcatsnft', 'paycgenesis', 'officialkaijira', 'supducks', 'pudsypower', 'momoape-club', 'social-dudes-3', 'thekuwaitis', 'rodro-editions-2022', 'whoopsiesdoopsies', 'hashmasks-derivatives', 'caringcreaturescollective', 'catshitcrazy', 'harvmcmeditions', 'redeemart', 'metazed', 'thesuperiors', 'kek-wins-editions', 'fudkersbyjerty', 'headtripz', 'apyc', 'chubbylittlejiras', 'lambduhs', 'buttpunksz', 'suspect-arrested-by-trust-lab', 'orgnls-by-sabet', 'mmmm-genesis-nft', 'cryptoninjapartners-v2', 'boolish-bunnies', 'kizunagenesis', 'niganegros', 'scholarz', 'lil-rare-apepe-yc', 'miladystationclassic', 'the-inhabitants-of-lyke-island', 'denizens-of-zenacademy', 'destroyand', 'maskies-hq', '1984-worldwide', 'kaizengenesis', 'theturksnft', 'jobless-punks-official', 'vivity-citizens', 'onigiriman-s-edition-collection', 'vainego', 'soul-cafe-collectibles', 'freakzsubber', 'gakko-labs', 'nakapepes-official', 'cosmodinos-omega', 'dystopunks', 'mfn-gutter-punks', 'kokodinft', 'genuine-apes-official', 'unidentified-contract-6wo0qzqnra', 'thepond', 'wildgoatgang', 'toasted-toonz', 'pndnft', 'the-club-of-cool-apes', 'exotic-apes-v2', 'convictionstd', 'akersbni', 'slavbro-wee-bring-v2', 'theshimps', 'mutantanatomyscienceapeclub', 'bored-ape-beach-hut', 'zach-punk', 'kureiji-nft-official', 'women-from-venus', 'funkari-nft', 'pepez-beanz', '0xmfers', 'mindblowon-universe', 'anti-miladies', 'deadmigos-official', 'rocknroll-ape-club', 'epicbeast', 'pepemigos-official', 'orangurock-resident', 'the-jews-nft', 'lisaevox', 'the-mutant-saudi-apes', 'misfit-club', 'gyangu-official', 'lux3-apex', 'ape-riders-club', 'potheadz-by-satoshis-mom', 'poshpandas', 'bun-solos', 'metatriads', 'cryptoapesnftsoff', 'pudgy-gobblers', 'dverso-droids', 'milady-maker-x-sprite', 'ppa-dealers', 'mphers', 'ugly-people-torrealba', 'officialwebearz', 'brushs-not-dead', 'nsm-fuse', 'goblinbot', 'vibenauts', 'the-moonkysnft', 'baby-goblinz', 'lazyapexmas', 'azurian', 'the-trumpies', 'cyberninjaofficial', 'zero48nft', 'ryokoclub', 'trippingoblin-wtf', 'boring-frog-v2', 'toys-and-treasures', 'zukiblowon', 'projectkaito', 'chrome-kids-official', 'lazylioness', 'retrooootown', 'grnd-fuo', 'mutantgoblinape', 'cool-cats-nft', 'fanggangnft', 'baddiesofficial', 'nutterz', 'official-cool-lions', 'clonedead', 'slacker-duck-pond', 'punkphunkpunks', 'party-penguins', 'soonbirds', 'nioikemurinft', 'stargals', 'thepalsuniverse', 'tiredapeyachtclub', 'weebtownwtf', 'sac', 'trippy-ape-pos-club', 'bubblefriends-nft', 'moondogz-official', 'chinachic', 'live-like-a-cat-nekonoyouniikiru', 'dead-founders-club', 'coodles', 'awaken-your-inner-child', 'chill-princesses', 'pixelwooks', 'buildanape', 'panlo-by-startph', 'nakapepunks', 'turtlebuddy', 'wearetoysterz-official', 'sekushi-girls', 'mellow-park', 'hushpuppiesnft', 'we-the-kids', 'streetmachinegenesis', 'babydoodleapesofficial', 'minisupers', 'old-ape-country-club-official', 'we-are-flowers', 'riotgirls', 'sadbros95', 'dusk-genesis', 'story-of-karuti', 'chillbearclub-genesis', 'the-larva-crabs', 'goblinszukideployer', 'masters-of-blockchain', 'wabi-sabi-official', 'clashofcyborgs', '77bit', 'samuki', 'thedifferents', 'hoshiboshi-aries', 'manekigang', 'rystm', 'the-chimpsons-official', 'cryptobearsofficial', 'makc-m1', 'kitaro-yacht-club', 'doodledogsofficial', 'semol-birbs', 'ssa-international', 'the-pepe-chimpsons', 'acid-apes-society', 'baby-cats-pixel', 'baninomado-v2', 'clonexshapeshifter', 'taiketsu', 'jungleclass-nft', 'theapefrens', 'bored-mummy-waking-up', 'world-of-boys-official', 'coolcatsshapeshifter', 'elenoir-the-hero', 'lil-bone', 'cyber-friends', 'nakadogemigos', 'bored-grinchmas-club', 'boobbirds', 'moonbirds-oddities', 'killapepe', 'vividlimited', 'ape-runners', 'lazyloodles', 'anibae-', 'boredassgoblins', 'yaygifs', 'ens999club', 'smolmoe', 'mechapenguins', 'potentiallynotablepepes', 'the-argentinians-official', 'gloomersofficial', 'skellycats', 'frenly-flyz', 'voodoosclub', 'coolapeclubofficial', 'beanbagfrens-nft', 'doodlespepes', 'little-lemon-friends', 'fairyfiends', 'kawamii', 'the-scornables', 'nakamonkes', 'pepe-in-pain', 'foxyhounds', 'ogres-wtf', 'apemaniasocialclub', 'shonen-junk-official', 'rektapecopeclub', 'officialmrbean', 'stakedseals', 'tigerbobnft-genesis', 'furusatocnp', 'yaminokamiclub', 'coolpetsnft', 'croodles', 'saibushi-genesis', 'ponpons-nft', 'eboshissance', 'milordmaker-milordia', 'genesis-penguins', 'habibiapeclub', 'theapesonsclub', 'braqfrnds', 'fake-memes-s1', 'boredapp-pfp', 'goblinqueens', 'elfooznfts', 'avariksagauniverse', 'nfa-toonymoney', 'azuki', 'therobobo', 'zuki-club-1', 'threadsnft', 'krazykoalas', 'gex', 'boobunchnft', 'zenogakki-official-genesis', 'rare-panthers', 'petatoz', 'heromigos', 'angryapes-society-nft', 'thesillies', 'loveposters', 'cyphercitypets', 'genesis-bakers', 'monsterrehab', 'the-weirdpeople-nft', 'balloontown-nft', 'wonderwomanhero', 'sneaky-vampiress-syndicate', 'sippys', 'tinytails', 'deathwish-extras', 'ghost-cats-official', 'zoblins', 'viragonft', 'magamigos', 'sunbirbs', 'ad-trainers', 'fundaes-nft', 'sympathyforthedevils', 'spacecrocos', 'bbyc-bored-bits-yacht-club', 'official-droplets', 'freebirds-collection', 'sattva-soul-supporters-generative', 'wonderpals', 'candyconytown', 'chronicles-official', 'mxnsters', 'degods', 'pudgy-penguins-girls', 'regenz', 'miladystation', 'cat-civilization', 'officialprojectshura', 'gurts', 'bigbrainz-1', 'starbirds', 'chadsgpt', 'pudgy-azurbala', 'bitcoinbeanz', 'orientalmystery', 'lovelypop', 'tales-of-tsuki-genesis', 'lilchix', 'heartboys', 'altguys', 'pudgytown', 'killapepes', 'okayzukinft', 'official-sekira', 'monstermates', 'dgens-nft', 'make-it-legal-2', 'wtfdidibuy', 'chonkypets', 'ape2023-1', 'robopunks2048', 'super-bb', 'wtphunks', 'fridoos', 'edenhorde-official', 'papc-genesis', 'neo-samurai-monkeys', 'theaswangtribe', 'zomzuki', 'toadz-stuff', 'mutantgoblinwtf', 'moonlingsofficial', 'axos-universe-v2', 'ninjitsuofficial', 'lucid-official', 'doodle-dood-nfts', 'koolkidsnft', 'trekkinftofficial', 'hobozuki', 'cool-monkes-trainers', 'bored-ohms-sewer-apes', 'ggggg-vol1', 'dreamzukinft', 'dopeysnft', 'bimbochicks', 'code0nft', 'rareapepegrlzyc', 'savage-nation', 'groovy-doodles', 'arkaine', 'anonthology', 'covidpunksnft', 'monster-party-2', 'gotcha-gatcha-nft', 'smiliesgenesis', 'bitcoin-miladys', 'chill-frogs', 'radbro-webring', 'birbs-friend', 'monstramigos', 'werenewhere', 'hoshikonft', 'boredpunk-2', 'owls-wtf-2', 'deadzxy', 'bloopersbymetacitzn', 'ex-killer-gf', 'bored-of-faking--apes', 'genuine-alive-nft', 'alterbase-by-smtc', 'meowlandnfts', 'galactic-secret-agency', 'skyborne-genesisimmortals', 'miratashiofficial', '0n1-force', 'ghostskullsnft', 'kasagi-supernova', 'boneheadz-official', 'mak-10', 'maxiapeclub', 'digi-sharks', 'dadbros', 'remarkablewomennft', 'ai-grifters', 'penguinspixelworld', 'jukisammy', 'chubbyanxiety', 'nigeriansnft', 'proof-of-pepe-v4', 'boringone', 'radhoe', 'genuineevil', 'mutantgangapeblingclub', 'skeletalcatsofficial', 'kingstown-wtf', 'async-blueprints', 'strawberry-wtf-golden-strawberry', 'babygob', 'sappy-seals', 'vitalik-elementals', 'feels-geometric-man', 'fastfoodpunks', 'xiaoyannft', 'womenrise', 'pieland', 'atsui', 'blue-monday-punks', 'notablepepes', 'thebeeings', 'egoism-by-brain-vomit', 'jakes-world-editions', 'theparallaxgenesis', 'cryptofoxes-v2', 'deadboy-1', 'downbirdsnft', 'moonrunnersnft', 'galz-v2', 'valeria-champions', '0xpunks-official', 'chubbykaijudao', 'muribyfabrik', 'khuga-by-khuga-labs', 'aleqtheditions', 'fananees-official', 'mylilgnomienft', 'jimmy-the-monkey-v2', 'metahero-generative', 'sonoramaker', 'pecamigos', '0xapes-trilogy', 'genetically-spliced-ape-labs', 'the-orangez', 'pixeladymaker-bc', 'nahgomakis', 'atticnovelnft', 'porconfts', 'mechacatcrewnft', 'griefwojakyachtclub', 'iri-do-metropolitan-nft', 'sofa-vision', 'zimmymon', 'dixpercent', 'cope-by-aleqth', 'earc', 'frapes', 'cake-hat-world-order', 'asian-identity-collection', 'i-am-kevin', 'mutant-nakamigos', 'thekillaz', 'cryptomories', 'raremfers', 'lonely-lovers-club', 'we-are-all-going-to-die', 'cutezuki', 'stammemes', 'noazukinoape', 'official-yasha-by-tangerine-labs', 'thesunniesnft', 'moshimochi', 'meta-girlfriends', 'wkon-punks-rich-club', 'igocnp', 'matr1x-2061-1', 'demonicdorks', 'panksnotded', 'lucha-libre-knockout', 'tribekids', 'boreddegodsyachtclub', 'whikolandofficial', 'troll-townbaby-wtf', 'bigbrainsociety', 'digidaigakusupervillains', 'larva-eggs', 'bored-goblin-yacht-club-wtf', 'pudgy-milady', 'dreadfulz', 'saltysirencrew', 'theantimasks', 'axialgenesis', 'coolboysofficial', 'frnds-club', 'familiarstudios', 'roars-by-ntp', 'fat-rat-mafia', 'nakamigods', 'rebels-haunted-mansion', 'schrtdingers-cat-nft', 'springfieldpunksofficial', 'himalayainc', 'sickcubs', 'projectino', 'hurt-hapas', 'pop-brainverse-official', 'baby-camels-season-1', 'rekttrollz', 'micent-van-gogh', 'iroiro-remix', 'the-haunted-5', 'homa-pixel-club', 'gummiesgang-official', 'ladyrareapepeyachtclub', 'bokinftofficial', 'lilkami', 'goldhuntgame', 'lilbrains', 'simplytigers', 'boxman-official', 'skullzuki', 'xtreme-pixels', 'chumchums-special', 'boss-bunnies-nft-official', 'pokemon-united', 'wzrds', 'uneternal-cyberpunks', 'down-market-apes-club', '0xnauts', 'drivrsofficial', 'magna-1', 'coolmonkes', 'ledger-x-killer-acid-deadfellaz-infected-s2', 'pixel-penguin-2', 'pudgy-pepes', 'bearmarketbeasts', 'angels-of-zeus', 'sappy-seal-yacht-club', 'cryptocannabisclub', 'unidentified-contract-pyli6lvq3x', 'monaki-beauties-1', 'pownftofficial', 'bored-rare-apepe-yc', 'weebtown-waifus', 'impact-fantasy', 'the-tokyo-ten', 'baby-apes-origins', 'ghost-buddy', 'godsofrock', 'entershizuka', 'SenshiOfficial', 'zoofrenz-apefrenz-2-0', 'pepeboom', 'okay-renga', 'onigiri-pepes', 'timepieces-x-robotos', 'pudgydickbutts', 'gangsta-kong', 'xana-genesis', 'shylock', 'sketchy-ape-comic-club', 'metabillionaire', 'yootszukiofficial', 'brokeapeclub-v2-1', 'official-cool-beanz', 'kekversebybasedpleb', 'edo2022', 'apegoblinsv1', 'littlemutants', 'roritamakers1e2', 'rektwtf-reclaimed', 'spooky-ape-haunted-club', 'yogi-doods', 'rektpepe', 'fomo-mofos', 'small-graffiti', 'dead-founders-yc', 'fatbored', 'bluechip-genesis-', '0xvampire-project', 'shadow-wolves', 'iamslothnft', 'official-y00tzuki', 'livesofasuna', 'brawlerz-kingdom', 'chummas22', 'dank-ducks-nft', 'ilyyw', 'rich-baby', 'fortune-friends-club-official-nft', 'the-girls-of-armament-v2', 'lilbabyalienfrens', 'gdrake', 'pasokonworld-official', 'abstractars', 'hallucinatedducks-nft', 'cryptodickbutts-s3', 'cryptodoodez', 'coconutznftofficial', 'aniborgz-alpha', 'gfsdhgfd', 'odd-chica-bug', 'strawberrywtf', 'rich-punks-v2', 'apepunks-co', 'qtopia-genesis', 'japanesebornapesociety', 'lovelywomens-world', 'visitors-of-imma-degen', 'beanversenft', 'internetfrens', 'scryptophunk', 'basic-azuki', 'fifapeworldcup', 'jomohippoofficial', 'meowforce', 'galaxy-fight-club', 'boredtateyachtclub', 'bored-aztec-apes', 'women-in-vc', 'the-shrapes-official', 'imaginaries-2', 'mekazuki', 'sweetiesnftofficial', 'rarebearsnft-official', 'maybeapes', 'cryptophunksv4', 'sweetpalss', 'gemapeclubnft', 'yungapesquad', 'anonymous-punkz', 'nounpotatoz', 'alienbirds', 'orangapes', 'cmu-babies', 'piratepunksnft', 'cryptoburbsii', 'inhabitants-generative', 'dreamworldnfts', 'east-side-club', 'dopeapeclubdao', 'cryptobirbswtf', 'childrenofukiyoofficial', 'baby-nakamigos', 'nicefunzombies', 'ibutsu', 'sealzzz', 'girlies-nft', 'goodgodz', 'overborne', 'kiwami-genesis', 'randomice', 'topcatbeachclub', 'punkillaz-official', 'shindonft-', 'doodleduckiesofficial', 'zombie-apes-official-nft', 'llamapix-genesis', 'cutetis', 'the-wisdomians', 'official-aneroverse', 'onewordbrick', 'rarebunniclub', 'rudekidz', 'babyghosts', 'okayazukis', 'tears-for-futures', 'slylyfoxes', 'dumpsterratz', 'cabu-cats', 'okimi-official', 'theladyapes', 'space-passenger-1', 'y2keth', 'h00ts', 'captainz-apes', 'zombiecat', 'moonrara', 'sushiuki-official', 'invisibledoodlesnft', 'onchainkevin', 'pixelmigos', 'tereqn', 'funapes-nft', 'the-littles-frens-nft', 'thepotatoz', 'genuineundeadapes', 'yaypepe-club', 'cnp-students', 'mr-checkspeare', 'loonbirds', 'evolutionrex', 'megamix', 'dall-e-punks', 'solanapesnft', 'sloth-special-items', 'elven', 'fzuki', 'swordsmannft', 'the-chimpsons-pets', 'neostackey', 'darkzukis', 'deepseacreaturesnft', 'officialhobgoblintown', 'peacefulapes', 'atribecalledape-official', 'notyouramigos', 'esion-collectibles', 'mediadao-friends-nagoya', 'forgottenruneswarriorsguild', 'nekodarumas', 'bored-market-ape-club', 'wunky', 'miladyfashion', 'marahuyo', 'juiceboxfrens', 'v1-phunks', 'yootgods', 'caroline-trading-club', 'mobs-and-aliens', 'molady', 'theitalians', 'akistory', 'frendors', 'milaidys', 'crypto-phunks', 'ape-daigaku-genesis', 'foodfrogs', 'gobleanzwtf', 'greedy-goblins-wtf', 'metapepes', 'karafuru', 'badass-rare-apepes', 'uwucrew', '8lements-official-3', 'chumchumsnft', 'ether', 'rac-nft', 'miladmaker', 'cyberronin-haruka', 'coin-club', 'eien-origin', 'panduhs', 'shibadoodles', 'monsterlandgenesis', 'zombie-penguins', 'phunksinblack', 'bobble-apes', 'pazuki', 'deadpunksofficial', 'hyakkiofficial', 'nifty-tailor-genesis', 'nuclear-rejects', 'theasters', 'alien-frens-evolution', 'galacticmonkes', 'projectatamasoldiers', 'exiled-dissident', 'nudie-community-official', 'cosmic-wyverns-official', 'crypto-marcs', 'flufferz', 'milady-maker-party', 'nekadead-skull-1', 'starfold-city-warriors', 'pixqn', 'tokyobraveheroes2g', 'epic-thundercat-character-pfp', 'dreamsocietynft', 'annoyed-apes-club', 'shinsekaicorp', 'bitbanditsofficial', 'mechaboki', 'atemnft', 'thepepesnft', 'cryptomonkesnft', 'lion-club', 'grindermfers', 'mutant-trump-hounds-club', 'bored-valhalla-yacht-club', 'galaxypeeps', 'bitcoinbirdsofficial', 'spirit-zuki', 'meteorianft-mto', 'kids-on-the-block', 'springfieldapesnft', 'fivelines', 'braintoadz', 'partyicons-ogx-official', 'boredbeanzyachtclub', 'binkie-babies', 'killady', 'gozuki', 'teenrebelapeclub', 'sodativity', 'mutant-apewives', 'alphabetty-doodles', 'world-of-women-nft', 'cakedapesofficial', 'doodlefrensnft', 'mutant-azuki', 'realfriendss', 'saudimigos', 'bunny-belly-club-v2', 'cosmodinos-alpha', 'theapedads', 'dirty-flies', 'kprverse', 'freefriends', 'shitbeast', 'nakadoodles', 'thewizards-v3', 'kryptothugs', 'omnis-wtf', 'future-apedads', 'ghxsts', 'hello-kitty-eth', 'keeei-goat-buddys', 'feelgang', 'gutter-punks', 'celephais-dreamers', 'hakinft-io', 'robomigos', 'squatzilla-pepe', 'zuki-gen-official', 'space-boo-official-nft', 'baycclubnft', 'nakamigos-saudis', 'save-the-martians', 'bitcoin-ape-punks', 'drugreceipts', 'lovelesscitylimiteds', 'inkugami', 'vipe-heroes', 'streetsmartskullies', 'transformigos', 'nakamigas', 'metamishima', 'stoned-ape-saturn-club', 'bastard-penguins', 'senshi-6', 'moonpepesandfrens', '3l3phants-official', 'demigodsofrock', 'wehavemovedcontractschecktwittermintingtoday', 'hunnys', 'girlies-art-drops', 'artgobblers', 'fudders', 'mellows-web3-bakery', 'goodmonkeyz', 'flawless-renegades', 'pudgypenguins', 'theminisaudis', 'nakadickbutts', 'starwolvez-generative', 'fatzukinft', 'dobutsunfts', 'phantabear', 'dobies-collection', 'beepos', 'surge-passport', 'desperate-ape-wives', 'pxnghostdivision', 'wobblebug', 'thesaudisgoblin', 'treehousepunks', 'giryptoepics', 'arigatossm', 'the-vikings-game', 'cash-cows-crew', 'kaoryu-tamago-px', 'virtuoso-creation', 'foxyfamnft', 'project-unleash-genesis', 'womenandweapons', 'the-sevens-eve', 'banksysociety', 'rodro-editions-2023', 'goodfellas-ape-club-official-collection', 'dtribenft', 'daiki-genesis', 'madapeyachtclub', 'dickzuki', 'bigbrainkids-v2', 'steamboat-punks', 'noevilmonkeysnft', 'pepegaundead', 'startjpn-cryptoninja-world', 'the-bored-ape-americans', 'dokoverse', 'cnpj-v2', 'renga-yacht-club', 'metrograd-gen-2', 'valhalla-pepe', 'new-world-order-by-iwwon', 'lumi-paradox', 'monaverse', 'phunkamigos', 'heyreap3r', 'flirty-davey', 'pepe-maker', 'yuzaku', 'loser-club-official', 'wildpepe', 'owange-yacht-club', 'hmkc', 'wandernauts', 'teen-punks-nft', 'goblin-hipsters', 'inakatabi', 'dudulab-project-dudu', 'goofies-official', 'pxmythics-genesis', 'prime-ape-athlete-nft', 'alpacadabraz', 'binkies', 'caboodles', 'mintfailed', 'obitsofficial', 'stayhumanofficial', 'monkeybet', 'not-a-nft-project', 'cyberducksevolution', 'cryptoalligatorswtf', 'chrome-void-frogs', 'zimmy-raiders', 'thenormies', 'kawaii-plushies-2', 'duckles-official', 'shadowmonkeycomics', 'thepppandas', 'mythicaltown', 'wow-pixies-v2', 'juuni-zodia', 'pixelvault-core', 'jukiversenft', 'monsterchampions', 'frankiesmansion', 'lucky-dragons-gang', 'miladycolombia', 'kubz', 'tajigen', 'oddstronauts', 'lilhotties', 'pudgy-karma', 'punksonbase', 'death-girl-official', 'neotokyopunkscollabs', 'shopverse', 'normies-', 'skell-yeah', 'brokezuki-beanz', 'zunkz', 'kevin-wunks', 'rebelsociety', 'bored-y00ts-ac', 'anatomy-rare-apepe-yc', 'uniheroes', 'knights-of-degen-official', 'mferdickbutts', 'semisupersofficial', 'tinypaws-2d', 'uncool-cats-nft', 'mutant-y00ts-ac', 'ad-astra-club-xyz', 'base-phunks-eth', 'cheebs-nft-official', 'arcane-meta', 'ayahuasca-cats', 'thetwoboys', 'sugarheadsnft', 'toyboogers', 'cody-a-banks-editions', 'babylonmisfits', 'nfh', 'trippies', 'tribe-odyssey', 'platform99', 'partysheepclub', 'thealiendoogle', 'rumble-kong-league', 'smart-club-nft', 'noobs-run-the-world', 'pastel-cronies', 'expansionpunks', 'okay-joyful-ape-yacht-club-v2', 'rags-to-richie-by-alec-monopoly', 'mi1-dy', 'gangsta-mice-city', 'meepsofficial', 'akyllersden')\n"
     ]
    }
   ],
   "source": [
    "print(command)"
   ]
  },
  {
   "cell_type": "code",
   "execution_count": 5,
   "metadata": {},
   "outputs": [
    {
     "name": "stdout",
     "output_type": "stream",
     "text": [
      "Insert into look_sim_sales (slug,token_id,seller,buyer,timestamp,sale_price,payment_token,transaction) Values (%s,%s,%s,%s,%s,%s,%s,%s)\n"
     ]
    }
   ],
   "source": [
    "cfv.retreive_full_time_series(look_sims,table_name='look_sim_sales',log_file='look_sim_series.log')"
   ]
  },
  {
   "cell_type": "code",
   "execution_count": null,
   "metadata": {},
   "outputs": [],
   "source": []
  }
 ],
 "metadata": {
  "kernelspec": {
   "display_name": "nft_venv",
   "language": "python",
   "name": "python3"
  },
  "language_info": {
   "codemirror_mode": {
    "name": "ipython",
    "version": 3
   },
   "file_extension": ".py",
   "mimetype": "text/x-python",
   "name": "python",
   "nbconvert_exporter": "python",
   "pygments_lexer": "ipython3",
   "version": "3.8.10"
  }
 },
 "nbformat": 4,
 "nbformat_minor": 2
}
