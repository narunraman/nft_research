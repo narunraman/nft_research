{
 "cells": [
  {
   "cell_type": "code",
   "execution_count": 2,
   "id": "adf8a39a-0a48-4475-9f41-68787e605185",
   "metadata": {},
   "outputs": [
    {
     "name": "stdout",
     "output_type": "stream",
     "text": [
      "The autoreload extension is already loaded. To reload it, use:\n",
      "  %reload_ext autoreload\n"
     ]
    }
   ],
   "source": [
    "%load_ext autoreload\n",
    "%autoreload 2\n",
    "import feature_extract\n",
    "import sys\n",
    "sys.path.append(\"..\")\n",
    "import torch\n",
    "import psql_methods as psql\n",
    "import pickle\n",
    "import alchemy_methods as alc\n",
    "from tqdm import tqdm\n",
    "import numpy as np\n",
    "import image_utils as imgs\n",
    "import opensea_methods as opse\n",
    "import multiprocessing\n",
    "import pandas as pd\n",
    "import feature_utils as feat\n",
    "import matplotlib.pyplot as plt\n",
    "import counterfeit_utils as cfu"
   ]
  },
  {
   "cell_type": "code",
   "execution_count": 2,
   "id": "32fe633d-a9a6-46af-a1d6-c135fd1e03e6",
   "metadata": {},
   "outputs": [
    {
     "name": "stdout",
     "output_type": "stream",
     "text": [
      "0x5af0d9827e0c53e4799bb226655a1de152a425a5\n"
     ]
    }
   ],
   "source": [
    "pw_dists = pd.read_pickle('pw_dists_counterfeit.pkl')\n",
    "pw_dists_no_dupe = pw_dists.query(\"Top_100!='.ipynb_checkpoints'\")\n",
    "slugs = list(pw_dists_no_dupe['Alt'].unique())\n",
    "commands = [\"SELECT * from collectiontoaddress\"]\n",
    "data = psql.execute_commands(commands)\n",
    "slug_to_contract = {x[0]:x[1] for x in data}\n",
    "print(slug_to_contract['milady'])"
   ]
  },
  {
   "cell_type": "code",
   "execution_count": 7,
   "id": "b99eca22-8b3d-4ea0-ba83-3e44dbd5ada2",
   "metadata": {},
   "outputs": [
    {
     "name": "stdout",
     "output_type": "stream",
     "text": [
      "('pudgypenguins', '1344', '0x29469395eaf6f95920e59f858042f0e28d98a20b', '0xb3aa9923489bc2bfec323bf05346acd4afbc92a0', 1704334427, 10.82, 'WETH', '0x365768f8388e73500de408a6fcff8f6e5feb9725ad3c82b5206610d115eef445')\n",
      "2024-01-04 02:13:47\n",
      "('pudgypenguins', '3390', '0x6f9bb71b5f85c26e9a8a7cc647c5943a1b07d6ed', '0x0c75f526299846668f1e9323764ad45ff9c15b07', 1702300631, 10.760000000000002, 'WETH', '0x5a93d11214d55ed2cf314838e6b8ca1e33a5376b289cdc86c8d6c2d6c5582da6')\n",
      "2023-12-11 13:17:11\n",
      "('pudgypenguins', '7468', '0x495cf63da37f1ee213bb0635048ecb783497099e', '0x8575f8413cfc621efb6f6cc7afbca7ef28118281', 1700106503, 5.4, 'ETH', '0x0eea17fe77e1e7948642c1de51010c06e63fffedf5e56b3d2de7cfbf572d1ac5')\n",
      "2023-11-16 03:48:23\n",
      "('pudgypenguins', '5823', '0x29469395eaf6f95920e59f858042f0e28d98a20b', '0xc58d63d59ad68930c9fdff6f1ac479c5c9941ef4', 1695742079, 4.45, 'WETH', '0x723fe5d78c515449e03aadf8dca98d37e5f9a3f10e45a1b67238d523172efcb9')\n",
      "2023-09-26 15:27:59\n",
      "('pudgypenguins', '7520', '0x29469395eaf6f95920e59f858042f0e28d98a20b', '0x1f114fd4ddb647cbb3d2881e5a698bdf097abe44', 1688277155, 3.56, 'WETH', '0x755f1525fc43367f11e7263bfa646af6d1456e78d606d449d8467c7e4de4f426')\n",
      "2023-07-02 05:52:35\n",
      "('pudgypenguins', '1010', '0xa7b9c7cb5dfaf482ce2d3166b955e685e080cbbc', '0x7df70b612040c682d1cb2e32017446e230fcd747', 1684502003, 4.9, 'WETH', '0x0ba46b76cd6adbac77a60e9931b9854b5999bc74b8f4c18ca1dfc4cf8a21ca8a')\n",
      "2023-05-19 13:13:23\n",
      "('pudgypenguins', '4224', '0x6f435a9421653b27f048957b8ba2092d65a711f9', '0xd822347c013671cd0fad0a01a18d6bf839dc1360', 1682061971, 5.95, 'ETH', '0x6bb024b15168060ed47f4c290aea0580c4dd72511cb94c86c653f6eb321230b2')\n",
      "2023-04-21 07:26:11\n",
      "('pudgypenguins', '763', '0x13422774d8416a316390f5aa2e713c5742592aaf', '0x9082d2785155d64c9e87812b92958acff4fdfba9', 1679713499, 4.38, 'WETH', '0x9abc91cf357d7ff1ee85bac328735274cfbbf1d77cbb15358454d865cb3c3203')\n",
      "2023-03-25 03:04:59\n",
      "('pudgypenguins', '6816', '0xba1ba61ff159422bcb07f78017186624e94e6936', '0xa179ccf27071d73b98b22879a7d9636093119f92', 1678051907, 5.6298, 'ETH', '0x76bdeaeb0d2c4bea525831027da41edbec070e675b4ecc5dba4f3f27eb2f74e9')\n",
      "2023-03-05 21:31:47\n",
      "('pudgypenguins', '7791', '0xebe01d1898b97644cacc9cf7913291515a5ae968', '0x4500d9138f9ca18d5e6c9af6299d1c07172899db', 1677059255, 5.510000000000001, 'WETH', '0xf196da893d259f7a9bc9458ab284367a9c2684a5c512b79314135d0871bae82a')\n",
      "2023-02-22 09:47:35\n",
      "('pudgypenguins', '989', '0xd5ee00b7babd9374d32159cd7cd82bb99ef831fd', '0x8bc110db7029197c3621bea8092ab1996d5dd7be', 1676013395, 5.0600000000000005, 'WETH', '0xcbc90dabc00e99f5e622a4418688ce7aec0bdb61c14e5ecd59a8878d2ff8f52c')\n",
      "2023-02-10 07:16:35\n",
      "('pudgypenguins', '6104', '0xc0ddc791e786c5f7bf8fcbebcf9f4b523063da3b', '0x6a463ba25abfc596eabd4ea699428b48efea1942', 1672875479, 6.640000000000001, 'WETH', '0x17e2ad97f07f8bb7e3377b34b323880813fe9ef8008ec1e4cb89d215714d3988')\n",
      "2023-01-04 23:37:59\n",
      "('pudgypenguins', '3119', '0x832668b0fc7d007f5c40375457ce147d6235ca9d', '0x49d20f1b85acca6a58c48ce56f5eed980b047c0a', 1670721827, 4.715000000000001, 'WETH', '0x52c774ed14762896ae855a03a9323b85c915813686fe28597f6652e307061368')\n",
      "2022-12-11 01:23:47\n",
      "('pudgypenguins', '699', '0x586d48ae627fc02f742e88620029b39786cda155', '0x918680d9a220e9eae28662a3d45877f94633b1b0', 1661514932, 3.1500000000000004, 'ETH', '0xafa479f734c43e2400028f82ea3095b0078dfbbd19868f0ea6fb390f757b0765')\n",
      "2022-08-26 11:55:32\n",
      "('pudgypenguins', '5198', '0x6fd23df9dfed9603670f503cdca16f78ad7133fa', '0x18752a39ab64c2377efa9a8d5b548a24aafee4c8', 1657896259, 2.4000000000000004, 'ETH', '0x4439178449d84b78b48c1f2694ad879cf9e529892e1a2dd25f0894691f76444d')\n",
      "2022-07-15 14:44:19\n",
      "('pudgypenguins', '239', '0xe28ad49154d0de74133a6a0ff4031e01babac0ce', '0x880aaca2722eac9041fc4a852ec10650e97533f8', 1649046289, 2.9800000000000004, 'ETH', '0x493de6606590ad01a4e3cda653fb5bf348ab814a1339f790101ec12dfaceeea3')\n",
      "2022-04-04 04:24:49\n",
      "value \"281487861619219\" is out of range for type integer\n",
      "LINE 1: ...price,payment_token,transaction) values ('10ktf', '281487861...\n",
      "                                                             ^\n",
      "\n",
      "('pudgypenguins', '500', '0x0ecbba0ccb440e0d396456bacdb3ce2a716b96e5', '0x49d20f1b85acca6a58c48ce56f5eed980b047c0a', 1642608911, 1.0450000000000002, 'ETH', '0x92a79c37cd0cd67c1b71aca9aa157c5d095dcd9ef112ff3e8e1ee76ad90f6dc3')\n",
      "2022-01-19 16:15:11\n",
      "('pudgypenguins', '4687', '0x75812c9c901a073c09ca68b9af988fa7ddcac922', '0xfb50fd7388a474f83191794abf8b15c3f40f9500', 1640446574, 0.89, 'ETH', '0xda9de9cb5f3d8cbb212cb363e8605651df4f780a8e20c1c66918e66c7463bf6a')\n",
      "2021-12-25 15:36:14\n",
      "('pudgypenguins', '7637', '0x2db3d4df23069a937ddd42f5fb5cab24032ca007', '0xab30f11201d6d53215729d45dc05a0966c237922', 1633485211, 2.75, 'ETH', '0x7d09176892f786328bf06f8a300db8adfc43a49136852714b604d3d529b11f83')\n",
      "2021-10-06 01:53:31\n",
      "('pudgypenguins', '459', '0xb0151d256ee16d847f080691c3529f316b2d54b3', '0x1cc848568daabc2541f58c6d2f3344972ac1f2cd', 1630415885, 13.000000000000002, 'WETH', '0x9195b25c731060750de15ef0dd6d314103a701834916c97e787064a69bc50baf')\n",
      "2021-08-31 13:18:05\n",
      "('pudgypenguins', '6546', '0xa5c8156188d1edf09c7df15f23513d3c6964e849', '0x624ae79b0bc9a151dc95e7bbe197e63f1514c0c6', 1629594479, 3.6500000000000004, 'ETH', '0xcd478813e4670301a6e9e3b61831ff88f4c73af84581fba44fea604ea3c85000')\n",
      "2021-08-22 01:07:59\n",
      "('pudgypenguins', '3016', '0x332b549ec804f4920b36314e014d2b942e7cd284', '0x31fcdf387589b4bb0cd3efc28b605c2837cc0474', 1628863608, 3.87, 'ETH', '0x04e6b1d9cd5b9bf39c9bb8da380c54140321895e9dacfa76384b56d203290a49')\n",
      "2021-08-13 14:06:48\n",
      "('pudgypenguins', '7984', '0xbf4ec1f616bb62eb1172b677d9443a86f0a3884a', '0xc2f063a8f9ac5e9e7ed1092238bde34df6f64e80', 1628706322, 1.24, 'ETH', '0x7df19924628e1a559d6cc7347ddeff4a991f4d1f1ea39d773bdea697964b8f09')\n",
      "2021-08-11 18:25:22\n",
      "('pudgypenguins', '7575', '0x1b64c25a669a9a2c1f8ff56a2789f85057bcafc0', '0x983cb3da627aac4d8c0979e76d9619af2f350490', 1628528788, 0.889, 'ETH', '0x7f83a72c9425bfebed57f48a3cb446233736006bac55a2fb04a273ea114578e3')\n",
      "2021-08-09 17:06:28\n",
      "('pudgypenguins', '3682', '0x7ea57883d95d470967808adc230194a78780bdfd', '0xbffd9a362f1e6dbf478641e2d9ec1c43aad64ab4', 1628404351, 0.5, 'ETH', '0x26e4ba646db33188de9dd9721279b3e049ebf994551fec0da0f9398d4d9d254b')\n",
      "2021-08-08 06:32:31\n",
      "('pudgypenguins', '3680', '0x95ec92ca95bc6b8950be47082ad0ce8c9cfe463e', '0x75edd1f34e70d8b0dabe092af4991459f5d1ba99', 1628205555, 0.18000000000000002, 'ETH', '0x41fdc84dee1cb5fb3d85c62b22bc68b6cf64882e4877ea209aca1037fbb6c4ca')\n",
      "2021-08-05 23:19:15\n",
      "('pudgypenguins', '6127', '0x0f7bb7279ca6cd6cd05812f8410e082fca7d2801', '0x92c87b67a9893b6596c5948b55521ac5bb6b5f7c', 1628142254, 0.059000000000000004, 'ETH', '0x3c57e415c2609449e23e3d300fa75e3c34b748727659a5f14f881b3cb050845b')\n",
      "2021-08-05 05:44:14\n",
      "('pudgypenguins', '4063', '0x4ed3f1cad6b5f943bd2b292965d47a4155997331', '0xa0e1a25976be2b9ea5ec305dc332325311b0124c', 1627597446, 0.05, 'ETH', '0xabfb434f4257c9f95570621794419a56e8abb40dc4a5a099c6d63cd2daa2e468')\n",
      "2021-07-29 22:24:06\n",
      "('pudgypenguins', '7934', '0x1eb7b04236b95943dcddfd2e96dbb1ba3b37f44c', '0x5ab2d1f5069dd2f9aeec3b0a8e923b1cdbe7fc44', 1626986867, 0.0475, 'ETH', '0x7ed47fed9c20319da00cca472621530ce4b7dd2112392554956f1c97151bcf00')\n",
      "2021-07-22 20:47:47\n"
     ]
    },
    {
     "data": {
      "text/plain": [
       "[]"
      ]
     },
     "execution_count": 7,
     "metadata": {},
     "output_type": "execute_result"
    }
   ],
   "source": [
    "opse.pull_sales_data(collection_slug='pudgypenguins',saved=True)"
   ]
  },
  {
   "cell_type": "code",
   "execution_count": null,
   "id": "0beba532-b91f-4c21-9d95-5c38b9b0d90c",
   "metadata": {},
   "outputs": [
    {
     "name": "stdout",
     "output_type": "stream",
     "text": [
      "Missed bond-bears\n",
      "Missed cryptocubes\n",
      "Missed cryptokhat\n",
      "Missed dendro-by-vebjorn-isaksen\n",
      "Missed gazers-by-matt-kane\n",
      "Missed hamburgnights\n",
      "Missed heart-craft-by-snowfro-jordan-lyall\n",
      "Missed kartparty-ykz-1\n",
      "Missed qql-mint-pass\n",
      "Missed rainbow-world-2\n",
      "Missed rhythm-and-the-machine-by-lars-wander\n",
      "Missed servantsofthemuse\n",
      "Missed the-second-aspect-of-the-nine\n",
      "Missed trump-digital-trading-cards\n",
      "Missed vera-molnar-themes-and-variations\n",
      "Missed water-mililys\n",
      "Missed y00ts\n",
      "Missed yayo-nft\n",
      "Missed youtherealmvp\n"
     ]
    },
    {
     "name": "stderr",
     "output_type": "stream",
     "text": [
      " 79%|███████████████████████████████████▎         | 8607/10958 [1:13:18<19:01,  2.06it/s]"
     ]
    }
   ],
   "source": [
    "contracts = []\n",
    "for slug in slugs:\n",
    "    try:\n",
    "        contracts.append((slug,slug_to_contract[slug]))\n",
    "    except:\n",
    "        print(f'Missed {slug}')\n",
    "slug_to_owners = alc.contracts_to_owners(contracts,token_ids=True)"
   ]
  },
  {
   "cell_type": "code",
   "execution_count": 50,
   "id": "2cd6a03f-7a62-42c3-ab1b-dff1a4c61a33",
   "metadata": {},
   "outputs": [],
   "source": [
    "# df = cfu.get_overlaps('boredapeyachtclub',pw_dists)\n",
    "count_df = cfu.count_overlaps_new('cool-cats-nft',pw_dists)"
   ]
  },
  {
   "cell_type": "code",
   "execution_count": 51,
   "id": "3ee1f281-9582-484e-8c8e-5d34521cc16c",
   "metadata": {},
   "outputs": [
    {
     "name": "stdout",
     "output_type": "stream",
     "text": [
      "10976\n",
      "(1, 0, 'zombiecat')\n"
     ]
    },
    {
     "data": {
      "image/png": "[encoded data removed]",
      "text/plain": [
       "<Figure size 640x480 with 1 Axes>"
      ]
     },
     "metadata": {},
     "output_type": "display_data"
    },
    {
     "name": "stdout",
     "output_type": "stream",
     "text": [
      "count    640053.000000\n",
      "mean       4977.105943\n",
      "std        3204.682526\n",
      "min           2.000000\n",
      "0.1%          6.000000\n",
      "0.2%         10.000000\n",
      "1%           42.000000\n",
      "10%         524.000000\n",
      "25%        2173.000000\n",
      "50%        4817.000000\n",
      "75%        7708.000000\n",
      "max       10976.000000\n",
      "dtype: float64\n"
     ]
    }
   ],
   "source": [
    "count_df\n",
    "column_order = ['sorted_order', 'row_count', 'slug']\n",
    "new_df = count_df[column_order]\n",
    "list_of_tuples = [tuple(row) for row in new_df.itertuples(index=False)]\n",
    "cfu.make_overlap_cdf(slug,overlaps=list_of_tuples,der_list = None,xlim=100,ylim=0.01)"
   ]
  },
  {
   "cell_type": "code",
   "execution_count": 85,
   "id": "d5a4db26-1f31-4efb-90ff-57c90c9fb213",
   "metadata": {},
   "outputs": [
    {
     "name": "stdout",
     "output_type": "stream",
     "text": [
      "9933\n",
      "(1, 1263, 'bitcoin-miladys')\n"
     ]
    },
    {
     "data": {
      "image/png": "[encoded data removed]",
      "text/plain": [
       "<Figure size 640x480 with 1 Axes>"
      ]
     },
     "metadata": {},
     "output_type": "display_data"
    },
    {
     "name": "stdout",
     "output_type": "stream",
     "text": [
      "count    279058.000000\n",
      "mean       4250.249618\n",
      "std        3371.135433\n",
      "min           2.000000\n",
      "0.1%          3.000000\n",
      "0.2%          3.000000\n",
      "1%            5.000000\n",
      "10%          45.000000\n",
      "25%        1012.250000\n",
      "50%        4059.000000\n",
      "75%        7017.000000\n",
      "max       10976.000000\n",
      "dtype: float64\n"
     ]
    }
   ],
   "source": [
    "cfu.compute_overlap_cdf('milady',der_list = ['bitcoin-miladys'],xlim=200,ylim=0.02)"
   ]
  },
  {
   "cell_type": "code",
   "execution_count": 71,
   "id": "f5d14994-3fa8-46db-9ff1-da914c5aa1c1",
   "metadata": {},
   "outputs": [
    {
     "name": "stdout",
     "output_type": "stream",
     "text": [
      "0x5af0d9827e0c53e4799bb226655a1de152a425a5 10\n"
     ]
    },
    {
     "data": {
      "text/plain": [
       "[('milady',\n",
       "  '10',\n",
       "  '0x0000000000000000000000000000000000000000',\n",
       "  '0x5e30c99a4c6219a6ad97a6f0ff0214e72fa80c90',\n",
       "  1629865469,\n",
       "  None,\n",
       "  None,\n",
       "  '0xd6ef7244a00f38fe1665721dc4095834e94d8f514c5b6a2db3a385a092921824')]"
      ]
     },
     "execution_count": 71,
     "metadata": {},
     "output_type": "execute_result"
    }
   ],
   "source": [
    "cfu.find_ownership_date('','milady',10)"
   ]
  },
  {
   "cell_type": "code",
   "execution_count": 100,
   "id": "a0f03e4d-fe64-404e-85f7-5e4c4af6bec5",
   "metadata": {},
   "outputs": [],
   "source": [
    "drop_dead = cfu.get_overlaps('milady').query(\"address!='0x000000000000000000000000000000000000dEaD' and sorted_order<100\")\n",
    "peeps_to_check = drop_dead[['slug', 'address']].drop_duplicates()\n",
    "peeps_to_check\n",
    "og_wallets = drop_dead[['address']].drop_duplicates()['address'].to_list()"
   ]
  },
  {
   "cell_type": "code",
   "execution_count": 94,
   "id": "bbe51c2c-c11e-4902-9bce-cf176b1c3c7f",
   "metadata": {},
   "outputs": [
    {
     "name": "stderr",
     "output_type": "stream",
     "text": [
      "100%|████████████████████████████████████████████████████| 20/20 [00:07<00:00,  2.55it/s]\n"
     ]
    },
    {
     "data": {
      "text/plain": [
       "1685685983"
      ]
     },
     "execution_count": 94,
     "metadata": {},
     "output_type": "execute_result"
    }
   ],
   "source": [
    "cfu.find_earliest_ownership_date('0x8C75D3585a21c21Bb62cC255836d6531BD948f1a','kizunagenesis')"
   ]
  },
  {
   "cell_type": "code",
   "execution_count": 3,
   "id": "12a6b8a1-899a-423e-b89d-bfd100f8ceae",
   "metadata": {},
   "outputs": [
    {
     "data": {
      "text/plain": [
       "['wonderpals',\n",
       " 'hashmasks',\n",
       " 'supducks',\n",
       " 'moonbirds-oddities',\n",
       " 'the-crypto-chicks',\n",
       " 'renga',\n",
       " 'valhalla',\n",
       " 'degods',\n",
       " 'kanpai-pandas',\n",
       " 'deadfellaz',\n",
       " 'lilpudgys',\n",
       " '3landers',\n",
       " 'sneaky-vampire-syndicate',\n",
       " 'coolmans-universe',\n",
       " 'parallelalpha',\n",
       " 'kiwami-genesis',\n",
       " 'killergf',\n",
       " 'mutant-ape-yacht-club',\n",
       " 'cryptodickbutts-s3',\n",
       " 'superrare',\n",
       " 'tubby-cats',\n",
       " 'forgottenruneswizardscult',\n",
       " 'livesofasuna',\n",
       " 'remilio-babies',\n",
       " 'chimpersnft',\n",
       " 'kprverse',\n",
       " 'bears-deluxe',\n",
       " 'artgobblers',\n",
       " 'guttercatgang',\n",
       " 'rare-apepes',\n",
       " 'pxnghostdivision',\n",
       " 'degentoonz-collection',\n",
       " 'metahero-generative',\n",
       " 'genuine-undead',\n",
       " 'clonex',\n",
       " 'curiocardswrapper',\n",
       " 'phantabear',\n",
       " 'thepotatoz',\n",
       " 'veefriends-series-2',\n",
       " 'muribyfabrik',\n",
       " 'veefriends',\n",
       " 'theshiboshis',\n",
       " 'quirkiesoriginals']"
      ]
     },
     "execution_count": 3,
     "metadata": {},
     "output_type": "execute_result"
    }
   ],
   "source": [
    "command = \"select distinct slug from objective_cf_num where num>=5\"\n",
    "rows = psql.execute_commands([command])\n",
    "slugs = [row[0] for row in rows]\n",
    "command = \"select distinct slug from ownership_dates\"\n",
    "rows = psql.execute_commands([command])\n",
    "done_slugs = [row[0] for row in rows]\n",
    "slugs_left = [x for x in slugs if x not in done_slugs]\n",
    "slugs_left\n"
   ]
  },
  {
   "cell_type": "code",
   "execution_count": null,
   "id": "71915323-d467-44d6-9afe-f498f873f5ba",
   "metadata": {},
   "outputs": [
    {
     "name": "stdout",
     "output_type": "stream",
     "text": [
      "wonderpals\n"
     ]
    },
    {
     "name": "stderr",
     "output_type": "stream",
     "text": [
      " 51%|█████████████████████▊                     | 264/519 [04:22<13:42,  3.23s/it]"
     ]
    },
    {
     "name": "stdout",
     "output_type": "stream",
     "text": [
      "error\n",
      "<Response [429]>\n"
     ]
    },
    {
     "name": "stderr",
     "output_type": "stream",
     "text": [
      " 56%|████████████████████████▏                  | 292/519 [04:57<03:46,  1.00it/s]"
     ]
    },
    {
     "name": "stdout",
     "output_type": "stream",
     "text": [
      "error\n",
      "<Response [429]>\n"
     ]
    },
    {
     "name": "stderr",
     "output_type": "stream",
     "text": [
      " 61%|██████████████████████████                 | 314/519 [05:22<07:04,  2.07s/it]"
     ]
    },
    {
     "name": "stdout",
     "output_type": "stream",
     "text": [
      "error\n",
      "<Response [429]>\n"
     ]
    },
    {
     "name": "stderr",
     "output_type": "stream",
     "text": [
      " 65%|███████████████████████████▉               | 337/519 [06:01<03:01,  1.00it/s]"
     ]
    },
    {
     "name": "stdout",
     "output_type": "stream",
     "text": [
      "error\n",
      "<Response [429]>\n"
     ]
    },
    {
     "name": "stderr",
     "output_type": "stream",
     "text": [
      " 70%|██████████████████████████████▏            | 364/519 [06:23<01:35,  1.63it/s]"
     ]
    },
    {
     "name": "stdout",
     "output_type": "stream",
     "text": [
      "error\n",
      "<Response [429]>\n"
     ]
    },
    {
     "name": "stderr",
     "output_type": "stream",
     "text": [
      " 74%|███████████████████████████████▋           | 383/519 [06:46<03:44,  1.65s/it]"
     ]
    },
    {
     "name": "stdout",
     "output_type": "stream",
     "text": [
      "error\n",
      "<Response [429]>\n"
     ]
    },
    {
     "name": "stderr",
     "output_type": "stream",
     "text": [
      " 77%|█████████████████████████████████          | 399/519 [07:05<00:53,  2.26it/s]"
     ]
    },
    {
     "name": "stdout",
     "output_type": "stream",
     "text": [
      "error\n",
      "<Response [429]>\n"
     ]
    },
    {
     "name": "stderr",
     "output_type": "stream",
     "text": [
      " 86%|█████████████████████████████████████      | 447/519 [07:45<00:32,  2.19it/s]"
     ]
    },
    {
     "name": "stdout",
     "output_type": "stream",
     "text": [
      "error\n",
      "<Response [429]>\n"
     ]
    },
    {
     "name": "stderr",
     "output_type": "stream",
     "text": [
      " 90%|██████████████████████████████████████▊    | 469/519 [08:03<00:25,  1.95it/s]"
     ]
    },
    {
     "name": "stdout",
     "output_type": "stream",
     "text": [
      "error\n",
      "<Response [429]>\n"
     ]
    },
    {
     "name": "stderr",
     "output_type": "stream",
     "text": [
      "100%|███████████████████████████████████████████| 519/519 [08:47<00:00,  1.02s/it]\n",
      "11it [00:12,  1.47s/it]"
     ]
    },
    {
     "name": "stdout",
     "output_type": "stream",
     "text": [
      "error\n",
      "<Response [429]>\n"
     ]
    },
    {
     "name": "stderr",
     "output_type": "stream",
     "text": [
      "29it [00:37,  1.21s/it]"
     ]
    },
    {
     "name": "stdout",
     "output_type": "stream",
     "text": [
      "error\n",
      "<Response [429]>\n"
     ]
    },
    {
     "name": "stderr",
     "output_type": "stream",
     "text": [
      "53it [01:09,  1.48it/s]"
     ]
    },
    {
     "name": "stdout",
     "output_type": "stream",
     "text": [
      "error\n",
      "<Response [429]>\n"
     ]
    },
    {
     "name": "stderr",
     "output_type": "stream",
     "text": [
      "75it [01:31,  1.19it/s]"
     ]
    },
    {
     "name": "stdout",
     "output_type": "stream",
     "text": [
      "error\n",
      "<Response [429]>\n"
     ]
    },
    {
     "name": "stderr",
     "output_type": "stream",
     "text": [
      "96it [01:57,  1.15s/it]"
     ]
    },
    {
     "name": "stdout",
     "output_type": "stream",
     "text": [
      "error\n",
      "<Response [429]>\n"
     ]
    },
    {
     "name": "stderr",
     "output_type": "stream",
     "text": [
      "111it [02:18,  1.58it/s]"
     ]
    },
    {
     "name": "stdout",
     "output_type": "stream",
     "text": [
      "error\n",
      "<Response [429]>\n"
     ]
    },
    {
     "name": "stderr",
     "output_type": "stream",
     "text": [
      "127it [02:41,  1.10it/s]"
     ]
    },
    {
     "name": "stdout",
     "output_type": "stream",
     "text": [
      "error\n",
      "<Response [429]>\n"
     ]
    },
    {
     "name": "stderr",
     "output_type": "stream",
     "text": [
      "153it [03:08,  1.04s/it]"
     ]
    },
    {
     "name": "stdout",
     "output_type": "stream",
     "text": [
      "error\n",
      "<Response [429]>\n"
     ]
    },
    {
     "name": "stderr",
     "output_type": "stream",
     "text": [
      "398it [09:12, 31.28s/it]"
     ]
    },
    {
     "name": "stdout",
     "output_type": "stream",
     "text": [
      "error\n",
      "<Response [524]>\n"
     ]
    },
    {
     "name": "stderr",
     "output_type": "stream",
     "text": [
      "549it [11:58,  1.02it/s]"
     ]
    },
    {
     "name": "stdout",
     "output_type": "stream",
     "text": [
      "error\n",
      "<Response [429]>\n",
      "error\n",
      "<Response [429]>\n"
     ]
    },
    {
     "name": "stderr",
     "output_type": "stream",
     "text": [
      "555it [12:24,  1.76s/it]"
     ]
    },
    {
     "name": "stdout",
     "output_type": "stream",
     "text": [
      "error\n",
      "<Response [429]>\n",
      "error\n",
      "<Response [429]>\n"
     ]
    },
    {
     "name": "stderr",
     "output_type": "stream",
     "text": [
      "556it [12:53,  9.83s/it]"
     ]
    },
    {
     "name": "stdout",
     "output_type": "stream",
     "text": [
      "error\n",
      "<Response [429]>\n"
     ]
    },
    {
     "name": "stderr",
     "output_type": "stream",
     "text": [
      "566it [13:10,  1.24s/it]"
     ]
    },
    {
     "name": "stdout",
     "output_type": "stream",
     "text": [
      "error\n",
      "<Response [429]>\n"
     ]
    },
    {
     "name": "stderr",
     "output_type": "stream",
     "text": [
      "572it [13:36,  2.30s/it]"
     ]
    },
    {
     "name": "stdout",
     "output_type": "stream",
     "text": [
      "error\n",
      "<Response [429]>\n"
     ]
    },
    {
     "name": "stderr",
     "output_type": "stream",
     "text": [
      "577it [13:48,  1.44s/it]\n"
     ]
    },
    {
     "name": "stdout",
     "output_type": "stream",
     "text": [
      "hashmasks\n"
     ]
    },
    {
     "name": "stderr",
     "output_type": "stream",
     "text": [
      " 10%|████▍                                       | 42/415 [00:38<03:53,  1.59it/s]"
     ]
    },
    {
     "name": "stdout",
     "output_type": "stream",
     "text": [
      "error\n",
      "<Response [429]>\n"
     ]
    },
    {
     "name": "stderr",
     "output_type": "stream",
     "text": [
      " 13%|█████▋                                      | 54/415 [00:59<09:38,  1.60s/it]"
     ]
    },
    {
     "name": "stdout",
     "output_type": "stream",
     "text": [
      "error\n",
      "<Response [429]>\n"
     ]
    },
    {
     "name": "stderr",
     "output_type": "stream",
     "text": [
      " 19%|████████▍                                   | 79/415 [01:31<08:13,  1.47s/it]"
     ]
    },
    {
     "name": "stdout",
     "output_type": "stream",
     "text": [
      "error\n",
      "<Response [429]>\n"
     ]
    },
    {
     "name": "stderr",
     "output_type": "stream",
     "text": [
      " 26%|██████████▉                                | 106/415 [02:01<03:36,  1.43it/s]"
     ]
    },
    {
     "name": "stdout",
     "output_type": "stream",
     "text": [
      "error\n",
      "<Response [429]>\n"
     ]
    },
    {
     "name": "stderr",
     "output_type": "stream",
     "text": [
      " 29%|████████████▌                              | 121/415 [02:33<11:49,  2.41s/it]"
     ]
    },
    {
     "name": "stdout",
     "output_type": "stream",
     "text": [
      "error\n",
      "<Response [400]>\n"
     ]
    },
    {
     "name": "stderr",
     "output_type": "stream",
     "text": [
      " 30%|████████████▋                              | 123/415 [02:34<07:32,  1.55s/it]"
     ]
    },
    {
     "name": "stdout",
     "output_type": "stream",
     "text": [
      "error\n",
      "<Response [429]>\n"
     ]
    },
    {
     "name": "stderr",
     "output_type": "stream",
     "text": [
      " 34%|██████████████▌                            | 141/415 [03:06<07:52,  1.73s/it]"
     ]
    },
    {
     "name": "stdout",
     "output_type": "stream",
     "text": [
      "error\n",
      "<Response [429]>\n"
     ]
    },
    {
     "name": "stderr",
     "output_type": "stream",
     "text": [
      " 37%|████████████████                           | 155/415 [03:45<09:50,  2.27s/it]"
     ]
    },
    {
     "name": "stdout",
     "output_type": "stream",
     "text": [
      "error\n",
      "<Response [429]>\n"
     ]
    },
    {
     "name": "stderr",
     "output_type": "stream",
     "text": [
      " 40%|█████████████████▍                         | 168/415 [04:03<03:22,  1.22it/s]"
     ]
    },
    {
     "name": "stdout",
     "output_type": "stream",
     "text": [
      "error\n",
      "<Response [400]>\n"
     ]
    },
    {
     "name": "stderr",
     "output_type": "stream",
     "text": [
      " 42%|██████████████████▏                        | 175/415 [04:16<04:38,  1.16s/it]"
     ]
    },
    {
     "name": "stdout",
     "output_type": "stream",
     "text": [
      "error\n",
      "<Response [429]>\n"
     ]
    },
    {
     "name": "stderr",
     "output_type": "stream",
     "text": [
      " 47%|████████████████████                       | 194/415 [04:57<03:58,  1.08s/it]"
     ]
    },
    {
     "name": "stdout",
     "output_type": "stream",
     "text": [
      "error\n",
      "<Response [429]>\n"
     ]
    },
    {
     "name": "stderr",
     "output_type": "stream",
     "text": [
      " 47%|████████████████████▎                      | 196/415 [05:04<07:14,  1.99s/it]"
     ]
    },
    {
     "name": "stdout",
     "output_type": "stream",
     "text": [
      "error\n",
      "<Response [429]>\n"
     ]
    },
    {
     "name": "stderr",
     "output_type": "stream",
     "text": [
      " 49%|█████████████████████                      | 203/415 [06:10<13:24,  3.80s/it]"
     ]
    },
    {
     "name": "stdout",
     "output_type": "stream",
     "text": [
      "error\n",
      "<Response [429]>\n"
     ]
    },
    {
     "name": "stderr",
     "output_type": "stream",
     "text": [
      " 51%|█████████████████████▊                     | 210/415 [06:19<03:01,  1.13it/s]"
     ]
    },
    {
     "name": "stdout",
     "output_type": "stream",
     "text": [
      "error\n",
      "<Response [524]>\n"
     ]
    },
    {
     "name": "stderr",
     "output_type": "stream",
     "text": [
      " 67%|████████████████████████████▌              | 276/415 [09:33<02:46,  1.20s/it]"
     ]
    },
    {
     "name": "stdout",
     "output_type": "stream",
     "text": [
      "error\n",
      "<Response [400]>\n",
      "error\n",
      "<Response [400]>\n"
     ]
    },
    {
     "name": "stderr",
     "output_type": "stream",
     "text": [
      " 80%|██████████████████████████████████▌        | 334/415 [11:37<01:38,  1.21s/it]"
     ]
    },
    {
     "name": "stdout",
     "output_type": "stream",
     "text": [
      "error\n",
      "<Response [400]>\n"
     ]
    },
    {
     "name": "stderr",
     "output_type": "stream",
     "text": [
      " 89%|██████████████████████████████████████▏    | 368/415 [12:20<01:38,  2.10s/it]"
     ]
    },
    {
     "name": "stdout",
     "output_type": "stream",
     "text": [
      "error\n",
      "<Response [400]>\n"
     ]
    },
    {
     "name": "stderr",
     "output_type": "stream",
     "text": [
      " 96%|█████████████████████████████████████████▎ | 399/415 [13:08<00:13,  1.19it/s]"
     ]
    },
    {
     "name": "stdout",
     "output_type": "stream",
     "text": [
      "error\n",
      "<Response [429]>\n"
     ]
    },
    {
     "name": "stderr",
     "output_type": "stream",
     "text": [
      "100%|███████████████████████████████████████████| 415/415 [13:33<00:00,  1.96s/it]\n",
      "6it [00:08,  1.27s/it]"
     ]
    },
    {
     "name": "stdout",
     "output_type": "stream",
     "text": [
      "error\n",
      "<Response [429]>\n"
     ]
    },
    {
     "name": "stderr",
     "output_type": "stream",
     "text": [
      "12it [02:00, 31.77s/it]"
     ]
    },
    {
     "name": "stdout",
     "output_type": "stream",
     "text": [
      "error\n",
      "<Response [524]>\n"
     ]
    },
    {
     "name": "stderr",
     "output_type": "stream",
     "text": [
      "90it [04:04,  2.95s/it]"
     ]
    },
    {
     "name": "stdout",
     "output_type": "stream",
     "text": [
      "error\n",
      "<Response [429]>\n"
     ]
    },
    {
     "name": "stderr",
     "output_type": "stream",
     "text": [
      "92it [04:14,  4.06s/it]"
     ]
    },
    {
     "name": "stdout",
     "output_type": "stream",
     "text": [
      "error\n",
      "<Response [429]>\n"
     ]
    },
    {
     "name": "stderr",
     "output_type": "stream",
     "text": [
      "100it [04:30,  1.27s/it]"
     ]
    },
    {
     "name": "stdout",
     "output_type": "stream",
     "text": [
      "error\n",
      "<Response [429]>\n"
     ]
    },
    {
     "name": "stderr",
     "output_type": "stream",
     "text": [
      "102it [04:36,  1.94s/it]"
     ]
    },
    {
     "name": "stdout",
     "output_type": "stream",
     "text": [
      "error\n",
      "<Response [429]>\n"
     ]
    },
    {
     "name": "stderr",
     "output_type": "stream",
     "text": [
      "113it [04:59,  1.65it/s]"
     ]
    },
    {
     "name": "stdout",
     "output_type": "stream",
     "text": [
      "error\n",
      "<Response [429]>\n"
     ]
    },
    {
     "name": "stderr",
     "output_type": "stream",
     "text": [
      "195it [06:52,  1.71it/s]"
     ]
    },
    {
     "name": "stdout",
     "output_type": "stream",
     "text": [
      "error\n",
      "<Response [429]>\n"
     ]
    },
    {
     "name": "stderr",
     "output_type": "stream",
     "text": [
      "203it [07:06,  1.17it/s]"
     ]
    },
    {
     "name": "stdout",
     "output_type": "stream",
     "text": [
      "error\n",
      "<Response [429]>\n"
     ]
    },
    {
     "name": "stderr",
     "output_type": "stream",
     "text": [
      "211it [07:18,  1.42it/s]"
     ]
    },
    {
     "name": "stdout",
     "output_type": "stream",
     "text": [
      "error\n",
      "<Response [429]>\n",
      "error\n",
      "<Response [429]>\n"
     ]
    },
    {
     "name": "stderr",
     "output_type": "stream",
     "text": [
      "213it [07:46,  6.44s/it]"
     ]
    },
    {
     "name": "stdout",
     "output_type": "stream",
     "text": [
      "error\n",
      "<Response [429]>\n"
     ]
    },
    {
     "name": "stderr",
     "output_type": "stream",
     "text": [
      "227it [08:05,  2.15it/s]"
     ]
    },
    {
     "name": "stdout",
     "output_type": "stream",
     "text": [
      "error\n",
      "<Response [429]>\n"
     ]
    },
    {
     "name": "stderr",
     "output_type": "stream",
     "text": [
      "247it [08:20,  2.13it/s]"
     ]
    },
    {
     "name": "stdout",
     "output_type": "stream",
     "text": [
      "error\n",
      "<Response [429]>\n"
     ]
    },
    {
     "name": "stderr",
     "output_type": "stream",
     "text": [
      "260it [08:35,  1.84it/s]"
     ]
    },
    {
     "name": "stdout",
     "output_type": "stream",
     "text": [
      "error\n",
      "<Response [429]>\n"
     ]
    },
    {
     "name": "stderr",
     "output_type": "stream",
     "text": [
      "280it [08:50,  1.79it/s]"
     ]
    },
    {
     "name": "stdout",
     "output_type": "stream",
     "text": [
      "error\n",
      "<Response [429]>\n"
     ]
    },
    {
     "name": "stderr",
     "output_type": "stream",
     "text": [
      "289it [09:02,  1.21it/s]"
     ]
    },
    {
     "name": "stdout",
     "output_type": "stream",
     "text": [
      "error\n",
      "<Response [429]>\n"
     ]
    },
    {
     "name": "stderr",
     "output_type": "stream",
     "text": [
      "305it [09:20,  2.71it/s]"
     ]
    },
    {
     "name": "stdout",
     "output_type": "stream",
     "text": [
      "error\n",
      "<Response [429]>\n"
     ]
    },
    {
     "name": "stderr",
     "output_type": "stream",
     "text": [
      "317it [09:33,  1.60it/s]"
     ]
    },
    {
     "name": "stdout",
     "output_type": "stream",
     "text": [
      "error\n",
      "<Response [429]>\n"
     ]
    },
    {
     "name": "stderr",
     "output_type": "stream",
     "text": [
      "324it [09:49,  1.02it/s]"
     ]
    },
    {
     "name": "stdout",
     "output_type": "stream",
     "text": [
      "error\n",
      "<Response [429]>\n"
     ]
    },
    {
     "name": "stderr",
     "output_type": "stream",
     "text": [
      "330it [09:58,  1.20it/s]"
     ]
    },
    {
     "name": "stdout",
     "output_type": "stream",
     "text": [
      "error\n",
      "<Response [429]>\n"
     ]
    },
    {
     "name": "stderr",
     "output_type": "stream",
     "text": [
      "336it [10:16,  1.45s/it]"
     ]
    },
    {
     "name": "stdout",
     "output_type": "stream",
     "text": [
      "error\n",
      "<Response [429]>\n"
     ]
    },
    {
     "name": "stderr",
     "output_type": "stream",
     "text": [
      "349it [10:31,  1.16it/s]"
     ]
    },
    {
     "name": "stdout",
     "output_type": "stream",
     "text": [
      "error\n",
      "<Response [429]>\n"
     ]
    },
    {
     "name": "stderr",
     "output_type": "stream",
     "text": [
      "354it [10:43,  1.15s/it]"
     ]
    },
    {
     "name": "stdout",
     "output_type": "stream",
     "text": [
      "error\n",
      "<Response [429]>\n"
     ]
    },
    {
     "name": "stderr",
     "output_type": "stream",
     "text": [
      "364it [10:59,  1.66it/s]"
     ]
    },
    {
     "name": "stdout",
     "output_type": "stream",
     "text": [
      "error\n",
      "<Response [429]>\n"
     ]
    },
    {
     "name": "stderr",
     "output_type": "stream",
     "text": [
      "386it [11:14,  2.07it/s]"
     ]
    },
    {
     "name": "stdout",
     "output_type": "stream",
     "text": [
      "error\n",
      "<Response [429]>\n"
     ]
    },
    {
     "name": "stderr",
     "output_type": "stream",
     "text": [
      "391it [11:28,  2.82s/it]"
     ]
    },
    {
     "name": "stdout",
     "output_type": "stream",
     "text": [
      "error\n",
      "<Response [429]>\n"
     ]
    },
    {
     "name": "stderr",
     "output_type": "stream",
     "text": [
      "408it [11:43,  2.10it/s]"
     ]
    },
    {
     "name": "stdout",
     "output_type": "stream",
     "text": [
      "error\n",
      "<Response [429]>\n"
     ]
    },
    {
     "name": "stderr",
     "output_type": "stream",
     "text": [
      "420it [11:57,  1.14it/s]"
     ]
    },
    {
     "name": "stdout",
     "output_type": "stream",
     "text": [
      "error\n",
      "<Response [429]>\n"
     ]
    },
    {
     "name": "stderr",
     "output_type": "stream",
     "text": [
      "429it [12:12,  1.43s/it]"
     ]
    },
    {
     "name": "stdout",
     "output_type": "stream",
     "text": [
      "error\n",
      "<Response [429]>\n"
     ]
    },
    {
     "name": "stderr",
     "output_type": "stream",
     "text": [
      "442it [12:25,  1.69s/it]\n"
     ]
    },
    {
     "name": "stdout",
     "output_type": "stream",
     "text": [
      "supducks\n"
     ]
    },
    {
     "name": "stderr",
     "output_type": "stream",
     "text": [
      " 98%|███████████████████████████████████████████▉ | 83/85 [01:20<00:02,  1.16s/it]"
     ]
    },
    {
     "name": "stdout",
     "output_type": "stream",
     "text": [
      "error\n",
      "<Response [429]>\n"
     ]
    },
    {
     "name": "stderr",
     "output_type": "stream",
     "text": [
      "100%|█████████████████████████████████████████████| 85/85 [01:35<00:00,  1.13s/it]\n",
      "1it [00:03,  3.14s/it]"
     ]
    },
    {
     "name": "stdout",
     "output_type": "stream",
     "text": [
      "error\n",
      "<Response [429]>\n"
     ]
    },
    {
     "name": "stderr",
     "output_type": "stream",
     "text": [
      "8it [00:22,  1.65s/it]"
     ]
    },
    {
     "name": "stdout",
     "output_type": "stream",
     "text": [
      "error\n",
      "<Response [429]>\n"
     ]
    },
    {
     "name": "stderr",
     "output_type": "stream",
     "text": [
      "17it [00:43,  2.00s/it]"
     ]
    },
    {
     "name": "stdout",
     "output_type": "stream",
     "text": [
      "error\n",
      "<Response [429]>\n"
     ]
    },
    {
     "name": "stderr",
     "output_type": "stream",
     "text": [
      "26it [01:03,  1.40s/it]"
     ]
    },
    {
     "name": "stdout",
     "output_type": "stream",
     "text": [
      "error\n",
      "<Response [429]>\n"
     ]
    },
    {
     "name": "stderr",
     "output_type": "stream",
     "text": [
      "43it [01:27,  1.44it/s]"
     ]
    },
    {
     "name": "stdout",
     "output_type": "stream",
     "text": [
      "error\n",
      "<Response [429]>\n"
     ]
    },
    {
     "name": "stderr",
     "output_type": "stream",
     "text": [
      "69it [01:59,  1.48it/s]"
     ]
    },
    {
     "name": "stdout",
     "output_type": "stream",
     "text": [
      "error\n",
      "<Response [429]>\n"
     ]
    },
    {
     "name": "stderr",
     "output_type": "stream",
     "text": [
      "87it [02:41,  1.85s/it]\n"
     ]
    },
    {
     "name": "stdout",
     "output_type": "stream",
     "text": [
      "moonbirds-oddities\n"
     ]
    },
    {
     "name": "stderr",
     "output_type": "stream",
     "text": [
      " 16%|███████▏                                    | 45/276 [00:36<02:44,  1.40it/s]"
     ]
    },
    {
     "name": "stdout",
     "output_type": "stream",
     "text": [
      "error\n",
      "<Response [429]>\n"
     ]
    },
    {
     "name": "stderr",
     "output_type": "stream",
     "text": [
      " 25%|██████████▊                                 | 68/276 [00:57<02:11,  1.59it/s]"
     ]
    },
    {
     "name": "stdout",
     "output_type": "stream",
     "text": [
      "error\n",
      "<Response [429]>\n"
     ]
    },
    {
     "name": "stderr",
     "output_type": "stream",
     "text": [
      " 32%|█████████████▊                              | 87/276 [01:17<02:44,  1.15it/s]"
     ]
    },
    {
     "name": "stdout",
     "output_type": "stream",
     "text": [
      "error\n",
      "<Response [429]>\n"
     ]
    },
    {
     "name": "stderr",
     "output_type": "stream",
     "text": [
      " 42%|██████████████████                         | 116/276 [01:40<01:35,  1.68it/s]"
     ]
    },
    {
     "name": "stdout",
     "output_type": "stream",
     "text": [
      "error\n",
      "<Response [429]>\n"
     ]
    },
    {
     "name": "stderr",
     "output_type": "stream",
     "text": [
      " 50%|█████████████████████▎                     | 137/276 [02:00<01:20,  1.73it/s]"
     ]
    },
    {
     "name": "stdout",
     "output_type": "stream",
     "text": [
      "error\n",
      "<Response [429]>\n"
     ]
    },
    {
     "name": "stderr",
     "output_type": "stream",
     "text": [
      " 71%|██████████████████████████████▍            | 195/276 [02:44<00:41,  1.93it/s]"
     ]
    },
    {
     "name": "stdout",
     "output_type": "stream",
     "text": [
      "error\n",
      "<Response [429]>\n"
     ]
    },
    {
     "name": "stderr",
     "output_type": "stream",
     "text": [
      " 84%|███████████████████████████████████▉       | 231/276 [03:18<00:58,  1.29s/it]"
     ]
    },
    {
     "name": "stdout",
     "output_type": "stream",
     "text": [
      "error\n",
      "<Response [429]>\n"
     ]
    },
    {
     "name": "stderr",
     "output_type": "stream",
     "text": [
      "100%|███████████████████████████████████████████| 276/276 [04:36<00:00,  1.00s/it]\n",
      "3it [00:09,  3.53s/it]"
     ]
    },
    {
     "name": "stdout",
     "output_type": "stream",
     "text": [
      "error\n",
      "<Response [429]>\n"
     ]
    },
    {
     "name": "stderr",
     "output_type": "stream",
     "text": [
      "10it [00:23,  1.93s/it]"
     ]
    },
    {
     "name": "stdout",
     "output_type": "stream",
     "text": [
      "error\n",
      "<Response [429]>\n"
     ]
    },
    {
     "name": "stderr",
     "output_type": "stream",
     "text": [
      "46it [01:26,  2.34it/s]"
     ]
    },
    {
     "name": "stdout",
     "output_type": "stream",
     "text": [
      "error\n",
      "<Response [429]>\n"
     ]
    },
    {
     "name": "stderr",
     "output_type": "stream",
     "text": [
      "78it [01:58,  4.26s/it]"
     ]
    },
    {
     "name": "stdout",
     "output_type": "stream",
     "text": [
      "error\n",
      "<Response [429]>\n"
     ]
    },
    {
     "name": "stderr",
     "output_type": "stream",
     "text": [
      "120it [02:30,  2.60it/s]"
     ]
    },
    {
     "name": "stdout",
     "output_type": "stream",
     "text": [
      "error\n",
      "<Response [429]>\n"
     ]
    },
    {
     "name": "stderr",
     "output_type": "stream",
     "text": [
      "221it [08:59,  1.73it/s]"
     ]
    },
    {
     "name": "stdout",
     "output_type": "stream",
     "text": [
      "error\n",
      "<Response [429]>\n"
     ]
    },
    {
     "name": "stderr",
     "output_type": "stream",
     "text": [
      "234it [09:21,  1.21s/it]"
     ]
    },
    {
     "name": "stdout",
     "output_type": "stream",
     "text": [
      "error\n",
      "<Response [429]>\n"
     ]
    },
    {
     "name": "stderr",
     "output_type": "stream",
     "text": [
      "296it [10:41,  1.46s/it]"
     ]
    },
    {
     "name": "stdout",
     "output_type": "stream",
     "text": [
      "error\n",
      "<Response [429]>\n"
     ]
    },
    {
     "name": "stderr",
     "output_type": "stream",
     "text": [
      "300it [10:52,  2.17s/it]\n"
     ]
    },
    {
     "name": "stdout",
     "output_type": "stream",
     "text": [
      "the-crypto-chicks\n"
     ]
    },
    {
     "name": "stderr",
     "output_type": "stream",
     "text": [
      "  8%|███▋                                        | 49/581 [00:45<09:47,  1.11s/it]"
     ]
    },
    {
     "name": "stdout",
     "output_type": "stream",
     "text": [
      "error\n",
      "<Response [429]>\n"
     ]
    },
    {
     "name": "stderr",
     "output_type": "stream",
     "text": [
      " 11%|████▊                                       | 63/581 [01:14<10:12,  1.18s/it]"
     ]
    },
    {
     "name": "stdout",
     "output_type": "stream",
     "text": [
      "error\n",
      "<Response [429]>\n"
     ]
    },
    {
     "name": "stderr",
     "output_type": "stream",
     "text": [
      " 15%|██████▊                                     | 90/581 [01:45<07:11,  1.14it/s]"
     ]
    },
    {
     "name": "stdout",
     "output_type": "stream",
     "text": [
      "error\n",
      "<Response [429]>\n"
     ]
    },
    {
     "name": "stderr",
     "output_type": "stream",
     "text": [
      " 20%|████████▋                                  | 117/581 [02:18<07:27,  1.04it/s]"
     ]
    },
    {
     "name": "stdout",
     "output_type": "stream",
     "text": [
      "error\n",
      "<Response [429]>\n"
     ]
    },
    {
     "name": "stderr",
     "output_type": "stream",
     "text": [
      " 23%|█████████▉                                 | 134/581 [02:49<09:45,  1.31s/it]"
     ]
    },
    {
     "name": "stdout",
     "output_type": "stream",
     "text": [
      "error\n",
      "<Response [429]>\n"
     ]
    },
    {
     "name": "stderr",
     "output_type": "stream",
     "text": [
      " 26%|███████████▏                               | 151/581 [03:23<11:42,  1.63s/it]"
     ]
    },
    {
     "name": "stdout",
     "output_type": "stream",
     "text": [
      "error\n",
      "<Response [429]>\n"
     ]
    },
    {
     "name": "stderr",
     "output_type": "stream",
     "text": [
      " 27%|███████████▊                               | 159/581 [03:58<14:20,  2.04s/it]"
     ]
    },
    {
     "name": "stdout",
     "output_type": "stream",
     "text": [
      "error\n",
      "<Response [429]>\n",
      "error\n",
      "<Response [429]>\n",
      "error\n",
      "<Response [429]>\n",
      "error\n",
      "<Response [429]>\n"
     ]
    },
    {
     "name": "stderr",
     "output_type": "stream",
     "text": [
      " 28%|████████████▏                              | 164/581 [05:05<38:07,  5.48s/it]"
     ]
    },
    {
     "name": "stdout",
     "output_type": "stream",
     "text": [
      "error\n",
      "<Response [429]>\n"
     ]
    },
    {
     "name": "stderr",
     "output_type": "stream",
     "text": [
      " 33%|██████████████▎                            | 193/581 [05:54<06:36,  1.02s/it]"
     ]
    },
    {
     "name": "stdout",
     "output_type": "stream",
     "text": [
      "error\n",
      "<Response [429]>\n"
     ]
    },
    {
     "name": "stderr",
     "output_type": "stream",
     "text": [
      " 43%|██████████████████▋                        | 252/581 [06:58<03:07,  1.75it/s]"
     ]
    },
    {
     "name": "stdout",
     "output_type": "stream",
     "text": [
      "error\n",
      "<Response [429]>\n"
     ]
    },
    {
     "name": "stderr",
     "output_type": "stream",
     "text": [
      " 44%|██████████████████▊                        | 255/581 [07:07<09:16,  1.71s/it]"
     ]
    },
    {
     "name": "stdout",
     "output_type": "stream",
     "text": [
      "error\n",
      "<Response [429]>\n"
     ]
    },
    {
     "name": "stderr",
     "output_type": "stream",
     "text": [
      " 44%|███████████████████                        | 257/581 [07:50<53:38,  9.93s/it]"
     ]
    },
    {
     "name": "stdout",
     "output_type": "stream",
     "text": [
      "error\n",
      "<Response [429]>\n",
      "error\n",
      "<Response [429]>\n",
      "error\n",
      "<Response [429]>\n",
      "error\n",
      "<Response [429]>\n",
      "error\n",
      "<Response [429]>\n",
      "error\n",
      "<Response [429]>\n",
      "error\n",
      "<Response [429]>\n",
      "error\n",
      "<Response [429]>\n",
      "error\n",
      "<Response [429]>\n",
      "error\n",
      "<Response [429]>\n"
     ]
    },
    {
     "name": "stderr",
     "output_type": "stream",
     "text": [
      " 46%|███████████████████▋                       | 266/581 [10:41<23:19,  4.44s/it]"
     ]
    },
    {
     "name": "stdout",
     "output_type": "stream",
     "text": [
      "error\n",
      "<Response [429]>\n"
     ]
    },
    {
     "name": "stderr",
     "output_type": "stream",
     "text": [
      " 55%|███████████████████████▍                   | 317/581 [11:23<02:08,  2.05it/s]"
     ]
    },
    {
     "name": "stdout",
     "output_type": "stream",
     "text": [
      "error\n",
      "<Response [429]>\n"
     ]
    },
    {
     "name": "stderr",
     "output_type": "stream",
     "text": [
      " 58%|█████████████████████████                  | 338/581 [11:55<06:21,  1.57s/it]"
     ]
    },
    {
     "name": "stdout",
     "output_type": "stream",
     "text": [
      "error\n",
      "<Response [429]>\n"
     ]
    },
    {
     "name": "stderr",
     "output_type": "stream",
     "text": [
      " 62%|██████████████████████████▊                | 363/581 [12:37<02:02,  1.78it/s]"
     ]
    },
    {
     "name": "stdout",
     "output_type": "stream",
     "text": [
      "error\n",
      "<Response [429]>\n"
     ]
    },
    {
     "name": "stderr",
     "output_type": "stream",
     "text": [
      " 67%|████████████████████████████▊              | 389/581 [13:05<02:37,  1.22it/s]"
     ]
    },
    {
     "name": "stdout",
     "output_type": "stream",
     "text": [
      "error\n",
      "<Response [429]>\n"
     ]
    },
    {
     "name": "stderr",
     "output_type": "stream",
     "text": [
      " 76%|████████████████████████████████▋          | 441/581 [14:03<01:32,  1.52it/s]"
     ]
    },
    {
     "name": "stdout",
     "output_type": "stream",
     "text": [
      "error\n",
      "<Response [429]>\n"
     ]
    },
    {
     "name": "stderr",
     "output_type": "stream",
     "text": [
      " 87%|█████████████████████████████████████▍     | 506/581 [15:00<00:46,  1.63it/s]"
     ]
    },
    {
     "name": "stdout",
     "output_type": "stream",
     "text": [
      "error\n",
      "<Response [429]>\n"
     ]
    },
    {
     "name": "stderr",
     "output_type": "stream",
     "text": [
      " 93%|████████████████████████████████████████▏  | 543/581 [16:00<00:22,  1.70it/s]"
     ]
    },
    {
     "name": "stdout",
     "output_type": "stream",
     "text": [
      "error\n",
      "<Response [429]>\n"
     ]
    },
    {
     "name": "stderr",
     "output_type": "stream",
     "text": [
      " 97%|█████████████████████████████████████████▊ | 565/581 [16:42<00:18,  1.16s/it]"
     ]
    },
    {
     "name": "stdout",
     "output_type": "stream",
     "text": [
      "error\n",
      "<Response [429]>\n"
     ]
    },
    {
     "name": "stderr",
     "output_type": "stream",
     "text": [
      "100%|███████████████████████████████████████████| 581/581 [17:17<00:00,  1.79s/it]\n",
      "0it [00:00, ?it/s]"
     ]
    },
    {
     "name": "stdout",
     "output_type": "stream",
     "text": [
      "error\n",
      "<Response [429]>\n"
     ]
    },
    {
     "name": "stderr",
     "output_type": "stream",
     "text": [
      "5it [00:21,  2.79s/it]"
     ]
    },
    {
     "name": "stdout",
     "output_type": "stream",
     "text": [
      "error\n",
      "<Response [429]>\n",
      "error\n",
      "<Response [429]>\n"
     ]
    },
    {
     "name": "stderr",
     "output_type": "stream",
     "text": [
      "6it [00:56, 13.34s/it]"
     ]
    },
    {
     "name": "stdout",
     "output_type": "stream",
     "text": [
      "error\n",
      "<Response [429]>\n"
     ]
    },
    {
     "name": "stderr",
     "output_type": "stream",
     "text": [
      "11it [01:06,  3.06s/it]"
     ]
    },
    {
     "name": "stdout",
     "output_type": "stream",
     "text": [
      "error\n",
      "<Response [429]>\n",
      "error\n",
      "<Response [429]>\n",
      "error\n",
      "<Response [429]>\n",
      "error\n",
      "<Response [429]>\n",
      "error\n",
      "<Response [429]>\n",
      "error\n",
      "<Response [429]>\n",
      "error\n",
      "<Response [429]>\n"
     ]
    },
    {
     "name": "stderr",
     "output_type": "stream",
     "text": [
      "19it [03:15,  5.02s/it]"
     ]
    },
    {
     "name": "stdout",
     "output_type": "stream",
     "text": [
      "error\n",
      "<Response [429]>\n"
     ]
    },
    {
     "name": "stderr",
     "output_type": "stream",
     "text": [
      "36it [03:45,  1.75it/s]"
     ]
    },
    {
     "name": "stdout",
     "output_type": "stream",
     "text": [
      "error\n",
      "<Response [429]>\n"
     ]
    },
    {
     "name": "stderr",
     "output_type": "stream",
     "text": [
      "52it [04:09,  1.46s/it]"
     ]
    },
    {
     "name": "stdout",
     "output_type": "stream",
     "text": [
      "error\n",
      "<Response [429]>\n"
     ]
    },
    {
     "name": "stderr",
     "output_type": "stream",
     "text": [
      "80it [04:37,  1.06s/it]"
     ]
    },
    {
     "name": "stdout",
     "output_type": "stream",
     "text": [
      "error\n",
      "<Response [429]>\n"
     ]
    },
    {
     "name": "stderr",
     "output_type": "stream",
     "text": [
      "92it [04:59,  1.16it/s]"
     ]
    },
    {
     "name": "stdout",
     "output_type": "stream",
     "text": [
      "error\n",
      "<Response [429]>\n"
     ]
    },
    {
     "name": "stderr",
     "output_type": "stream",
     "text": [
      "103it [05:23,  1.62s/it]"
     ]
    },
    {
     "name": "stdout",
     "output_type": "stream",
     "text": [
      "error\n",
      "<Response [429]>\n"
     ]
    },
    {
     "name": "stderr",
     "output_type": "stream",
     "text": [
      "117it [05:39,  1.73it/s]"
     ]
    },
    {
     "name": "stdout",
     "output_type": "stream",
     "text": [
      "error\n",
      "<Response [429]>\n"
     ]
    },
    {
     "name": "stderr",
     "output_type": "stream",
     "text": [
      "132it [06:10,  2.07s/it]"
     ]
    },
    {
     "name": "stdout",
     "output_type": "stream",
     "text": [
      "error\n",
      "<Response [429]>\n"
     ]
    },
    {
     "name": "stderr",
     "output_type": "stream",
     "text": [
      "142it [06:26,  1.24s/it]"
     ]
    },
    {
     "name": "stdout",
     "output_type": "stream",
     "text": [
      "error\n",
      "<Response [429]>\n"
     ]
    },
    {
     "name": "stderr",
     "output_type": "stream",
     "text": [
      "157it [06:52,  2.24s/it]"
     ]
    },
    {
     "name": "stdout",
     "output_type": "stream",
     "text": [
      "error\n",
      "<Response [429]>\n"
     ]
    },
    {
     "name": "stderr",
     "output_type": "stream",
     "text": [
      "164it [07:03,  1.05s/it]"
     ]
    },
    {
     "name": "stdout",
     "output_type": "stream",
     "text": [
      "error\n",
      "<Response [429]>\n",
      "error\n",
      "<Response [429]>\n",
      "error\n",
      "<Response [429]>\n",
      "error\n",
      "<Response [429]>\n",
      "error\n",
      "<Response [429]>\n"
     ]
    },
    {
     "name": "stderr",
     "output_type": "stream",
     "text": [
      "165it [08:54, 34.13s/it]"
     ]
    },
    {
     "name": "stdout",
     "output_type": "stream",
     "text": [
      "error\n",
      "<Response [429]>\n"
     ]
    },
    {
     "name": "stderr",
     "output_type": "stream",
     "text": [
      "184it [09:34,  1.95it/s]"
     ]
    },
    {
     "name": "stdout",
     "output_type": "stream",
     "text": [
      "error\n",
      "<Response [429]>\n"
     ]
    },
    {
     "name": "stderr",
     "output_type": "stream",
     "text": [
      "212it [10:00,  1.17it/s]"
     ]
    },
    {
     "name": "stdout",
     "output_type": "stream",
     "text": [
      "error\n",
      "<Response [429]>\n"
     ]
    },
    {
     "name": "stderr",
     "output_type": "stream",
     "text": [
      "236it [10:28,  1.09s/it]"
     ]
    },
    {
     "name": "stdout",
     "output_type": "stream",
     "text": [
      "error\n",
      "<Response [429]>\n"
     ]
    },
    {
     "name": "stderr",
     "output_type": "stream",
     "text": [
      "245it [10:47,  1.82s/it]"
     ]
    },
    {
     "name": "stdout",
     "output_type": "stream",
     "text": [
      "error\n",
      "<Response [429]>\n"
     ]
    },
    {
     "name": "stderr",
     "output_type": "stream",
     "text": [
      "255it [11:17,  1.12it/s]"
     ]
    },
    {
     "name": "stdout",
     "output_type": "stream",
     "text": [
      "error\n",
      "<Response [429]>\n"
     ]
    },
    {
     "name": "stderr",
     "output_type": "stream",
     "text": [
      "257it [11:48,  7.03s/it]"
     ]
    },
    {
     "name": "stdout",
     "output_type": "stream",
     "text": [
      "error\n",
      "<Response [429]>\n"
     ]
    },
    {
     "name": "stderr",
     "output_type": "stream",
     "text": [
      "278it [12:13,  2.05it/s]"
     ]
    },
    {
     "name": "stdout",
     "output_type": "stream",
     "text": [
      "error\n",
      "<Response [429]>\n"
     ]
    },
    {
     "name": "stderr",
     "output_type": "stream",
     "text": [
      "297it [12:35,  1.15it/s]"
     ]
    },
    {
     "name": "stdout",
     "output_type": "stream",
     "text": [
      "error\n",
      "<Response [429]>\n"
     ]
    },
    {
     "name": "stderr",
     "output_type": "stream",
     "text": [
      "325it [13:05,  1.91it/s]"
     ]
    },
    {
     "name": "stdout",
     "output_type": "stream",
     "text": [
      "error\n",
      "<Response [429]>\n"
     ]
    },
    {
     "name": "stderr",
     "output_type": "stream",
     "text": [
      "338it [13:22,  1.28s/it]"
     ]
    },
    {
     "name": "stdout",
     "output_type": "stream",
     "text": [
      "error\n",
      "<Response [429]>\n"
     ]
    },
    {
     "name": "stderr",
     "output_type": "stream",
     "text": [
      "342it [13:48,  4.40s/it]"
     ]
    },
    {
     "name": "stdout",
     "output_type": "stream",
     "text": [
      "error\n",
      "<Response [429]>\n"
     ]
    },
    {
     "name": "stderr",
     "output_type": "stream",
     "text": [
      "533it [21:48,  1.67it/s]"
     ]
    },
    {
     "name": "stdout",
     "output_type": "stream",
     "text": [
      "error\n",
      "<Response [429]>\n"
     ]
    },
    {
     "name": "stderr",
     "output_type": "stream",
     "text": [
      "556it [22:17,  1.71it/s]"
     ]
    },
    {
     "name": "stdout",
     "output_type": "stream",
     "text": [
      "error\n",
      "<Response [429]>\n"
     ]
    },
    {
     "name": "stderr",
     "output_type": "stream",
     "text": [
      "583it [22:40,  1.98it/s]"
     ]
    },
    {
     "name": "stdout",
     "output_type": "stream",
     "text": [
      "error\n",
      "<Response [429]>\n"
     ]
    },
    {
     "name": "stderr",
     "output_type": "stream",
     "text": [
      "607it [23:11,  1.20s/it]"
     ]
    },
    {
     "name": "stdout",
     "output_type": "stream",
     "text": [
      "error\n",
      "<Response [429]>\n"
     ]
    },
    {
     "name": "stderr",
     "output_type": "stream",
     "text": [
      "620it [23:35,  1.46it/s]"
     ]
    },
    {
     "name": "stdout",
     "output_type": "stream",
     "text": [
      "error\n",
      "<Response [429]>\n"
     ]
    },
    {
     "name": "stderr",
     "output_type": "stream",
     "text": [
      "624it [23:46,  2.16s/it]"
     ]
    },
    {
     "name": "stdout",
     "output_type": "stream",
     "text": [
      "error\n",
      "<Response [429]>\n"
     ]
    },
    {
     "name": "stderr",
     "output_type": "stream",
     "text": [
      "629it [24:31,  3.96s/it]"
     ]
    },
    {
     "name": "stdout",
     "output_type": "stream",
     "text": [
      "error\n",
      "<Response [429]>\n"
     ]
    },
    {
     "name": "stderr",
     "output_type": "stream",
     "text": [
      "637it [24:43,  1.12s/it]"
     ]
    },
    {
     "name": "stdout",
     "output_type": "stream",
     "text": [
      "error\n",
      "<Response [429]>\n"
     ]
    },
    {
     "name": "stderr",
     "output_type": "stream",
     "text": [
      "662it [25:18,  1.10s/it]"
     ]
    },
    {
     "name": "stdout",
     "output_type": "stream",
     "text": [
      "error\n",
      "<Response [429]>\n"
     ]
    },
    {
     "name": "stderr",
     "output_type": "stream",
     "text": [
      "674it [25:32,  1.00s/it]"
     ]
    },
    {
     "name": "stdout",
     "output_type": "stream",
     "text": [
      "error\n",
      "<Response [429]>\n"
     ]
    },
    {
     "name": "stderr",
     "output_type": "stream",
     "text": [
      "678it [25:48,  2.23s/it]"
     ]
    },
    {
     "name": "stdout",
     "output_type": "stream",
     "text": [
      "error\n",
      "<Response [429]>\n"
     ]
    },
    {
     "name": "stderr",
     "output_type": "stream",
     "text": [
      "689it [26:07,  1.02it/s]"
     ]
    },
    {
     "name": "stdout",
     "output_type": "stream",
     "text": [
      "error\n",
      "<Response [429]>\n"
     ]
    },
    {
     "name": "stderr",
     "output_type": "stream",
     "text": [
      "697it [26:19,  1.09s/it]"
     ]
    },
    {
     "name": "stdout",
     "output_type": "stream",
     "text": [
      "error\n",
      "<Response [429]>\n"
     ]
    },
    {
     "name": "stderr",
     "output_type": "stream",
     "text": [
      "707it [26:38,  1.31s/it]"
     ]
    },
    {
     "name": "stdout",
     "output_type": "stream",
     "text": [
      "error\n",
      "<Response [429]>\n"
     ]
    },
    {
     "name": "stderr",
     "output_type": "stream",
     "text": [
      "709it [26:46,  2.27s/it]\n"
     ]
    },
    {
     "name": "stdout",
     "output_type": "stream",
     "text": [
      "renga\n"
     ]
    },
    {
     "name": "stderr",
     "output_type": "stream",
     "text": [
      " 11%|████▊                                       | 36/333 [00:43<06:23,  1.29s/it]"
     ]
    },
    {
     "name": "stdout",
     "output_type": "stream",
     "text": [
      "error\n",
      "<Response [429]>\n"
     ]
    },
    {
     "name": "stderr",
     "output_type": "stream",
     "text": [
      " 43%|██████████████████▍                        | 143/333 [08:12<06:55,  2.19s/it]"
     ]
    },
    {
     "name": "stdout",
     "output_type": "stream",
     "text": [
      "error\n",
      "<Response [429]>\n"
     ]
    },
    {
     "name": "stderr",
     "output_type": "stream",
     "text": [
      " 44%|██████████████████▋                        | 145/333 [08:31<15:46,  5.04s/it]"
     ]
    },
    {
     "name": "stdout",
     "output_type": "stream",
     "text": [
      "error\n",
      "<Response [429]>\n"
     ]
    },
    {
     "name": "stderr",
     "output_type": "stream",
     "text": [
      " 56%|████████████████████████▎                  | 188/333 [09:34<02:55,  1.21s/it]"
     ]
    },
    {
     "name": "stdout",
     "output_type": "stream",
     "text": [
      "error\n",
      "<Response [429]>\n"
     ]
    },
    {
     "name": "stderr",
     "output_type": "stream",
     "text": [
      " 59%|█████████████████████████▍                 | 197/333 [09:59<04:59,  2.20s/it]"
     ]
    },
    {
     "name": "stdout",
     "output_type": "stream",
     "text": [
      "error\n",
      "<Response [429]>\n"
     ]
    },
    {
     "name": "stderr",
     "output_type": "stream",
     "text": [
      " 71%|██████████████████████████████▌            | 237/333 [11:02<02:52,  1.80s/it]"
     ]
    },
    {
     "name": "stdout",
     "output_type": "stream",
     "text": [
      "error\n",
      "<Response [429]>\n"
     ]
    },
    {
     "name": "stderr",
     "output_type": "stream",
     "text": [
      " 71%|██████████████████████████████▋            | 238/333 [11:24<12:23,  7.83s/it]"
     ]
    },
    {
     "name": "stdout",
     "output_type": "stream",
     "text": [
      "error\n",
      "<Response [429]>\n"
     ]
    },
    {
     "name": "stderr",
     "output_type": "stream",
     "text": [
      " 96%|█████████████████████████████████████████▍ | 321/333 [14:35<00:11,  1.05it/s]"
     ]
    },
    {
     "name": "stdout",
     "output_type": "stream",
     "text": [
      "error\n",
      "<Response [429]>\n"
     ]
    },
    {
     "name": "stderr",
     "output_type": "stream",
     "text": [
      "100%|███████████████████████████████████████████| 333/333 [15:44<00:00,  2.84s/it]\n",
      "6it [00:06,  1.18it/s]"
     ]
    },
    {
     "name": "stdout",
     "output_type": "stream",
     "text": [
      "error\n",
      "<Response [429]>\n"
     ]
    },
    {
     "name": "stderr",
     "output_type": "stream",
     "text": [
      "14it [00:24,  1.28s/it]"
     ]
    },
    {
     "name": "stdout",
     "output_type": "stream",
     "text": [
      "error\n",
      "<Response [429]>\n"
     ]
    },
    {
     "name": "stderr",
     "output_type": "stream",
     "text": [
      "22it [00:44,  1.21s/it]"
     ]
    },
    {
     "name": "stdout",
     "output_type": "stream",
     "text": [
      "error\n",
      "<Response [429]>\n"
     ]
    },
    {
     "name": "stderr",
     "output_type": "stream",
     "text": [
      "42it [01:07,  1.87it/s]"
     ]
    },
    {
     "name": "stdout",
     "output_type": "stream",
     "text": [
      "error\n",
      "<Response [429]>\n"
     ]
    },
    {
     "name": "stderr",
     "output_type": "stream",
     "text": [
      "63it [01:29,  2.25it/s]"
     ]
    },
    {
     "name": "stdout",
     "output_type": "stream",
     "text": [
      "error\n",
      "<Response [429]>\n"
     ]
    },
    {
     "name": "stderr",
     "output_type": "stream",
     "text": [
      "86it [01:48,  2.09it/s]"
     ]
    },
    {
     "name": "stdout",
     "output_type": "stream",
     "text": [
      "error\n",
      "<Response [429]>\n"
     ]
    },
    {
     "name": "stderr",
     "output_type": "stream",
     "text": [
      "97it [02:12,  1.45it/s]"
     ]
    },
    {
     "name": "stdout",
     "output_type": "stream",
     "text": [
      "error\n",
      "<Response [429]>\n"
     ]
    },
    {
     "name": "stderr",
     "output_type": "stream",
     "text": [
      "113it [02:25,  1.37it/s]"
     ]
    },
    {
     "name": "stdout",
     "output_type": "stream",
     "text": [
      "error\n",
      "<Response [429]>\n",
      "error\n",
      "<Response [429]>\n"
     ]
    },
    {
     "name": "stderr",
     "output_type": "stream",
     "text": [
      "114it [03:09, 13.72s/it]"
     ]
    },
    {
     "name": "stdout",
     "output_type": "stream",
     "text": [
      "error\n",
      "<Response [429]>\n"
     ]
    },
    {
     "name": "stderr",
     "output_type": "stream",
     "text": [
      "126it [03:33,  1.55it/s]"
     ]
    },
    {
     "name": "stdout",
     "output_type": "stream",
     "text": [
      "error\n",
      "<Response [429]>\n"
     ]
    },
    {
     "name": "stderr",
     "output_type": "stream",
     "text": [
      "150it [03:52,  1.30it/s]"
     ]
    },
    {
     "name": "stdout",
     "output_type": "stream",
     "text": [
      "error\n",
      "<Response [429]>\n"
     ]
    },
    {
     "name": "stderr",
     "output_type": "stream",
     "text": [
      "177it [04:12,  1.35it/s]"
     ]
    },
    {
     "name": "stdout",
     "output_type": "stream",
     "text": [
      "error\n",
      "<Response [429]>\n"
     ]
    },
    {
     "name": "stderr",
     "output_type": "stream",
     "text": [
      "203it [04:29,  2.21it/s]"
     ]
    },
    {
     "name": "stdout",
     "output_type": "stream",
     "text": [
      "error\n",
      "<Response [429]>\n"
     ]
    },
    {
     "name": "stderr",
     "output_type": "stream",
     "text": [
      "225it [04:49,  2.36it/s]"
     ]
    },
    {
     "name": "stdout",
     "output_type": "stream",
     "text": [
      "error\n",
      "<Response [429]>\n"
     ]
    },
    {
     "name": "stderr",
     "output_type": "stream",
     "text": [
      "255it [05:10,  2.08it/s]"
     ]
    },
    {
     "name": "stdout",
     "output_type": "stream",
     "text": [
      "error\n",
      "<Response [429]>\n"
     ]
    },
    {
     "name": "stderr",
     "output_type": "stream",
     "text": [
      "283it [05:29,  2.11it/s]"
     ]
    },
    {
     "name": "stdout",
     "output_type": "stream",
     "text": [
      "error\n",
      "<Response [429]>\n"
     ]
    },
    {
     "name": "stderr",
     "output_type": "stream",
     "text": [
      "300it [05:46,  1.88it/s]"
     ]
    },
    {
     "name": "stdout",
     "output_type": "stream",
     "text": [
      "error\n",
      "<Response [429]>\n"
     ]
    },
    {
     "name": "stderr",
     "output_type": "stream",
     "text": [
      "319it [06:06,  1.40it/s]"
     ]
    },
    {
     "name": "stdout",
     "output_type": "stream",
     "text": [
      "error\n",
      "<Response [429]>\n"
     ]
    },
    {
     "name": "stderr",
     "output_type": "stream",
     "text": [
      "337it [06:25,  1.57it/s]"
     ]
    },
    {
     "name": "stdout",
     "output_type": "stream",
     "text": [
      "error\n",
      "<Response [429]>\n"
     ]
    },
    {
     "name": "stderr",
     "output_type": "stream",
     "text": [
      "342it [06:39,  1.17s/it]\n"
     ]
    },
    {
     "name": "stdout",
     "output_type": "stream",
     "text": [
      "valhalla\n"
     ]
    },
    {
     "name": "stderr",
     "output_type": "stream",
     "text": [
      " 13%|█████▊                                      | 65/494 [02:33<08:15,  1.15s/it]"
     ]
    },
    {
     "name": "stdout",
     "output_type": "stream",
     "text": [
      "error\n",
      "<Response [429]>\n"
     ]
    },
    {
     "name": "stderr",
     "output_type": "stream",
     "text": [
      " 28%|███████████▊                               | 136/494 [04:07<08:45,  1.47s/it]"
     ]
    }
   ],
   "source": [
    "for slug in slugs_left:\n",
    "    print(slug)\n",
    "    cfu.store_ownership_dates(slug)"
   ]
  },
  {
   "cell_type": "code",
   "execution_count": null,
   "id": "a7f64557-f40a-4ac8-8fd3-a16f847fd357",
   "metadata": {},
   "outputs": [],
   "source": []
  }
 ],
 "metadata": {
  "kernelspec": {
   "display_name": "nft_venv",
   "language": "python",
   "name": "nft_venv"
  },
  "language_info": {
   "codemirror_mode": {
    "name": "ipython",
    "version": 3
   },
   "file_extension": ".py",
   "mimetype": "text/x-python",
   "name": "python",
   "nbconvert_exporter": "python",
   "pygments_lexer": "ipython3",
   "version": "3.8.10"
  }
 },
 "nbformat": 4,
 "nbformat_minor": 5
}
