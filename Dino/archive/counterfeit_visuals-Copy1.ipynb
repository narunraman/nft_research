{
 "cells": [
  {
   "cell_type": "code",
   "execution_count": 1,
   "id": "f02f52ea-3829-42dd-bad4-0432938c9fca",
   "metadata": {},
   "outputs": [],
   "source": [
    "%load_ext autoreload\n",
    "%autoreload 2\n",
    "import feature_extract\n",
    "import sys\n",
    "sys.path.append(\"..\")\n",
    "import torch\n",
    "import psql_methods as psql\n",
    "import pickle\n",
    "import alchemy_methods as alc\n",
    "from tqdm import tqdm\n",
    "import numpy as np\n",
    "import image_utils as imgs\n",
    "import Openseas_Methods as opse\n",
    "import multiprocessing\n",
    "import pandas as pd\n",
    "import feature_utils as feat\n",
    "import matplotlib.pyplot as plt\n",
    "import counterfeit_utils as cfu"
   ]
  },
  {
   "cell_type": "code",
   "execution_count": null,
   "id": "d1882db8-40bb-4f29-88f9-eae677676e6f",
   "metadata": {},
   "outputs": [],
   "source": [
    "f = open('top_100_slugs.txt','r')\n",
    "slugs = list(f)\n",
    "slugs = [x.strip('\\n') for x in slugs]\n",
    "commands = [\"SELECT slug from nfttoimage group by slug having count(*)<>600\"]\n",
    "data = psql.execute_commands(commands)\n",
    "data = [x[0] for x in data]\n",
    "print(len(data))\n",
    "#Figure out which labels still need to find URLs for\n",
    "nfts_to_process = [x for x in slugs if x not in data]\n",
    "nfts_to_process = [x for x in nfts_to_process if x not in opse.SKIP_LIST]\n",
    "nfts_to_process"
   ]
  },
  {
   "cell_type": "code",
   "execution_count": null,
   "id": "47c23f9b-a8cb-4fd8-8a4a-3cd155ba9f58",
   "metadata": {},
   "outputs": [],
   "source": [
    "import logging\n",
    "logging.basicConfig(filename='counterfeit_url_logs.txt', level=logging.INFO, format='%(asctime)s - %(levelname)s - %(message)s')\n",
    "for slug in tqdm(nfts_to_process):\n",
    "    logging.info(f\"Beginning slug {slug}\")\n",
    "    data.append(opse.pull_nft_images(slug,limit_toks=10000))\n",
    "    logging.info(f\"Finished slug {slug}\")"
   ]
  },
  {
   "cell_type": "code",
   "execution_count": null,
   "id": "51892f96-6c64-4150-991b-3d74f6ea18bd",
   "metadata": {},
   "outputs": [],
   "source": [
    "#Pull 500 images per NFT collectino \n",
    "tup_slugs = tuple(slugs)\n",
    "command = [f\"\"\"WITH numbered_rows AS (\n",
    "  SELECT *,\n",
    "         ROW_NUMBER() OVER (PARTITION BY slug ORDER BY RANDOM()) AS row_num\n",
    "  FROM nfttoimage\n",
    "  where slug in {tup_slugs}\n",
    ")\n",
    "SELECT *\n",
    "FROM numbered_rows\n",
    "WHERE row_num <= 500;\"\"\"]\n",
    "rows  = psql.execute_commands(command)"
   ]
  },
  {
   "cell_type": "code",
   "execution_count": null,
   "id": "11fe691a-bf75-4491-806d-ddcaae1cd949",
   "metadata": {},
   "outputs": [],
   "source": [
    "rows = [(x[0],x[1],x[2]) for x in rows]\n",
    "args = imgs.db_to_args(rows)"
   ]
  },
  {
   "cell_type": "code",
   "execution_count": null,
   "id": "4b488765-0d24-432c-ae68-e233f5ebb61b",
   "metadata": {},
   "outputs": [],
   "source": [
    "records = []\n",
    "num_processes = multiprocessing.cpu_count()\n",
    "with multiprocessing.Pool(processes=num_processes) as pool: # Use all cores   \n",
    "    for result in pool.starmap(imgs.pull_image_from_url, args):\n",
    "        records.append(result)"
   ]
  },
  {
   "cell_type": "code",
   "execution_count": null,
   "id": "dd6260bf-58a3-4102-af30-aa50e72dc600",
   "metadata": {},
   "outputs": [],
   "source": [
    "imgs.delete_empty_directories('counterfeit_images')"
   ]
  },
  {
   "cell_type": "code",
   "execution_count": 2,
   "id": "4a50612f-c427-4098-96f5-e74eadf4b7f7",
   "metadata": {},
   "outputs": [
    {
     "name": "stdout",
     "output_type": "stream",
     "text": [
      "Dataset ReturnIndexDataset\n",
      "    Number of datapoints: 60382\n",
      "    Root location: /global/scratch/tlundy/NFT_Research/nft_research/Dino/counterfeit_images/val\n"
     ]
    }
   ],
   "source": [
    "#We can now create a dataframe with th embeddings of all of th top 100 NFTs\n",
    "#We assume the features have already been computed by the feature_extract_notebook\n",
    "model_string = 'dinov2_vits14'\n",
    "data_path = '/global/scratch/tlundy/NFT_Research/nft_research/Dino/counterfeit_images'\n",
    "out_path = f'/global/scratch/tlundy/NFT_Research/nft_research/Dino/counterfeit_features/{model_string}'\n",
    "feature_path = out_path+'/testfeat.pth'\n",
    "features = torch.load(feature_path)\n",
    "labels = feature_extract.get_labels(data_path)\n",
    "file_names = feature_extract.get_filenames(data_path)\n",
    "features_list = features.tolist()\n",
    "# Create a pandas DataFrame\n",
    "data = {'Label': labels.tolist(), 'Features': features_list,'Collection':[x[0] for x in file_names],\n",
    "        'NFT_num':[x[1] for x in file_names]}\n",
    "df = pd.DataFrame(data)\n",
    "del features\n",
    "del features_list\n",
    "del data\n"
   ]
  },
  {
   "cell_type": "code",
   "execution_count": 3,
   "id": "32242b46-a6d3-40dd-85b1-57d39c397e1f",
   "metadata": {},
   "outputs": [
    {
     "data": {
      "text/html": [
       "<div>\n",
       "<style scoped>\n",
       "    .dataframe tbody tr th:only-of-type {\n",
       "        vertical-align: middle;\n",
       "    }\n",
       "\n",
       "    .dataframe tbody tr th {\n",
       "        vertical-align: top;\n",
       "    }\n",
       "\n",
       "    .dataframe thead th {\n",
       "        text-align: right;\n",
       "    }\n",
       "</style>\n",
       "<table border=\"1\" class=\"dataframe\">\n",
       "  <thead>\n",
       "    <tr style=\"text-align: right;\">\n",
       "      <th></th>\n",
       "      <th>Label</th>\n",
       "      <th>Features</th>\n",
       "      <th>Collection</th>\n",
       "      <th>NFT_num</th>\n",
       "      <th>AverageFeatureVector</th>\n",
       "    </tr>\n",
       "  </thead>\n",
       "  <tbody>\n",
       "    <tr>\n",
       "      <th>0</th>\n",
       "      <td>0</td>\n",
       "      <td>[0.006129133980721235, 0.08498869091272354, -0...</td>\n",
       "      <td>-glowa-</td>\n",
       "      <td>1</td>\n",
       "      <td>[-0.007021066558081657, 0.034550966462120414, ...</td>\n",
       "    </tr>\n",
       "    <tr>\n",
       "      <th>1</th>\n",
       "      <td>0</td>\n",
       "      <td>[0.04774976521730423, 0.05362828075885773, 0.0...</td>\n",
       "      <td>-glowa-</td>\n",
       "      <td>10017</td>\n",
       "      <td>[-0.007021066558081657, 0.034550966462120414, ...</td>\n",
       "    </tr>\n",
       "    <tr>\n",
       "      <th>2</th>\n",
       "      <td>0</td>\n",
       "      <td>[0.10529650747776031, 0.07033471018075943, 0.0...</td>\n",
       "      <td>-glowa-</td>\n",
       "      <td>10018</td>\n",
       "      <td>[-0.007021066558081657, 0.034550966462120414, ...</td>\n",
       "    </tr>\n",
       "    <tr>\n",
       "      <th>3</th>\n",
       "      <td>0</td>\n",
       "      <td>[-0.02233046293258667, 0.01190363708883524, -0...</td>\n",
       "      <td>-glowa-</td>\n",
       "      <td>10019</td>\n",
       "      <td>[-0.007021066558081657, 0.034550966462120414, ...</td>\n",
       "    </tr>\n",
       "    <tr>\n",
       "      <th>4</th>\n",
       "      <td>0</td>\n",
       "      <td>[0.04859286919236183, 0.054554957896471024, 0....</td>\n",
       "      <td>-glowa-</td>\n",
       "      <td>10024</td>\n",
       "      <td>[-0.007021066558081657, 0.034550966462120414, ...</td>\n",
       "    </tr>\n",
       "    <tr>\n",
       "      <th>...</th>\n",
       "      <td>...</td>\n",
       "      <td>...</td>\n",
       "      <td>...</td>\n",
       "      <td>...</td>\n",
       "      <td>...</td>\n",
       "    </tr>\n",
       "    <tr>\n",
       "      <th>456139</th>\n",
       "      <td>10976</td>\n",
       "      <td>[-0.033141832798719406, -0.0350814163684845, -...</td>\n",
       "      <td>zzz-zzz-by-hashlips</td>\n",
       "      <td>75</td>\n",
       "      <td>[-0.033141832798719406, -0.0350814163684845, -...</td>\n",
       "    </tr>\n",
       "    <tr>\n",
       "      <th>456140</th>\n",
       "      <td>10976</td>\n",
       "      <td>[-0.033141832798719406, -0.0350814163684845, -...</td>\n",
       "      <td>zzz-zzz-by-hashlips</td>\n",
       "      <td>77</td>\n",
       "      <td>[-0.033141832798719406, -0.0350814163684845, -...</td>\n",
       "    </tr>\n",
       "    <tr>\n",
       "      <th>456141</th>\n",
       "      <td>10976</td>\n",
       "      <td>[-0.033141832798719406, -0.0350814163684845, -...</td>\n",
       "      <td>zzz-zzz-by-hashlips</td>\n",
       "      <td>78</td>\n",
       "      <td>[-0.033141832798719406, -0.0350814163684845, -...</td>\n",
       "    </tr>\n",
       "    <tr>\n",
       "      <th>456142</th>\n",
       "      <td>10976</td>\n",
       "      <td>[-0.033141832798719406, -0.0350814163684845, -...</td>\n",
       "      <td>zzz-zzz-by-hashlips</td>\n",
       "      <td>79</td>\n",
       "      <td>[-0.033141832798719406, -0.0350814163684845, -...</td>\n",
       "    </tr>\n",
       "    <tr>\n",
       "      <th>456143</th>\n",
       "      <td>10976</td>\n",
       "      <td>[-0.033141832798719406, -0.0350814163684845, -...</td>\n",
       "      <td>zzz-zzz-by-hashlips</td>\n",
       "      <td>8</td>\n",
       "      <td>[-0.033141832798719406, -0.0350814163684845, -...</td>\n",
       "    </tr>\n",
       "  </tbody>\n",
       "</table>\n",
       "<p>456144 rows × 5 columns</p>\n",
       "</div>"
      ],
      "text/plain": [
       "        Label                                           Features  \\\n",
       "0           0  [0.006129133980721235, 0.08498869091272354, -0...   \n",
       "1           0  [0.04774976521730423, 0.05362828075885773, 0.0...   \n",
       "2           0  [0.10529650747776031, 0.07033471018075943, 0.0...   \n",
       "3           0  [-0.02233046293258667, 0.01190363708883524, -0...   \n",
       "4           0  [0.04859286919236183, 0.054554957896471024, 0....   \n",
       "...       ...                                                ...   \n",
       "456139  10976  [-0.033141832798719406, -0.0350814163684845, -...   \n",
       "456140  10976  [-0.033141832798719406, -0.0350814163684845, -...   \n",
       "456141  10976  [-0.033141832798719406, -0.0350814163684845, -...   \n",
       "456142  10976  [-0.033141832798719406, -0.0350814163684845, -...   \n",
       "456143  10976  [-0.033141832798719406, -0.0350814163684845, -...   \n",
       "\n",
       "                 Collection NFT_num  \\\n",
       "0                   -glowa-       1   \n",
       "1                   -glowa-   10017   \n",
       "2                   -glowa-   10018   \n",
       "3                   -glowa-   10019   \n",
       "4                   -glowa-   10024   \n",
       "...                     ...     ...   \n",
       "456139  zzz-zzz-by-hashlips      75   \n",
       "456140  zzz-zzz-by-hashlips      77   \n",
       "456141  zzz-zzz-by-hashlips      78   \n",
       "456142  zzz-zzz-by-hashlips      79   \n",
       "456143  zzz-zzz-by-hashlips       8   \n",
       "\n",
       "                                     AverageFeatureVector  \n",
       "0       [-0.007021066558081657, 0.034550966462120414, ...  \n",
       "1       [-0.007021066558081657, 0.034550966462120414, ...  \n",
       "2       [-0.007021066558081657, 0.034550966462120414, ...  \n",
       "3       [-0.007021066558081657, 0.034550966462120414, ...  \n",
       "4       [-0.007021066558081657, 0.034550966462120414, ...  \n",
       "...                                                   ...  \n",
       "456139  [-0.033141832798719406, -0.0350814163684845, -...  \n",
       "456140  [-0.033141832798719406, -0.0350814163684845, -...  \n",
       "456141  [-0.033141832798719406, -0.0350814163684845, -...  \n",
       "456142  [-0.033141832798719406, -0.0350814163684845, -...  \n",
       "456143  [-0.033141832798719406, -0.0350814163684845, -...  \n",
       "\n",
       "[456144 rows x 5 columns]"
      ]
     },
     "execution_count": 3,
     "metadata": {},
     "output_type": "execute_result"
    }
   ],
   "source": [
    "#Next we load the dataframe containing embeddings of all other collection\n",
    "df2 = pd.read_pickle('graph_images_dataframe.pkl')\n",
    "df2"
   ]
  },
  {
   "cell_type": "code",
   "execution_count": 6,
   "id": "445b4cbd-759d-473c-917f-e8a680eabcd1",
   "metadata": {},
   "outputs": [],
   "source": [
    "# df = feat.compute_average_vector(df,column='Label')\n",
    "# pw_dists =  feat.pairwise_distances(df,df2,feature_col = 'AverageFeatureVector')\n",
    "pw_dists_no_dupe = pw_dists.query(\"Top_100!=Alt and Top_100!='.ipynb_checkpoints'\")\n",
    "pw_dists_no_dupe.to_pickle('pw_dists_counterfeit.pkl')"
   ]
  },
  {
   "cell_type": "code",
   "execution_count": null,
   "id": "c69024ca-4174-473c-9446-44daf8981f48",
   "metadata": {},
   "outputs": [],
   "source": [
    "# pw_dists =  feat.pairwise_distances(df,df2,feature_col = 'AverageFeatureVector')\n",
    "result = pw_dists.groupby('Top_100', group_keys=False).apply(feat.get_smallest_values)\n",
    "no_dupe = result.query('Top_100!=Alt')\n",
    "grouped = no_dupe.groupby('Top_100')\n",
    "root = 'graph_images/val'\n",
    "for label,group in grouped:\n",
    "    alt_list = list(group['Alt'])\n",
    "    slugs = alt_list[:4]+[label]+alt_list[4:]\n",
    "    print(slugs)\n",
    "    imgs.create_image_grid(root,slugs,label,'counterfeit_grids',randomize=False)\n",
    "    "
   ]
  },
  {
   "cell_type": "code",
   "execution_count": null,
   "id": "6d5d9dea-b98b-4c7b-ad57-eae5f6969075",
   "metadata": {},
   "outputs": [],
   "source": [
    "no_dupe"
   ]
  },
  {
   "cell_type": "code",
   "execution_count": null,
   "id": "b5506cd4-31a3-4a81-880e-32ab5685dd6f",
   "metadata": {},
   "outputs": [],
   "source": [
    "pw_dists_no_dupe = pw_dists.query('Top_100!=Alt')\n",
    "top_100_slugs = list(pw_dists_no_dupe['Top_100'].unique())\n",
    "commands = [\"SELECT * from collectiontoaddress\"]\n",
    "data = psql.execute_commands(commands)\n",
    "slug_to_contract = {x[0]:x[1] for x in data}\n",
    "contracts = []\n",
    "for slug in top_100_slugs:\n",
    "    contracts.append((slug,slug_to_contract[slug]))\n",
    "slug_to_owners = alc.contracts_to_owners(contracts)"
   ]
  },
  {
   "cell_type": "code",
   "execution_count": null,
   "id": "525ef984-3fce-44da-b27d-917547e8228b",
   "metadata": {},
   "outputs": [],
   "source": [
    "for top_slug in tqdm(top_100_slugs[:30]):\n",
    "    # Sort the DataFrame by the 'Values' column\n",
    "    if top_slug=='milady':\n",
    "        continue\n",
    "    own_lists = []\n",
    "    wallets = slug_to_owners[top_slug]\n",
    "    print(len(wallets))\n",
    "    for i,wal in enumerate(wallets):\n",
    "        if i%100==0:\n",
    "            print(i)\n",
    "        own_lists.append(alc.owners_to_NFT([wal]))\n",
    "    psql_input = []\n",
    "    own_slugs = [[x[0] for x in sub_list] for sub_list in own_lists if sub_list]\n",
    "    for wal,own_list in zip(wallets,own_slugs):\n",
    "        for slug in own_list:\n",
    "           psql_input.append((slug,wal,top_slug))\n",
    "    command = \"INSERT INTO owner_lists (alt, wallet,slug) VALUES (%s, %s, %s)\"\n",
    "    psql.batch_insert(command,psql_input)"
   ]
  },
  {
   "cell_type": "code",
   "execution_count": 128,
   "id": "4be25c46-fba8-43fb-af84-16fa8b90833f",
   "metadata": {},
   "outputs": [
    {
     "name": "stdout",
     "output_type": "stream",
     "text": [
      "['great-goats-free', 'husl-collections', 'louis-vuitton-apenfts', 'skills-of-voiceverse-items', 'dayc', 'kid-monkeez-origin', 'the-dour-darcel-original-v2', 'soul-of-ukraine', 'soul-of-ukraine', 'more-loot', 'gutter-punks-flyer', 'bored-ape-comic', 'bored-ape-comic', 'bored-ape-comic', 'bored-ape-comic', 'bored-ape-comic', 'bored-ape-comic', 'bored-ape-comic', 'bored-ape-comic', 'bored-ape-comic', 'bored-ape-comic', 'bored-ape-comic', 'bored-ape-comic', 'bored-ape-comic', 'bored-ape-comic', 'bored-ape-comic', 'bored-ape-comic', 'bored-ape-comic', 'bored-ape-comic', 'top-meta-penguin-collection', 'apefestpoap-com-1', 'white-space-v2', 'mclaren-genesis-lab-portal', 'colorpencil-x-azuki', 'wonderful-webaverse-genesis-member-pass', 'kennel-hoodie-genesis', 'mutantkennel-in-genesis', 'liquid-titans', 'liquid-titans', 'liquid-titans', 'blankfacehaylospiece3', 'x-tomb-raider-mint-pass-official', 'ape-harbour-yachts', 'invertedapeclub', 'kara-gen', 'kara-gen', 'kara-gen', 'louis-game-1857', 'naruto-profiles-origin', 'the-chum-chums', 'apple-official-2022', 'the-dragonball-legend-origin', 'the-ape-list-official', 'liquid-invaders', 'liquid-invaders', 'alphablocks-item', 'garbage-friends-loading', 'ouat', 'pad-evolved', 'pad-evolved', 'pad-evolved', 'pad-evolved', 'chillmeleons', 'chillmeleons', 'chillmeleons', 'chillmeleons', 'lockedkongs-super-collection', 'weatherreport-v3', 'trippin-ape-tribe-free-mint', 'trippin-ape-tribe-free-mint', 'mythic-enhancements', 'mythic-enhancements', 'mythic-enhancements', 'mythic-enhancements', 'mythic-enhancements', 'mythic-enhancements', 'mythic-enhancements', 'mythic-enhancements', 'mythic-enhancements', 'shinsekai-collectibles-1', 'elite-naruto-ninja-collection', 'light-benzi-bananas-genesis-pass', 'bored-poskworld-collection', 'trust-mier-items', 'pudgyapesofficial', 'pudgyapesofficial', 'pudgyapesofficial', 'kuroki-free-official', 'kuroki-free-official', 'kuroki-free-official', 'kuroki-free-official', 'themanwhosoldtheworld-t5areev2jw', 'first-toweroffantasy-lab', 'strange-crystals-v2', 'trust-fuds-items', 'blue-benzi-bananas-ai-pass', 'shinsekai-v1-official', 'great-goats-free', 'great-goats-free', 'great-goats-free']\n",
      "5433\n"
     ]
    }
   ],
   "source": [
    "command = \"Select * from owner_lists where slug='boredapeyachtclub'\"\n",
    "data = psql.execute_commands([command])\n",
    "# Define column names\n",
    "columns = ['Alt', 'wallet', 'Top_100']\n",
    "\n",
    "# Create a DataFrame\n",
    "pulled_data = pd.DataFrame(data, columns=columns)\n",
    "result = pulled_data.groupby('wallet')['Alt'].agg(list).reset_index()\n",
    "\n",
    "result_list = result.values.tolist()\n",
    "result_list = [x[1] for x in result_list]\n",
    "# Display the result\n",
    "print(result_list[2])\n",
    "print(len(result_list))"
   ]
  },
  {
   "cell_type": "code",
   "execution_count": 96,
   "id": "101fe980-51d2-48ce-8725-556f7865bec1",
   "metadata": {},
   "outputs": [
    {
     "ename": "NameError",
     "evalue": "name 'mil_df' is not defined",
     "output_type": "error",
     "traceback": [
      "\u001b[0;31m---------------------------------------------------------------------------\u001b[0m",
      "\u001b[0;31mNameError\u001b[0m                                 Traceback (most recent call last)",
      "Cell \u001b[0;32mIn[96], line 2\u001b[0m\n\u001b[1;32m      1\u001b[0m top_df \u001b[38;5;241m=\u001b[39m pw_dists_no_dupe\u001b[38;5;241m.\u001b[39mquery(\u001b[38;5;124mf\u001b[39m\u001b[38;5;124m\"\u001b[39m\u001b[38;5;124mTop_100==\u001b[39m\u001b[38;5;124m'\u001b[39m\u001b[38;5;132;01m{\u001b[39;00mtop_slug\u001b[38;5;132;01m}\u001b[39;00m\u001b[38;5;124m'\u001b[39m\u001b[38;5;124m\"\u001b[39m)\n\u001b[0;32m----> 2\u001b[0m sorted_df \u001b[38;5;241m=\u001b[39m \u001b[43mmil_df\u001b[49m\u001b[38;5;241m.\u001b[39msort_values(by\u001b[38;5;241m=\u001b[39m\u001b[38;5;124m'\u001b[39m\u001b[38;5;124mEuc_Distance\u001b[39m\u001b[38;5;124m'\u001b[39m)\n\u001b[1;32m      3\u001b[0m \u001b[38;5;66;03m# Get the sorted labels as a list\u001b[39;00m\n\u001b[1;32m      4\u001b[0m sorted_labels \u001b[38;5;241m=\u001b[39m sorted_df[\u001b[38;5;124m'\u001b[39m\u001b[38;5;124mAlt\u001b[39m\u001b[38;5;124m'\u001b[39m]\u001b[38;5;241m.\u001b[39mtolist()\n",
      "\u001b[0;31mNameError\u001b[0m: name 'mil_df' is not defined"
     ]
    }
   ],
   "source": [
    "top_df = pw_dists_no_dupe.query(f\"Top_100=='{top_slug}'\")\n",
    "sorted_df = mil_df.sort_values(by='Euc_Distance')\n",
    "# Get the sorted labels as a list\n",
    "sorted_labels = sorted_df['Alt'].tolist()\n",
    "own_slugs = [[x[0] for x in sub_list] for sub_list in own_lists if sub_list]\n",
    "seen_labels = []\n",
    "count_to_overlap = []\n",
    "for i,label in enumerate(sorted_labels):\n",
    "    if i%1000==0:\n",
    "        print(i)\n",
    "    count = 0\n",
    "    seen_labels.append(label)\n",
    "    set1 = set(seen_labels)\n",
    "    for own_list in own_slugs:\n",
    "        set2 = set(own_list)\n",
    "        if len(set1.intersection(set2))>0:\n",
    "            count+=1\n",
    "    count_to_overlap.append((i,count))\n",
    "    if count==len(own_slugs):\n",
    "        break"
   ]
  },
  {
   "cell_type": "code",
   "execution_count": 17,
   "id": "b2669b8a-04e4-42be-9a4d-076ca97997b9",
   "metadata": {},
   "outputs": [
    {
     "name": "stderr",
     "output_type": "stream",
     "text": [
      "100%|██████████████████████████████████████████████████████████████████████████████████████████████████| 92/92 [02:11<00:00,  1.43s/it]\n"
     ]
    }
   ],
   "source": [
    "pw_dists =  feat.pairwise_distances(df,df2,feature_col = 'AverageFeatureVector')"
   ]
  },
  {
   "cell_type": "code",
   "execution_count": 129,
   "id": "6b4afb0b-1307-431d-82f1-6539a6d0c92e",
   "metadata": {},
   "outputs": [
    {
     "name": "stdout",
     "output_type": "stream",
     "text": [
      "0\n",
      "1000\n",
      "2000\n",
      "3000\n",
      "4000\n",
      "5000\n",
      "6000\n",
      "7000\n",
      "8000\n",
      "9000\n",
      "10000\n"
     ]
    }
   ],
   "source": [
    "top_slug='boredapeyachtclub'\n",
    "pw_dists_no_dupe = pw_dists.query('Top_100!=Alt')\n",
    "top_df = pw_dists_no_dupe.query(f\"Top_100=='{top_slug}'\")\n",
    "sorted_df = top_df.sort_values(by='Euc_Distance')\n",
    "# Get the sorted labels as a list\n",
    "sorted_labels = sorted_df['Alt'].tolist()\n",
    "own_slugs = result_list\n",
    "seen_labels = []\n",
    "count_to_overlap = []\n",
    "for i,label in enumerate(sorted_labels):\n",
    "    if i%1000==0:\n",
    "        print(i)\n",
    "    set1 = set(seen_labels)\n",
    "    count = 0\n",
    "    for own_list in own_slugs:\n",
    "        if label in own_list:\n",
    "            count+=1\n",
    "    count_to_overlap.append((i,count,label))"
   ]
  },
  {
   "cell_type": "code",
   "execution_count": 133,
   "id": "46e9206c-0b3e-45f7-a497-269373667cfe",
   "metadata": {},
   "outputs": [
    {
     "name": "stdout",
     "output_type": "stream",
     "text": [
      "10976\n",
      "10972\n"
     ]
    }
   ],
   "source": [
    "print(len(count_to_overlap))\n",
    "count_to_overlap2 = [x for x in count_to_overlap if x[2] not in opse.SKIP_LIST]\n",
    "print(len(count_to_overlap2))"
   ]
  },
  {
   "cell_type": "code",
   "execution_count": 134,
   "id": "f915ed8b-8c7c-49f4-aa86-ef25f638d695",
   "metadata": {},
   "outputs": [
    {
     "data": {
      "image/png": "[encoded data removed]",
      "text/plain": [
       "<Figure size 640x480 with 1 Axes>"
      ]
     },
     "metadata": {},
     "output_type": "display_data"
    }
   ],
   "source": [
    "x_coordinates, y_coordinates,_ = zip(*count_to_overlap)\n",
    "\n",
    "# Plot the graph\n",
    "plt.bar(x_coordinates, y_coordinates)\n",
    "\n",
    "# Add labels and title\n",
    "plt.xlabel('X-axis')\n",
    "plt.ylabel('Y-axis')\n",
    "plt.title('Plotting a Graph from a List of Tuples')\n",
    "\n",
    "# Show the plot\n",
    "plt.show()\n"
   ]
  },
  {
   "cell_type": "code",
   "execution_count": 142,
   "id": "c0c7c742-b1c7-465c-98fb-06ffa873bec9",
   "metadata": {},
   "outputs": [
    {
     "name": "stdout",
     "output_type": "stream",
     "text": [
      "[(0, 20, '0xapes-trilogy'), (1, 0, 'orangapes'), (2, 3, 'japanesebornapesociety'), (3, 0, 'tiredapeyachtclub'), (4, 0, 'brokeapeclub-v2-1'), (5, 2, 'solanapesnft'), (6, 83, 'nifty-tailor-genesis'), (7, 0, 'rocknroll-ape-club'), (8, 1, 'mecha-ape-yacht-club'), (9, 0, 'bored-market-ape-club')]\n",
      "10975\n"
     ]
    },
    {
     "data": {
      "image/png": "[encoded data removed]",
      "text/plain": [
       "<Figure size 640x480 with 1 Axes>"
      ]
     },
     "metadata": {},
     "output_type": "display_data"
    },
    {
     "data": {
      "text/plain": [
       "count    29853.000000\n",
       "mean      5815.097712\n",
       "std       3152.995330\n",
       "min          0.000000\n",
       "0.1%         6.000000\n",
       "1%         105.000000\n",
       "10%       1407.000000\n",
       "25%       2971.000000\n",
       "50%       6089.000000\n",
       "75%       8505.000000\n",
       "max      10973.000000\n",
       "dtype: float64"
      ]
     },
     "execution_count": 142,
     "metadata": {},
     "output_type": "execute_result"
    }
   ],
   "source": [
    "import seaborn as sns\n",
    "import matplotlib.pyplot as plt\n",
    "import numpy as np\n",
    "\n",
    "# Sample list of tuples (value, count)\n",
    "# der_list_azuki = ['twintigersjacket','azukielementalschip','beanzofficial','azukielementals','gutter-punks-beanz',\n",
    "#            'azukigreenbeans','bobutoken','national-beer-day-2022-resonate','azukielementalbeans']\n",
    "# der_list_alien_fren = ['alien-frens-evolution','alien-frens-incubator','alien-frens-ufos']\n",
    "# der_list_milady = ['milady-birthday-beach']\n",
    "der_list_bored = ['otherdeed','mutant-ape-yacht-club']\n",
    "lander_overlap = [x for x in count_to_overlap2 if x[2] not in der_list_bored]\n",
    "print(lander_overlap[:10])\n",
    "# Unpack the tuples into separate lists for values and counts\n",
    "values, counts,_ = zip(*lander_overlap)\n",
    "print(values[-1])\n",
    "# Transform the data to individual values based on counts\n",
    "individual_values = np.repeat(values, counts)\n",
    "series = pd.Series(individual_values)\n",
    "\n",
    "# Create a CDF plot using Seaborn\n",
    "sns.ecdfplot(data=individual_values)\n",
    "x = list(np.arange(0,1,0.01))\n",
    "y = list(np.arange(0,values[-1],values[-1]/100))\n",
    "# Add labels and title\n",
    "plt.plot(y,x)\n",
    "plt.xlabel('Visual Distance from Collection')\n",
    "plt.ylabel('Percent of Total NFTs')\n",
    "plt.title(f'Distribution of NFTs owned by {top_slug} owners')\n",
    "\n",
    "# Show the plot\n",
    "plt.show()\n",
    "percentiles = [0.001,0.01,0.1,.25, .5, .75]\n",
    "series.describe(percentiles=percentiles)"
   ]
  },
  {
   "cell_type": "code",
   "execution_count": 225,
   "id": "eefc4cfd-90ac-4003-89ff-ba83a9d929a7",
   "metadata": {},
   "outputs": [
    {
     "name": "stdout",
     "output_type": "stream",
     "text": [
      "0\n",
      "1000\n",
      "2000\n",
      "3000\n",
      "4000\n",
      "5000\n",
      "6000\n",
      "7000\n",
      "8000\n",
      "9000\n",
      "10000\n"
     ]
    }
   ],
   "source": [
    "top_slug = 'azuki'\n",
    "own_slugs = cfu.own_list_from_db(top_slug)\n",
    "overlap = cfu.count_overlaps(top_slug,pw_dists,own_slugs)\n"
   ]
  },
  {
   "cell_type": "code",
   "execution_count": 197,
   "id": "ed1c3d70-9cd1-4c89-8e0a-0c905ee7963f",
   "metadata": {},
   "outputs": [
    {
     "data": {
      "image/png": "[encoded data removed]",
      "text/plain": [
       "<Figure size 640x480 with 1 Axes>"
      ]
     },
     "metadata": {},
     "output_type": "display_data"
    },
    {
     "name": "stdout",
     "output_type": "stream",
     "text": [
      "count    59966.000000\n",
      "mean      5380.467248\n",
      "std       3335.884075\n",
      "min          0.000000\n",
      "0.1%         5.000000\n",
      "1%          19.000000\n",
      "10%        634.000000\n",
      "25%       2476.000000\n",
      "50%       5460.000000\n",
      "75%       8228.750000\n",
      "max      10975.000000\n",
      "dtype: float64\n"
     ]
    }
   ],
   "source": [
    "cfu.make_overlap_cdf(pw_dists,top_slug,der_list = der_list,count_to_overlap=overlap)"
   ]
  },
  {
   "cell_type": "code",
   "execution_count": 230,
   "id": "c9126802-01b9-41c4-82e4-6af5823dc1cb",
   "metadata": {},
   "outputs": [
    {
     "name": "stdout",
     "output_type": "stream",
     "text": [
      "40797\n"
     ]
    },
    {
     "data": {
      "text/plain": [
       "205472"
      ]
     },
     "execution_count": 230,
     "metadata": {},
     "output_type": "execute_result"
    }
   ],
   "source": [
    "sorted_overlap = sorted(overlap,key=lambda x:x[1],reverse=True)\n",
    "print(sum([x[1] for x in overlap]))\n",
    "sorted_vis = sorted(overlap,key=lambda x:x[0])\n",
    "sorted_overlap[:100]\n",
    "der_list = ['coolpetsnft','shadow-wolves']\n",
    "sorted_vis[:100]\n",
    "sum([len(set(x)) for x in own_slugs])"
   ]
  },
  {
   "cell_type": "code",
   "execution_count": 218,
   "id": "b598bbbc-d0e1-4f2b-8e2f-7472e0d4e764",
   "metadata": {},
   "outputs": [
    {
     "data": {
      "text/plain": [
       "276"
      ]
     },
     "execution_count": 218,
     "metadata": {},
     "output_type": "execute_result"
    }
   ],
   "source": [
    "len(imgs.get_immediate_files('counterfeit_images/val/mutantcats'))\n"
   ]
  },
  {
   "cell_type": "code",
   "execution_count": 229,
   "id": "f3d5c79f-b74e-4e79-b7e1-fee44a2b8162",
   "metadata": {},
   "outputs": [
    {
     "data": {
      "text/plain": [
       "(1, 1005, 'azukielementals')"
      ]
     },
     "execution_count": 229,
     "metadata": {},
     "output_type": "execute_result"
    }
   ],
   "source": [
    "overlap[1]"
   ]
  },
  {
   "cell_type": "code",
   "execution_count": 233,
   "id": "785cedb5-7c78-4128-a8b9-c16003133363",
   "metadata": {},
   "outputs": [
    {
     "name": "stdout",
     "output_type": "stream",
     "text": [
      "0\n",
      "1000\n",
      "2000\n",
      "3000\n",
      "4000\n",
      "5000\n",
      "6000\n",
      "7000\n",
      "8000\n",
      "9000\n",
      "10000\n",
      "0\n",
      "1000\n",
      "2000\n",
      "3000\n",
      "4000\n",
      "5000\n",
      "6000\n",
      "7000\n",
      "8000\n",
      "9000\n",
      "10000\n",
      "0\n",
      "1000\n",
      "2000\n",
      "3000\n",
      "4000\n",
      "5000\n",
      "6000\n",
      "7000\n",
      "8000\n",
      "9000\n",
      "10000\n",
      "0\n",
      "1000\n",
      "2000\n",
      "3000\n",
      "4000\n",
      "5000\n",
      "6000\n",
      "7000\n",
      "8000\n",
      "9000\n",
      "10000\n",
      "0\n",
      "1000\n",
      "2000\n",
      "3000\n",
      "4000\n",
      "5000\n",
      "6000\n",
      "7000\n",
      "8000\n",
      "9000\n",
      "10000\n",
      "0\n",
      "1000\n",
      "2000\n",
      "3000\n",
      "4000\n",
      "5000\n",
      "6000\n",
      "7000\n",
      "8000\n",
      "9000\n",
      "10000\n",
      "0\n",
      "1000\n",
      "2000\n",
      "3000\n",
      "4000\n",
      "5000\n",
      "6000\n",
      "7000\n",
      "8000\n",
      "9000\n",
      "10000\n",
      "0\n",
      "1000\n",
      "2000\n",
      "3000\n",
      "4000\n",
      "5000\n",
      "6000\n",
      "7000\n",
      "8000\n",
      "9000\n",
      "10000\n",
      "0\n",
      "1000\n",
      "2000\n",
      "3000\n",
      "4000\n",
      "5000\n",
      "6000\n",
      "7000\n",
      "8000\n",
      "9000\n",
      "10000\n",
      "0\n",
      "1000\n",
      "2000\n",
      "3000\n",
      "4000\n",
      "5000\n",
      "6000\n",
      "7000\n",
      "8000\n",
      "9000\n",
      "10000\n",
      "0\n",
      "1000\n",
      "2000\n",
      "3000\n",
      "4000\n",
      "5000\n",
      "6000\n",
      "7000\n",
      "8000\n",
      "9000\n",
      "10000\n",
      "0\n",
      "1000\n",
      "2000\n",
      "3000\n",
      "4000\n",
      "5000\n",
      "6000\n",
      "7000\n",
      "8000\n",
      "9000\n",
      "10000\n",
      "0\n",
      "1000\n",
      "2000\n",
      "3000\n",
      "4000\n",
      "5000\n",
      "6000\n",
      "7000\n",
      "8000\n",
      "9000\n",
      "10000\n",
      "0\n",
      "1000\n",
      "2000\n",
      "3000\n",
      "4000\n",
      "5000\n",
      "6000\n",
      "7000\n",
      "8000\n",
      "9000\n",
      "10000\n",
      "0\n",
      "1000\n",
      "2000\n",
      "3000\n",
      "4000\n",
      "5000\n",
      "6000\n",
      "7000\n",
      "8000\n",
      "9000\n",
      "10000\n",
      "0\n",
      "1000\n",
      "2000\n",
      "3000\n",
      "4000\n",
      "5000\n",
      "6000\n",
      "7000\n",
      "8000\n",
      "9000\n",
      "10000\n",
      "0\n",
      "1000\n",
      "2000\n",
      "3000\n",
      "4000\n",
      "5000\n",
      "6000\n",
      "7000\n",
      "8000\n",
      "9000\n",
      "10000\n",
      "0\n",
      "1000\n",
      "2000\n",
      "3000\n",
      "4000\n",
      "5000\n",
      "6000\n",
      "7000\n",
      "8000\n",
      "9000\n",
      "10000\n",
      "0\n",
      "1000\n",
      "2000\n",
      "3000\n",
      "4000\n",
      "5000\n",
      "6000\n",
      "7000\n",
      "8000\n",
      "9000\n",
      "10000\n",
      "0\n",
      "1000\n",
      "2000\n",
      "3000\n",
      "4000\n",
      "5000\n",
      "6000\n",
      "7000\n",
      "8000\n",
      "9000\n",
      "10000\n",
      "0\n",
      "1000\n",
      "2000\n",
      "3000\n",
      "4000\n",
      "5000\n",
      "6000\n",
      "7000\n",
      "8000\n",
      "9000\n",
      "10000\n",
      "0\n",
      "1000\n",
      "2000\n",
      "3000\n",
      "4000\n",
      "5000\n",
      "6000\n",
      "7000\n",
      "8000\n",
      "9000\n",
      "10000\n",
      "0\n",
      "1000\n",
      "2000\n",
      "3000\n",
      "4000\n",
      "5000\n",
      "6000\n",
      "7000\n",
      "8000\n",
      "9000\n",
      "10000\n",
      "0\n",
      "1000\n",
      "2000\n",
      "3000\n",
      "4000\n",
      "5000\n",
      "6000\n",
      "7000\n",
      "8000\n",
      "9000\n",
      "10000\n",
      "0\n",
      "1000\n",
      "2000\n",
      "3000\n",
      "4000\n",
      "5000\n",
      "6000\n",
      "7000\n",
      "8000\n",
      "9000\n",
      "10000\n",
      "0\n",
      "1000\n",
      "2000\n",
      "3000\n",
      "4000\n",
      "5000\n",
      "6000\n",
      "7000\n",
      "8000\n",
      "9000\n",
      "10000\n",
      "0\n",
      "1000\n",
      "2000\n",
      "3000\n",
      "4000\n",
      "5000\n",
      "6000\n"
     ]
    },
    {
     "ename": "KeyboardInterrupt",
     "evalue": "",
     "output_type": "error",
     "traceback": [
      "\u001b[0;31m---------------------------------------------------------------------------\u001b[0m",
      "\u001b[0;31mKeyboardInterrupt\u001b[0m                         Traceback (most recent call last)",
      "Cell \u001b[0;32mIn[233], line 6\u001b[0m\n\u001b[1;32m      4\u001b[0m \u001b[38;5;28;01mfor\u001b[39;00m top_slug \u001b[38;5;129;01min\u001b[39;00m completed_slugs:\n\u001b[1;32m      5\u001b[0m     own_slugs \u001b[38;5;241m=\u001b[39m cfu\u001b[38;5;241m.\u001b[39mown_list_from_db(top_slug)\n\u001b[0;32m----> 6\u001b[0m     overlap \u001b[38;5;241m=\u001b[39m \u001b[43mcfu\u001b[49m\u001b[38;5;241;43m.\u001b[39;49m\u001b[43mcount_overlaps\u001b[49m\u001b[43m(\u001b[49m\u001b[43mtop_slug\u001b[49m\u001b[43m,\u001b[49m\u001b[43mpw_dists\u001b[49m\u001b[43m,\u001b[49m\u001b[43mown_slugs\u001b[49m\u001b[43m)\u001b[49m\n\u001b[1;32m      7\u001b[0m     overlap_w_slug \u001b[38;5;241m=\u001b[39m [(x[\u001b[38;5;241m0\u001b[39m],x[\u001b[38;5;241m1\u001b[39m],x[\u001b[38;5;241m2\u001b[39m],top_slug) \u001b[38;5;28;01mfor\u001b[39;00m x \u001b[38;5;129;01min\u001b[39;00m overlap]\n\u001b[1;32m      8\u001b[0m     command \u001b[38;5;241m=\u001b[39m \u001b[38;5;124m\"\u001b[39m\u001b[38;5;124mINSERT INTO overlap_counts (distance,overlap, alt,slug) VALUES (\u001b[39m\u001b[38;5;132;01m%s\u001b[39;00m\u001b[38;5;124m, \u001b[39m\u001b[38;5;132;01m%s\u001b[39;00m\u001b[38;5;124m, \u001b[39m\u001b[38;5;132;01m%s\u001b[39;00m\u001b[38;5;124m, \u001b[39m\u001b[38;5;132;01m%s\u001b[39;00m\u001b[38;5;124m)\u001b[39m\u001b[38;5;124m\"\u001b[39m\n",
      "File \u001b[0;32m/global/scratch/tlundy/NFT_Research/nft_research/Dino/counterfeit_utils.py:22\u001b[0m, in \u001b[0;36mcount_overlaps\u001b[0;34m(top_slug, pw_dists, own_slugs)\u001b[0m\n\u001b[1;32m     20\u001b[0m count \u001b[38;5;241m=\u001b[39m \u001b[38;5;241m0\u001b[39m\n\u001b[1;32m     21\u001b[0m \u001b[38;5;28;01mfor\u001b[39;00m own_list \u001b[38;5;129;01min\u001b[39;00m own_slugs:\n\u001b[0;32m---> 22\u001b[0m     \u001b[38;5;28;01mif\u001b[39;00m \u001b[43mlabel\u001b[49m\u001b[43m \u001b[49m\u001b[38;5;129;43;01min\u001b[39;49;00m\u001b[43m \u001b[49m\u001b[43mown_list\u001b[49m:\n\u001b[1;32m     23\u001b[0m         count\u001b[38;5;241m+\u001b[39m\u001b[38;5;241m=\u001b[39m\u001b[38;5;241m1\u001b[39m\n\u001b[1;32m     24\u001b[0m count_to_overlap\u001b[38;5;241m.\u001b[39mappend((i,count,label))\n",
      "\u001b[0;31mKeyboardInterrupt\u001b[0m: "
     ]
    }
   ],
   "source": [
    "command = \"Select distinct slug from owner_lists\"\n",
    "rows = psql.execute_commands([command])\n",
    "command = \"Select distinct slug from overlap_counts\"\n",
    "rows2 = psql.execute_commands([command])\n",
    "completed_slugs = [x[0] for x in rows]\n",
    "print(len(completed_slugs))\n",
    "unfinished_slugs = [x[0] for x in rows2 if x[0] not in completed_slugs]\n",
    "print(len(unfinished_slugs))\n",
    "for top_slug in completed_slugs:\n",
    "    own_slugs = cfu.own_list_from_db(top_slug)\n",
    "    overlap = cfu.count_overlaps(top_slug,pw_dists,own_slugs)\n",
    "    overlap_w_slug = [(x[0],x[1],x[2],top_slug) for x in overlap]\n",
    "    command = \"INSERT INTO overlap_counts (distance,overlap, alt,slug) VALUES (%s, %s, %s, %s)\"\n",
    "    psql.batch_insert(command,overlap_w_slug)"
   ]
  },
  {
   "cell_type": "code",
   "execution_count": 235,
   "id": "83042afd-4685-4539-a1e0-8429b01eaa7a",
   "metadata": {},
   "outputs": [
    {
     "ename": "NameError",
     "evalue": "name 'df2' is not defined",
     "output_type": "error",
     "traceback": [
      "\u001b[0;31m---------------------------------------------------------------------------\u001b[0m",
      "\u001b[0;31mNameError\u001b[0m                                 Traceback (most recent call last)",
      "Cell \u001b[0;32mIn[235], line 1\u001b[0m\n\u001b[0;32m----> 1\u001b[0m \u001b[38;5;28;01mdel\u001b[39;00m df2\n",
      "\u001b[0;31mNameError\u001b[0m: name 'df2' is not defined"
     ]
    }
   ],
   "source": [
    "del df2"
   ]
  },
  {
   "cell_type": "code",
   "execution_count": null,
   "id": "289c8c1d-300b-4d85-89d9-189244feba2c",
   "metadata": {},
   "outputs": [],
   "source": []
  }
 ],
 "metadata": {
  "kernelspec": {
   "display_name": "nft_venv",
   "language": "python",
   "name": "nft_venv"
  },
  "language_info": {
   "codemirror_mode": {
    "name": "ipython",
    "version": 3
   },
   "file_extension": ".py",
   "mimetype": "text/x-python",
   "name": "python",
   "nbconvert_exporter": "python",
   "pygments_lexer": "ipython3",
   "version": "3.8.10"
  }
 },
 "nbformat": 4,
 "nbformat_minor": 5
}
