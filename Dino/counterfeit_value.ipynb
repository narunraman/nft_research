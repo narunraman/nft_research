{
 "cells": [
  {
   "cell_type": "code",
   "execution_count": 1,
   "id": "c0d5f65a-4ff8-4a42-b33f-2876c773180f",
   "metadata": {},
   "outputs": [],
   "source": [
    "%load_ext autoreload\n",
    "%autoreload 2\n",
    "import feature_extract\n",
    "import sys\n",
    "sys.path.append(\"..\")\n",
    "import torch\n",
    "import psql_methods as psql\n",
    "import pickle\n",
    "import alchemy_methods as alc\n",
    "from tqdm import tqdm\n",
    "import numpy as np\n",
    "import image_utils as imgs\n",
    "import opensea_methods as opse\n",
    "import multiprocessing\n",
    "import pandas as pd\n",
    "import feature_utils as feat\n",
    "import matplotlib.pyplot as plt\n",
    "import counterfeit_utils as cfu\n",
    "from scipy import stats"
   ]
  },
  {
   "cell_type": "code",
   "execution_count": 4,
   "id": "6644c2b8-f913-414a-9f95-1675539e28a8",
   "metadata": {},
   "outputs": [
    {
     "name": "stdout",
     "output_type": "stream",
     "text": [
      "103\n"
     ]
    },
    {
     "data": {
      "text/plain": [
       "['thecaptainz']"
      ]
     },
     "execution_count": 4,
     "metadata": {},
     "output_type": "execute_result"
    }
   ],
   "source": [
    "command = \"select distinct slug from objective_cf_num\"\n",
    "rows = psql.execute_commands([command])\n",
    "slugs = [row[0] for row in rows]\n",
    "command = \"select distinct slug from cf_sales\"\n",
    "rows = psql.execute_commands([command])\n",
    "done_slugs = [row[0] for row in rows]\n",
    "print(len(done_slugs))\n",
    "slugs_left = [x for x in slugs if x not in done_slugs]\n",
    "slugs_left"
   ]
  },
  {
   "cell_type": "code",
   "execution_count": null,
   "id": "284362c5-9508-4394-929b-33163fd2f5f4",
   "metadata": {},
   "outputs": [
    {
     "name": "stdout",
     "output_type": "stream",
     "text": [
      "('coolpetsnft', '18234', '0xaf5c4f0ddd48a6e5ae81538c401d8a6147b2411a', '0x1e2ab2c1ee48aa5c705e6a638087bf7fc1877095', 1692457799, 0.030000000000000002, 'WETH', '0x61e0082250f679cf3622d33ab188ac71af12019605cb233ad16115ec1642628c')\n",
      "2023-08-19 15:09:59\n",
      "('coolpetsnft', '943', '0xd502b0383fbf710da7c85614810f6ea109bb7ac2', '0xa9568370b7f9ef732fa2a5a0acdc70d80482a405', 1681788935, 0.05, 'WETH', '0xfd9987fdc65f3e681eddb4827ae5e7e987fc2d6df75d1036dad7e1a8f56a25cc')\n",
      "2023-04-18 03:35:35\n",
      "('coolpetsnft', '7511', '0x473b6f18a3c80a94cd736658745939aa4c72b47c', '0xfac512717266dff9f30fbb4a834a6297758f171c', 1676218343, 0.11960000000000001, 'ETH', '0xe6b4e42e97a95bcfbd5ddbaa72afe59a3b1cbf4119ac21388231532c7466f429')\n",
      "2023-02-12 16:12:23\n",
      "('coolpetsnft', '5248', '0x579b4721525292efb55998a40e0e4bd5519f1d1d', '0xbe19c3010005f4e0d520d071e01862926f969d6f', 1672187183, 0.10700000000000001, 'WETH', '0x02a826054791b257b978e27d1e214766e829d4346baceedeedba6328dc2cef71')\n",
      "2022-12-28 00:26:23\n",
      "('coolpetsnft', '11844', '0xb1a82bb39bbe20015462f038a0896584cceca7df', '0xf9ba7991ffc38bb8563781349f8b549e34cf347d', 1664757647, 0.19, 'ETH', '')\n",
      "2022-10-03 00:40:47\n",
      "('coolpetsnft', '9812', '0xf08412cc01e7d5e9ff4046ff346b27080644af08', '0x407ad819ab2bbe9d7ab39a1999fd82b0a55826c7', 1658513254, 0.23, 'ETH', '')\n",
      "2022-07-22 18:07:34\n",
      "('coolpetsnft', '14560', '0xe809b98c72c315f60552019ef33c3c3327472357', '0x8944bb6168f290343564b3fea76396cb46e0852c', 1653009007, 0.41000000000000003, 'ETH', '0xd45283c1513d385fabefbd6c242122200fd0a4e6cfa2a25ef7c0b7ed05664258')\n",
      "2022-05-20 01:10:07\n",
      "('coolpetsnft', '10260', '0xe0fab7b51262d7d6c5d6b5483a4b4721a456ea54', '0x552b6ad871f27a9729162c18d769050363f2d57e', 1650774916, 1.3, 'ETH', '0x2a15a0fe6136fed85be215a2224d794faf234db4aeed3b3d4e4049ebbc101940')\n",
      "2022-04-24 04:35:16\n",
      "('coolpetsnft', '3927', '0xcbe074d36af54a2f3c3dbe427af3d33bef88b576', '0x83c8f28c26bf6aaca652df1dbbe0e1b56f8baba2', 1649968151, 1.699, 'ETH', '0x1bdf3f1de5ade09165ec14fbf22dee9ce48188d4b920ee4f07db320fa12a5393')\n",
      "2022-04-14 20:29:11\n",
      "('coolpetsnft', '10755', '0x6bd741f551edb88fae6cb6b1ee87481c28ca83b1', '0x47ad77c5a4f5a8771c4b9b4bfc5171242ccf7a9c', 1647577726, 1.23, 'ETH', '0x8baf2cc09563c87d5ae640236cec37c7c6eae34334b72b0a32072a5924d8655b')\n",
      "2022-03-18 04:28:46\n",
      "('coolpetsnft', '12790', '0xc7a80033d1618f7df222e33f78a35b112a990829', '0x62ac381a3faf7b1f12072f7f1aeea221cbaf4bfd', 1645441818, 2.14, 'ETH', '0xb43ad27404dae66aa17b95a01757b6ea843088fa298135d8154dc0dde7280b2c')\n",
      "2022-02-21 11:10:18\n",
      "('coolpetsnft', '18367', '0x5abc9df7af8a7d41858d1f4c7e3692f0e6ff1367', '0xb9578f08466477af363d4652b7107e44e0109aba', 1644517200, 2.6, 'ETH', '0x1a4f67ea2e980faa0972d4c87c4b868c2fda211e2442e9a60d4bf1d4df389424')\n",
      "2022-02-10 18:20:00\n",
      "('coolpetsnft', '13959', '0xf79422609df615d0ca32cfa7eb305ca591bc909e', '0x4e2cb2ebe7299181bd982d89b352e1e6cc00e0a2', 1644255114, 2.08, 'ETH', '0x3f2b55ef19cc18fe9a8ba0d26785cfc27221a452bc387d50cc230cd2e7c22c9c')\n",
      "2022-02-07 17:31:54\n",
      "('coolpetsnft', '1488', '0xa2501eab283a0ea851fbf9d02cbc298fee8a1f62', '0x2ec947e55ca4128ed4f78f3193d01a882602f16d', 1643671910, 3.249, 'ETH', '0x1e704ba29e288e723b7922c8f73f6b2083eecab6360cccbd5666335247e1ba3a')\n",
      "2022-01-31 23:31:50\n",
      "('metroverse-genesis', '5211', '0x8e05d8f0af0c6467f8944122f22f7242b8f523e6', '0x1a0f228bf181bca9b7462cf063e757d2853f2ca2', 1668729047, 0.07500000000000001, 'ETH', '')\n",
      "2022-11-17 23:50:47\n",
      "('metroverse-genesis', '2628', '0x9cee3093a89c07c8db70e2cd4d7a6820d33f10ff', '0x325c770f2cec9dc506f563444c7543ed762da77a', 1652668379, 0.46, 'ETH', '0x5796083477f792bb5506dedf6e5b7b73eae53359b42e58c51ffde7ad4ff16f3a')\n",
      "2022-05-16 02:32:59\n",
      "('metroverse-genesis', '5362', '0x5228ae3116e914807b022744f6f5e0f7b9407f61', '0x16cfcc6de64a41927e4f9bdd0c958d2a21cd16b3', 1647692790, 1.9900000000000002, 'ETH', '0x176bdcdd6169019ea0eedf6e603f9187e6921ae5dc3dce555a3015ae2bf39ee0')\n",
      "2022-03-19 12:26:30\n",
      "('metroverse-genesis', '9916', '0xe7301bb5a55d9db75d67682f74603381fc039f5e', '0x94a7fd87a851290bbece5a11de3fe819c33e337d', 1645159661, 1.9000000000000001, 'ETH', '0x50e01ee15c169d0ddf0d5b500c18978ab70b01337ed6d4e009ce01c7fe174c4c')\n",
      "2022-02-18 04:47:41\n",
      "('metroverse-genesis', '9187', '0x8baaeaf155fb8fadec105dd45a23064d761f22bd', '0xcb57a32a7febb93d982ffb32415e41fc42901031', 1643415649, 1.55, 'ETH', '0xf89e3ee655d1edffefbeba69a984df21a12d6222bd31fc3d7d0d5908e04e6f21')\n",
      "2022-01-29 00:20:49\n",
      "('metroverse-genesis', '6444', '0x13fdbbd094b80ace9bf7313c043bc2151e2eadfd', '0x8fead9e31ab0b41ed6c4d0adf2372d30618d4c8d', 1643000760, 0.9500000000000001, 'ETH', '0xf27b6dab6cb755c7e4797bd04f9a823be56c80dd012f00bb39ee53957fc2857d')\n",
      "2022-01-24 05:06:00\n",
      "('metroverse-genesis', '6318', '0x19ed20736c0bbe809b33f6c72ee853d710b315af', '0xde25b8bf8149913097afa99ef52f9b6bf86de1ec', 1642803596, 0.8800000000000001, 'ETH', '0x87d2a3136a551b446bd363dc5487866a6f563d9738550dc1e8df4013d801522c')\n",
      "2022-01-21 22:19:56\n",
      "('metroverse-genesis', '8756', '0xd466b58bcc740b2535d5e338f94649775a6063d7', '0x6bce382a59ae63f457dbce9921fef090667fa159', 1642628282, 0.6999999999000001, 'ETH', '0xecc80677984037bdcbb36098c049e5a247c9e2cc312b805c2b89a76f9ab5d756')\n",
      "2022-01-19 21:38:02\n",
      "('metroverse-genesis', '2685', '0x870b901de303326e34214b54ff0aa5564b912739', '0x0522a1de0ba6ee6c660272e4236e9855dd6ba301', 1642549029, 0.65, 'ETH', '0x3836389cc37c8b739bec1fcf8e7985aa64636e1fe05ffa4efb9848590c89d1f1')\n",
      "2022-01-18 23:37:09\n"
     ]
    }
   ],
   "source": [
    "#This pulls slugs which have counterfeits stored but no sales\n",
    "sales = []\n",
    "command = \"Insert into cf_sales (slug,token_id,seller,buyer,timestamp,sale_price,payment_token,transaction) Values (%s,%s,%s,%s,%s,%s,%s,%s)\"\n",
    "for slug in slugs_left:\n",
    "    sales = opse.pull_sales_data(collection_slug=slug)\n",
    "    psql.batch_insert(command,sales)\n",
    "\n"
   ]
  },
  {
   "cell_type": "code",
   "execution_count": 26,
   "id": "41aa20e2-61bb-4002-aeb3-59bdc738cca4",
   "metadata": {},
   "outputs": [
    {
     "data": {
      "text/plain": [
       "('moonbirds-oddities',\n",
       " '6050',\n",
       " '0xa1fbc0a9ff967ce51b8ea952b35ff7005cd4cc63',\n",
       " '0x4d3db3a070d5144ec4faddd7bbabbd6ed4afcf8f',\n",
       " 1710534323,\n",
       " 0.045000000000000005,\n",
       " 'ETH',\n",
       " '0x4fca477a1d5e998be0dffb020f340d12f0df08dcbb42fca735360c8bbe1f312f')"
      ]
     },
     "execution_count": 26,
     "metadata": {},
     "output_type": "execute_result"
    }
   ],
   "source": [
    "sales[0]"
   ]
  },
  {
   "cell_type": "code",
   "execution_count": 17,
   "id": "e59ba76d-d3e3-4f2b-b1c1-345dbbab9039",
   "metadata": {},
   "outputs": [],
   "source": [
    "command = \"Insert into cf_sales (slug,token_id,seller,buyer,timestamp,sale_price,payment_token,transaction) Values (%s,%s,%s,%s,%s,%s,%s,%s)\"\n",
    "psql.batch_insert(command,sales[0])"
   ]
  },
  {
   "cell_type": "code",
   "execution_count": null,
   "id": "d4773647-6ae7-4e99-89c0-c7b42045f799",
   "metadata": {},
   "outputs": [],
   "source": [
    "ele_date = cfu.creation_date_from_db('0xmfers')\n",
    "sales = cfu.sales_from_db('mfers')\n",
    "day_sales = cfu.timestamps_to_dates(sales)\n",
    "df_sales = pd.DataFrame(day_sales,columns=['day','price'])\n",
    "df_sales.query(f\"day=='{ele_date1}'\")['price'].mean()"
   ]
  },
  {
   "cell_type": "code",
   "execution_count": null,
   "id": "3b243d07-3851-489e-bc5b-94ea024712e3",
   "metadata": {},
   "outputs": [],
   "source": [
    "ap_df = df_sales.groupby('day')['price'].mean().reset_index()\n",
    "filtered_df = ap_df[ap_df['day'].str.contains('2022-02')]\n",
    "print(ele_date)\n",
    "filtered_df"
   ]
  },
  {
   "cell_type": "code",
   "execution_count": 6,
   "id": "ac6737ba-564d-4462-ad8d-321a7ad94edf",
   "metadata": {},
   "outputs": [
    {
     "name": "stdout",
     "output_type": "stream",
     "text": [
      "('2024-01-28', 0.5)\n"
     ]
    }
   ],
   "source": [
    "mf_df = cfu.day_sales_from_db('mfers')"
   ]
  },
  {
   "cell_type": "code",
   "execution_count": 35,
   "id": "95a4f418-df5f-40a0-9454-176c9c843051",
   "metadata": {},
   "outputs": [
    {
     "data": {
      "text/plain": [
       "(0.626739730247593, 0.519856331868132)"
      ]
     },
     "execution_count": 35,
     "metadata": {},
     "output_type": "execute_result"
    }
   ],
   "source": [
    "cfu.compute_interval(10,mf_df['day'][1000],mf_df)"
   ]
  },
  {
   "cell_type": "code",
   "execution_count": 91,
   "id": "55785af6-9773-4bca-97be-07c892d856ca",
   "metadata": {},
   "outputs": [
    {
     "data": {
      "image/png": "[encoded data removed]",
      "text/plain": [
       "<Figure size 640x480 with 1 Axes>"
      ]
     },
     "metadata": {},
     "output_type": "display_data"
    }
   ],
   "source": [
    "top_slugs = cfu.get_top_slugs()\n",
    "interval = 20\n",
    "for top_slug in top_slugs[15:16]:\n",
    "    top_slug = 'azuki'\n",
    "    if top_slug=='pudgypenguins':\n",
    "        continue\n",
    "    intervals = cfu.compute_all_intervals(top_slug,interval)\n",
    "    y = [j[3][1]-j[3][0] for j in intervals]\n",
    "    x = [j[1] for j in intervals]\n",
    "    plt.scatter(x,y)\n",
    "    plt.title(f\"{top_slug} value changes from counterfeits using {interval} window\")\n",
    "    plt.xlabel(\"Counterfeit Volume\")\n",
    "    plt.ylabel(\"Total change in price\")\n",
    "    plt.show()"
   ]
  },
  {
   "cell_type": "code",
   "execution_count": 92,
   "id": "b9fc4e4a-4095-42c0-ba21-02c1576e24fd",
   "metadata": {},
   "outputs": [
    {
     "name": "stdout",
     "output_type": "stream",
     "text": [
      "[datetime.datetime(2022, 2, 4, 0, 0), datetime.datetime(2023, 6, 21, 0, 0), datetime.datetime(2023, 6, 15, 0, 0), datetime.datetime(2023, 4, 5, 0, 0), datetime.datetime(2022, 9, 25, 0, 0), datetime.datetime(2022, 7, 2, 0, 0), datetime.datetime(2022, 3, 12, 0, 0), datetime.datetime(2023, 11, 20, 0, 0), datetime.datetime(2023, 2, 28, 0, 0), datetime.datetime(2023, 7, 27, 0, 0), datetime.datetime(2022, 8, 7, 0, 0), datetime.datetime(2023, 9, 2, 0, 0), datetime.datetime(2022, 6, 15, 0, 0), datetime.datetime(2022, 9, 12, 0, 0), datetime.datetime(2022, 3, 29, 0, 0), datetime.datetime(2022, 6, 29, 0, 0), datetime.datetime(2022, 10, 14, 0, 0), datetime.datetime(2022, 2, 23, 0, 0), datetime.datetime(2023, 7, 9, 0, 0), datetime.datetime(2022, 3, 4, 0, 0), datetime.datetime(2023, 9, 7, 0, 0), datetime.datetime(2022, 9, 1, 0, 0), datetime.datetime(2022, 2, 3, 0, 0), datetime.datetime(2022, 6, 9, 0, 0), datetime.datetime(2022, 12, 22, 0, 0), datetime.datetime(2022, 9, 26, 0, 0), datetime.datetime(2022, 6, 30, 0, 0), datetime.datetime(2023, 7, 4, 0, 0), datetime.datetime(2022, 4, 10, 0, 0), datetime.datetime(2023, 6, 30, 0, 0), datetime.datetime(2021, 11, 5, 0, 0), datetime.datetime(2022, 8, 23, 0, 0), datetime.datetime(2022, 10, 23, 0, 0), datetime.datetime(2023, 11, 1, 0, 0), datetime.datetime(2022, 10, 6, 0, 0), datetime.datetime(2023, 2, 2, 0, 0), datetime.datetime(2022, 2, 15, 0, 0), datetime.datetime(2022, 2, 20, 0, 0), datetime.datetime(2022, 8, 10, 0, 0), datetime.datetime(2022, 11, 17, 0, 0), datetime.datetime(2022, 4, 14, 0, 0), datetime.datetime(2022, 8, 29, 0, 0), datetime.datetime(2022, 7, 6, 0, 0), datetime.datetime(2022, 4, 8, 0, 0), datetime.datetime(2023, 6, 28, 0, 0), datetime.datetime(2023, 1, 9, 0, 0), datetime.datetime(2022, 9, 15, 0, 0), datetime.datetime(2023, 1, 31, 0, 0), datetime.datetime(2022, 12, 16, 0, 0), datetime.datetime(2023, 2, 4, 0, 0)]\n",
      "Minimum Date: 2021-11-05\n",
      "Maximum Date: 2023-11-20\n"
     ]
    }
   ],
   "source": [
    "from datetime import datetime\n",
    "date_objects = [datetime.strptime(date_str, '%Y-%m-%d') for _,_,date_str, _ in intervals]\n",
    "print(date_objects)\n",
    "min_date = min(date_objects)\n",
    "max_date = max(date_objects)\n",
    "print(\"Minimum Date:\", min_date.strftime('%Y-%m-%d'))\n",
    "print(\"Maximum Date:\", max_date.strftime('%Y-%m-%d'))"
   ]
  },
  {
   "cell_type": "code",
   "execution_count": 95,
   "id": "0428a915-74ec-4247-99f9-989a4e1f4ab9",
   "metadata": {},
   "outputs": [
    {
     "name": "stdout",
     "output_type": "stream",
     "text": [
      "[8.580000000000002, -7.93, -7.799999999999999, 1.2400000000000002, 0.22499999999999964, 1.0, 5.850000000000001, 0.3240001000000001, -0.5483650000000004, -1.8799501000000003, -2.4949499999999993, -0.3200000000000003, 1.200000000000001, 2.5, 11.22, 1.1499999999999986, 1.6499999999999986, -2.6629999999999985, -2.8225, -1.1900000000000013, -0.3084450000000003, 2.2899000000000003, 8.783100000000001, -0.9499999999999993, 1.0, 0.3000000000000007, 1.1054999999999993, -2.0525, 5.200000000000003, -4.749999999999999, nan, 0.5999999999999996, -0.3000000000000007, 0.8500000000000005, 1.2690000000000001, 0.75, 1.700000000000001, -2.200000000000001, -1.72445, 1.0, 2.0100000000000016, 0.9300000000000006, 0.019999999999999574, 5.605500000000003, -7.09, 2.460000000000001, 2.6000000000000014, 0.20000000000000107, -0.5050000000000008, 0.7099999999999991]\n",
      "0.3573928924698795\n",
      "0.5467926530612247\n"
     ]
    },
    {
     "data": {
      "image/png": "[encoded data removed]",
      "text/plain": [
       "<Figure size 640x480 with 1 Axes>"
      ]
     },
     "metadata": {},
     "output_type": "display_data"
    }
   ],
   "source": [
    "import seaborn as sns\n",
    "sample_intervals = cfu.sample_intervals(top_slug,min_date,max_date,1000,20)\n",
    "data = [j[1][1]-j[1][0] for j in sample_intervals]\n",
    "fig, ax = plt.subplots()\n",
    "sns.ecdfplot(data, color='blue', ax=ax, label='Data 1')\n",
    "sns.ecdfplot(y, color='orange', ax=ax, label='Data 2')\n",
    "data1 = [x for x in data if not np.isnan(x)]\n",
    "data2 = [x for x in y if not np.isnan(x)]\n",
    "mean_data1 = np.mean(data1)\n",
    "mean_data2 = np.mean(data2)\n",
    "print(y)\n",
    "print(mean_data1)\n",
    "print(mean_data2)\n",
    "# Add vertical lines for the means\n",
    "plt.axvline(mean_data1, color='blue', linestyle='--', label='Mean Data 1')\n",
    "plt.axvline(mean_data2, color='orange', linestyle='--', label='Mean Data 2')\n",
    "ax.legend()\n",
    "plt.xlabel(\"Values\")\n",
    "plt.ylabel(\"Probability Density\")\n",
    "plt.title(\"Cumalative Density Function (PDF)\")\n",
    "plt.show()"
   ]
  },
  {
   "cell_type": "code",
   "execution_count": 33,
   "id": "3131c412-0feb-42a3-9a43-744d9c0a5a74",
   "metadata": {},
   "outputs": [
    {
     "data": {
      "text/plain": [
       "['boredapeyachtclub',\n",
       " 'cryptopunks',\n",
       " 'azuki',\n",
       " 'proof-moonbirds',\n",
       " 'doodles-official',\n",
       " 'pudgypenguins',\n",
       " 'beanzofficial',\n",
       " 'cool-cats-nft',\n",
       " 'milady',\n",
       " '0n1-force',\n",
       " 'world-of-women-nft',\n",
       " 'cryptoadz-by-gremplin',\n",
       " 'mfers',\n",
       " 'goblintownwtf',\n",
       " 'hapeprime',\n",
       " 'invisiblefriends',\n",
       " 'mekaverse',\n",
       " 'adidasoriginals',\n",
       " 'fluf',\n",
       " 'karafuru',\n",
       " 'genesis-creepz',\n",
       " 'nakamigos',\n",
       " 'sappy-seals',\n",
       " 'kaiju-kingz',\n",
       " 'cyberkongz']"
      ]
     },
     "execution_count": 33,
     "metadata": {},
     "output_type": "execute_result"
    }
   ],
   "source": [
    "top_slugs"
   ]
  },
  {
   "cell_type": "code",
   "execution_count": null,
   "id": "a4e2ebdc-adaa-4215-b20b-6e3dc109f60c",
   "metadata": {},
   "outputs": [
    {
     "name": "stderr",
     "output_type": "stream",
     "text": [
      "  9%|████▎                                         | 5/54 [03:39<36:52, 45.15s/it]/global/scratch/tlundy/NFT_Research/nft_research/Dino/counterfeit_utils.py:360: RuntimeWarning: divide by zero encountered in power\n",
      "  bw_scale = np.power(len(indices), -1/5)\n",
      " 24%|██████████▊                                  | 13/54 [08:13<25:17, 37.00s/it]/global/scratch/tlundy/NFT_Research/nft_research/Dino/counterfeit_utils.py:360: RuntimeWarning: divide by zero encountered in power\n",
      "  bw_scale = np.power(len(indices), -1/5)\n",
      " 44%|████████████████████                         | 24/54 [15:15<25:35, 51.20s/it]"
     ]
    },
    {
     "name": "stdout",
     "output_type": "stream",
     "text": [
      "No creation data for slug inhabitants-generative\n"
     ]
    },
    {
     "name": "stderr",
     "output_type": "stream",
     "text": [
      " 54%|████████████████████████▏                    | 29/54 [20:02<18:19, 43.96s/it]/global/scratch/tlundy/NFT_Research/nft_venv/lib/python3.8/site-packages/numpy/core/fromnumeric.py:3464: RuntimeWarning: Mean of empty slice.\n",
      "  return _methods._mean(a, axis=axis, dtype=dtype,\n",
      "/global/scratch/tlundy/NFT_Research/nft_venv/lib/python3.8/site-packages/numpy/core/_methods.py:192: RuntimeWarning: invalid value encountered in scalar divide\n",
      "  ret = ret.dtype.type(ret / rcount)\n",
      " 72%|████████████████████████████████▌            | 39/54 [26:42<10:49, 43.30s/it]"
     ]
    },
    {
     "name": "stdout",
     "output_type": "stream",
     "text": [
      "No creation data for slug inhabitants-generative\n"
     ]
    },
    {
     "name": "stderr",
     "output_type": "stream",
     "text": [
      " 74%|█████████████████████████████████▎           | 40/54 [26:53<07:52, 33.78s/it]/global/scratch/tlundy/NFT_Research/nft_venv/lib/python3.8/site-packages/numpy/core/fromnumeric.py:3464: RuntimeWarning: Mean of empty slice.\n",
      "  return _methods._mean(a, axis=axis, dtype=dtype,\n",
      "/global/scratch/tlundy/NFT_Research/nft_venv/lib/python3.8/site-packages/numpy/core/_methods.py:192: RuntimeWarning: invalid value encountered in scalar divide\n",
      "  ret = ret.dtype.type(ret / rcount)\n",
      "100%|█████████████████████████████████████████████| 54/54 [31:54<00:00, 35.45s/it]\n",
      "  9%|████▎                                         | 5/54 [03:38<36:55, 45.21s/it]/global/scratch/tlundy/NFT_Research/nft_research/Dino/counterfeit_utils.py:360: RuntimeWarning: divide by zero encountered in power\n",
      "  bw_scale = np.power(len(indices), -1/5)\n",
      " 24%|██████████▊                                  | 13/54 [08:13<25:19, 37.07s/it]/global/scratch/tlundy/NFT_Research/nft_research/Dino/counterfeit_utils.py:360: RuntimeWarning: divide by zero encountered in power\n",
      "  bw_scale = np.power(len(indices), -1/5)\n",
      " 44%|████████████████████                         | 24/54 [15:16<25:37, 51.26s/it]"
     ]
    },
    {
     "name": "stdout",
     "output_type": "stream",
     "text": [
      "No creation data for slug inhabitants-generative\n"
     ]
    },
    {
     "name": "stderr",
     "output_type": "stream",
     "text": [
      " 72%|████████████████████████████████▌            | 39/54 [26:42<10:52, 43.50s/it]"
     ]
    },
    {
     "name": "stdout",
     "output_type": "stream",
     "text": [
      "No creation data for slug inhabitants-generative\n"
     ]
    },
    {
     "name": "stderr",
     "output_type": "stream",
     "text": [
      " 74%|█████████████████████████████████▎           | 40/54 [26:53<07:55, 33.99s/it]/global/scratch/tlundy/NFT_Research/nft_venv/lib/python3.8/site-packages/numpy/core/fromnumeric.py:3464: RuntimeWarning: Mean of empty slice.\n",
      "  return _methods._mean(a, axis=axis, dtype=dtype,\n",
      "/global/scratch/tlundy/NFT_Research/nft_venv/lib/python3.8/site-packages/numpy/core/_methods.py:192: RuntimeWarning: invalid value encountered in scalar divide\n",
      "  ret = ret.dtype.type(ret / rcount)\n",
      "100%|█████████████████████████████████████████████| 54/54 [31:54<00:00, 35.45s/it]\n",
      "  9%|████▎                                         | 5/54 [03:39<36:57, 45.25s/it]/global/scratch/tlundy/NFT_Research/nft_research/Dino/counterfeit_utils.py:360: RuntimeWarning: divide by zero encountered in power\n",
      "  bw_scale = np.power(len(indices), -1/5)\n",
      " 24%|██████████▊                                  | 13/54 [08:14<25:27, 37.27s/it]/global/scratch/tlundy/NFT_Research/nft_research/Dino/counterfeit_utils.py:360: RuntimeWarning: divide by zero encountered in power\n",
      "  bw_scale = np.power(len(indices), -1/5)\n",
      " 44%|████████████████████                         | 24/54 [15:17<25:34, 51.14s/it]"
     ]
    },
    {
     "name": "stdout",
     "output_type": "stream",
     "text": [
      "No creation data for slug inhabitants-generative\n"
     ]
    },
    {
     "name": "stderr",
     "output_type": "stream",
     "text": [
      " 72%|████████████████████████████████▌            | 39/54 [26:50<10:56, 43.76s/it]"
     ]
    },
    {
     "name": "stdout",
     "output_type": "stream",
     "text": [
      "No creation data for slug inhabitants-generative\n"
     ]
    },
    {
     "name": "stderr",
     "output_type": "stream",
     "text": [
      " 74%|█████████████████████████████████▎           | 40/54 [27:02<07:57, 34.14s/it]/global/scratch/tlundy/NFT_Research/nft_venv/lib/python3.8/site-packages/numpy/core/fromnumeric.py:3464: RuntimeWarning: Mean of empty slice.\n",
      "  return _methods._mean(a, axis=axis, dtype=dtype,\n",
      "/global/scratch/tlundy/NFT_Research/nft_venv/lib/python3.8/site-packages/numpy/core/_methods.py:192: RuntimeWarning: invalid value encountered in scalar divide\n",
      "  ret = ret.dtype.type(ret / rcount)\n",
      "100%|█████████████████████████████████████████████| 54/54 [32:01<00:00, 35.59s/it]\n",
      "  9%|████▎                                         | 5/54 [03:41<37:22, 45.77s/it]/global/scratch/tlundy/NFT_Research/nft_research/Dino/counterfeit_utils.py:360: RuntimeWarning: divide by zero encountered in power\n",
      "  bw_scale = np.power(len(indices), -1/5)\n",
      " 24%|██████████▊                                  | 13/54 [08:18<25:30, 37.32s/it]/global/scratch/tlundy/NFT_Research/nft_research/Dino/counterfeit_utils.py:360: RuntimeWarning: divide by zero encountered in power\n",
      "  bw_scale = np.power(len(indices), -1/5)\n",
      " 44%|████████████████████                         | 24/54 [15:24<25:48, 51.61s/it]"
     ]
    },
    {
     "name": "stdout",
     "output_type": "stream",
     "text": [
      "No creation data for slug inhabitants-generative\n"
     ]
    },
    {
     "name": "stderr",
     "output_type": "stream",
     "text": [
      " 54%|████████████████████████▏                    | 29/54 [20:13<18:24, 44.17s/it]/global/scratch/tlundy/NFT_Research/nft_venv/lib/python3.8/site-packages/numpy/core/fromnumeric.py:3464: RuntimeWarning: Mean of empty slice.\n",
      "  return _methods._mean(a, axis=axis, dtype=dtype,\n",
      "/global/scratch/tlundy/NFT_Research/nft_venv/lib/python3.8/site-packages/numpy/core/_methods.py:192: RuntimeWarning: invalid value encountered in scalar divide\n",
      "  ret = ret.dtype.type(ret / rcount)\n",
      " 72%|████████████████████████████████▌            | 39/54 [27:01<10:59, 43.98s/it]"
     ]
    },
    {
     "name": "stdout",
     "output_type": "stream",
     "text": [
      "No creation data for slug inhabitants-generative\n"
     ]
    },
    {
     "name": "stderr",
     "output_type": "stream",
     "text": [
      " 74%|█████████████████████████████████▎           | 40/54 [27:13<08:01, 34.39s/it]/global/scratch/tlundy/NFT_Research/nft_venv/lib/python3.8/site-packages/numpy/core/fromnumeric.py:3464: RuntimeWarning: Mean of empty slice.\n",
      "  return _methods._mean(a, axis=axis, dtype=dtype,\n",
      "/global/scratch/tlundy/NFT_Research/nft_venv/lib/python3.8/site-packages/numpy/core/_methods.py:192: RuntimeWarning: invalid value encountered in scalar divide\n",
      "  ret = ret.dtype.type(ret / rcount)\n",
      "100%|█████████████████████████████████████████████| 54/54 [32:15<00:00, 35.84s/it]\n",
      "  9%|████▎                                         | 5/54 [03:39<36:55, 45.21s/it]/global/scratch/tlundy/NFT_Research/nft_research/Dino/counterfeit_utils.py:360: RuntimeWarning: divide by zero encountered in power\n",
      "  bw_scale = np.power(len(indices), -1/5)\n",
      " 24%|██████████▊                                  | 13/54 [08:12<25:13, 36.91s/it]/global/scratch/tlundy/NFT_Research/nft_research/Dino/counterfeit_utils.py:360: RuntimeWarning: divide by zero encountered in power\n",
      "  bw_scale = np.power(len(indices), -1/5)\n",
      " 44%|████████████████████                         | 24/54 [15:16<25:45, 51.50s/it]"
     ]
    },
    {
     "name": "stdout",
     "output_type": "stream",
     "text": [
      "No creation data for slug inhabitants-generative\n"
     ]
    },
    {
     "name": "stderr",
     "output_type": "stream",
     "text": [
      " 72%|████████████████████████████████▌            | 39/54 [26:42<10:50, 43.39s/it]"
     ]
    },
    {
     "name": "stdout",
     "output_type": "stream",
     "text": [
      "No creation data for slug inhabitants-generative\n"
     ]
    },
    {
     "name": "stderr",
     "output_type": "stream",
     "text": [
      "100%|█████████████████████████████████████████████| 54/54 [31:54<00:00, 35.45s/it]\n",
      "  9%|████▎                                         | 5/54 [03:37<36:43, 44.97s/it]/global/scratch/tlundy/NFT_Research/nft_research/Dino/counterfeit_utils.py:360: RuntimeWarning: divide by zero encountered in power\n",
      "  bw_scale = np.power(len(indices), -1/5)\n",
      " 24%|██████████▊                                  | 13/54 [08:12<25:17, 37.02s/it]/global/scratch/tlundy/NFT_Research/nft_research/Dino/counterfeit_utils.py:360: RuntimeWarning: divide by zero encountered in power\n",
      "  bw_scale = np.power(len(indices), -1/5)\n",
      " 44%|████████████████████                         | 24/54 [15:16<25:38, 51.29s/it]"
     ]
    },
    {
     "name": "stdout",
     "output_type": "stream",
     "text": [
      "No creation data for slug inhabitants-generative\n"
     ]
    },
    {
     "name": "stderr",
     "output_type": "stream",
     "text": [
      " 72%|████████████████████████████████▌            | 39/54 [26:44<10:50, 43.34s/it]"
     ]
    },
    {
     "name": "stdout",
     "output_type": "stream",
     "text": [
      "No creation data for slug inhabitants-generative\n"
     ]
    },
    {
     "name": "stderr",
     "output_type": "stream",
     "text": [
      "100%|█████████████████████████████████████████████| 54/54 [31:55<00:00, 35.47s/it]\n",
      "  9%|████▎                                         | 5/54 [03:40<37:06, 45.43s/it]/global/scratch/tlundy/NFT_Research/nft_research/Dino/counterfeit_utils.py:360: RuntimeWarning: divide by zero encountered in power\n",
      "  bw_scale = np.power(len(indices), -1/5)\n",
      " 24%|██████████▊                                  | 13/54 [08:16<25:25, 37.21s/it]/global/scratch/tlundy/NFT_Research/nft_research/Dino/counterfeit_utils.py:360: RuntimeWarning: divide by zero encountered in power\n",
      "  bw_scale = np.power(len(indices), -1/5)\n",
      " 44%|████████████████████                         | 24/54 [15:18<25:32, 51.08s/it]"
     ]
    },
    {
     "name": "stdout",
     "output_type": "stream",
     "text": [
      "No creation data for slug inhabitants-generative\n"
     ]
    },
    {
     "name": "stderr",
     "output_type": "stream",
     "text": [
      " 72%|████████████████████████████████▌            | 39/54 [26:50<10:53, 43.54s/it]"
     ]
    },
    {
     "name": "stdout",
     "output_type": "stream",
     "text": [
      "No creation data for slug inhabitants-generative\n"
     ]
    },
    {
     "name": "stderr",
     "output_type": "stream",
     "text": [
      "100%|█████████████████████████████████████████████| 54/54 [32:02<00:00, 35.60s/it]\n",
      "  9%|████▎                                         | 5/54 [03:40<37:09, 45.50s/it]/global/scratch/tlundy/NFT_Research/nft_research/Dino/counterfeit_utils.py:360: RuntimeWarning: divide by zero encountered in power\n",
      "  bw_scale = np.power(len(indices), -1/5)\n",
      " 24%|██████████▊                                  | 13/54 [08:15<25:19, 37.07s/it]/global/scratch/tlundy/NFT_Research/nft_research/Dino/counterfeit_utils.py:360: RuntimeWarning: divide by zero encountered in power\n",
      "  bw_scale = np.power(len(indices), -1/5)\n",
      " 44%|████████████████████                         | 24/54 [15:19<25:38, 51.29s/it]"
     ]
    },
    {
     "name": "stdout",
     "output_type": "stream",
     "text": [
      "No creation data for slug inhabitants-generative\n"
     ]
    },
    {
     "name": "stderr",
     "output_type": "stream",
     "text": [
      " 72%|████████████████████████████████▌            | 39/54 [26:57<11:00, 44.01s/it]"
     ]
    },
    {
     "name": "stdout",
     "output_type": "stream",
     "text": [
      "No creation data for slug inhabitants-generative\n"
     ]
    },
    {
     "name": "stderr",
     "output_type": "stream",
     "text": [
      "100%|█████████████████████████████████████████████| 54/54 [32:11<00:00, 35.76s/it]\n",
      "  9%|████▎                                         | 5/54 [03:38<36:47, 45.05s/it]/global/scratch/tlundy/NFT_Research/nft_research/Dino/counterfeit_utils.py:360: RuntimeWarning: divide by zero encountered in power\n",
      "  bw_scale = np.power(len(indices), -1/5)\n",
      " 24%|██████████▊                                  | 13/54 [08:13<25:22, 37.14s/it]/global/scratch/tlundy/NFT_Research/nft_research/Dino/counterfeit_utils.py:360: RuntimeWarning: divide by zero encountered in power\n",
      "  bw_scale = np.power(len(indices), -1/5)\n",
      " 44%|████████████████████                         | 24/54 [15:15<25:33, 51.12s/it]"
     ]
    },
    {
     "name": "stdout",
     "output_type": "stream",
     "text": [
      "No creation data for slug inhabitants-generative\n"
     ]
    },
    {
     "name": "stderr",
     "output_type": "stream",
     "text": [
      " 72%|████████████████████████████████▌            | 39/54 [26:42<10:52, 43.49s/it]"
     ]
    },
    {
     "name": "stdout",
     "output_type": "stream",
     "text": [
      "No creation data for slug inhabitants-generative\n"
     ]
    },
    {
     "name": "stderr",
     "output_type": "stream",
     "text": [
      "100%|█████████████████████████████████████████████| 54/54 [31:53<00:00, 35.43s/it]\n",
      "  9%|████▎                                         | 5/54 [03:38<36:55, 45.21s/it]/global/scratch/tlundy/NFT_Research/nft_research/Dino/counterfeit_utils.py:360: RuntimeWarning: divide by zero encountered in power\n",
      "  bw_scale = np.power(len(indices), -1/5)\n",
      " 24%|██████████▊                                  | 13/54 [08:15<25:33, 37.40s/it]/global/scratch/tlundy/NFT_Research/nft_research/Dino/counterfeit_utils.py:360: RuntimeWarning: divide by zero encountered in power\n",
      "  bw_scale = np.power(len(indices), -1/5)\n",
      " 44%|████████████████████                         | 24/54 [15:19<25:43, 51.44s/it]"
     ]
    },
    {
     "name": "stdout",
     "output_type": "stream",
     "text": [
      "No creation data for slug inhabitants-generative\n"
     ]
    },
    {
     "name": "stderr",
     "output_type": "stream",
     "text": [
      " 72%|████████████████████████████████▌            | 39/54 [26:47<10:50, 43.36s/it]"
     ]
    },
    {
     "name": "stdout",
     "output_type": "stream",
     "text": [
      "No creation data for slug inhabitants-generative\n"
     ]
    },
    {
     "name": "stderr",
     "output_type": "stream",
     "text": [
      "100%|█████████████████████████████████████████████| 54/54 [31:59<00:00, 35.55s/it]\n",
      "  9%|████▎                                         | 5/54 [03:40<37:14, 45.60s/it]"
     ]
    }
   ],
   "source": [
    "import logging\n",
    "window_size = [1,2,5,10]\n",
    "bandwidths = [100,50,25,10,5]\n",
    "logging.basicConfig(filename=f'cf_value.log', level=logging.INFO, format='%(asctime)s - %(levelname)s - %(message)s')\n",
    "logger = logging.getLogger()\n",
    "p_results = []\n",
    "df_dict = {}\n",
    "for bandwidth in bandwidths:\n",
    "    logger.info(f\"Bandwidth {bandwidth}\")\n",
    "    for window in window_size:\n",
    "        logger.info(f\"window {window}\")\n",
    "        results = cfu.plot_all_value_comparisons(window,50,500,5,bandwidth=bandwidth,logger=logger)\n",
    "        for result in results: \n",
    "            # Compute the mean\n",
    "            data = result[1]\n",
    "            mean_value = np.mean(data)\n",
    "            # Compute percentiles\n",
    "            p_25 = np.percentile(data, 25)\n",
    "            p_75 = np.percentile(data, 75)\n",
    "            p_50 = np.percentile(data, 50)\n",
    "            p_95 = np.percentile(data, 95)\n",
    "            p_5 = np.percentile(data, 5)\n",
    "            p_1 = np.percentile(data, 1)\n",
    "            p_99 = np.percentile(data, 99)\n",
    "            # logger.info(\"Percentiles Computed\")\n",
    "            cf_move_percentile = stats.percentileofscore(data, result[2])\n",
    "            # logger.info(\"All results computed\")\n",
    "            p_results.append((result[0],p_1,p_5,p_25,p_50,p_75,p_95,p_99,result[2],cf_move_percentile,window))\n",
    "    columns = ['slug','p_1','p_5','p_25','p_50','p_75','p_95','p_99','cf_move','cf_move_percentile','window_size']\n",
    "    df = pd.DataFrame(p_results,columns=columns)\n",
    "    df_dict[bandwidth] = df\n",
    "    logging.info(df.to_string())\n",
    "    p_results = []\n"
   ]
  },
  {
   "cell_type": "code",
   "execution_count": 104,
   "id": "5e867411-f411-468e-bfc7-d7133fc733af",
   "metadata": {},
   "outputs": [
    {
     "data": {
      "text/plain": [
       "{}"
      ]
     },
     "execution_count": 104,
     "metadata": {},
     "output_type": "execute_result"
    }
   ],
   "source": [
    "# columns = \n",
    "df_dict"
   ]
  },
  {
   "cell_type": "code",
   "execution_count": 39,
   "id": "eb01c422-fa4c-4942-9c45-7ad1a0192e97",
   "metadata": {},
   "outputs": [
    {
     "name": "stdout",
     "output_type": "stream",
     "text": [
      "\\begin{tabular}{lrrrrr}\n",
      "\\toprule\n",
      " & window_size & p_5 & p_50 & p_95 & cf_move \\\\\n",
      "Collection &  &  &  &  &  \\\\\n",
      "\\midrule\n",
      "0n1-force & 1 & -0.026442 & -0.002041 & 0.021286 & -0.001912 \\\\\n",
      "0n1-force & 2 & -0.026970 & -0.003594 & 0.020509 & -0.001934 \\\\\n",
      "0n1-force & 5 & -0.044929 & -0.011209 & 0.025777 & -0.014150 \\\\\n",
      "0n1-force & 10 & -0.067169 & -0.019542 & 0.025313 & -0.049345 \\\\\n",
      "0n1-force & 15 & -0.086579 & -0.028993 & 0.033199 & -0.070720 \\\\\n",
      "azuki & 1 & -0.956333 & 0.006624 & 0.971658 & -0.087814 \\\\\n",
      "azuki & 2 & -0.282087 & 0.014808 & 0.303297 & -0.174200 \\\\\n",
      "azuki & 5 & -0.510791 & 0.045033 & 0.477285 & -0.134936 \\\\\n",
      "azuki & 10 & -0.634786 & 0.090287 & 0.667100 & 0.012446 \\\\\n",
      "azuki & 15 & -0.728738 & 0.077976 & 0.868367 & 0.379675 \\\\\n",
      "beanzofficial & 1 & -0.062809 & -0.005585 & 0.059134 & 0.042553 \\\\\n",
      "beanzofficial & 2 & -0.104928 & -0.010205 & 0.102494 & 0.057700 \\\\\n",
      "beanzofficial & 5 & -0.210731 & -0.013598 & 0.106412 & -0.000967 \\\\\n",
      "beanzofficial & 10 & -0.267556 & -0.044781 & 0.080547 & -0.061431 \\\\\n",
      "beanzofficial & 15 & -0.330340 & -0.083307 & 0.066671 & -0.071117 \\\\\n",
      "boredapeyachtclub & 1 & -0.697463 & 0.020710 & 0.753354 & 0.265148 \\\\\n",
      "boredapeyachtclub & 2 & -0.683282 & 0.053982 & 0.745393 & 0.564692 \\\\\n",
      "boredapeyachtclub & 5 & -0.763287 & 0.145670 & 1.074355 & 0.371105 \\\\\n",
      "boredapeyachtclub & 10 & -0.974377 & 0.289728 & 1.535333 & 0.695743 \\\\\n",
      "boredapeyachtclub & 15 & -1.109923 & 0.402685 & 1.895736 & 1.054881 \\\\\n",
      "cool-cats-nft & 1 & -0.198034 & -0.017436 & 0.165339 & -0.043020 \\\\\n",
      "cool-cats-nft & 2 & -0.256023 & -0.031742 & 0.195131 & 0.168685 \\\\\n",
      "cool-cats-nft & 5 & -0.382315 & -0.076530 & 0.214048 & 0.317750 \\\\\n",
      "cool-cats-nft & 10 & -0.576655 & -0.162851 & 0.209964 & 0.240961 \\\\\n",
      "cool-cats-nft & 15 & -0.750695 & -0.261148 & 0.215957 & 0.323480 \\\\\n",
      "cryptopunks & 1 & -3.910976 & 0.031220 & 3.916125 & 6.501081 \\\\\n",
      "cryptopunks & 2 & -1.289397 & 0.099076 & 1.905604 & 3.876001 \\\\\n",
      "cryptopunks & 5 & -1.009778 & 0.184498 & 1.535962 & 1.008234 \\\\\n",
      "cryptopunks & 10 & -0.896024 & 0.366968 & 1.677159 & 0.753388 \\\\\n",
      "cryptopunks & 15 & -0.611560 & 0.587200 & 1.993479 & 1.067371 \\\\\n",
      "cyberkongz & 1 & -4.093962 & 0.241351 & 4.119653 & -2.811222 \\\\\n",
      "cyberkongz & 2 & -3.642470 & 0.167881 & 3.953112 & -1.472100 \\\\\n",
      "cyberkongz & 5 & -3.690393 & -0.580450 & 2.159802 & -1.702058 \\\\\n",
      "cyberkongz & 10 & -3.177648 & -0.798195 & 1.480789 & -1.361535 \\\\\n",
      "cyberkongz & 15 & -3.808994 & -1.448413 & 0.823978 & -3.354326 \\\\\n",
      "doodles-official & 1 & -0.176643 & 0.004578 & 0.198768 & 0.230261 \\\\\n",
      "doodles-official & 2 & -0.188094 & -0.001444 & 0.221576 & 0.159231 \\\\\n",
      "doodles-official & 5 & -0.286157 & 0.019522 & 0.343637 & 0.129248 \\\\\n",
      "doodles-official & 10 & -0.396638 & 0.054311 & 0.493335 & 0.270245 \\\\\n",
      "doodles-official & 15 & -0.399636 & 0.088987 & 0.550284 & 0.659566 \\\\\n",
      "fluf & 1 & -0.212955 & 0.001879 & 0.215423 & 0.082622 \\\\\n",
      "fluf & 2 & -0.142087 & -0.001739 & 0.141087 & -0.085411 \\\\\n",
      "fluf & 5 & -0.129014 & -0.002486 & 0.156038 & 0.014049 \\\\\n",
      "fluf & 10 & -0.169211 & -0.009494 & 0.209995 & -0.099850 \\\\\n",
      "fluf & 15 & -0.190169 & -0.008526 & 0.241175 & -0.136233 \\\\\n",
      "genesis-creepz & 1 & -0.087363 & -0.001128 & 0.097368 & 0.044112 \\\\\n",
      "genesis-creepz & 2 & -0.111121 & -0.001861 & 0.143039 & 0.033985 \\\\\n",
      "genesis-creepz & 5 & -0.151540 & -0.012358 & 0.226641 & 0.025936 \\\\\n",
      "genesis-creepz & 10 & -0.207502 & -0.012837 & 0.262663 & -0.053967 \\\\\n",
      "genesis-creepz & 15 & -0.221655 & -0.014306 & 0.309665 & -0.077256 \\\\\n",
      "goblintownwtf & 1 & -0.078871 & 0.000720 & 0.107065 & 0.194016 \\\\\n",
      "goblintownwtf & 2 & -0.103919 & 0.000210 & 0.139284 & 0.166918 \\\\\n",
      "goblintownwtf & 5 & -0.184235 & 0.009761 & 0.250906 & 0.059927 \\\\\n",
      "goblintownwtf & 10 & -0.263201 & 0.020821 & 0.402566 & 0.309372 \\\\\n",
      "goblintownwtf & 15 & -0.259013 & 0.028979 & 0.370545 & 0.962178 \\\\\n",
      "hapeprime & 1 & -0.086281 & -0.008637 & 0.049117 & 0.046811 \\\\\n",
      "hapeprime & 2 & -0.117478 & -0.014346 & 0.053887 & 0.000867 \\\\\n",
      "hapeprime & 5 & -0.191330 & -0.041471 & 0.045949 & -0.056403 \\\\\n",
      "hapeprime & 10 & -0.316399 & -0.089641 & 0.026581 & -0.503128 \\\\\n",
      "hapeprime & 15 & -0.442074 & -0.146153 & -0.001251 & -0.757840 \\\\\n",
      "invisiblefriends & 1 & -0.135123 & -0.016124 & 0.105736 & -0.021496 \\\\\n",
      "invisiblefriends & 2 & -0.133093 & -0.031066 & 0.069617 & -0.008254 \\\\\n",
      "invisiblefriends & 5 & -0.203633 & -0.075909 & 0.048226 & -0.053857 \\\\\n",
      "invisiblefriends & 10 & -0.283818 & -0.138923 & -0.015506 & -0.084106 \\\\\n",
      "invisiblefriends & 15 & -0.377134 & -0.206479 & -0.057060 & -0.127800 \\\\\n",
      "kaiju-kingz & 1 & -0.226954 & -0.002293 & 0.208049 & -0.181401 \\\\\n",
      "kaiju-kingz & 2 & -0.207970 & -0.002622 & 0.204192 & -0.206140 \\\\\n",
      "kaiju-kingz & 5 & -0.089415 & -0.019399 & 0.037619 & -0.067516 \\\\\n",
      "kaiju-kingz & 10 & -0.115412 & -0.036323 & 0.022487 & -0.074838 \\\\\n",
      "kaiju-kingz & 15 & -0.142207 & -0.050655 & 0.009147 & -0.103419 \\\\\n",
      "karafuru & 1 & -0.046130 & -0.005825 & 0.034139 & -0.025542 \\\\\n",
      "karafuru & 2 & -0.061479 & -0.012216 & 0.035728 & -0.081531 \\\\\n",
      "karafuru & 5 & -0.082108 & -0.028102 & 0.019758 & -0.077827 \\\\\n",
      "karafuru & 10 & -0.122511 & -0.055606 & -0.005387 & -0.176415 \\\\\n",
      "karafuru & 15 & -0.168830 & -0.082761 & -0.024381 & -0.244119 \\\\\n",
      "mekaverse & 1 & -0.077180 & -0.006735 & 0.046965 & 0.077825 \\\\\n",
      "mekaverse & 2 & -0.107753 & -0.011153 & 0.041787 & 0.031099 \\\\\n",
      "mekaverse & 5 & -0.203203 & -0.026326 & 0.041494 & 0.026273 \\\\\n",
      "mekaverse & 10 & -0.298480 & -0.055799 & 0.029332 & 0.074544 \\\\\n",
      "mekaverse & 15 & -0.384445 & -0.090976 & 0.018842 & 0.002834 \\\\\n",
      "mfers & 1 & -0.055462 & -0.002511 & 0.063464 & 0.031943 \\\\\n",
      "mfers & 2 & -0.080657 & -0.001504 & 0.087349 & -0.020425 \\\\\n",
      "mfers & 5 & -0.109272 & 0.000042 & 0.128293 & -0.039033 \\\\\n",
      "mfers & 10 & -0.146772 & 0.000500 & 0.178514 & 0.007908 \\\\\n",
      "mfers & 15 & -0.142294 & 0.000097 & 0.199339 & 0.194485 \\\\\n",
      "milady & 1 & -0.038555 & -0.000640 & 0.044287 & -0.025295 \\\\\n",
      "milady & 2 & -0.048325 & 0.000512 & 0.054593 & -0.048335 \\\\\n",
      "milady & 5 & -0.063955 & 0.005999 & 0.074144 & -0.032138 \\\\\n",
      "milady & 10 & -0.075830 & 0.015381 & 0.114389 & -0.005872 \\\\\n",
      "milady & 15 & -0.094136 & 0.022205 & 0.143852 & 0.066348 \\\\\n",
      "nakamigos & 1 & -0.007329 & 0.000473 & 0.008247 & 0.019559 \\\\\n",
      "nakamigos & 2 & -0.008575 & 0.001028 & 0.010941 & 0.036457 \\\\\n",
      "nakamigos & 5 & -0.014391 & 0.001820 & 0.018090 & 0.082116 \\\\\n",
      "nakamigos & 10 & -0.019882 & 0.003019 & 0.029258 & 0.135720 \\\\\n",
      "nakamigos & 15 & -0.024152 & 0.002067 & 0.031130 & 0.164181 \\\\\n",
      "proof-moonbirds & 1 & -0.369098 & -0.040974 & 0.311011 & -0.272032 \\\\\n",
      "proof-moonbirds & 2 & -0.411755 & -0.069113 & 0.342897 & 0.078027 \\\\\n",
      "proof-moonbirds & 5 & -0.705259 & -0.178543 & 0.455917 & 0.567329 \\\\\n",
      "proof-moonbirds & 10 & -1.034040 & -0.335421 & 0.414145 & 0.238352 \\\\\n",
      "proof-moonbirds & 15 & -1.353604 & -0.544710 & 0.274209 & -0.044575 \\\\\n",
      "pudgypenguins & 1 & -0.066987 & 0.011440 & 0.092660 & -0.065649 \\\\\n",
      "pudgypenguins & 2 & -0.052223 & 0.021638 & 0.104592 & 0.016942 \\\\\n",
      "pudgypenguins & 5 & -0.043630 & 0.055679 & 0.181425 & 0.048382 \\\\\n",
      "pudgypenguins & 10 & -0.026181 & 0.114164 & 0.273341 & 0.069808 \\\\\n",
      "pudgypenguins & 15 & 0.001640 & 0.172833 & 0.354564 & 0.109960 \\\\\n",
      "world-of-women-nft & 1 & -0.136282 & 0.001289 & 0.133435 & 0.062451 \\\\\n",
      "world-of-women-nft & 2 & -0.120297 & -0.002814 & 0.132722 & 0.167917 \\\\\n",
      "world-of-women-nft & 5 & -0.195566 & -0.009586 & 0.180970 & 0.216866 \\\\\n",
      "world-of-women-nft & 10 & -0.292412 & -0.032006 & 0.251772 & 0.305973 \\\\\n",
      "world-of-women-nft & 15 & -0.359680 & -0.038862 & 0.320423 & 0.212229 \\\\\n",
      "\\bottomrule\n",
      "\\end{tabular}\n",
      "\n"
     ]
    }
   ],
   "source": [
    "df.sort_values(['Collection','window_size'])\n",
    "columns_to_drop = ['p_1','p_25','p_75', 'p_99']\n",
    "df_dropped = df.drop(columns=columns_to_drop)\n",
    "new_column_order = ['Collection','window_size','p_5','p_50','p_95','cf_move']\n",
    "df_reordered = df_dropped[new_column_order].sort_values(['Collection','window_size']).set_index('Collection')\n",
    "print(df_reordered.to_latex())\n",
    "df_reordered.to_pickle('knockoff_table_data.pkl')"
   ]
  },
  {
   "cell_type": "code",
   "execution_count": 188,
   "id": "6dde0316-aebb-40d7-8983-70030f960d1a",
   "metadata": {},
   "outputs": [
    {
     "data": {
      "text/plain": [
       "14"
      ]
     },
     "execution_count": 188,
     "metadata": {},
     "output_type": "execute_result"
    }
   ],
   "source": [
    "len(df_dict[25].query(\"cf_move_percentile<5\").sort_values('slug'))"
   ]
  },
  {
   "cell_type": "code",
   "execution_count": 180,
   "id": "231b4440-ce13-4b9e-b68e-cccd7af985c6",
   "metadata": {},
   "outputs": [
    {
     "data": {
      "text/plain": [
       "192"
      ]
     },
     "execution_count": 180,
     "metadata": {},
     "output_type": "execute_result"
    }
   ],
   "source": [
    "len(df_dict[100])"
   ]
  },
  {
   "cell_type": "code",
   "execution_count": 36,
   "id": "9abcd13d-343a-447e-a0f1-c763bfbfed91",
   "metadata": {},
   "outputs": [],
   "source": [
    "df.to_pickle(\"value_move_final.pkl\")"
   ]
  },
  {
   "cell_type": "code",
   "execution_count": 22,
   "id": "3cedc51a-e6a2-478f-98de-e132f3f45eb6",
   "metadata": {},
   "outputs": [
    {
     "name": "stdout",
     "output_type": "stream",
     "text": [
      "['beanzofficial', 'azukielementalschip', 'twintigersjacket', 'azukigreenbeans', 'azukielementals']\n",
      "422\n",
      "(1, 11, '0xzuki')\n",
      "count     4004.000000\n",
      "mean       856.537962\n",
      "std       1880.212387\n",
      "min          1.000000\n",
      "0.1%         1.000000\n",
      "0.2%         1.000000\n",
      "1%           2.000000\n",
      "10%          2.000000\n",
      "25%          2.000000\n",
      "50%         71.000000\n",
      "75%       1069.000000\n",
      "max      10720.000000\n",
      "dtype: float64\n"
     ]
    },
    {
     "data": {
      "image/png": "[encoded data removed]",
      "text/plain": [
       "<Figure size 1200x900 with 1 Axes>"
      ]
     },
     "metadata": {},
     "output_type": "display_data"
    }
   ],
   "source": [
    "der = cfu.der_list_from_db(slug='azuki')\n",
    "print(der)\n",
    "cfu.compute_overlap_cdf('azuki',xlim=50,ylim=1,show=False,filter='owners')"
   ]
  },
  {
   "cell_type": "code",
   "execution_count": 13,
   "id": "505ac7dc-b9ad-480b-a82e-f104f1c11adf",
   "metadata": {},
   "outputs": [
    {
     "data": {
      "text/html": [
       "<div>\n",
       "<style scoped>\n",
       "    .dataframe tbody tr th:only-of-type {\n",
       "        vertical-align: middle;\n",
       "    }\n",
       "\n",
       "    .dataframe tbody tr th {\n",
       "        vertical-align: top;\n",
       "    }\n",
       "\n",
       "    .dataframe thead th {\n",
       "        text-align: right;\n",
       "    }\n",
       "</style>\n",
       "<table border=\"1\" class=\"dataframe\">\n",
       "  <thead>\n",
       "    <tr style=\"text-align: right;\">\n",
       "      <th></th>\n",
       "      <th>slug</th>\n",
       "      <th>sorted_order</th>\n",
       "      <th>row_count</th>\n",
       "    </tr>\n",
       "  </thead>\n",
       "  <tbody>\n",
       "    <tr>\n",
       "      <th>10691</th>\n",
       "      <td>world-of-women-galaxy</td>\n",
       "      <td>1</td>\n",
       "      <td>8998</td>\n",
       "    </tr>\n",
       "    <tr>\n",
       "      <th>708</th>\n",
       "      <td>asian-identity-collection</td>\n",
       "      <td>2</td>\n",
       "      <td>0</td>\n",
       "    </tr>\n",
       "    <tr>\n",
       "      <th>10238</th>\n",
       "      <td>universeofwomen</td>\n",
       "      <td>3</td>\n",
       "      <td>1524</td>\n",
       "    </tr>\n",
       "    <tr>\n",
       "      <th>10704</th>\n",
       "      <td>wow-pixies-v2</td>\n",
       "      <td>4</td>\n",
       "      <td>1190</td>\n",
       "    </tr>\n",
       "    <tr>\n",
       "      <th>5530</th>\n",
       "      <td>lovelywomens-world</td>\n",
       "      <td>5</td>\n",
       "      <td>0</td>\n",
       "    </tr>\n",
       "    <tr>\n",
       "      <th>...</th>\n",
       "      <td>...</td>\n",
       "      <td>...</td>\n",
       "      <td>...</td>\n",
       "    </tr>\n",
       "    <tr>\n",
       "      <th>5680</th>\n",
       "      <td>marfa2022</td>\n",
       "      <td>10972</td>\n",
       "      <td>1</td>\n",
       "    </tr>\n",
       "    <tr>\n",
       "      <th>7895</th>\n",
       "      <td>rare-earth-metals</td>\n",
       "      <td>10973</td>\n",
       "      <td>1</td>\n",
       "    </tr>\n",
       "    <tr>\n",
       "      <th>2857</th>\n",
       "      <td>dolce-gabbana-dgfamily-glass</td>\n",
       "      <td>10974</td>\n",
       "      <td>70</td>\n",
       "    </tr>\n",
       "    <tr>\n",
       "      <th>4713</th>\n",
       "      <td>immortal-pass</td>\n",
       "      <td>10975</td>\n",
       "      <td>29</td>\n",
       "    </tr>\n",
       "    <tr>\n",
       "      <th>6585</th>\n",
       "      <td>never-fear-truth</td>\n",
       "      <td>10976</td>\n",
       "      <td>41</td>\n",
       "    </tr>\n",
       "  </tbody>\n",
       "</table>\n",
       "<p>10976 rows × 3 columns</p>\n",
       "</div>"
      ],
      "text/plain": [
       "                               slug  sorted_order  row_count\n",
       "10691         world-of-women-galaxy             1       8998\n",
       "708       asian-identity-collection             2          0\n",
       "10238               universeofwomen             3       1524\n",
       "10704                 wow-pixies-v2             4       1190\n",
       "5530             lovelywomens-world             5          0\n",
       "...                             ...           ...        ...\n",
       "5680                      marfa2022         10972          1\n",
       "7895              rare-earth-metals         10973          1\n",
       "2857   dolce-gabbana-dgfamily-glass         10974         70\n",
       "4713                  immortal-pass         10975         29\n",
       "6585               never-fear-truth         10976         41\n",
       "\n",
       "[10976 rows x 3 columns]"
      ]
     },
     "execution_count": 13,
     "metadata": {},
     "output_type": "execute_result"
    }
   ],
   "source": [
    "cfu.count_overlaps('world-of-women-nft')"
   ]
  },
  {
   "cell_type": "code",
   "execution_count": 34,
   "id": "bf962f8f-2134-4a7e-9d1b-74ad1c697f30",
   "metadata": {},
   "outputs": [],
   "source": [
    "ele_date = cfu.creation_date_from_db('kiwami-genesis')"
   ]
  },
  {
   "cell_type": "code",
   "execution_count": 35,
   "id": "ca0febfb-0255-4858-8ca5-191b9d59c22f",
   "metadata": {},
   "outputs": [
    {
     "data": {
      "text/plain": [
       "'2022-03-24'"
      ]
     },
     "execution_count": 35,
     "metadata": {},
     "output_type": "execute_result"
    }
   ],
   "source": [
    "ele_date"
   ]
  },
  {
   "cell_type": "code",
   "execution_count": 51,
   "id": "83b68cf7-2176-4e7f-9aca-919d84a3c52f",
   "metadata": {},
   "outputs": [
    {
     "data": {
      "text/plain": [
       "270"
      ]
     },
     "execution_count": 51,
     "metadata": {},
     "output_type": "execute_result"
    }
   ],
   "source": [
    "len(df)\n"
   ]
  },
  {
   "cell_type": "code",
   "execution_count": null,
   "id": "332544e7-ec1a-4aaa-99a2-44a47fbe443c",
   "metadata": {},
   "outputs": [],
   "source": []
  }
 ],
 "metadata": {
  "kernelspec": {
   "display_name": "nft_venv",
   "language": "python",
   "name": "nft_venv"
  },
  "language_info": {
   "codemirror_mode": {
    "name": "ipython",
    "version": 3
   },
   "file_extension": ".py",
   "mimetype": "text/x-python",
   "name": "python",
   "nbconvert_exporter": "python",
   "pygments_lexer": "ipython3",
   "version": "3.8.10"
  }
 },
 "nbformat": 4,
 "nbformat_minor": 5
}
