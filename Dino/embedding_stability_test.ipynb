{
 "cells": [
  {
   "cell_type": "code",
   "execution_count": 36,
   "id": "1301ecb4-93b9-4ccb-b17c-2d308e7cb0fe",
   "metadata": {},
   "outputs": [
    {
     "name": "stdout",
     "output_type": "stream",
     "text": [
      "The autoreload extension is already loaded. To reload it, use:\n",
      "  %reload_ext autoreload\n"
     ]
    }
   ],
   "source": [
    "%load_ext autoreload\n",
    "%autoreload 2\n",
    "import sys\n",
    "sys.path.append(\"..\")\n",
    "from psql_methods import execute_commands\n",
    "from Openseas_Methods import *\n",
    "import networkx as nx\n",
    "import matplotlib.pyplot as plt\n",
    "import pickle\n",
    "import numpy as np\n",
    "import random\n",
    "from pymongo import MongoClient\n",
    "from tqdm import tqdm\n",
    "from datetime import datetime\n",
    "import requests\n",
    "from PIL import Image\n",
    "from io import BytesIO\n",
    "from IPython.display import display\n",
    "import os\n",
    "import pandas as pd\n",
    "from image_utils import pull_image_from_url\n",
    "import multiprocessing\n",
    "plt.style.use('https://raw.githubusercontent.com/gregdeon/plots/main/style.mplstyle')\n",
    "plt.matplotlib.rcParams['figure.dpi'] = 300\n",
    "plt.matplotlib.rcParams['font.size'] = 6\n",
    "skip_list=['ens','base-introduced','fundrop-pass','gemesis','apecoin','dai-stablecoin','uniswap','1inch-token']"
   ]
  },
  {
   "cell_type": "code",
   "execution_count": 79,
   "id": "650db103-0215-4ee6-a86b-4bcdcaf44334",
   "metadata": {},
   "outputs": [
    {
     "data": {
      "text/plain": [
       "('the-wolfis-v2',\n",
       " '888innercirclethedrops',\n",
       " 'justafishgenesis',\n",
       " 'therealkingship',\n",
       " 'larva-lads',\n",
       " 'the-sevens-genesis',\n",
       " 'cosmicduckstofuse',\n",
       " 'rawrtownwtf',\n",
       " 'marimo-life',\n",
       " 'niftyriots')"
      ]
     },
     "execution_count": 79,
     "metadata": {},
     "output_type": "execute_result"
    }
   ],
   "source": [
    "command = [\"SELECT slug FROM nfttoimage GROUP BY slug HAVING COUNT(*) >= 5000 and COunt(*)<15000 ORDER BY random() LIMIT 10\"]\n",
    "rows  = execute_commands(command)\n",
    "rows = tuple([x[0] for x in rows])\n",
    "rows"
   ]
  },
  {
   "cell_type": "code",
   "execution_count": 80,
   "id": "1d5ae86b-709f-4026-9f74-351e6360b462",
   "metadata": {},
   "outputs": [],
   "source": [
    "command = [f\"select * from nfttoimage where slug in {rows}\"]\n",
    "rows  = execute_commands(command)"
   ]
  },
  {
   "cell_type": "code",
   "execution_count": 81,
   "id": "228af4d0-b3f3-4189-ab60-294cbb1daa4f",
   "metadata": {},
   "outputs": [],
   "source": [
    "# Column names for the DataFrame\n",
    "columns = ['slug', 'token_id', 'url']\n",
    "\n",
    "# Create a DataFrame from the list of tuples\n",
    "df = pd.DataFrame(rows, columns=columns)\n",
    "grouped_data = df.groupby('slug').apply(lambda x: (x['slug'].iloc[0], list(zip(x['token_id'], x['url']))))\n",
    "args = list(grouped_data)\n"
   ]
  },
  {
   "cell_type": "code",
   "execution_count": 82,
   "id": "a506ac00-28bb-4642-9e9c-5fd4f3f58184",
   "metadata": {},
   "outputs": [
    {
     "name": "stderr",
     "output_type": "stream",
     "text": [
      "/global/scratch/tlundy/NFT_Research/nft_venv/lib/python3.8/site-packages/PIL/Image.py:975: UserWarning: Palette images with Transparency expressed in bytes should be converted to RGBA images\n",
      "  warnings.warn(\n",
      "/global/scratch/tlundy/NFT_Research/nft_venv/lib/python3.8/site-packages/PIL/Image.py:975: UserWarning: Palette images with Transparency expressed in bytes should be converted to RGBA images\n",
      "  warnings.warn(\n",
      "/global/scratch/tlundy/NFT_Research/nft_venv/lib/python3.8/site-packages/PIL/Image.py:975: UserWarning: Palette images with Transparency expressed in bytes should be converted to RGBA images\n",
      "  warnings.warn(\n",
      "/global/scratch/tlundy/NFT_Research/nft_venv/lib/python3.8/site-packages/PIL/Image.py:975: UserWarning: Palette images with Transparency expressed in bytes should be converted to RGBA images\n",
      "  warnings.warn(\n"
     ]
    }
   ],
   "source": [
    "records = []\n",
    "num_processes = multiprocessing.cpu_count()\n",
    "with multiprocessing.Pool(processes=num_processes) as pool: # Use all cores   \n",
    "    for result in pool.starmap(pull_image_from_url, args):\n",
    "        records.append(result)"
   ]
  },
  {
   "cell_type": "markdown",
   "id": "857c49cd-b5b9-42e4-9d7f-a136fa8ac880",
   "metadata": {},
   "source": [
    "# After previous step run feature_extract on newly generated images"
   ]
  },
  {
   "cell_type": "code",
   "execution_count": 2,
   "id": "3dc39e4f-6cbd-49b9-88eb-f32789252f6e",
   "metadata": {},
   "outputs": [
    {
     "name": "stdout",
     "output_type": "stream",
     "text": [
      "Dataset ReturnIndexDataset\n",
      "    Number of datapoints: 71792\n",
      "    Root location: /global/scratch/tlundy/NFT_Research/nft_research/Dino/embedding_test/val\n",
      "('888innercirclethedrops', '0')\n",
      "tensor([0, 0, 0,  ..., 9, 9, 9])\n"
     ]
    }
   ],
   "source": [
    "#We assume the features have already been computed by the feature_extract_notebook\n",
    "# model = torch.hub.load('facebookresearch/dino:main', 'dino_vits8')\n",
    "import feature_extract\n",
    "import torch\n",
    "model_string = 'dinov2_vits14'\n",
    "\n",
    "data_path = '/global/scratch/tlundy/NFT_Research/nft_research/Dino/embedding_test'\n",
    "out_path = f'/global/scratch/tlundy/NFT_Research/nft_research/Dino/embedding_test_features/{model_string}'\n",
    "feature_path = out_path+'/testfeat.pth'\n",
    "features = torch.load(feature_path)\n",
    "labels = feature_extract.get_labels(data_path)\n",
    "file_names = feature_extract.get_filenames(data_path)\n",
    "print(file_names[0])\n",
    "print(labels)"
   ]
  },
  {
   "cell_type": "code",
   "execution_count": 3,
   "id": "50d09218-70e0-4816-9909-f0c5b0be41ba",
   "metadata": {},
   "outputs": [],
   "source": [
    "features_list = features.tolist()\n",
    "\n",
    "# Create a pandas DataFrame\n",
    "data = {'Label': labels.tolist(), 'Features': features_list,'Collection':[x[0] for x in file_names],\n",
    "        'NFT_num':[x[1] for x in file_names]}\n",
    "df_og = pd.DataFrame(data)"
   ]
  },
  {
   "cell_type": "code",
   "execution_count": 4,
   "id": "0b637c14-bea7-48cd-9ca0-70353c282d95",
   "metadata": {},
   "outputs": [],
   "source": [
    "del features\n",
    "del features_list"
   ]
  },
  {
   "cell_type": "code",
   "execution_count": 8,
   "id": "e6db113d-306f-4754-bdb2-eaf12cc9a4f8",
   "metadata": {},
   "outputs": [],
   "source": [
    "def normalize_vector(vector):\n",
    "    magnitude = np.linalg.norm(vector)\n",
    "    if magnitude != 0:\n",
    "        return vector / magnitude\n",
    "    else:\n",
    "        return vector\n",
    "df_og['norm_features'] = df_og['Features'].apply(normalize_vector)"
   ]
  },
  {
   "cell_type": "code",
   "execution_count": 16,
   "id": "e5bff9a5-d65d-4954-94be-f6013f94c1d0",
   "metadata": {},
   "outputs": [
    {
     "data": {
      "text/html": [
       "<div>\n",
       "<style scoped>\n",
       "    .dataframe tbody tr th:only-of-type {\n",
       "        vertical-align: middle;\n",
       "    }\n",
       "\n",
       "    .dataframe tbody tr th {\n",
       "        vertical-align: top;\n",
       "    }\n",
       "\n",
       "    .dataframe thead th {\n",
       "        text-align: right;\n",
       "    }\n",
       "</style>\n",
       "<table border=\"1\" class=\"dataframe\">\n",
       "  <thead>\n",
       "    <tr style=\"text-align: right;\">\n",
       "      <th></th>\n",
       "      <th>True Dists</th>\n",
       "      <th>5000</th>\n",
       "      <th>2500</th>\n",
       "      <th>500</th>\n",
       "      <th>250</th>\n",
       "      <th>50</th>\n",
       "      <th>25</th>\n",
       "      <th>10</th>\n",
       "      <th>5</th>\n",
       "    </tr>\n",
       "  </thead>\n",
       "  <tbody>\n",
       "    <tr>\n",
       "      <th>0</th>\n",
       "      <td>0.581071</td>\n",
       "      <td>0.003463</td>\n",
       "      <td>0.007466</td>\n",
       "      <td>0.011643</td>\n",
       "      <td>0.011666</td>\n",
       "      <td>0.039766</td>\n",
       "      <td>0.036550</td>\n",
       "      <td>0.069230</td>\n",
       "      <td>0.141940</td>\n",
       "    </tr>\n",
       "    <tr>\n",
       "      <th>1</th>\n",
       "      <td>0.581071</td>\n",
       "      <td>0.001191</td>\n",
       "      <td>0.003766</td>\n",
       "      <td>0.014544</td>\n",
       "      <td>0.007525</td>\n",
       "      <td>0.015991</td>\n",
       "      <td>0.040358</td>\n",
       "      <td>0.085655</td>\n",
       "      <td>0.125874</td>\n",
       "    </tr>\n",
       "    <tr>\n",
       "      <th>2</th>\n",
       "      <td>0.581071</td>\n",
       "      <td>0.005702</td>\n",
       "      <td>0.002582</td>\n",
       "      <td>0.004465</td>\n",
       "      <td>0.017973</td>\n",
       "      <td>0.119141</td>\n",
       "      <td>0.052665</td>\n",
       "      <td>0.146174</td>\n",
       "      <td>0.224481</td>\n",
       "    </tr>\n",
       "    <tr>\n",
       "      <th>3</th>\n",
       "      <td>0.581071</td>\n",
       "      <td>0.001673</td>\n",
       "      <td>0.006174</td>\n",
       "      <td>0.017303</td>\n",
       "      <td>0.023342</td>\n",
       "      <td>0.012447</td>\n",
       "      <td>0.054655</td>\n",
       "      <td>0.077761</td>\n",
       "      <td>0.036103</td>\n",
       "    </tr>\n",
       "    <tr>\n",
       "      <th>4</th>\n",
       "      <td>0.581071</td>\n",
       "      <td>0.003325</td>\n",
       "      <td>0.004848</td>\n",
       "      <td>0.028475</td>\n",
       "      <td>0.040597</td>\n",
       "      <td>0.029696</td>\n",
       "      <td>0.061216</td>\n",
       "      <td>0.084752</td>\n",
       "      <td>0.025227</td>\n",
       "    </tr>\n",
       "    <tr>\n",
       "      <th>5</th>\n",
       "      <td>0.581071</td>\n",
       "      <td>0.004103</td>\n",
       "      <td>0.005258</td>\n",
       "      <td>0.005085</td>\n",
       "      <td>0.022059</td>\n",
       "      <td>0.029931</td>\n",
       "      <td>0.164655</td>\n",
       "      <td>0.113494</td>\n",
       "      <td>0.148398</td>\n",
       "    </tr>\n",
       "    <tr>\n",
       "      <th>6</th>\n",
       "      <td>0.581071</td>\n",
       "      <td>0.001734</td>\n",
       "      <td>0.010964</td>\n",
       "      <td>0.009661</td>\n",
       "      <td>0.027861</td>\n",
       "      <td>0.077277</td>\n",
       "      <td>0.051255</td>\n",
       "      <td>0.150669</td>\n",
       "      <td>0.112255</td>\n",
       "    </tr>\n",
       "    <tr>\n",
       "      <th>7</th>\n",
       "      <td>0.581071</td>\n",
       "      <td>0.006874</td>\n",
       "      <td>0.002585</td>\n",
       "      <td>0.020984</td>\n",
       "      <td>0.014381</td>\n",
       "      <td>0.049371</td>\n",
       "      <td>0.074771</td>\n",
       "      <td>0.160230</td>\n",
       "      <td>0.119462</td>\n",
       "    </tr>\n",
       "    <tr>\n",
       "      <th>8</th>\n",
       "      <td>0.581071</td>\n",
       "      <td>0.004945</td>\n",
       "      <td>0.006181</td>\n",
       "      <td>0.006240</td>\n",
       "      <td>0.030398</td>\n",
       "      <td>0.095600</td>\n",
       "      <td>0.099498</td>\n",
       "      <td>0.007992</td>\n",
       "      <td>0.140545</td>\n",
       "    </tr>\n",
       "    <tr>\n",
       "      <th>9</th>\n",
       "      <td>0.581071</td>\n",
       "      <td>0.005719</td>\n",
       "      <td>0.005668</td>\n",
       "      <td>0.022330</td>\n",
       "      <td>0.016199</td>\n",
       "      <td>0.052191</td>\n",
       "      <td>0.050173</td>\n",
       "      <td>0.095827</td>\n",
       "      <td>0.134282</td>\n",
       "    </tr>\n",
       "  </tbody>\n",
       "</table>\n",
       "</div>"
      ],
      "text/plain": [
       "   True Dists      5000      2500       500       250        50        25  \\\n",
       "0    0.581071  0.003463  0.007466  0.011643  0.011666  0.039766  0.036550   \n",
       "1    0.581071  0.001191  0.003766  0.014544  0.007525  0.015991  0.040358   \n",
       "2    0.581071  0.005702  0.002582  0.004465  0.017973  0.119141  0.052665   \n",
       "3    0.581071  0.001673  0.006174  0.017303  0.023342  0.012447  0.054655   \n",
       "4    0.581071  0.003325  0.004848  0.028475  0.040597  0.029696  0.061216   \n",
       "5    0.581071  0.004103  0.005258  0.005085  0.022059  0.029931  0.164655   \n",
       "6    0.581071  0.001734  0.010964  0.009661  0.027861  0.077277  0.051255   \n",
       "7    0.581071  0.006874  0.002585  0.020984  0.014381  0.049371  0.074771   \n",
       "8    0.581071  0.004945  0.006181  0.006240  0.030398  0.095600  0.099498   \n",
       "9    0.581071  0.005719  0.005668  0.022330  0.016199  0.052191  0.050173   \n",
       "\n",
       "         10         5  \n",
       "0  0.069230  0.141940  \n",
       "1  0.085655  0.125874  \n",
       "2  0.146174  0.224481  \n",
       "3  0.077761  0.036103  \n",
       "4  0.084752  0.025227  \n",
       "5  0.113494  0.148398  \n",
       "6  0.150669  0.112255  \n",
       "7  0.160230  0.119462  \n",
       "8  0.007992  0.140545  \n",
       "9  0.095827  0.134282  "
      ]
     },
     "execution_count": 16,
     "metadata": {},
     "output_type": "execute_result"
    }
   ],
   "source": [
    "df_og['Collection'].value_counts()\n",
    "df_2"
   ]
  },
  {
   "cell_type": "code",
   "execution_count": 43,
   "id": "e977baef-7a21-489a-b6a6-978054b7f16e",
   "metadata": {},
   "outputs": [
    {
     "name": "stderr",
     "output_type": "stream",
     "text": [
      "100%|█████████████████████████████████████████████| 50/50 [03:09<00:00,  3.80s/it]\n"
     ]
    },
    {
     "name": "stdout",
     "output_type": "stream",
     "text": [
      "0\n",
      "         True Dists       5000       2500        500        250        100  \\\n",
      "count  5.000000e+01  50.000000  50.000000  50.000000  50.000000  50.000000   \n",
      "mean   2.237451e-01   0.001372   0.002195   0.004378   0.006637   0.010306   \n",
      "std    2.803737e-17   0.000711   0.000969   0.002155   0.003000   0.003820   \n",
      "min    2.237451e-01   0.000298   0.000724   0.001477   0.001257   0.000945   \n",
      "25%    2.237451e-01   0.000866   0.001492   0.002925   0.004235   0.007350   \n",
      "50%    2.237451e-01   0.001190   0.002082   0.003693   0.006544   0.010898   \n",
      "75%    2.237451e-01   0.001778   0.002721   0.005447   0.008777   0.013262   \n",
      "max    2.237451e-01   0.003328   0.004300   0.011018   0.012445   0.018511   \n",
      "\n",
      "              50         25         10          5  \n",
      "count  50.000000  50.000000  50.000000  50.000000  \n",
      "mean    0.015284   0.019518   0.033078   0.047207  \n",
      "std     0.007259   0.009560   0.016791   0.024736  \n",
      "min     0.004175   0.005665   0.007114   0.007820  \n",
      "25%     0.009158   0.012691   0.019179   0.028103  \n",
      "50%     0.014587   0.017417   0.032156   0.039704  \n",
      "75%     0.019744   0.025714   0.042539   0.067486  \n",
      "max     0.033929   0.048724   0.076827   0.112743  \n"
     ]
    },
    {
     "name": "stderr",
     "output_type": "stream",
     "text": [
      "100%|█████████████████████████████████████████████| 50/50 [04:22<00:00,  5.25s/it]\n"
     ]
    },
    {
     "name": "stdout",
     "output_type": "stream",
     "text": [
      "1\n",
      "       True Dists       5000       2500        500        250        100  \\\n",
      "count   50.000000  50.000000  50.000000  50.000000  50.000000  50.000000   \n",
      "mean     0.477893   0.001105   0.001464   0.003462   0.005022   0.007278   \n",
      "std      0.000000   0.000314   0.000440   0.001148   0.001412   0.002165   \n",
      "min      0.477893   0.000583   0.000712   0.001665   0.002683   0.003702   \n",
      "25%      0.477893   0.000886   0.001236   0.002747   0.003913   0.005981   \n",
      "50%      0.477893   0.001035   0.001363   0.003179   0.004791   0.006924   \n",
      "75%      0.477893   0.001310   0.001579   0.004046   0.006047   0.008306   \n",
      "max      0.477893   0.001901   0.003006   0.007874   0.009110   0.016422   \n",
      "\n",
      "              50         25         10          5  \n",
      "count  50.000000  50.000000  50.000000  50.000000  \n",
      "mean    0.011321   0.018070   0.031160   0.059015  \n",
      "std     0.003185   0.005342   0.008430   0.019880  \n",
      "min     0.006526   0.009967   0.019437   0.032629  \n",
      "25%     0.009155   0.014596   0.024617   0.046008  \n",
      "50%     0.010679   0.016805   0.029265   0.054485  \n",
      "75%     0.012973   0.020455   0.034335   0.066306  \n",
      "max     0.022749   0.032899   0.056085   0.120812  \n"
     ]
    },
    {
     "name": "stderr",
     "output_type": "stream",
     "text": [
      "100%|█████████████████████████████████████████████| 50/50 [03:29<00:00,  4.20s/it]\n"
     ]
    },
    {
     "name": "stdout",
     "output_type": "stream",
     "text": [
      "2\n",
      "         True Dists       5000       2500        500        250        100  \\\n",
      "count  5.000000e+01  50.000000  50.000000  50.000000  50.000000  50.000000   \n",
      "mean   5.224673e-01   0.001159   0.001572   0.003656   0.005260   0.008238   \n",
      "std    1.121495e-16   0.000281   0.000420   0.001163   0.001489   0.002041   \n",
      "min    5.224673e-01   0.000620   0.000802   0.001727   0.002946   0.004000   \n",
      "25%    5.224673e-01   0.001010   0.001315   0.002989   0.004141   0.006796   \n",
      "50%    5.224673e-01   0.001121   0.001542   0.003469   0.004991   0.007821   \n",
      "75%    5.224673e-01   0.001271   0.001760   0.003995   0.006458   0.009336   \n",
      "max    5.224673e-01   0.001839   0.002724   0.007142   0.008391   0.014674   \n",
      "\n",
      "              50         25         10          5  \n",
      "count  50.000000  50.000000  50.000000  50.000000  \n",
      "mean    0.013010   0.017476   0.033541   0.055958  \n",
      "std     0.003826   0.005827   0.009038   0.018321  \n",
      "min     0.006802   0.010273   0.018449   0.031840  \n",
      "25%     0.010312   0.013061   0.026864   0.045618  \n",
      "50%     0.012601   0.016234   0.031851   0.054166  \n",
      "75%     0.015064   0.020366   0.039756   0.061309  \n",
      "max     0.024591   0.038618   0.060142   0.156557  \n"
     ]
    },
    {
     "name": "stderr",
     "output_type": "stream",
     "text": [
      "100%|█████████████████████████████████████████████| 50/50 [03:01<00:00,  3.63s/it]\n"
     ]
    },
    {
     "name": "stdout",
     "output_type": "stream",
     "text": [
      "3\n",
      "         True Dists       5000       2500        500        250        100  \\\n",
      "count  5.000000e+01  50.000000  50.000000  50.000000  50.000000  50.000000   \n",
      "mean   4.823727e-01   0.001153   0.001597   0.003648   0.005190   0.007627   \n",
      "std    5.607473e-17   0.000375   0.000499   0.001121   0.001694   0.002012   \n",
      "min    4.823727e-01   0.000626   0.000838   0.002236   0.002026   0.004582   \n",
      "25%    4.823727e-01   0.000893   0.001217   0.002889   0.003984   0.006527   \n",
      "50%    4.823727e-01   0.001045   0.001523   0.003468   0.004684   0.007485   \n",
      "75%    4.823727e-01   0.001308   0.001930   0.003986   0.006272   0.008963   \n",
      "max    4.823727e-01   0.002169   0.002767   0.006771   0.009006   0.013564   \n",
      "\n",
      "              50         25         10          5  \n",
      "count  50.000000  50.000000  50.000000  50.000000  \n",
      "mean    0.012055   0.018453   0.030055   0.050346  \n",
      "std     0.003431   0.005729   0.007339   0.013612  \n",
      "min     0.005816   0.009734   0.015946   0.029228  \n",
      "25%     0.009848   0.014541   0.024587   0.039379  \n",
      "50%     0.012170   0.016506   0.028452   0.048956  \n",
      "75%     0.013586   0.022050   0.035773   0.059303  \n",
      "max     0.021910   0.032809   0.045609   0.084336  \n"
     ]
    },
    {
     "name": "stderr",
     "output_type": "stream",
     "text": [
      "100%|█████████████████████████████████████████████| 50/50 [04:21<00:00,  5.23s/it]\n"
     ]
    },
    {
     "name": "stdout",
     "output_type": "stream",
     "text": [
      "4\n",
      "         True Dists       5000       2500        500        250        100  \\\n",
      "count  5.000000e+01  50.000000  50.000000  50.000000  50.000000  50.000000   \n",
      "mean   1.115939e-01   0.000284   0.000420   0.000971   0.001360   0.002004   \n",
      "std    1.401868e-17   0.000094   0.000134   0.000283   0.000365   0.000661   \n",
      "min    1.115939e-01   0.000120   0.000202   0.000400   0.000595   0.000903   \n",
      "25%    1.115939e-01   0.000212   0.000334   0.000797   0.001099   0.001609   \n",
      "50%    1.115939e-01   0.000275   0.000394   0.000922   0.001381   0.001945   \n",
      "75%    1.115939e-01   0.000341   0.000509   0.001132   0.001639   0.002349   \n",
      "max    1.115939e-01   0.000494   0.000769   0.001677   0.002116   0.004236   \n",
      "\n",
      "              50         25         10          5  \n",
      "count  50.000000  50.000000  50.000000  50.000000  \n",
      "mean    0.003200   0.004684   0.008640   0.012861  \n",
      "std     0.001130   0.001545   0.002708   0.005116  \n",
      "min     0.001571   0.002003   0.004419   0.005958  \n",
      "25%     0.002382   0.003493   0.006746   0.009568  \n",
      "50%     0.003008   0.004231   0.008165   0.011814  \n",
      "75%     0.003695   0.005724   0.009844   0.014193  \n",
      "max     0.006060   0.007898   0.016016   0.032919  \n"
     ]
    },
    {
     "name": "stderr",
     "output_type": "stream",
     "text": [
      "100%|█████████████████████████████████████████████| 50/50 [02:24<00:00,  2.88s/it]\n"
     ]
    },
    {
     "name": "stdout",
     "output_type": "stream",
     "text": [
      "5\n",
      "         True Dists       5000       2500        500        250        100  \\\n",
      "count  5.000000e+01  50.000000  50.000000  50.000000  50.000000  50.000000   \n",
      "mean   5.983005e-01   0.000986   0.001396   0.003568   0.004472   0.007536   \n",
      "std    1.121495e-16   0.000234   0.000376   0.001178   0.001346   0.002063   \n",
      "min    5.983005e-01   0.000582   0.000830   0.002095   0.002198   0.003399   \n",
      "25%    5.983005e-01   0.000793   0.001152   0.002763   0.003598   0.006030   \n",
      "50%    5.983005e-01   0.000992   0.001337   0.003194   0.004263   0.007865   \n",
      "75%    5.983005e-01   0.001158   0.001512   0.004295   0.004939   0.008596   \n",
      "max    5.983005e-01   0.001515   0.002432   0.008515   0.009360   0.013888   \n",
      "\n",
      "              50         25         10          5  \n",
      "count  50.000000  50.000000  50.000000  50.000000  \n",
      "mean    0.010583   0.017544   0.033561   0.057133  \n",
      "std     0.002242   0.004161   0.006966   0.010736  \n",
      "min     0.007241   0.008719   0.021760   0.032451  \n",
      "25%     0.008906   0.014746   0.027864   0.052495  \n",
      "50%     0.010058   0.016572   0.031961   0.055407  \n",
      "75%     0.012204   0.019926   0.038140   0.062184  \n",
      "max     0.016128   0.028304   0.049953   0.098283  \n"
     ]
    },
    {
     "name": "stderr",
     "output_type": "stream",
     "text": [
      "100%|█████████████████████████████████████████████| 50/50 [02:24<00:00,  2.89s/it]\n"
     ]
    },
    {
     "name": "stdout",
     "output_type": "stream",
     "text": [
      "6\n",
      "         True Dists       5000       2500        500        250        100  \\\n",
      "count  5.000000e+01  50.000000  50.000000  50.000000  50.000000  50.000000   \n",
      "mean   3.392618e-01   0.001021   0.001377   0.003152   0.004126   0.007005   \n",
      "std    5.607473e-17   0.000349   0.000452   0.001421   0.001783   0.002817   \n",
      "min    3.392618e-01   0.000416   0.000642   0.001321   0.001703   0.002934   \n",
      "25%    3.392618e-01   0.000753   0.001128   0.002384   0.003078   0.004865   \n",
      "50%    3.392618e-01   0.000955   0.001348   0.002630   0.003824   0.006206   \n",
      "75%    3.392618e-01   0.001288   0.001552   0.003370   0.004610   0.009295   \n",
      "max    3.392618e-01   0.002082   0.002861   0.008213   0.011750   0.013557   \n",
      "\n",
      "              50         25         10          5  \n",
      "count  50.000000  50.000000  50.000000  50.000000  \n",
      "mean    0.009288   0.013671   0.027256   0.039090  \n",
      "std     0.003019   0.004285   0.012188   0.017250  \n",
      "min     0.004446   0.007990   0.012099   0.018268  \n",
      "25%     0.007294   0.010726   0.018692   0.028915  \n",
      "50%     0.008798   0.011985   0.024331   0.034595  \n",
      "75%     0.011022   0.017014   0.034754   0.043875  \n",
      "max     0.018594   0.024616   0.079390   0.118221  \n"
     ]
    },
    {
     "name": "stderr",
     "output_type": "stream",
     "text": [
      "100%|█████████████████████████████████████████████| 50/50 [03:03<00:00,  3.67s/it]\n"
     ]
    },
    {
     "name": "stdout",
     "output_type": "stream",
     "text": [
      "7\n",
      "       True Dists       5000       2500        500        250        100  \\\n",
      "count   50.000000  50.000000  50.000000  50.000000  50.000000  50.000000   \n",
      "mean     0.623088   0.001220   0.001753   0.004185   0.006060   0.009054   \n",
      "std      0.000000   0.000370   0.000500   0.001326   0.001822   0.002612   \n",
      "min      0.623088   0.000693   0.000926   0.002039   0.003072   0.004974   \n",
      "25%      0.623088   0.000990   0.001387   0.003146   0.004676   0.006959   \n",
      "50%      0.623088   0.001129   0.001743   0.003949   0.005889   0.008734   \n",
      "75%      0.623088   0.001347   0.001963   0.005049   0.006789   0.010663   \n",
      "max      0.623088   0.002334   0.003134   0.007187   0.013488   0.017601   \n",
      "\n",
      "              50         25         10          5  \n",
      "count  50.000000  50.000000  50.000000  50.000000  \n",
      "mean    0.013593   0.022155   0.037483   0.065235  \n",
      "std     0.003604   0.006512   0.009649   0.017345  \n",
      "min     0.007519   0.010484   0.021853   0.038489  \n",
      "25%     0.010238   0.017529   0.030160   0.052899  \n",
      "50%     0.013615   0.020754   0.035270   0.062760  \n",
      "75%     0.016223   0.025768   0.043443   0.072105  \n",
      "max     0.021358   0.041116   0.063138   0.109917  \n"
     ]
    },
    {
     "name": "stderr",
     "output_type": "stream",
     "text": [
      "100%|█████████████████████████████████████████████| 50/50 [02:52<00:00,  3.46s/it]\n"
     ]
    },
    {
     "name": "stdout",
     "output_type": "stream",
     "text": [
      "8\n",
      "         True Dists       5000       2500        500        250        100  \\\n",
      "count  5.000000e+01  50.000000  50.000000  50.000000  50.000000  50.000000   \n",
      "mean   4.092713e-01   0.000919   0.001308   0.002830   0.004101   0.006255   \n",
      "std    5.607473e-17   0.000252   0.000498   0.000812   0.001244   0.002379   \n",
      "min    4.092713e-01   0.000522   0.000763   0.001301   0.002199   0.003388   \n",
      "25%    4.092713e-01   0.000753   0.000949   0.002240   0.003176   0.004674   \n",
      "50%    4.092713e-01   0.000891   0.001160   0.002561   0.004077   0.005671   \n",
      "75%    4.092713e-01   0.001030   0.001488   0.003435   0.004546   0.007255   \n",
      "max    4.092713e-01   0.001935   0.003226   0.004693   0.007451   0.017303   \n",
      "\n",
      "              50         25         10          5  \n",
      "count  50.000000  50.000000  50.000000  50.000000  \n",
      "mean    0.009569   0.013804   0.026388   0.041760  \n",
      "std     0.002423   0.003634   0.006738   0.011650  \n",
      "min     0.004761   0.007046   0.014541   0.028256  \n",
      "25%     0.007649   0.011402   0.022291   0.033766  \n",
      "50%     0.009369   0.014042   0.026535   0.039138  \n",
      "75%     0.011157   0.015524   0.030426   0.045279  \n",
      "max     0.016008   0.024458   0.043965   0.084001  \n"
     ]
    },
    {
     "name": "stderr",
     "output_type": "stream",
     "text": [
      "100%|█████████████████████████████████████████████| 50/50 [02:10<00:00,  2.62s/it]"
     ]
    },
    {
     "name": "stdout",
     "output_type": "stream",
     "text": [
      "9\n",
      "       True Dists       5000       2500        500        250        100  \\\n",
      "count   50.000000  50.000000  50.000000  50.000000  50.000000  50.000000   \n",
      "mean     0.581071   0.004666   0.006269   0.015301   0.018232   0.029725   \n",
      "std      0.000000   0.002845   0.003116   0.008655   0.009911   0.010956   \n",
      "min      0.581071   0.000649   0.000890   0.001061   0.003291   0.005680   \n",
      "25%      0.581071   0.002799   0.003775   0.009637   0.010542   0.022107   \n",
      "50%      0.581071   0.003782   0.006156   0.013722   0.016821   0.029707   \n",
      "75%      0.581071   0.006218   0.008368   0.018469   0.020514   0.039102   \n",
      "max      0.581071   0.014783   0.013240   0.038600   0.045985   0.048483   \n",
      "\n",
      "              50         25         10          5  \n",
      "count  50.000000  50.000000  50.000000  50.000000  \n",
      "mean    0.050263   0.064077   0.096148   0.138475  \n",
      "std     0.025635   0.032009   0.057018   0.079643  \n",
      "min     0.008696   0.005809   0.004529   0.016055  \n",
      "25%     0.030344   0.043731   0.058314   0.082939  \n",
      "50%     0.047491   0.055579   0.087311   0.130427  \n",
      "75%     0.068426   0.082284   0.127801   0.180093  \n",
      "max     0.118108   0.138234   0.270267   0.384997  \n"
     ]
    },
    {
     "name": "stderr",
     "output_type": "stream",
     "text": [
      "\n"
     ]
    }
   ],
   "source": [
    "import numpy as np\n",
    "from scipy.stats import pearsonr\n",
    "# Group the DataFrame by 'Label'\n",
    "grouped = df_og.groupby('Label')\n",
    "slug_dfs = []\n",
    "for label,df in grouped:\n",
    "    # Compute average feature vector for each label\n",
    "    column = 'norm_features'\n",
    "    true_vec = np.mean(df[column].tolist(), axis=0)\n",
    "    true_dists = [np.linalg.norm(true_vec - np.array(row[column])) for _, row in df.iterrows()]\n",
    "    avg_true_dists = sum(true_dists)/len(true_dists)\n",
    "    num_samples = 50\n",
    "    sizes = [5000,2500,500,250,100,50,25,10,5]\n",
    "    afvs = []\n",
    "    for x in tqdm(range(0,num_samples)):\n",
    "        samples = []\n",
    "        samples.append(avg_true_dists)\n",
    "        for size in sizes:\n",
    "            sampled_rows = df.sample(size,replace=True)   \n",
    "            # Compute average feature vector for the current label\n",
    "            avg_feature_vector = np.mean(sampled_rows[column].tolist(), axis=0)\n",
    "            dist = [np.linalg.norm(avg_feature_vector - np.array(row[column])) for _, row in df.iterrows()]\n",
    "            gaps = [abs(x-y) for x, y in zip(true_dists, dist)]\n",
    "            avg_dist = sum(gaps)/len(gaps)\n",
    "            samples.append(avg_dist)\n",
    "        afvs.append(samples)\n",
    "    df_2 = pd.DataFrame(afvs,columns=['True Dists']+sizes)\n",
    "    slug_dfs.append((label,df_2))\n",
    "    print(label)\n",
    "    print(df_2.describe())\n",
    "# print(average_feature_vectors)"
   ]
  },
  {
   "cell_type": "code",
   "execution_count": 49,
   "id": "d1cbf4cd-2967-42c9-beb7-c7258ad4cd2e",
   "metadata": {},
   "outputs": [
    {
     "data": {
      "image/png": "[encoded data removed]",
      "text/plain": [
       "<Figure size 1200x900 with 1 Axes>"
      ]
     },
     "metadata": {},
     "output_type": "display_data"
    }
   ],
   "source": [
    "column_averages = [df.mean() for _,df in slug_dfs]\n",
    "\n",
    "# Combine these averages into a new DataFrame\n",
    "# Each DataFrame's column averages become a row in the new DataFrame\n",
    "averages_df = pd.DataFrame(column_averages)\n",
    "\n",
    "# Optional: If you want to name the columns to reflect their origin, you can do so like this:\n",
    "# averages_df.columns = [f'Average_{i}' for i in range(len(slug_dfs))]\n",
    "averages_df\n",
    "df = averages_df.div(averages_df['True Dists'], axis=0)\n",
    "col_avg = df.mean()\n",
    "avg_df = pd.DataFrame(col_avg)\n",
    "avg_df\n",
    "avg_df*= 100\n",
    "\n",
    "# Exclude the first row\n",
    "avg_df = avg_df.iloc[1:]\n",
    "avg_df.plot(kind='bar',legend=None)\n",
    "\n",
    "# Adding labels and title\n",
    "plt.xlabel('Number of NFTs in Sample')\n",
    "plt.ylabel('Euclidean Distance from True Centroid as a Percent')\n",
    "plt.title('Changes in Centroid Location Based on Number of NFTs Averaged')\n",
    "\n",
    "# Show the plot\n",
    "plt.savefig('embedding_stability.png')"
   ]
  },
  {
   "cell_type": "code",
   "execution_count": 11,
   "id": "f377ac13-169a-417b-bea4-1df2e8a25e42",
   "metadata": {},
   "outputs": [
    {
     "ename": "ValueError",
     "evalue": "too many values to unpack (expected 2)",
     "output_type": "error",
     "traceback": [
      "\u001b[0;31m---------------------------------------------------------------------------\u001b[0m",
      "\u001b[0;31mValueError\u001b[0m                                Traceback (most recent call last)",
      "Cell \u001b[0;32mIn[11], line 2\u001b[0m\n\u001b[1;32m      1\u001b[0m df[\u001b[38;5;124mf\u001b[39m\u001b[38;5;124m'\u001b[39m\u001b[38;5;124mdistance_10000\u001b[39m\u001b[38;5;124m'\u001b[39m] \u001b[38;5;241m=\u001b[39m [np\u001b[38;5;241m.\u001b[39mlinalg\u001b[38;5;241m.\u001b[39mnorm(afvs[\u001b[38;5;241m0\u001b[39m][\u001b[38;5;241m1\u001b[39m] \u001b[38;5;241m-\u001b[39m np\u001b[38;5;241m.\u001b[39marray(row[\u001b[38;5;124m'\u001b[39m\u001b[38;5;124mFeatures\u001b[39m\u001b[38;5;124m'\u001b[39m])) \u001b[38;5;28;01mfor\u001b[39;00m _, row \u001b[38;5;129;01min\u001b[39;00m df\u001b[38;5;241m.\u001b[39miterrows()]\n\u001b[0;32m----> 2\u001b[0m \u001b[38;5;28;01mfor\u001b[39;00m size,vec \u001b[38;5;129;01min\u001b[39;00m afvs[\u001b[38;5;241m1\u001b[39m:]:\n\u001b[1;32m      3\u001b[0m     df[\u001b[38;5;124mf\u001b[39m\u001b[38;5;124m'\u001b[39m\u001b[38;5;124mloss_\u001b[39m\u001b[38;5;132;01m{\u001b[39;00msize\u001b[38;5;132;01m}\u001b[39;00m\u001b[38;5;124m'\u001b[39m] \u001b[38;5;241m=\u001b[39m \u001b[38;5;28mabs\u001b[39m(df[\u001b[38;5;124mf\u001b[39m\u001b[38;5;124m'\u001b[39m\u001b[38;5;124mdistance_10000\u001b[39m\u001b[38;5;124m'\u001b[39m]\u001b[38;5;241m-\u001b[39m[np\u001b[38;5;241m.\u001b[39mlinalg\u001b[38;5;241m.\u001b[39mnorm(vec \u001b[38;5;241m-\u001b[39m np\u001b[38;5;241m.\u001b[39marray(row[\u001b[38;5;124m'\u001b[39m\u001b[38;5;124mFeatures\u001b[39m\u001b[38;5;124m'\u001b[39m])) \u001b[38;5;28;01mfor\u001b[39;00m _, row \u001b[38;5;129;01min\u001b[39;00m df\u001b[38;5;241m.\u001b[39miterrows()])\n",
      "\u001b[0;31mValueError\u001b[0m: too many values to unpack (expected 2)"
     ]
    }
   ],
   "source": [
    "df[f'distance_10000'] = [np.linalg.norm(afvs[0][1] - np.array(row['Features'])) for _, row in df.iterrows()]\n",
    "for size,vec in afvs[1:]:\n",
    "    df[f'loss_{size}'] = abs(df[f'distance_10000']-[np.linalg.norm(vec - np.array(row['Features'])) for _, row in df.iterrows()])"
   ]
  },
  {
   "cell_type": "code",
   "execution_count": 46,
   "id": "5f797076-9b3f-4a63-b366-384088a0946b",
   "metadata": {},
   "outputs": [
    {
     "data": {
      "text/html": [
       "<div>\n",
       "<style scoped>\n",
       "    .dataframe tbody tr th:only-of-type {\n",
       "        vertical-align: middle;\n",
       "    }\n",
       "\n",
       "    .dataframe tbody tr th {\n",
       "        vertical-align: top;\n",
       "    }\n",
       "\n",
       "    .dataframe thead th {\n",
       "        text-align: right;\n",
       "    }\n",
       "</style>\n",
       "<table border=\"1\" class=\"dataframe\">\n",
       "  <thead>\n",
       "    <tr style=\"text-align: right;\">\n",
       "      <th></th>\n",
       "      <th>Label</th>\n",
       "      <th>distance_10000</th>\n",
       "      <th>loss_5000</th>\n",
       "      <th>loss_2500</th>\n",
       "      <th>loss_500</th>\n",
       "      <th>loss_250</th>\n",
       "      <th>loss_50</th>\n",
       "      <th>loss_25</th>\n",
       "      <th>loss_10</th>\n",
       "      <th>loss_5</th>\n",
       "    </tr>\n",
       "  </thead>\n",
       "  <tbody>\n",
       "    <tr>\n",
       "      <th>count</th>\n",
       "      <td>10000.0</td>\n",
       "      <td>10000.000000</td>\n",
       "      <td>1.000000e+04</td>\n",
       "      <td>1.000000e+04</td>\n",
       "      <td>10000.000000</td>\n",
       "      <td>1.000000e+04</td>\n",
       "      <td>10000.000000</td>\n",
       "      <td>1.000000e+04</td>\n",
       "      <td>10000.000000</td>\n",
       "      <td>10000.000000</td>\n",
       "    </tr>\n",
       "    <tr>\n",
       "      <th>mean</th>\n",
       "      <td>0.0</td>\n",
       "      <td>0.477893</td>\n",
       "      <td>9.172778e-04</td>\n",
       "      <td>2.233007e-03</td>\n",
       "      <td>0.003327</td>\n",
       "      <td>3.818623e-03</td>\n",
       "      <td>0.017389</td>\n",
       "      <td>1.689231e-02</td>\n",
       "      <td>0.034215</td>\n",
       "      <td>0.033327</td>\n",
       "    </tr>\n",
       "    <tr>\n",
       "      <th>std</th>\n",
       "      <td>0.0</td>\n",
       "      <td>0.071173</td>\n",
       "      <td>6.098213e-04</td>\n",
       "      <td>1.494059e-03</td>\n",
       "      <td>0.002304</td>\n",
       "      <td>2.575069e-03</td>\n",
       "      <td>0.011481</td>\n",
       "      <td>1.261625e-02</td>\n",
       "      <td>0.021775</td>\n",
       "      <td>0.019976</td>\n",
       "    </tr>\n",
       "    <tr>\n",
       "      <th>min</th>\n",
       "      <td>0.0</td>\n",
       "      <td>0.324956</td>\n",
       "      <td>2.003225e-07</td>\n",
       "      <td>8.270743e-07</td>\n",
       "      <td>0.000001</td>\n",
       "      <td>6.733999e-07</td>\n",
       "      <td>0.000006</td>\n",
       "      <td>9.724327e-07</td>\n",
       "      <td>0.000049</td>\n",
       "      <td>0.000006</td>\n",
       "    </tr>\n",
       "    <tr>\n",
       "      <th>25%</th>\n",
       "      <td>0.0</td>\n",
       "      <td>0.424306</td>\n",
       "      <td>3.933704e-04</td>\n",
       "      <td>1.017917e-03</td>\n",
       "      <td>0.001420</td>\n",
       "      <td>1.670476e-03</td>\n",
       "      <td>0.007795</td>\n",
       "      <td>6.482333e-03</td>\n",
       "      <td>0.016472</td>\n",
       "      <td>0.016797</td>\n",
       "    </tr>\n",
       "    <tr>\n",
       "      <th>50%</th>\n",
       "      <td>0.0</td>\n",
       "      <td>0.465317</td>\n",
       "      <td>8.403242e-04</td>\n",
       "      <td>2.015564e-03</td>\n",
       "      <td>0.002951</td>\n",
       "      <td>3.481500e-03</td>\n",
       "      <td>0.015880</td>\n",
       "      <td>1.419889e-02</td>\n",
       "      <td>0.031829</td>\n",
       "      <td>0.032276</td>\n",
       "    </tr>\n",
       "    <tr>\n",
       "      <th>75%</th>\n",
       "      <td>0.0</td>\n",
       "      <td>0.521787</td>\n",
       "      <td>1.388247e-03</td>\n",
       "      <td>3.217001e-03</td>\n",
       "      <td>0.004877</td>\n",
       "      <td>5.639650e-03</td>\n",
       "      <td>0.025887</td>\n",
       "      <td>2.523632e-02</td>\n",
       "      <td>0.049248</td>\n",
       "      <td>0.047857</td>\n",
       "    </tr>\n",
       "    <tr>\n",
       "      <th>max</th>\n",
       "      <td>0.0</td>\n",
       "      <td>0.786557</td>\n",
       "      <td>2.868575e-03</td>\n",
       "      <td>6.699363e-03</td>\n",
       "      <td>0.011305</td>\n",
       "      <td>1.295937e-02</td>\n",
       "      <td>0.051817</td>\n",
       "      <td>6.047855e-02</td>\n",
       "      <td>0.103424</td>\n",
       "      <td>0.097707</td>\n",
       "    </tr>\n",
       "  </tbody>\n",
       "</table>\n",
       "</div>"
      ],
      "text/plain": [
       "         Label  distance_10000     loss_5000     loss_2500      loss_500  \\\n",
       "count  10000.0    10000.000000  1.000000e+04  1.000000e+04  10000.000000   \n",
       "mean       0.0        0.477893  9.172778e-04  2.233007e-03      0.003327   \n",
       "std        0.0        0.071173  6.098213e-04  1.494059e-03      0.002304   \n",
       "min        0.0        0.324956  2.003225e-07  8.270743e-07      0.000001   \n",
       "25%        0.0        0.424306  3.933704e-04  1.017917e-03      0.001420   \n",
       "50%        0.0        0.465317  8.403242e-04  2.015564e-03      0.002951   \n",
       "75%        0.0        0.521787  1.388247e-03  3.217001e-03      0.004877   \n",
       "max        0.0        0.786557  2.868575e-03  6.699363e-03      0.011305   \n",
       "\n",
       "           loss_250       loss_50       loss_25       loss_10        loss_5  \n",
       "count  1.000000e+04  10000.000000  1.000000e+04  10000.000000  10000.000000  \n",
       "mean   3.818623e-03      0.017389  1.689231e-02      0.034215      0.033327  \n",
       "std    2.575069e-03      0.011481  1.261625e-02      0.021775      0.019976  \n",
       "min    6.733999e-07      0.000006  9.724327e-07      0.000049      0.000006  \n",
       "25%    1.670476e-03      0.007795  6.482333e-03      0.016472      0.016797  \n",
       "50%    3.481500e-03      0.015880  1.419889e-02      0.031829      0.032276  \n",
       "75%    5.639650e-03      0.025887  2.523632e-02      0.049248      0.047857  \n",
       "max    1.295937e-02      0.051817  6.047855e-02      0.103424      0.097707  "
      ]
     },
     "execution_count": 46,
     "metadata": {},
     "output_type": "execute_result"
    }
   ],
   "source": [
    "df.describe()"
   ]
  },
  {
   "cell_type": "code",
   "execution_count": null,
   "id": "099280a0-e114-479e-bdef-605f03f4147b",
   "metadata": {},
   "outputs": [],
   "source": []
  }
 ],
 "metadata": {
  "kernelspec": {
   "display_name": "nft_venv",
   "language": "python",
   "name": "nft_venv"
  },
  "language_info": {
   "codemirror_mode": {
    "name": "ipython",
    "version": 3
   },
   "file_extension": ".py",
   "mimetype": "text/x-python",
   "name": "python",
   "nbconvert_exporter": "python",
   "pygments_lexer": "ipython3",
   "version": "3.8.10"
  }
 },
 "nbformat": 4,
 "nbformat_minor": 5
}
