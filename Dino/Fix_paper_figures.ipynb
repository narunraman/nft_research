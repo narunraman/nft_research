{
 "cells": [
  {
   "cell_type": "code",
   "execution_count": 1,
   "id": "be7eaf7b-4a41-4e62-929b-0281c43f51ec",
   "metadata": {},
   "outputs": [],
   "source": [
    "%load_ext autoreload\n",
    "%autoreload 2\n",
    "import feature_extract\n",
    "import sys\n",
    "sys.path.append(\"..\")\n",
    "import torch\n",
    "import psql_methods as psql\n",
    "import pickle\n",
    "import alchemy_methods as alc\n",
    "from tqdm import tqdm\n",
    "import numpy as np\n",
    "from more_itertools import chunked\n",
    "import pandas as pd\n",
    "import snob_utils as snob\n",
    "import counterfeit_utils as cfu\n",
    "import image_utils as img"
   ]
  },
  {
   "cell_type": "code",
   "execution_count": 12,
   "id": "426db167-8dd9-45e7-84e5-1a81b15473b9",
   "metadata": {},
   "outputs": [],
   "source": [
    "slugs = ['beanzofficial']*25\n",
    "root = 'expanded_images/val'\n",
    "label = 'beanz_random'\n",
    "out_directory = 'grids'\n",
    "img.slug_list_grid(root,slugs,label,out_directory,randomize=False,grid_size=5)"
   ]
  },
  {
   "cell_type": "code",
   "execution_count": 2,
   "id": "c2d4f8fb-0af6-441b-a12b-f4ed5d841ae3",
   "metadata": {},
   "outputs": [
    {
     "data": {
      "text/html": [
       "<div>\n",
       "<style scoped>\n",
       "    .dataframe tbody tr th:only-of-type {\n",
       "        vertical-align: middle;\n",
       "    }\n",
       "\n",
       "    .dataframe tbody tr th {\n",
       "        vertical-align: top;\n",
       "    }\n",
       "\n",
       "    .dataframe thead th {\n",
       "        text-align: right;\n",
       "    }\n",
       "</style>\n",
       "<table border=\"1\" class=\"dataframe\">\n",
       "  <thead>\n",
       "    <tr style=\"text-align: right;\">\n",
       "      <th></th>\n",
       "      <th>slug</th>\n",
       "      <th>sorted_order</th>\n",
       "      <th>row_count</th>\n",
       "    </tr>\n",
       "  </thead>\n",
       "  <tbody>\n",
       "    <tr>\n",
       "      <th>18</th>\n",
       "      <td>0xapes-trilogy</td>\n",
       "      <td>1</td>\n",
       "      <td>100</td>\n",
       "    </tr>\n",
       "    <tr>\n",
       "      <th>6250</th>\n",
       "      <td>orangapes</td>\n",
       "      <td>2</td>\n",
       "      <td>2</td>\n",
       "    </tr>\n",
       "    <tr>\n",
       "      <th>4331</th>\n",
       "      <td>japanesebornapesociety</td>\n",
       "      <td>3</td>\n",
       "      <td>17</td>\n",
       "    </tr>\n",
       "    <tr>\n",
       "      <th>8786</th>\n",
       "      <td>tiredapeyachtclub</td>\n",
       "      <td>4</td>\n",
       "      <td>0</td>\n",
       "    </tr>\n",
       "    <tr>\n",
       "      <th>1291</th>\n",
       "      <td>brokeapeclub-v2-1</td>\n",
       "      <td>5</td>\n",
       "      <td>0</td>\n",
       "    </tr>\n",
       "    <tr>\n",
       "      <th>7760</th>\n",
       "      <td>solanapesnft</td>\n",
       "      <td>6</td>\n",
       "      <td>3</td>\n",
       "    </tr>\n",
       "    <tr>\n",
       "      <th>5934</th>\n",
       "      <td>nifty-tailor-genesis</td>\n",
       "      <td>7</td>\n",
       "      <td>334</td>\n",
       "    </tr>\n",
       "    <tr>\n",
       "      <th>7236</th>\n",
       "      <td>rocknroll-ape-club</td>\n",
       "      <td>8</td>\n",
       "      <td>0</td>\n",
       "    </tr>\n",
       "  </tbody>\n",
       "</table>\n",
       "</div>"
      ],
      "text/plain": [
       "                        slug  sorted_order  row_count\n",
       "18            0xapes-trilogy             1        100\n",
       "6250               orangapes             2          2\n",
       "4331  japanesebornapesociety             3         17\n",
       "8786       tiredapeyachtclub             4          0\n",
       "1291       brokeapeclub-v2-1             5          0\n",
       "7760            solanapesnft             6          3\n",
       "5934    nifty-tailor-genesis             7        334\n",
       "7236      rocknroll-ape-club             8          0"
      ]
     },
     "metadata": {},
     "output_type": "display_data"
    },
    {
     "name": "stdout",
     "output_type": "stream",
     "text": [
      "['0xapes-trilogy', 'orangapes', 'japanesebornapesociety', 'tiredapeyachtclub', 'brokeapeclub-v2-1', 'solanapesnft', 'nifty-tailor-genesis', 'rocknroll-ape-club']\n"
     ]
    }
   ],
   "source": [
    "slugs = cfu.count_overlaps('boredapeyachtclub').query('sorted_order<=8')\n",
    "display(slugs)\n",
    "slugs = list(slugs['slug'])\n",
    "print(slugs)"
   ]
  },
  {
   "cell_type": "code",
   "execution_count": 4,
   "id": "c20b7ebe-789b-4771-94e8-6e14f635e9f8",
   "metadata": {},
   "outputs": [],
   "source": [
    "reorg_slugs = slugs[:3]+[slugs[-1]]+['boredapeyachtclub']+[slugs[3]]+[slugs[-2]]+[slugs[-3]]+[slugs[-4]]"
   ]
  },
  {
   "cell_type": "code",
   "execution_count": 5,
   "id": "22fc39c1",
   "metadata": {},
   "outputs": [
    {
     "name": "stdout",
     "output_type": "stream",
     "text": [
      "['0xapes-trilogy', 'orangapes', 'japanesebornapesociety', 'rocknroll-ape-club', 'boredapeyachtclub', 'tiredapeyachtclub', 'nifty-tailor-genesis', 'solanapesnft', 'brokeapeclub-v2-1']\n"
     ]
    }
   ],
   "source": [
    "print(reorg_slugs)"
   ]
  },
  {
   "cell_type": "code",
   "execution_count": 6,
   "id": "3dcce667-fa7c-4edb-a1cc-d1d26fc43747",
   "metadata": {},
   "outputs": [
    {
     "name": "stdout",
     "output_type": "stream",
     "text": [
      "0 0 0xapes-trilogy\n",
      "0 1 orangapes\n",
      "0 2 japanesebornapesociety\n",
      "1 0 rocknroll-ape-club\n",
      "1 1 boredapeyachtclub\n",
      "1 2 tiredapeyachtclub\n",
      "2 0 nifty-tailor-genesis\n",
      "2 1 solanapesnft\n",
      "2 2 brokeapeclub-v2-1\n"
     ]
    }
   ],
   "source": [
    "root = 'images_features/graph_images/val'\n",
    "label = 'ape_grid_v2'\n",
    "out_directory = 'images_features/grids'\n",
    "img.slug_list_grid(root,reorg_slugs,label,out_directory,randomize=False,grid_size=3,border=True)"
   ]
  },
  {
   "cell_type": "code",
   "execution_count": null,
   "id": "d0e9d1cf-d5ae-44d6-8014-73c9bf01c36d",
   "metadata": {},
   "outputs": [],
   "source": []
  }
 ],
 "metadata": {
  "kernelspec": {
   "display_name": "nft_venv",
   "language": "python",
   "name": "python3"
  },
  "language_info": {
   "codemirror_mode": {
    "name": "ipython",
    "version": 3
   },
   "file_extension": ".py",
   "mimetype": "text/x-python",
   "name": "python",
   "nbconvert_exporter": "python",
   "pygments_lexer": "ipython3",
   "version": "3.8.10"
  }
 },
 "nbformat": 4,
 "nbformat_minor": 5
}
