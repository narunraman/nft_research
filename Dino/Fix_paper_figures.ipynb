{
 "cells": [
  {
   "cell_type": "code",
   "execution_count": 1,
   "id": "be7eaf7b-4a41-4e62-929b-0281c43f51ec",
   "metadata": {},
   "outputs": [],
   "source": [
    "%load_ext autoreload\n",
    "%autoreload 2\n",
    "import feature_extract\n",
    "import sys\n",
    "sys.path.append(\"..\")\n",
    "import torch\n",
    "import psql_methods as psql\n",
    "import pickle\n",
    "import alchemy_methods as alc\n",
    "from tqdm import tqdm\n",
    "import numpy as np\n",
    "from more_itertools import chunked\n",
    "import pandas as pd\n",
    "import snob_utils as snob\n",
    "import counterfeit_utils as cfu\n",
    "import image_utils as img"
   ]
  },
  {
   "cell_type": "code",
   "execution_count": 12,
   "id": "426db167-8dd9-45e7-84e5-1a81b15473b9",
   "metadata": {},
   "outputs": [],
   "source": [
    "slugs = ['beanzofficial']*25\n",
    "root = 'expanded_images/val'\n",
    "label = 'beanz_random'\n",
    "out_directory = 'grids'\n",
    "img.slug_list_grid(root,slugs,label,out_directory,randomize=False,grid_size=5)"
   ]
  },
  {
   "cell_type": "code",
   "execution_count": 10,
   "id": "c2d4f8fb-0af6-441b-a12b-f4ed5d841ae3",
   "metadata": {},
   "outputs": [
    {
     "data": {
      "text/html": [
       "<div>\n",
       "<style scoped>\n",
       "    .dataframe tbody tr th:only-of-type {\n",
       "        vertical-align: middle;\n",
       "    }\n",
       "\n",
       "    .dataframe tbody tr th {\n",
       "        vertical-align: top;\n",
       "    }\n",
       "\n",
       "    .dataframe thead th {\n",
       "        text-align: right;\n",
       "    }\n",
       "</style>\n",
       "<table border=\"1\" class=\"dataframe\">\n",
       "  <thead>\n",
       "    <tr style=\"text-align: right;\">\n",
       "      <th></th>\n",
       "      <th>slug</th>\n",
       "      <th>sorted_order</th>\n",
       "      <th>row_count</th>\n",
       "    </tr>\n",
       "  </thead>\n",
       "  <tbody>\n",
       "    <tr>\n",
       "      <th>1044</th>\n",
       "      <td>bitcoin-miladys</td>\n",
       "      <td>1</td>\n",
       "      <td>1263</td>\n",
       "    </tr>\n",
       "    <tr>\n",
       "      <th>1422</th>\n",
       "      <td>cake-hat-world-order</td>\n",
       "      <td>2</td>\n",
       "      <td>211</td>\n",
       "    </tr>\n",
       "    <tr>\n",
       "      <th>470</th>\n",
       "      <td>anti-miladies</td>\n",
       "      <td>3</td>\n",
       "      <td>1916</td>\n",
       "    </tr>\n",
       "    <tr>\n",
       "      <th>6972</th>\n",
       "      <td>pudgy-milady</td>\n",
       "      <td>4</td>\n",
       "      <td>474</td>\n",
       "    </tr>\n",
       "    <tr>\n",
       "      <th>3633</th>\n",
       "      <td>ghibladymaker</td>\n",
       "      <td>5</td>\n",
       "      <td>955</td>\n",
       "    </tr>\n",
       "    <tr>\n",
       "      <th>7921</th>\n",
       "      <td>sonoramaker</td>\n",
       "      <td>6</td>\n",
       "      <td>199</td>\n",
       "    </tr>\n",
       "    <tr>\n",
       "      <th>5468</th>\n",
       "      <td>miladmaker</td>\n",
       "      <td>7</td>\n",
       "      <td>1873</td>\n",
       "    </tr>\n",
       "    <tr>\n",
       "      <th>5474</th>\n",
       "      <td>milady-maker-party</td>\n",
       "      <td>8</td>\n",
       "      <td>593</td>\n",
       "    </tr>\n",
       "  </tbody>\n",
       "</table>\n",
       "</div>"
      ],
      "text/plain": [
       "                      slug  sorted_order  row_count\n",
       "1044       bitcoin-miladys             1       1263\n",
       "1422  cake-hat-world-order             2        211\n",
       "470          anti-miladies             3       1916\n",
       "6972          pudgy-milady             4        474\n",
       "3633         ghibladymaker             5        955\n",
       "7921           sonoramaker             6        199\n",
       "5468            miladmaker             7       1873\n",
       "5474    milady-maker-party             8        593"
      ]
     },
     "metadata": {},
     "output_type": "display_data"
    },
    {
     "name": "stdout",
     "output_type": "stream",
     "text": [
      "['bitcoin-miladys', 'cake-hat-world-order', 'anti-miladies', 'pudgy-milady', 'ghibladymaker', 'sonoramaker', 'miladmaker', 'milady-maker-party']\n"
     ]
    }
   ],
   "source": [
    "slugs = cfu.count_overlaps('milady').query('sorted_order<=8')\n",
    "display(slugs)\n",
    "slugs = list(slugs['slug'])\n",
    "print(slugs)"
   ]
  },
  {
   "cell_type": "code",
   "execution_count": 11,
   "id": "c20b7ebe-789b-4771-94e8-6e14f635e9f8",
   "metadata": {},
   "outputs": [],
   "source": [
    "reorg_slugs = slugs[:3]+[slugs[-1]]+['goblintownwtf']+[slugs[3]]+[slugs[-2]]+[slugs[-3]]+[slugs[-4]]"
   ]
  },
  {
   "cell_type": "code",
   "execution_count": 12,
   "id": "22fc39c1",
   "metadata": {},
   "outputs": [
    {
     "name": "stdout",
     "output_type": "stream",
     "text": [
      "['bitcoin-miladys', 'cake-hat-world-order', 'anti-miladies', 'milady-maker-party', 'goblintownwtf', 'pudgy-milady', 'miladmaker', 'sonoramaker', 'ghibladymaker']\n"
     ]
    }
   ],
   "source": [
    "print(reorg_slugs)"
   ]
  },
  {
   "cell_type": "code",
   "execution_count": 6,
   "id": "3dcce667-fa7c-4edb-a1cc-d1d26fc43747",
   "metadata": {},
   "outputs": [
    {
     "name": "stdout",
     "output_type": "stream",
     "text": [
      "0 0 baby-goblinz\n",
      "0 1 goblin-hipsters\n",
      "0 2 officialhobgoblintown\n",
      "1 0 goblinqueens\n",
      "1 1 goblintownwtf\n",
      "1 2 kingstown-wtf\n",
      "2 0 babygob\n",
      "2 1 goblin-grlz\n",
      "2 2 boredassgoblins\n"
     ]
    }
   ],
   "source": [
    "root = 'images_features/graph_images/val'\n",
    "label = 'goblin_grid_v2'\n",
    "out_directory = 'images_features/grids'\n",
    "img.slug_list_grid(root,reorg_slugs,label,out_directory,randomize=False,grid_size=3,border=True)"
   ]
  },
  {
   "cell_type": "code",
   "execution_count": null,
   "id": "d0e9d1cf-d5ae-44d6-8014-73c9bf01c36d",
   "metadata": {},
   "outputs": [],
   "source": []
  }
 ],
 "metadata": {
  "kernelspec": {
   "display_name": "nft_venv",
   "language": "python",
   "name": "python3"
  },
  "language_info": {
   "codemirror_mode": {
    "name": "ipython",
    "version": 3
   },
   "file_extension": ".py",
   "mimetype": "text/x-python",
   "name": "python",
   "nbconvert_exporter": "python",
   "pygments_lexer": "ipython3",
   "version": "3.8.10"
  }
 },
 "nbformat": 4,
 "nbformat_minor": 5
}
