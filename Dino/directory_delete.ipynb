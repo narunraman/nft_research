{
 "cells": [
  {
   "cell_type": "code",
   "execution_count": 1,
   "id": "43226dc7-1d3a-457f-963f-2c4e9387c120",
   "metadata": {},
   "outputs": [],
   "source": [
    "import pandas as pd\n",
    "import pickle\n",
    "\n",
    "with open('collection_features.pkl','rb') as f:\n",
    "    df = pickle.load(f)"
   ]
  },
  {
   "cell_type": "code",
   "execution_count": 4,
   "id": "0ea72ab3-f92b-4f7e-8e5a-9de8cc8d7f12",
   "metadata": {},
   "outputs": [
    {
     "data": {
      "text/plain": [
       "470"
      ]
     },
     "execution_count": 4,
     "metadata": {},
     "output_type": "execute_result"
    }
   ],
   "source": [
    "len(df['FileName'].unique())"
   ]
  },
  {
   "cell_type": "code",
   "execution_count": 7,
   "id": "4d04dd87-fcc2-4e46-8353-1f9d991747da",
   "metadata": {},
   "outputs": [
    {
     "data": {
      "text/plain": [
       "110215"
      ]
     },
     "execution_count": 7,
     "metadata": {},
     "output_type": "execute_result"
    }
   ],
   "source": [
    "import itertools\n",
    "label_combinations = list(itertools.combinations(df['FileName'].unique(), 2))\n",
    "len(label_combinations)"
   ]
  },
  {
   "cell_type": "code",
   "execution_count": 2,
   "id": "ada98f7e-8c3a-4c0b-a112-59aff542601c",
   "metadata": {},
   "outputs": [],
   "source": [
    "import os\n",
    "\n",
    "def delete_empty_directories(root_directory):\n",
    "    for root, dirs, files in os.walk(root_directory, topdown=False):\n",
    "        for directory in dirs:\n",
    "            full_path = os.path.join(root, directory)\n",
    "            if not os.listdir(full_path):  # Check if the directory is empty\n",
    "                os.rmdir(full_path)\n",
    "\n",
    "# Replace '/path/to/your/directory' with the actual path of your directory\n",
    "directory_to_check = '/global/scratch/tlundy/NFT_Research/nft_research/Dino/images/val'\n",
    "\n",
    "delete_empty_directories(directory_to_check)"
   ]
  },
  {
   "cell_type": "code",
   "execution_count": null,
   "id": "4e8ec8f0-18aa-436d-b9c9-1f90f8094ae6",
   "metadata": {},
   "outputs": [],
   "source": []
  }
 ],
 "metadata": {
  "kernelspec": {
   "display_name": "Python 3 (ipykernel)",
   "language": "python",
   "name": "python3"
  },
  "language_info": {
   "codemirror_mode": {
    "name": "ipython",
    "version": 3
   },
   "file_extension": ".py",
   "mimetype": "text/x-python",
   "name": "python",
   "nbconvert_exporter": "python",
   "pygments_lexer": "ipython3",
   "version": "3.8.10"
  }
 },
 "nbformat": 4,
 "nbformat_minor": 5
}
